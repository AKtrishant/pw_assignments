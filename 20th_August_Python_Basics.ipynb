{
 "cells": [
  {
   "cell_type": "markdown",
   "id": "bcf0e751-0e77-4fc5-ae66-91d2facae738",
   "metadata": {},
   "source": [
    "20th August Python Basics"
   ]
  },
  {
   "cell_type": "markdown",
   "id": "957ce5fd-58eb-41e8-85c8-805e54fa5c60",
   "metadata": {},
   "source": [
    "---------------------------------------------------------------"
   ]
  },
  {
   "cell_type": "markdown",
   "id": "5bc12cf3-8497-4fb6-8ff4-801295965e47",
   "metadata": {},
   "source": [
    "String based practice problem"
   ]
  },
  {
   "cell_type": "markdown",
   "id": "fd1b86c4-9c5a-44b1-902f-5b4ad4b1d875",
   "metadata": {},
   "source": [
    "1. Reversing a string"
   ]
  },
  {
   "cell_type": "code",
   "execution_count": 1,
   "id": "bb8af2a7-1725-48f4-be18-7448fbaf689f",
   "metadata": {},
   "outputs": [
    {
     "data": {
      "text/plain": [
       "'sllikswp'"
      ]
     },
     "execution_count": 1,
     "metadata": {},
     "output_type": "execute_result"
    }
   ],
   "source": [
    "a = \"pwskills\"\n",
    "a[len(a)-1::-1]"
   ]
  },
  {
   "cell_type": "markdown",
   "id": "c926c85e-2c04-4c40-8059-1fab5331aa21",
   "metadata": {},
   "source": [
    "2. Pallindrome"
   ]
  },
  {
   "cell_type": "code",
   "execution_count": 27,
   "id": "64e7a210-05c1-475a-abdc-04d55c637896",
   "metadata": {},
   "outputs": [
    {
     "name": "stdout",
     "output_type": "stream",
     "text": [
      "madam is pallindrome\n"
     ]
    }
   ],
   "source": [
    "a = \"madam\"\n",
    "al = a.lower()\n",
    "if al == al[len(al)-1::-1] :\n",
    "    print(a,\"is pallindrome\")\n",
    "\n",
    "else :\n",
    "    print(a,\"is not a pallindrome \")"
   ]
  },
  {
   "cell_type": "markdown",
   "id": "9cf71ed5-4b9f-421d-b81b-eb4ba6bdad27",
   "metadata": {},
   "source": [
    "3. Converting a string to uppercase"
   ]
  },
  {
   "cell_type": "code",
   "execution_count": 16,
   "id": "8a812a07-8783-4bc3-b192-5d66d8596e6a",
   "metadata": {},
   "outputs": [
    {
     "data": {
      "text/plain": [
       "'MACHINE'"
      ]
     },
     "execution_count": 22,
     "metadata": {},
     "output_type": "execute_result"
    }
   ],
   "source": [
    "a = \"machine\"\n",
    "a.upper()"
   ]
  },
  {
   "cell_type": "markdown",
   "id": "c75030ea-0fa1-4874-bd08-d57a75580706",
   "metadata": {},
   "source": [
    "4. Converting a string to lowercase"
   ]
  },
  {
   "cell_type": "code",
   "execution_count": 23,
   "id": "0a42fd74-c147-4197-8b0b-94f8c1d8bfb9",
   "metadata": {},
   "outputs": [
    {
     "data": {
      "text/plain": [
       "'machine'"
      ]
     },
     "execution_count": 23,
     "metadata": {},
     "output_type": "execute_result"
    }
   ],
   "source": [
    "a = \"MACHINE\"\n",
    "a.lower()"
   ]
  },
  {
   "cell_type": "markdown",
   "id": "e7f1f18f-ed4f-4ee8-959a-b30816c570e0",
   "metadata": {},
   "source": [
    "5. Count the vowels"
   ]
  },
  {
   "cell_type": "code",
   "execution_count": 16,
   "id": "c83b76c2-90ba-4b94-bce5-9d5e49c9bd8b",
   "metadata": {},
   "outputs": [
    {
     "name": "stdin",
     "output_type": "stream",
     "text": [
      "enter string -  Alphabets\n"
     ]
    },
    {
     "name": "stdout",
     "output_type": "stream",
     "text": [
      "Vowels in the string -  3\n"
     ]
    }
   ],
   "source": [
    "a,ct = str(input(\"enter string - \")),0\n",
    "for i in a.lower():\n",
    "    if i in ['a','e','i','o','u'] : ct = ct + 1\n",
    "print(\"Vowels in the string - \",ct)"
   ]
  },
  {
   "cell_type": "markdown",
   "id": "fd68c687-74b8-4ff4-91e1-876479b1d20b",
   "metadata": {},
   "source": [
    "6. Count the consonants"
   ]
  },
  {
   "cell_type": "code",
   "execution_count": 13,
   "id": "2e28ba1c-1ecb-4659-a2d1-21485e001c30",
   "metadata": {},
   "outputs": [
    {
     "name": "stdin",
     "output_type": "stream",
     "text": [
      "enter string -  Alphabets\n"
     ]
    },
    {
     "name": "stdout",
     "output_type": "stream",
     "text": [
      "consonants in the string -  6\n"
     ]
    }
   ],
   "source": [
    "a,ct = str(input(\"enter string - \")),0\n",
    "for i in a.lower():\n",
    "    if i not in ['a','e','i','o','u'] : ct = ct + 1\n",
    "print(\"consonants in the string - \",ct)"
   ]
  },
  {
   "cell_type": "markdown",
   "id": "1f4e6e3c-d4a7-42a2-8395-45db439652c4",
   "metadata": {},
   "source": [
    "7. Remove whitespaces from a string"
   ]
  },
  {
   "cell_type": "code",
   "execution_count": 28,
   "id": "48dce80c-68d9-4e9e-8cd5-76cb86e1fd0e",
   "metadata": {},
   "outputs": [
    {
     "name": "stdin",
     "output_type": "stream",
     "text": [
      "Enter string -  this is a course by pwskills\n"
     ]
    },
    {
     "name": "stdout",
     "output_type": "stream",
     "text": [
      "thisisacoursebypwskills\n"
     ]
    }
   ],
   "source": [
    "a = str(input(\"Enter string - \"))\n",
    "print(a.replace(\" \",\"\"))\n",
    "\n",
    "#can also write in one line- \n",
    "#   a = str(input(\"Enter string - \")) ; print(a.replace(\" \",\"\"))"
   ]
  },
  {
   "cell_type": "markdown",
   "id": "6376fb3f-18d6-4552-ab52-7b204c8528bd",
   "metadata": {},
   "source": [
    "8. Find length of string"
   ]
  },
  {
   "cell_type": "code",
   "execution_count": 32,
   "id": "5fbfa6d5-faa0-4f4c-89bd-8b1d5d6a9316",
   "metadata": {},
   "outputs": [
    {
     "name": "stdin",
     "output_type": "stream",
     "text": [
      "Enter string -  pwskills\n"
     ]
    },
    {
     "name": "stdout",
     "output_type": "stream",
     "text": [
      "length of string -  8\n"
     ]
    }
   ],
   "source": [
    "a,ct = str(input(\"Enter string - \")),0\n",
    "for i in a : ct+=1\n",
    "print(\"length of string - \",ct)"
   ]
  },
  {
   "cell_type": "markdown",
   "id": "cc63ca82-2083-494d-932d-ee524ebeefe3",
   "metadata": {},
   "source": [
    "9. Check if a string contains a specific word"
   ]
  },
  {
   "cell_type": "code",
   "execution_count": 34,
   "id": "7073ee80-ad54-4454-bcc1-e017ae9411af",
   "metadata": {},
   "outputs": [
    {
     "name": "stdin",
     "output_type": "stream",
     "text": [
      "Enter string -  this is the course by pwskills\n",
      "specified word to find -  course\n"
     ]
    },
    {
     "name": "stdout",
     "output_type": "stream",
     "text": [
      "course word is there in the sentence\n"
     ]
    }
   ],
   "source": [
    "a,wd = str(input(\"Enter string - \")) , str(input(\"specified word to find - \")) \n",
    "if wd in a : print(wd,\"word is there in the sentence\")\n",
    "else : print(wd,\"word is not there in the sentence\")"
   ]
  },
  {
   "cell_type": "markdown",
   "id": "bca7f902-a447-4a45-b3ab-408249d9415c",
   "metadata": {},
   "source": [
    "10. Replace a word in a string with another word"
   ]
  },
  {
   "cell_type": "code",
   "execution_count": 43,
   "id": "5dee852c-4491-4375-b0b0-bc2382e47417",
   "metadata": {},
   "outputs": [
    {
     "name": "stdin",
     "output_type": "stream",
     "text": [
      "Enter string -  my name is trishant and i rate this course with 5 star\n"
     ]
    },
    {
     "name": "stdout",
     "output_type": "stream",
     "text": [
      "['my', 'name', 'is', 'trishant', 'and', 'i', 'rate', 'this', 'course', 'with', '5', 'star']\n"
     ]
    },
    {
     "name": "stdin",
     "output_type": "stream",
     "text": [
      "choose a word from the list to replace trishant\n",
      "Enter word to replace -  rao sahab\n"
     ]
    },
    {
     "name": "stdout",
     "output_type": "stream",
     "text": [
      "my name is rao sahab and i rate this course with 5 star\n"
     ]
    }
   ],
   "source": [
    "a = str(input(\"Enter string - \")) ; print(a.split())\n",
    "wd = str(input(\"choose a word from the list to replace\"))\n",
    "r_wd = str(input(\"Enter word to replace - \"))\n",
    "print(a.replace(wd,r_wd))"
   ]
  },
  {
   "cell_type": "markdown",
   "id": "5787e937-f315-46ab-94cb-05d24caecb07",
   "metadata": {},
   "source": [
    "11. Count the occurrences of a word in a string."
   ]
  },
  {
   "cell_type": "code",
   "execution_count": 15,
   "id": "a8af1d2a-19d3-4cec-af3f-718af4897dd6",
   "metadata": {},
   "outputs": [
    {
     "name": "stdin",
     "output_type": "stream",
     "text": [
      "Enter string -  this is the lab by pw and pw offers different variety of courses\n",
      "Enter word to count -  pw\n"
     ]
    },
    {
     "name": "stdout",
     "output_type": "stream",
     "text": [
      "pw word occured 2 times in the given sentence\n"
     ]
    }
   ],
   "source": [
    "a,wd = str(input(\"Enter string - \")).lower() , str(input(\"Enter word to count - \"))\n",
    "print(wd,\"word occured\",a.count(wd),\"times in the given sentence\")"
   ]
  },
  {
   "cell_type": "markdown",
   "id": "105f790b-8bf9-47af-8c38-7f4dc2af2469",
   "metadata": {},
   "source": [
    "12. Find the first occurrence of a word in a string"
   ]
  },
  {
   "cell_type": "code",
   "execution_count": 5,
   "id": "d5d67bfc-20ab-43f4-afaf-fd135cb4aa1d",
   "metadata": {},
   "outputs": [
    {
     "name": "stdin",
     "output_type": "stream",
     "text": [
      "Enter string -  this is the lab by pw and pw offers different variety of courses\n",
      "Enter word to find -  pw\n"
     ]
    },
    {
     "name": "stdout",
     "output_type": "stream",
     "text": [
      "pw word is first occured at 19  in the given sentence\n"
     ]
    }
   ],
   "source": [
    "a,wd = str(input(\"Enter string - \")).lower() , str(input(\"Enter word to find - \"))\n",
    "index = a.find(wd)\n",
    "if index > -1:\n",
    "    print(wd,\"word is first occured at\",index,\" in the given sentence\")\n",
    "else : \n",
    "    print(wd,\"doesn't exist in the given sentence\")"
   ]
  },
  {
   "cell_type": "markdown",
   "id": "70dc49b3-9e9c-488f-af26-7d7f9f733954",
   "metadata": {},
   "source": [
    "13. Find the last occurrence of a word in a string"
   ]
  },
  {
   "cell_type": "code",
   "execution_count": 6,
   "id": "967c8ead-99b4-46c3-90b2-759b527dd7ed",
   "metadata": {},
   "outputs": [
    {
     "name": "stdin",
     "output_type": "stream",
     "text": [
      "Enter string -  this is the lab by pw and pw offers different variety of courses\n",
      "Enter word to find -  pw\n"
     ]
    },
    {
     "name": "stdout",
     "output_type": "stream",
     "text": [
      "pw word is first occured at 26  in the given sentence\n"
     ]
    }
   ],
   "source": [
    "a,wd = str(input(\"Enter string - \")).lower() , str(input(\"Enter word to find - \"))\n",
    "\n",
    "index = a.rfind(wd)  #index of the last occurrence of the word in the sentence\n",
    "if index > -1:\n",
    "    print(wd,\"word is first occured at\",index,\" in the given sentence\")\n",
    "else : \n",
    "    print(wd,\"doesn't exist in the given sentence\")"
   ]
  },
  {
   "cell_type": "markdown",
   "id": "1ea030b7-00e9-46af-aab5-3fe7872aaa4e",
   "metadata": {},
   "source": [
    "14. Split a string into a list of words"
   ]
  },
  {
   "cell_type": "code",
   "execution_count": 7,
   "id": "8ad176ff-67a4-4b40-8e01-aec3844144fc",
   "metadata": {},
   "outputs": [
    {
     "name": "stdin",
     "output_type": "stream",
     "text": [
      "Enter string -  I am a student and I want to enroll myself in a course\n"
     ]
    },
    {
     "name": "stdout",
     "output_type": "stream",
     "text": [
      "list of words -  ['I', 'am', 'a', 'student', 'and', 'I', 'want', 'to', 'enroll', 'myself', 'in', 'a', 'course']\n"
     ]
    }
   ],
   "source": [
    "a = str(input(\"Enter string - \"))\n",
    "print(\"list of words - \",a.split())"
   ]
  },
  {
   "cell_type": "markdown",
   "id": "72fd60ac-28ae-4781-8121-79b84a2380ee",
   "metadata": {},
   "source": [
    "15. Join a list of words into a string"
   ]
  },
  {
   "cell_type": "code",
   "execution_count": 7,
   "id": "b9177fc7-1b81-4ab3-8992-f5e479138878",
   "metadata": {},
   "outputs": [
    {
     "name": "stdin",
     "output_type": "stream",
     "text": [
      "no. of words you want to join/add to a string -  5\n",
      "Enter word -  this\n",
      "Enter word -  is\n",
      "Enter word -  a\n",
      "Enter word -  good\n",
      "Enter word -  course\n"
     ]
    },
    {
     "name": "stdout",
     "output_type": "stream",
     "text": [
      "this is a good course\n"
     ]
    }
   ],
   "source": [
    "wds = []\n",
    "cnt = int(input(\"no. of words you want to join/add to a string - \"))\n",
    "for i in range(cnt) :\n",
    "    word=str(input(\"Enter word - \"))\n",
    "    wds.append(word)\n",
    "print(\" \".join(wds))"
   ]
  },
  {
   "cell_type": "markdown",
   "id": "40bdca9c-2c48-42ca-8047-8c8642f8fe95",
   "metadata": {},
   "source": [
    "16. Convert a string from space separated to underscore seprated"
   ]
  },
  {
   "cell_type": "code",
   "execution_count": 13,
   "id": "eb14ce85-188b-4086-98fe-33388a34be9f",
   "metadata": {},
   "outputs": [
    {
     "name": "stdin",
     "output_type": "stream",
     "text": [
      "Enter string -  diwali is a festival of lights\n"
     ]
    },
    {
     "name": "stdout",
     "output_type": "stream",
     "text": [
      "diwali_is_a_festival_of_lights\n"
     ]
    }
   ],
   "source": [
    "print(str(input(\"Enter string - \")).replace(\" \",\"_\"))"
   ]
  },
  {
   "cell_type": "markdown",
   "id": "230a1c11-a5e8-4fda-86ea-a9e534994836",
   "metadata": {},
   "source": [
    "17. Check if a string starts with a specific word or phrase"
   ]
  },
  {
   "cell_type": "code",
   "execution_count": 1,
   "id": "9aa00958-c55a-460a-8f3a-0b1d8003cfa2",
   "metadata": {},
   "outputs": [
    {
     "name": "stdin",
     "output_type": "stream",
     "text": [
      "Enter string -  diwali is a festival of lights\n",
      "Enter word/phrase -  diwali is\n"
     ]
    },
    {
     "name": "stdout",
     "output_type": "stream",
     "text": [
      "Yes, the given string starts with prefix\n"
     ]
    }
   ],
   "source": [
    "a , ph = str(input(\"Enter string - \")) , str(input(\"Enter word/phrase - \"))\n",
    "if a.startswith(ph) == True :\n",
    "    print(\"Yes, the given string starts with prefix\")\n",
    "else :\n",
    "    print(\"No, the given string doesn't starts with prefix\")"
   ]
  },
  {
   "cell_type": "markdown",
   "id": "14eb811c-01d3-4c28-89cf-2d902d8a3be7",
   "metadata": {},
   "source": [
    "18. Check if a string ends with a specific word or phrase"
   ]
  },
  {
   "cell_type": "code",
   "execution_count": 2,
   "id": "5cff4dec-79ca-41f0-8545-48df7828f34c",
   "metadata": {},
   "outputs": [
    {
     "name": "stdin",
     "output_type": "stream",
     "text": [
      "Enter string -  diwali is a festival of lights\n",
      "Enter word/phrase -  of lights\n"
     ]
    },
    {
     "name": "stdout",
     "output_type": "stream",
     "text": [
      "Yes, the given string ends with prefix\n"
     ]
    }
   ],
   "source": [
    "a , ph = str(input(\"Enter string - \")) , str(input(\"Enter word/phrase - \"))\n",
    "if a.endswith(ph) == True :\n",
    "    print(\"Yes, the given string ends with prefix\")\n",
    "else :\n",
    "    print(\"No, the given string doesn't ends with prefix\")"
   ]
  },
  {
   "cell_type": "markdown",
   "id": "f436d99e-dfb3-40e6-9865-8d7f3a5b36fd",
   "metadata": {},
   "source": [
    "19. Convert a string to title case"
   ]
  },
  {
   "cell_type": "code",
   "execution_count": 2,
   "id": "4098c432-a724-43cd-a03a-d6b27beda571",
   "metadata": {},
   "outputs": [
    {
     "name": "stdin",
     "output_type": "stream",
     "text": [
      "Enter string -  python is the best language\n"
     ]
    },
    {
     "name": "stdout",
     "output_type": "stream",
     "text": [
      "Python Is The Best Language\n"
     ]
    }
   ],
   "source": [
    "print(str(input(\"Enter string - \")).title())"
   ]
  },
  {
   "cell_type": "markdown",
   "id": "b2d94472-00f4-4196-a76a-1aa873afd2f5",
   "metadata": {},
   "source": [
    "20. Find the longest word in a string"
   ]
  },
  {
   "cell_type": "code",
   "execution_count": 6,
   "id": "1796d785-77b6-4075-879c-ce448687f6e3",
   "metadata": {},
   "outputs": [
    {
     "name": "stdin",
     "output_type": "stream",
     "text": [
      "Enter string -  Longest word in the string is the first word\n"
     ]
    },
    {
     "name": "stdout",
     "output_type": "stream",
     "text": [
      "Longest word in the string -  Longest\n"
     ]
    }
   ],
   "source": [
    "a , cnt = str(input(\"Enter string - \")) , \"\"\n",
    "for i in a.split() :\n",
    "    if len(i) > len(cnt) :\n",
    "        cnt = i\n",
    "print(\"Longest word in the string - \",cnt)"
   ]
  },
  {
   "cell_type": "markdown",
   "id": "687e669e-a56f-4169-b809-fa60ea637948",
   "metadata": {},
   "source": [
    "21. Find the shortest word in a string"
   ]
  },
  {
   "cell_type": "code",
   "execution_count": 12,
   "id": "2402407e-65c5-46fa-bc0b-39d8e09535f7",
   "metadata": {},
   "outputs": [
    {
     "name": "stdin",
     "output_type": "stream",
     "text": [
      "Enter string -  Shortest word in the string is the sixth word\n"
     ]
    },
    {
     "name": "stdout",
     "output_type": "stream",
     "text": [
      "Shortest word in the string -  in\n"
     ]
    }
   ],
   "source": [
    "a , cnt = str(input(\"Enter string - \")) , a\n",
    "for i in a.split() :\n",
    "    if len(i) < len(cnt) :\n",
    "        cnt = i\n",
    "print(\"Shortest word in the string - \",cnt)"
   ]
  },
  {
   "cell_type": "markdown",
   "id": "f75803f2-1213-49fd-8990-3211aae1c953",
   "metadata": {},
   "source": [
    "22. Reverse the order of words in a string"
   ]
  },
  {
   "cell_type": "code",
   "execution_count": 13,
   "id": "286fe456-7abc-475b-987a-824c6266da24",
   "metadata": {},
   "outputs": [
    {
     "name": "stdin",
     "output_type": "stream",
     "text": [
      "Enter string -  Consistency is the key to success\n"
     ]
    },
    {
     "name": "stdout",
     "output_type": "stream",
     "text": [
      "Reverse order -  sseccus ot yek eht si ycnetsisnoC\n"
     ]
    }
   ],
   "source": [
    "a = str(input(\"Enter string - \"))\n",
    "print(\"Reverse order - \",a[len(a)::-1])"
   ]
  },
  {
   "cell_type": "markdown",
   "id": "7b82f81e-7c6b-4662-8326-5796b2161e21",
   "metadata": {},
   "source": [
    "23. Check if a string is alphanumeric"
   ]
  },
  {
   "cell_type": "code",
   "execution_count": 32,
   "id": "71cdbab7-ed63-48d1-b564-98e738fafae1",
   "metadata": {},
   "outputs": [
    {
     "name": "stdin",
     "output_type": "stream",
     "text": [
      "Enter string -  pw123\n"
     ]
    },
    {
     "name": "stdout",
     "output_type": "stream",
     "text": [
      "Entered string is alpha numeric\n"
     ]
    }
   ],
   "source": [
    "a = str(input(\"Enter string - \"))\n",
    "if a.isalnum() == True :\n",
    "    print(\"Entered string is alpha numeric\")\n",
    "else :\n",
    "    print(\"Entered string is not alpha numeric\")"
   ]
  },
  {
   "cell_type": "markdown",
   "id": "b191f8af-fb38-44e1-ad1c-eff045beec6f",
   "metadata": {},
   "source": [
    "24. Extract all digits from a string"
   ]
  },
  {
   "cell_type": "code",
   "execution_count": 61,
   "id": "35edcc98-4d61-400a-96b2-c30587e4e66d",
   "metadata": {},
   "outputs": [
    {
     "name": "stdin",
     "output_type": "stream",
     "text": [
      "Enter string -  question 24 testing output 1 time 978653\n"
     ]
    },
    {
     "name": "stdout",
     "output_type": "stream",
     "text": [
      "Digits in the string -  [1, 2, 3, 4, 5, 6, 7, 8, 9]\n"
     ]
    }
   ],
   "source": [
    "a,l = str(input(\"Enter string - \")) , []\n",
    "for i in a :\n",
    "    if i.isdigit()==True :\n",
    "        l.append(int(i))\n",
    "print(\"Digits in the string - \",sorted(list(set(l))))"
   ]
  },
  {
   "cell_type": "markdown",
   "id": "f4a32c0f-1530-41b9-8e19-a31281eb5528",
   "metadata": {},
   "source": [
    "25. Extract all alphabets from a string"
   ]
  },
  {
   "cell_type": "code",
   "execution_count": 59,
   "id": "05b1d983-31fe-4518-aaff-d5df8663aa35",
   "metadata": {},
   "outputs": [
    {
     "name": "stdin",
     "output_type": "stream",
     "text": [
      "Enter string -  question 24 testing output 1 time 978653\n"
     ]
    },
    {
     "name": "stdout",
     "output_type": "stream",
     "text": [
      "Aplhabets in the string -  ['e', 'g', 'i', 'm', 'n', 'o', 'p', 'q', 's', 't', 'u']\n"
     ]
    }
   ],
   "source": [
    "a,l = str(input(\"Enter string - \")) , []\n",
    "for i in a :\n",
    "    if i.isalpha()==True :\n",
    "        l.append(i)\n",
    "print(\"Aplhabets in the string - \",sorted(list(set(l))))"
   ]
  },
  {
   "cell_type": "markdown",
   "id": "13f7c141-a680-465d-8a29-57122113a75e",
   "metadata": {},
   "source": [
    "26. Count the number of uppercase letters in a string"
   ]
  },
  {
   "cell_type": "code",
   "execution_count": 2,
   "id": "7cd5bf54-955a-4c79-a04a-dd02b27c09e2",
   "metadata": {},
   "outputs": [
    {
     "name": "stdin",
     "output_type": "stream",
     "text": [
      "Enter string -  SpIdeRman is A chAracTer froM MArVEl\n"
     ]
    },
    {
     "name": "stdout",
     "output_type": "stream",
     "text": [
      "Total number of uppercase letters in the string -  11\n"
     ]
    }
   ],
   "source": [
    "a,cnt = str(input(\"Enter string - \")) , 0\n",
    "for i in a :\n",
    "    if i.isupper()==True :\n",
    "        cnt+=1\n",
    "print(\"Total number of uppercase letters in the string - \",cnt)"
   ]
  },
  {
   "cell_type": "markdown",
   "id": "9a67ef83-adfe-4987-8f69-5e3abb03974b",
   "metadata": {},
   "source": [
    "27. Count the number of lowercase letters in a string"
   ]
  },
  {
   "cell_type": "code",
   "execution_count": 3,
   "id": "cf7fd46e-9069-4f39-88d2-f3abe396583d",
   "metadata": {},
   "outputs": [
    {
     "name": "stdin",
     "output_type": "stream",
     "text": [
      "Enter string -  SpIdeRman is A chAracTer froM MArVEl\n"
     ]
    },
    {
     "name": "stdout",
     "output_type": "stream",
     "text": [
      "Total number of lowercase letters in the string -  20\n"
     ]
    }
   ],
   "source": [
    "a,cnt = str(input(\"Enter string - \")) , 0\n",
    "for i in a :\n",
    "    if i.islower()==True :\n",
    "        cnt+=1\n",
    "print(\"Total number of lowercase letters in the string - \",cnt)"
   ]
  },
  {
   "cell_type": "markdown",
   "id": "2d645c9b-443e-48cf-b680-2f37aa96c030",
   "metadata": {},
   "source": [
    "28. Swap the case of each character in a string"
   ]
  },
  {
   "cell_type": "code",
   "execution_count": 8,
   "id": "d36f96a3-53d6-436e-ae4c-83b070afb6ea",
   "metadata": {},
   "outputs": [
    {
     "name": "stdin",
     "output_type": "stream",
     "text": [
      "Enter string -  SpIdeRman is A chAracTer froM MArVEl\n"
     ]
    },
    {
     "name": "stdout",
     "output_type": "stream",
     "text": [
      "String after swapping the case of each character - \n",
      " sPiDErMAN IS a CHaRACtER FROm maRveL\n"
     ]
    }
   ],
   "source": [
    "a = str(input(\"Enter string - \"))\n",
    "print(\"String after swapping the case of each character - \\n\",a.swapcase())"
   ]
  },
  {
   "cell_type": "markdown",
   "id": "67afa09b-7837-42e3-ad9a-607ccd812fc6",
   "metadata": {},
   "source": [
    "29. Remove a specific word from a string"
   ]
  },
  {
   "cell_type": "code",
   "execution_count": 17,
   "id": "f5a8da47-be54-4155-a550-6adb0f43acac",
   "metadata": {},
   "outputs": [
    {
     "name": "stdin",
     "output_type": "stream",
     "text": [
      "Enter string - not nice to meet you\n",
      "Enter word to remove - not\n"
     ]
    },
    {
     "name": "stdout",
     "output_type": "stream",
     "text": [
      "String after removing the word - nice to meet you\n"
     ]
    }
   ],
   "source": [
    "a,wd = str(input(\"Enter string -\")).lower() , str(input(\"Enter word to remove -\"))\n",
    "l=a.split()\n",
    "l.remove(wd)\n",
    "print(\"String after removing the word -\",\" \".join(l))"
   ]
  },
  {
   "cell_type": "markdown",
   "id": "c76d4040-505d-4b15-8c26-276a6b9358cd",
   "metadata": {},
   "source": [
    "30. Check if a string is a valid email address"
   ]
  },
  {
   "cell_type": "code",
   "execution_count": 20,
   "id": "bf8592e6-f35b-4b33-863d-973f7f2afa4f",
   "metadata": {},
   "outputs": [
    {
     "name": "stdin",
     "output_type": "stream",
     "text": [
      "Enter e-mail address - yobro1234@.com\n"
     ]
    },
    {
     "name": "stdout",
     "output_type": "stream",
     "text": [
      "NO, it's not a valid e-mail address\n"
     ]
    }
   ],
   "source": [
    "a = str(input(\"Enter e-mail address -\"))\n",
    "if a.endswith(\"@gmail.com\") == True :\n",
    "    print(\"Yes, it's a valid e-mail address\")\n",
    "else :\n",
    "    print(\"NO, it's not a valid e-mail address\")"
   ]
  },
  {
   "cell_type": "markdown",
   "id": "59b3869a-197e-4b38-add7-356624df5103",
   "metadata": {},
   "source": [
    "31. Extract the username from an email address string"
   ]
  },
  {
   "cell_type": "code",
   "execution_count": 4,
   "id": "a447af65-c6a4-480d-805e-9be364555e8b",
   "metadata": {},
   "outputs": [
    {
     "name": "stdin",
     "output_type": "stream",
     "text": [
      "Enter e-mail address - yobro1234@gmail.com\n"
     ]
    },
    {
     "name": "stdout",
     "output_type": "stream",
     "text": [
      "Username from e-mail - yobro1234\n"
     ]
    }
   ],
   "source": [
    "a = str(input(\"Enter e-mail address -\"))\n",
    "print(\"Username from e-mail -\",a.split(\"@\")[0])"
   ]
  },
  {
   "cell_type": "markdown",
   "id": "96a352c6-8ed2-431b-9fc9-e617a924d4cf",
   "metadata": {},
   "source": [
    "32. Extract the domain name from an email address string"
   ]
  },
  {
   "cell_type": "code",
   "execution_count": 5,
   "id": "2a91fc82-333b-4736-b391-910e3ee62fd6",
   "metadata": {},
   "outputs": [
    {
     "name": "stdin",
     "output_type": "stream",
     "text": [
      "Enter e-mail address - yobro1234@gmail.com\n"
     ]
    },
    {
     "name": "stdout",
     "output_type": "stream",
     "text": [
      "Domain name from e-mail - gmail.com\n"
     ]
    }
   ],
   "source": [
    "a = str(input(\"Enter e-mail address -\"))\n",
    "print(\"Domain name from e-mail -\",a.split(\"@\")[1])"
   ]
  },
  {
   "cell_type": "markdown",
   "id": "1ca1582c-32ed-4d67-a895-53fb7e5558b4",
   "metadata": {},
   "source": [
    "33. Replace multiple spaces in a string with a single space"
   ]
  },
  {
   "cell_type": "code",
   "execution_count": 8,
   "id": "f10f729b-a66c-41ad-9aa9-c6a3bcff2ebe",
   "metadata": {},
   "outputs": [
    {
     "name": "stdin",
     "output_type": "stream",
     "text": [
      "Enter string - Hello     world!   How   are   you?\n"
     ]
    },
    {
     "name": "stdout",
     "output_type": "stream",
     "text": [
      "String after removing spaces - Hello world! How are you?\n"
     ]
    }
   ],
   "source": [
    "a = str(input(\"Enter string -\"))\n",
    "l = a.split()\n",
    "print(\"String after removing spaces -\",\" \".join(l))"
   ]
  },
  {
   "cell_type": "markdown",
   "id": "970a14b4-2913-459d-865d-3274faf3edc0",
   "metadata": {},
   "source": [
    "34. Check if a string is a valid URL"
   ]
  },
  {
   "cell_type": "code",
   "execution_count": 19,
   "id": "1712eee4-0620-4295-b3a5-7991fc7bfabe",
   "metadata": {},
   "outputs": [
    {
     "name": "stdin",
     "output_type": "stream",
     "text": [
      "Enter URL - https://www.google.com\n"
     ]
    },
    {
     "name": "stdout",
     "output_type": "stream",
     "text": [
      "Yes, it's a valid URL\n"
     ]
    }
   ],
   "source": [
    "from urllib.parse import urlparse\n",
    "url = str(input(\"Enter URL -\")).lower()\n",
    "p = urlparse(url)\n",
    "if (p.scheme == \"http\" or \"https\") and p.netloc != '':\n",
    "    print(\"Yes, it's a valid URL\")\n",
    "else :\n",
    "    print(\"No, it's not a valid URL\")"
   ]
  },
  {
   "cell_type": "markdown",
   "id": "0d978c73-befe-46a3-9759-c0f73983680b",
   "metadata": {},
   "source": [
    "35. Extract the protocol (http or https) from a URL string"
   ]
  },
  {
   "cell_type": "code",
   "execution_count": 20,
   "id": "50c0966e-c299-41bc-98ce-faa7d0b701ef",
   "metadata": {},
   "outputs": [
    {
     "name": "stdin",
     "output_type": "stream",
     "text": [
      "Enter URL - https://www.google.com\n"
     ]
    },
    {
     "name": "stdout",
     "output_type": "stream",
     "text": [
      "Protocol from URL - https\n"
     ]
    }
   ],
   "source": [
    "from urllib.parse import urlparse\n",
    "url = str(input(\"Enter URL -\")).lower()\n",
    "p = urlparse(url)\n",
    "if (p.scheme == \"http\" or \"https\") and p.netloc != '':\n",
    "    print(\"Protocol from URL -\",p.scheme)\n",
    "else :\n",
    "    print(\"Protocol is not available\")"
   ]
  },
  {
   "cell_type": "markdown",
   "id": "2733dc02-b1d3-4043-9ef9-658af7ac74f0",
   "metadata": {},
   "source": [
    "36. Find the frequency of each character in a string"
   ]
  },
  {
   "cell_type": "code",
   "execution_count": 12,
   "id": "5576d813-22e9-476f-b7f9-b25f5ab9fcd3",
   "metadata": {},
   "outputs": [
    {
     "name": "stdin",
     "output_type": "stream",
     "text": [
      "Enter string - Indian cricket team is the best team in the world\n"
     ]
    },
    {
     "name": "stdout",
     "output_type": "stream",
     "text": [
      "Frequency of each character in string -\n",
      " {' ': 9, 'a': 3, 'b': 1, 'c': 2, 'd': 2, 'e': 6, 'h': 2, 'i': 5, 'k': 1, 'l': 1, 'm': 2, 'n': 3, 'o': 1, 'r': 2, 's': 2, 't': 6, 'w': 1}\n"
     ]
    }
   ],
   "source": [
    "a,d = str(input(\"Enter string -\")).lower() , {}\n",
    "for i in a :\n",
    "    if i not in d :\n",
    "        d[i]=a.count(i)\n",
    "l=list(d.keys())\n",
    "l.sort()\n",
    "new_d={j:d[j] for j in l} # to sort the dictionaary\n",
    "print(\"Frequency of each character in string -\\n\",new_d)"
   ]
  },
  {
   "cell_type": "markdown",
   "id": "306cdd96-06a1-45e9-8c4f-4ed2231e713d",
   "metadata": {},
   "source": [
    "37. Remove all punctuation from a string"
   ]
  },
  {
   "cell_type": "code",
   "execution_count": 2,
   "id": "afba594f-379f-4256-9f0e-a5e623fec768",
   "metadata": {},
   "outputs": [
    {
     "name": "stdin",
     "output_type": "stream",
     "text": [
      "Enter string - Ind.ian c;ric%ket te[am is. the, bes;t t'ea<m in the wo?rld\n"
     ]
    },
    {
     "name": "stdout",
     "output_type": "stream",
     "text": [
      "New string - Indian cricket team is the best team in the world\n"
     ]
    }
   ],
   "source": [
    "a,b = str(input(\"Enter string -\")) , []\n",
    "for i in a :\n",
    "    if i == \" \" or i.isalnum() == True :\n",
    "        b.append(i)\n",
    "print(\"New string -\",\"\".join(b))"
   ]
  },
  {
   "cell_type": "markdown",
   "id": "ed7fcd0e-2040-4acd-a96f-a8d77152f1b9",
   "metadata": {},
   "source": [
    "38. Check if a string contains only digits"
   ]
  },
  {
   "cell_type": "code",
   "execution_count": 9,
   "id": "dd6bc119-40db-441d-bd80-598cb7f010d6",
   "metadata": {},
   "outputs": [
    {
     "name": "stdin",
     "output_type": "stream",
     "text": [
      "Enter string - 0123456789\n"
     ]
    },
    {
     "name": "stdout",
     "output_type": "stream",
     "text": [
      "Contains only digits : True\n"
     ]
    }
   ],
   "source": [
    "a = str(input(\"Enter string -\"))\n",
    "if a.isdigit() == True : print(\"Contains only digits : True\")\n",
    "else : print(\"Contains only digits : False\")"
   ]
  },
  {
   "cell_type": "markdown",
   "id": "53d838c7-31ce-486c-ae58-fe931a42c187",
   "metadata": {},
   "source": [
    "39. Check if a string contains only alphabets"
   ]
  },
  {
   "cell_type": "code",
   "execution_count": 10,
   "id": "0cc87326-bcc9-4f20-914d-70f45fdbdae8",
   "metadata": {},
   "outputs": [
    {
     "name": "stdin",
     "output_type": "stream",
     "text": [
      "Enter string - pwskills\n"
     ]
    },
    {
     "name": "stdout",
     "output_type": "stream",
     "text": [
      "Contains only alphabets : True\n"
     ]
    }
   ],
   "source": [
    "a = str(input(\"Enter string -\"))\n",
    "if a.isalpha() == True : print(\"Contains only alphabets : True\")\n",
    "else : print(\"Contains only alphabets : False\")"
   ]
  },
  {
   "cell_type": "markdown",
   "id": "fd39de7c-c862-4b7e-a174-78363c692f49",
   "metadata": {},
   "source": [
    "40. Convert a string to a list of characters"
   ]
  },
  {
   "cell_type": "code",
   "execution_count": 17,
   "id": "e77dda60-0b0c-4316-ac5e-70851f855851",
   "metadata": {},
   "outputs": [
    {
     "name": "stdin",
     "output_type": "stream",
     "text": [
      "Enter string - Contains only alphabets\n"
     ]
    },
    {
     "name": "stdout",
     "output_type": "stream",
     "text": [
      "['C', 'o', 'n', 't', 'a', 'i', 'n', 's', ' ', 'o', 'n', 'l', 'y', ' ', 'a', 'l', 'p', 'h', 'a', 'b', 'e', 't', 's']\n"
     ]
    }
   ],
   "source": [
    "print(list(str(input(\"Enter string -\"))))"
   ]
  },
  {
   "cell_type": "markdown",
   "id": "a7e1d2db-3792-48f4-8cfb-fa22d4bd6823",
   "metadata": {},
   "source": [
    "41. Check if two strings are anagrams"
   ]
  },
  {
   "cell_type": "code",
   "execution_count": 7,
   "id": "2511f9fe-8ac0-44e0-8412-6afd5d8dee7b",
   "metadata": {},
   "outputs": [
    {
     "name": "stdin",
     "output_type": "stream",
     "text": [
      "Enter string - a gentleman\n",
      "Enter string - elegant man\n"
     ]
    },
    {
     "name": "stdout",
     "output_type": "stream",
     "text": [
      "Both the strings are anagrams\n"
     ]
    }
   ],
   "source": [
    "a,b = str(input(\"Enter string -\")).lower() , str(input(\"Enter string -\")).lower()\n",
    "c,d = a.replace(\" \",\"\") , b.replace(\" \",\"\")\n",
    "if sorted(c) == sorted(d) :\n",
    "    print(\"Both the strings are anagrams\")\n",
    "else :\n",
    "    print(\"Both the strings are not anagrams\")"
   ]
  },
  {
   "cell_type": "markdown",
   "id": "59ec36bf-a1ef-4d95-9a0e-a32cc1d32085",
   "metadata": {},
   "source": [
    "42. Encode a string using a Caesar cipher"
   ]
  },
  {
   "cell_type": "code",
   "execution_count": 4,
   "id": "6f36b768-ab45-45fb-ac9f-116ba215efde",
   "metadata": {},
   "outputs": [
    {
     "name": "stdin",
     "output_type": "stream",
     "text": [
      "Enter string - my name is trishant\n"
     ]
    },
    {
     "name": "stdout",
     "output_type": "stream",
     "text": [
      "Encoded string - pb qdph lv wulvkdqw\n"
     ]
    }
   ],
   "source": [
    "a,b = str(input(\"Enter string -\")) , \"\"\n",
    "shift = 3\n",
    "for i in a :\n",
    "    if i.islower():\n",
    "        ch = chr((ord(i) + shift - ord('a')) % 26 + ord('a'))\n",
    "    else :\n",
    "        ch = i\n",
    "    b = b + ch\n",
    "print(\"Encoded string -\",b)"
   ]
  },
  {
   "cell_type": "markdown",
   "id": "99bd979d-4f5a-42f6-8dd5-402a41b0a515",
   "metadata": {},
   "source": [
    "43. Decode a Caesar cipher encoded string"
   ]
  },
  {
   "cell_type": "code",
   "execution_count": 5,
   "id": "e0e3256f-0c0f-40c7-9218-03992ca9dc88",
   "metadata": {},
   "outputs": [
    {
     "name": "stdin",
     "output_type": "stream",
     "text": [
      "Enter string - pb qdph lv wulvkdqw\n"
     ]
    },
    {
     "name": "stdout",
     "output_type": "stream",
     "text": [
      "Encoded string - my name is trishant\n"
     ]
    }
   ],
   "source": [
    "a,b = str(input(\"Enter string -\")) , \"\"\n",
    "shift = 3\n",
    "for i in a :\n",
    "    if i.islower():\n",
    "        ch = chr((ord(i) - shift - ord('a')) % 26 + ord('a'))\n",
    "    else :\n",
    "        ch = i\n",
    "    b = b + ch\n",
    "print(\"Encoded string -\",b)"
   ]
  },
  {
   "cell_type": "markdown",
   "id": "00db327b-f490-4fdf-8e62-3e8a6771be10",
   "metadata": {},
   "source": [
    "44. Find the most frequent word in a string"
   ]
  },
  {
   "cell_type": "code",
   "execution_count": 11,
   "id": "e3c6b07b-cbce-4f85-9d66-2800f7cbbea9",
   "metadata": {},
   "outputs": [
    {
     "name": "stdin",
     "output_type": "stream",
     "text": [
      "Enter string - hey there! i'm using what'sapp. hey brother\n"
     ]
    },
    {
     "name": "stdout",
     "output_type": "stream",
     "text": [
      "Most frequent word in the string -  hey\n"
     ]
    }
   ],
   "source": [
    "a,b = str(input(\"Enter string -\")) , []\n",
    "for i in a :\n",
    "    if i == \" \" or i.isalnum() == True : b.append(i)\n",
    "c = \"\".join(b).split()\n",
    "d = c[0]\n",
    "for i in c :\n",
    "    if c.count(i) > c.count(d) : d = i\n",
    "print(\"Most frequent word in the string - \",d)"
   ]
  },
  {
   "cell_type": "markdown",
   "id": "a01bfb6b-19fc-447b-96d3-d182bb3debc2",
   "metadata": {},
   "source": [
    "45. Find all unique words in a string"
   ]
  },
  {
   "cell_type": "code",
   "execution_count": 12,
   "id": "c2392499-7d44-4256-bad6-4e4ec729dee1",
   "metadata": {},
   "outputs": [
    {
     "name": "stdin",
     "output_type": "stream",
     "text": [
      "Enter string -  My name is anthony and my sister is in school\n"
     ]
    },
    {
     "name": "stdout",
     "output_type": "stream",
     "text": [
      "Unique words in the string -  ['name', 'anthony', 'and', 'sister', 'in', 'school']\n"
     ]
    }
   ],
   "source": [
    "a,b = str(input(\"Enter string - \")).lower().split() , []\n",
    "for i in a :\n",
    "    if a.count(i) == 1 :\n",
    "        b.append(i)\n",
    "print(\"Unique words in the string - \",b)"
   ]
  },
  {
   "cell_type": "markdown",
   "id": "24b3ef92-b0fb-4f5b-a125-5a4cdb8ae388",
   "metadata": {},
   "source": [
    "46. Count the number of syllables in a string"
   ]
  },
  {
   "cell_type": "code",
   "execution_count": 8,
   "id": "543636de-ebe1-4235-85f5-f0284b047cdb",
   "metadata": {},
   "outputs": [
    {
     "name": "stdin",
     "output_type": "stream",
     "text": [
      "Enter string -  Alphabet\n"
     ]
    },
    {
     "name": "stdout",
     "output_type": "stream",
     "text": [
      "No. of syllables in the -  3\n"
     ]
    }
   ],
   "source": [
    "a,b,ct = str(input(\"Enter string - \")).lower() , \"aeiouy\", 0\n",
    "for i in a :\n",
    "    if i in b : ct += 1\n",
    "print(\"No. of syllables in the - \",ct)    "
   ]
  },
  {
   "cell_type": "markdown",
   "id": "53be5090-4f5f-4d49-98ba-b2778b08e383",
   "metadata": {},
   "source": [
    "47. Check if a string contains any special characters"
   ]
  },
  {
   "cell_type": "code",
   "execution_count": 18,
   "id": "38f7bdb5-0b59-42e4-be12-fa43d80f914f",
   "metadata": {},
   "outputs": [
    {
     "name": "stdin",
     "output_type": "stream",
     "text": [
      "Enter string -  pwskills@gmail.com\n"
     ]
    },
    {
     "name": "stdout",
     "output_type": "stream",
     "text": [
      "pwskills@gmail.com contains special character : True\n"
     ]
    }
   ],
   "source": [
    "a = str(input(\"Enter string - \"))\n",
    "for i in a :\n",
    "    if i.isalnum() == True :\n",
    "        if a.index(i) == len(a)-1 :\n",
    "            print(a,\"contains special character : False\")\n",
    "    elif i.isalnum() == False :\n",
    "        print(a,\"contains special character : True\")\n",
    "        break"
   ]
  },
  {
   "cell_type": "markdown",
   "id": "d4edb726-26ae-4c4e-ae7f-02e31e320105",
   "metadata": {},
   "source": [
    "48. Remove the nth word from a string"
   ]
  },
  {
   "cell_type": "code",
   "execution_count": 22,
   "id": "9fb1d974-9084-4b92-bd38-cecdcaac0c99",
   "metadata": {},
   "outputs": [
    {
     "name": "stdin",
     "output_type": "stream",
     "text": [
      "Enter string -  pwskills is a branch of pw and the owner is pandey ji\n",
      "Enter the nth word position value -  6\n"
     ]
    },
    {
     "name": "stdout",
     "output_type": "stream",
     "text": [
      "Modified string -  pwskills is a branch of and the owner is pandey ji\n",
      "Removed word -  pw\n"
     ]
    }
   ],
   "source": [
    "a,index = str(input(\"Enter string - \")).split() , int(input(\"Enter the nth word position value - \"))\n",
    "r_w = a[index - 1]\n",
    "a.pop(index-1)\n",
    "b = \" \".join(a)\n",
    "print(\"Modified string - \",b)\n",
    "print(\"Removed word - \", r_w)"
   ]
  },
  {
   "cell_type": "markdown",
   "id": "cf8506c1-ed1e-4bc4-a238-0dcd92bde88e",
   "metadata": {},
   "source": [
    "49. Insert a word at the nth position in a string"
   ]
  },
  {
   "cell_type": "code",
   "execution_count": 24,
   "id": "53559051-2395-4d20-8981-4c66e60351c9",
   "metadata": {},
   "outputs": [
    {
     "name": "stdin",
     "output_type": "stream",
     "text": [
      "Enter string -  pwskills is a branch of pw and the owner is pandey ji\n",
      "Enter word to insert -  Alakh\n",
      "Enter the nth word position value -  11\n"
     ]
    },
    {
     "name": "stdout",
     "output_type": "stream",
     "text": [
      "Modified string -  pwskills is a branch of pw and the owner is Alakh pandey ji\n"
     ]
    }
   ],
   "source": [
    "a = str(input(\"Enter string - \")).split()\n",
    "insert_word = str(input(\"Enter word to insert - \"))\n",
    "index =  int(input(\"Enter the nth word position value - \"))\n",
    "a.insert(index-1 , insert_word)\n",
    "b = \" \".join(a)\n",
    "print(\"Modified string - \",b)"
   ]
  },
  {
   "cell_type": "markdown",
   "id": "08132f53-845c-4fb0-8768-a972e6f49396",
   "metadata": {},
   "source": [
    "50. Convert a CSV string to a list of lists"
   ]
  },
  {
   "cell_type": "code",
   "execution_count": 47,
   "id": "f835d5d8-24c8-455c-9898-749f66f6cb66",
   "metadata": {},
   "outputs": [
    {
     "name": "stdout",
     "output_type": "stream",
     "text": [
      "['Name', ' class', ' section']\n",
      "['Rahul', ' 5', ' A']\n",
      "['Alakh', ' 3', ' C']\n",
      "['Kenny', ' 2', ' B']\n"
     ]
    }
   ],
   "source": [
    "a,l = \"Name, class, section\\nRahul, 5, A\\nAlakh, 3, C\\nKenny, 2, B\" , []\n",
    "b = a.split(\"\\n\")\n",
    "for i in b :\n",
    "    sub_list = i.split(',')\n",
    "    l.append(sub_list)\n",
    "\n",
    "for j in l : print(j)"
   ]
  },
  {
   "cell_type": "markdown",
   "id": "2bf07307-0c83-43dc-8973-8eb0125930f6",
   "metadata": {},
   "source": [
    "List Based Practice Problem "
   ]
  },
  {
   "cell_type": "markdown",
   "id": "84ee4369-afa8-4fd7-9c19-6c76aaf3153c",
   "metadata": {},
   "source": [
    "1. Create a list with integers from 1 to 10"
   ]
  },
  {
   "cell_type": "code",
   "execution_count": 2,
   "id": "5059a425-ad61-44df-916e-5ef060822512",
   "metadata": {},
   "outputs": [
    {
     "name": "stdout",
     "output_type": "stream",
     "text": [
      "List -  [1, 2, 3, 4, 5, 6, 7, 8, 9, 10]\n"
     ]
    }
   ],
   "source": [
    "l = [1,2,3,4,5,6,7,8,9,10]\n",
    "print(\"List - \",l)"
   ]
  },
  {
   "cell_type": "markdown",
   "id": "fe23af4f-e252-491f-b48a-4caf6aef7645",
   "metadata": {},
   "source": [
    "2. Find the length of a list without using the `len()` function"
   ]
  },
  {
   "cell_type": "code",
   "execution_count": 3,
   "id": "fb74e330-7329-4c65-93ab-904640a05cac",
   "metadata": {},
   "outputs": [
    {
     "name": "stdout",
     "output_type": "stream",
     "text": [
      "Length of list -  10\n"
     ]
    }
   ],
   "source": [
    "l,ct = [1,2,3,4,5,6,7,8,9,10] , 0\n",
    "for i in l: ct=ct+1\n",
    "print(\"Length of list - \",ct)"
   ]
  },
  {
   "cell_type": "markdown",
   "id": "0f3740bd-7d70-41e8-a297-09775b81c531",
   "metadata": {},
   "source": [
    "3. Append an element to the end of a list"
   ]
  },
  {
   "cell_type": "code",
   "execution_count": 8,
   "id": "3c338486-6e84-4629-885f-ee7c601a98b7",
   "metadata": {},
   "outputs": [
    {
     "name": "stdout",
     "output_type": "stream",
     "text": [
      "New list -  [1, 2, 3, 4, 5, 6, 7, 8, 9, 10, 11]\n"
     ]
    }
   ],
   "source": [
    "l = [1,2,3,4,5,6,7,8,9,10]\n",
    "l.append(11)\n",
    "print(\"New list - \",l)"
   ]
  },
  {
   "cell_type": "markdown",
   "id": "c140c650-d42c-462e-b404-4661a864d8c4",
   "metadata": {},
   "source": [
    "4. Insert an element at a specific index in a list"
   ]
  },
  {
   "cell_type": "code",
   "execution_count": 9,
   "id": "b7639327-c4a3-4f7b-9a6d-1a8c176fb156",
   "metadata": {},
   "outputs": [
    {
     "name": "stdin",
     "output_type": "stream",
     "text": [
      "Enter index -  5\n",
      "Enter element -  20\n"
     ]
    },
    {
     "name": "stdout",
     "output_type": "stream",
     "text": [
      "New list -  [1, 2, 3, 4, 5, 20, 6, 7, 8, 9, 10]\n"
     ]
    }
   ],
   "source": [
    "l = [1,2,3,4,5,6,7,8,9,10]\n",
    "l.insert(int(input(\"Enter index - \")),int(input(\"Enter element - \")))\n",
    "print(\"New list - \",l)"
   ]
  },
  {
   "cell_type": "markdown",
   "id": "1dfc8ff9-e9aa-4a9e-b801-d7f011a1d558",
   "metadata": {},
   "source": [
    "5. Remove an element from a list by its value"
   ]
  },
  {
   "cell_type": "code",
   "execution_count": 10,
   "id": "e4a875e4-47e0-4963-a46b-bb1bc802d7dc",
   "metadata": {},
   "outputs": [
    {
     "name": "stdin",
     "output_type": "stream",
     "text": [
      "Enter element to remove (1-10) -  7\n"
     ]
    },
    {
     "name": "stdout",
     "output_type": "stream",
     "text": [
      "New list -  [1, 2, 3, 4, 5, 6, 8, 9, 10]\n"
     ]
    }
   ],
   "source": [
    "l = [1,2,3,4,5,6,7,8,9,10]\n",
    "l.remove(int(input(\"Enter element to remove (1-10) - \")))\n",
    "print(\"New list - \",l)"
   ]
  },
  {
   "cell_type": "markdown",
   "id": "51821eaf-83a2-442c-9223-d04f1f3f74e7",
   "metadata": {},
   "source": [
    "6. Remove an element from a list by its index"
   ]
  },
  {
   "cell_type": "code",
   "execution_count": 11,
   "id": "56c0b1c5-c437-4379-ab27-fb4481c13743",
   "metadata": {},
   "outputs": [
    {
     "name": "stdout",
     "output_type": "stream",
     "text": [
      "[1, 2, 3, 4, 5, 6, 7, 8, 9, 10]\n"
     ]
    },
    {
     "name": "stdin",
     "output_type": "stream",
     "text": [
      "Enter index -  6\n"
     ]
    },
    {
     "name": "stdout",
     "output_type": "stream",
     "text": [
      "New list -  [1, 2, 3, 4, 5, 6, 8, 9, 10]\n"
     ]
    }
   ],
   "source": [
    "l = [1,2,3,4,5,6,7,8,9,10]\n",
    "print(l)\n",
    "l.pop(int(input(\"Enter index - \")))\n",
    "print(\"New list - \",l)"
   ]
  },
  {
   "cell_type": "markdown",
   "id": "fbbeecbb-2a94-4a4e-aa91-e91308485179",
   "metadata": {},
   "source": [
    "7. Check if an element exists in a list"
   ]
  },
  {
   "cell_type": "code",
   "execution_count": 12,
   "id": "0637957d-9ba7-4a46-9884-594ebc352313",
   "metadata": {},
   "outputs": [
    {
     "name": "stdin",
     "output_type": "stream",
     "text": [
      "Enter element (1-10) -  4\n"
     ]
    },
    {
     "name": "stdout",
     "output_type": "stream",
     "text": [
      "Yes, 4 is there in the list\n"
     ]
    }
   ],
   "source": [
    "l = [1,2,3,4,5,6,7,8,9,10]\n",
    "a = int(input(\"Enter element (1-10) - \"))\n",
    "if a in l :\n",
    "    print('Yes,',a,'is there in the list')\n",
    "else :\n",
    "    print('no,',a,'is not there in the list')"
   ]
  },
  {
   "cell_type": "markdown",
   "id": "459e6373-6ff8-4027-a512-d448b765ac54",
   "metadata": {},
   "source": [
    "8. Find the index of the first occurrence of an element in a list"
   ]
  },
  {
   "cell_type": "code",
   "execution_count": 13,
   "id": "1bfa713e-2cc0-4aa8-895e-488a93df919b",
   "metadata": {},
   "outputs": [
    {
     "name": "stdin",
     "output_type": "stream",
     "text": [
      "Enter element (1-10) -  3\n"
     ]
    },
    {
     "name": "stdout",
     "output_type": "stream",
     "text": [
      "Index of the element -  2\n"
     ]
    }
   ],
   "source": [
    "l = [1,2,3,4,5,6,7,8,9,10]\n",
    "a = int(input(\"Enter element (1-10) - \"))\n",
    "print(\"Index of the element - \",l.index(a))"
   ]
  },
  {
   "cell_type": "markdown",
   "id": "c0841a56-7695-4e07-94b1-d9897fea58a6",
   "metadata": {},
   "source": [
    "9. Count the occurrences of an element in a list"
   ]
  },
  {
   "cell_type": "code",
   "execution_count": 14,
   "id": "3c113037-23c2-4996-b6d8-37bc6c5d1c44",
   "metadata": {},
   "outputs": [
    {
     "name": "stdin",
     "output_type": "stream",
     "text": [
      "Enter element (1-10) -  9\n"
     ]
    },
    {
     "name": "stdout",
     "output_type": "stream",
     "text": [
      "No. of times entered element occured -  1\n"
     ]
    }
   ],
   "source": [
    "l = [1,2,3,4,5,6,7,8,9,10]\n",
    "a = int(input(\"Enter element (1-10) - \"))\n",
    "print(\"No. of times entered element occured - \",l.count(a))"
   ]
  },
  {
   "cell_type": "markdown",
   "id": "ca122a1c-93bc-42f9-b76e-c3ece99c3b9d",
   "metadata": {},
   "source": [
    "10. Reverse the order of elements in a list"
   ]
  },
  {
   "cell_type": "code",
   "execution_count": 15,
   "id": "fb93e4b2-4f7e-4981-bbf2-5b080c53b263",
   "metadata": {},
   "outputs": [
    {
     "name": "stdout",
     "output_type": "stream",
     "text": [
      "Reverse list -  [10, 9, 8, 7, 6, 5, 4, 3, 2, 1]\n"
     ]
    }
   ],
   "source": [
    "l = [1,2,3,4,5,6,7,8,9,10]\n",
    "l.reverse()\n",
    "print(\"Reverse list - \",l)"
   ]
  },
  {
   "cell_type": "markdown",
   "id": "cdc9792c-7ddf-4809-a5f8-95b717780a9f",
   "metadata": {},
   "source": [
    "11. Sort a list in ascending order"
   ]
  },
  {
   "cell_type": "code",
   "execution_count": 17,
   "id": "595ede90-3f1b-4432-9fd8-6d70a43e6154",
   "metadata": {},
   "outputs": [
    {
     "name": "stdout",
     "output_type": "stream",
     "text": [
      "Sorted list -  [1, 2, 3, 4, 5, 6, 7, 8, 9, 10]\n"
     ]
    }
   ],
   "source": [
    "l = [10, 9, 8, 7, 6, 5, 4, 3, 2, 1]\n",
    "l.sort()\n",
    "print(\"Sorted list - \",l)"
   ]
  },
  {
   "cell_type": "markdown",
   "id": "e62d8bb7-d444-41c6-9282-b77a39b371b2",
   "metadata": {},
   "source": [
    "12. Sort a list in descending order"
   ]
  },
  {
   "cell_type": "code",
   "execution_count": 3,
   "id": "d64bd126-69d8-4a58-ba56-26fe58131cc9",
   "metadata": {},
   "outputs": [
    {
     "name": "stdout",
     "output_type": "stream",
     "text": [
      "Sorted list in descending order -  [10, 9, 8, 7, 6, 5, 4, 3, 2, 1]\n"
     ]
    }
   ],
   "source": [
    "l = [1, 2, 3, 4, 5, 6, 7, 8, 9, 10]\n",
    "l.sort(reverse=True)\n",
    "print(\"Sorted list in descending order - \",l)"
   ]
  },
  {
   "cell_type": "markdown",
   "id": "3807a093-4faa-4ff1-a9f6-92afecc0ca8a",
   "metadata": {},
   "source": [
    "13. Create a list of even numbers from 1 to 20"
   ]
  },
  {
   "cell_type": "code",
   "execution_count": 23,
   "id": "1cba8f98-1653-4b59-b941-da7a589939f5",
   "metadata": {},
   "outputs": [
    {
     "name": "stdout",
     "output_type": "stream",
     "text": [
      "List with even numbers -  [2, 4, 6, 8, 10, 12, 14, 16, 18, 20]\n"
     ]
    }
   ],
   "source": [
    "l=[]\n",
    "for i in range(1,21):\n",
    "    if i%2 == 0 : l.append(i)\n",
    "print(\"List with even numbers - \",l)"
   ]
  },
  {
   "cell_type": "markdown",
   "id": "0cbc59f9-7a67-4541-9169-6563161d3529",
   "metadata": {},
   "source": [
    "14. Create a list of odd numbers from 1 to 20"
   ]
  },
  {
   "cell_type": "code",
   "execution_count": 24,
   "id": "2ce7a446-386c-4a39-ab1a-b24f19fb5775",
   "metadata": {},
   "outputs": [
    {
     "name": "stdout",
     "output_type": "stream",
     "text": [
      "List with even numbers -  [1, 3, 5, 7, 9, 11, 13, 15, 17, 19]\n"
     ]
    }
   ],
   "source": [
    "l=[]\n",
    "for i in range(1,21):\n",
    "    if i%2 != 0 : l.append(i)\n",
    "print(\"List with even numbers - \",l)"
   ]
  },
  {
   "cell_type": "markdown",
   "id": "ae820451-9738-473b-b66a-8c0c6c6f2645",
   "metadata": {},
   "source": [
    "15. Find the sum of all elements in a list"
   ]
  },
  {
   "cell_type": "code",
   "execution_count": 34,
   "id": "7e605028-2995-49ff-9907-5d3aa8b8a6a9",
   "metadata": {},
   "outputs": [
    {
     "name": "stdout",
     "output_type": "stream",
     "text": [
      "Sum of all elements from the list -  55\n"
     ]
    }
   ],
   "source": [
    "l = [1, 2, 3, 4, 5, 6, 7, 8, 9, 10] ; print(\"Sum of all elements from the list - \",sum(l))"
   ]
  },
  {
   "cell_type": "markdown",
   "id": "812471d8-9e1d-4fc3-8b32-d588ea3071a8",
   "metadata": {},
   "source": [
    "16. Find the maximum value in a list"
   ]
  },
  {
   "cell_type": "code",
   "execution_count": 33,
   "id": "2bb2edb7-5f92-48bb-95d4-0ff298860920",
   "metadata": {},
   "outputs": [
    {
     "name": "stdout",
     "output_type": "stream",
     "text": [
      "Maximum value from list -  10\n"
     ]
    }
   ],
   "source": [
    "l = [1, 2, 3, 4, 5, 6, 7, 8, 9, 10] ; print(\"Maximum value from list - \",max(l))"
   ]
  },
  {
   "cell_type": "markdown",
   "id": "8e378a04-762b-43f7-8c51-70d80221a0a5",
   "metadata": {},
   "source": [
    "17. Find the minimum value in a list"
   ]
  },
  {
   "cell_type": "code",
   "execution_count": 2,
   "id": "035bf8cb-55da-4f85-ab22-8ef9f8ccdfa2",
   "metadata": {},
   "outputs": [
    {
     "name": "stdout",
     "output_type": "stream",
     "text": [
      "Mininum valume from list -  1\n"
     ]
    }
   ],
   "source": [
    "l = [1, 2, 3, 4, 5, 6, 7, 8, 9, 10] ; print(\"Mininum valume from list - \",min(l))"
   ]
  },
  {
   "cell_type": "markdown",
   "id": "9833f0e4-f011-4c4d-a6d6-8417c23dacb7",
   "metadata": {},
   "source": [
    "18. Create a list of squares of numbers from 1 to 10"
   ]
  },
  {
   "cell_type": "code",
   "execution_count": 32,
   "id": "eba4e63f-c092-41c7-8196-4ddc1d2cf8d6",
   "metadata": {},
   "outputs": [
    {
     "name": "stdout",
     "output_type": "stream",
     "text": [
      "List with squares of numbers -  [1, 4, 9, 16, 25, 36, 49, 64, 81, 100]\n"
     ]
    }
   ],
   "source": [
    "l=[i**2 for i in range(1,11)]\n",
    "print(\"List with squares of numbers - \",l)"
   ]
  },
  {
   "cell_type": "markdown",
   "id": "af863f9e-a6ec-4f27-bc78-175e5be3b33f",
   "metadata": {},
   "source": [
    "19. Create a list of random numbers"
   ]
  },
  {
   "cell_type": "code",
   "execution_count": 38,
   "id": "31cae8bb-4efc-469e-b1fc-8c32c2e51176",
   "metadata": {},
   "outputs": [
    {
     "name": "stdout",
     "output_type": "stream",
     "text": [
      "List with random numbers -  [66, 50, 91, 85, 15, 51, 24, 18, 48, 30]\n"
     ]
    }
   ],
   "source": [
    "import random\n",
    "\n",
    "l = [random.randint(1, 100) for i in range(10)]\n",
    "print(\"List with random numbers - \",l)"
   ]
  },
  {
   "cell_type": "markdown",
   "id": "fd263521-229d-4e17-9596-1316a0127ba9",
   "metadata": {},
   "source": [
    "20. Remove duplicates from a list"
   ]
  },
  {
   "cell_type": "code",
   "execution_count": 51,
   "id": "c43bceec-ebd7-4378-973d-818ccaa0970a",
   "metadata": {},
   "outputs": [
    {
     "name": "stdout",
     "output_type": "stream",
     "text": [
      "List without duplicates -  [99, 7, 44, 17, 81, 20, 53, 54, 56, 94]\n"
     ]
    }
   ],
   "source": [
    "l = [53, 56, 17, 44, 20, 54, 99, 53, 7, 94, 81] ; print(\"List without duplicates - \",list(set(l)))"
   ]
  },
  {
   "cell_type": "markdown",
   "id": "b56dc47b-d3ab-4c2c-9d06-fd8f88d4f50f",
   "metadata": {},
   "source": [
    "21. Find the common elements between two lists"
   ]
  },
  {
   "cell_type": "code",
   "execution_count": 56,
   "id": "d6b18f8e-e93b-4ee0-9c74-4709121489e7",
   "metadata": {},
   "outputs": [
    {
     "name": "stdout",
     "output_type": "stream",
     "text": [
      "Common elements -  [2, 6, 10]\n"
     ]
    }
   ],
   "source": [
    "l1 = [1, 2, 3, 4, 5, 6, 7, 8, 9, 10]\n",
    "l2 = [10, 11, 2, 13, 14, 15, 6, 17, 18, 19]\n",
    "l3 = sorted(list(set(l1).intersection(l2)))\n",
    "print(\"Common elements - \",l3)"
   ]
  },
  {
   "cell_type": "markdown",
   "id": "d10689f7-35d4-415d-a062-eefffd2c173c",
   "metadata": {},
   "source": [
    "22. Find the difference between two lists"
   ]
  },
  {
   "cell_type": "code",
   "execution_count": 63,
   "id": "b1f4df12-88a6-407c-a7e5-7ce6a6dcc491",
   "metadata": {},
   "outputs": [
    {
     "name": "stdout",
     "output_type": "stream",
     "text": [
      "Common elements -  [1, 3, 4, 5, 7, 8, 9]\n"
     ]
    }
   ],
   "source": [
    "l1 = [1, 2, 3, 4, 5, 6, 7, 8, 9, 10]\n",
    "l2 = [10, 11, 2, 13, 14, 15, 6, 17, 18, 19]\n",
    "l3 = sorted(list(set(l1).difference(l2)))\n",
    "print(\"Common elements - \",l3)"
   ]
  },
  {
   "cell_type": "markdown",
   "id": "cc7eb67f-e5a5-4f15-be2d-4e0d0f5005e1",
   "metadata": {},
   "source": [
    "23. Merge two lists"
   ]
  },
  {
   "cell_type": "code",
   "execution_count": 68,
   "id": "907d6a11-900e-4568-8618-35d4e68c5772",
   "metadata": {},
   "outputs": [
    {
     "name": "stdout",
     "output_type": "stream",
     "text": [
      "Modified list -  [1, 2, 3, 4, 5, 6, 7, 8, 9, 10, 11, 12, 13, 14, 15, 16, 17, 18, 19, 20]\n"
     ]
    }
   ],
   "source": [
    "l1 = [1, 2, 3, 4, 5, 6, 7, 8, 9, 10]\n",
    "l2 = [11, 12, 13, 14, 15, 16, 17, 18, 19, 20]\n",
    "print(\"Modified list - \",l1 + l2)"
   ]
  },
  {
   "cell_type": "markdown",
   "id": "eaffe5db-a82b-45f5-9062-f9343434da16",
   "metadata": {},
   "source": [
    "24. Multiply all elements in a list by 2"
   ]
  },
  {
   "cell_type": "code",
   "execution_count": 71,
   "id": "07bde24b-2df4-445e-81e6-d01a921b7c12",
   "metadata": {},
   "outputs": [
    {
     "name": "stdout",
     "output_type": "stream",
     "text": [
      "New lsit -  [2, 4, 6, 8, 10, 12, 14, 16, 18, 20]\n"
     ]
    }
   ],
   "source": [
    "l1 = [1, 2, 3, 4, 5, 6, 7, 8, 9, 10]\n",
    "l2 = [i*2 for i in l1]\n",
    "print(\"New lsit - \",l2)"
   ]
  },
  {
   "cell_type": "markdown",
   "id": "e1efeda2-227a-4e27-8383-906084e70a61",
   "metadata": {},
   "source": [
    "25. Filter out all even numbers from a list"
   ]
  },
  {
   "cell_type": "code",
   "execution_count": 77,
   "id": "71b85671-9769-4378-aca9-f2e90e8a14a2",
   "metadata": {},
   "outputs": [
    {
     "name": "stdout",
     "output_type": "stream",
     "text": [
      "List with even numbers -  [2, 4, 6, 8, 10]\n"
     ]
    }
   ],
   "source": [
    "l1 = [1, 2, 3, 4, 5, 6, 7, 8, 9, 10]\n",
    "l2 = []\n",
    "for i in l1:\n",
    "    if i%2 == 0 : l2.append(i)\n",
    "print(\"List with even numbers - \",l2)"
   ]
  },
  {
   "cell_type": "markdown",
   "id": "821338d5-4813-48c5-a660-eea63180bb56",
   "metadata": {},
   "source": [
    "26. Convert a list of strings to a list of integers"
   ]
  },
  {
   "cell_type": "code",
   "execution_count": 78,
   "id": "2b097a76-4fa6-4de8-b28a-e63e1b8f6d3f",
   "metadata": {},
   "outputs": [
    {
     "name": "stdout",
     "output_type": "stream",
     "text": [
      "Converted list -  [1, 2, 3, 4, 5, 6, 7, 8, 9, 10]\n"
     ]
    }
   ],
   "source": [
    "l1 = [\"1\", \"2\", \"3\", \"4\", \"5\", \"6\", \"7\", \"8\", \"9\", \"10\"]\n",
    "l2 = [int(i) for i in l1]\n",
    "print(\"Converted list - \",l2)"
   ]
  },
  {
   "cell_type": "markdown",
   "id": "8130bebb-8221-45fb-b3c3-c1dd2f80e302",
   "metadata": {},
   "source": [
    "27. Convert a list of integers to a list of strings"
   ]
  },
  {
   "cell_type": "code",
   "execution_count": 79,
   "id": "d8e72ded-9c62-41fc-b656-a8d892ea6891",
   "metadata": {},
   "outputs": [
    {
     "name": "stdout",
     "output_type": "stream",
     "text": [
      "Converted list -  ['1', '2', '3', '4', '5', '6', '7', '8', '9', '10']\n"
     ]
    }
   ],
   "source": [
    "l1 = [1, 2, 3, 4, 5, 6, 7, 8, 9, 10]\n",
    "l2 = [str(i) for i in l1]\n",
    "print(\"Converted list - \",l2)"
   ]
  },
  {
   "cell_type": "markdown",
   "id": "7ebc946d-3bcf-4237-a668-38c598c87f2e",
   "metadata": {},
   "source": [
    "28. Flatten a nested list"
   ]
  },
  {
   "cell_type": "code",
   "execution_count": 81,
   "id": "c8e3fddc-641f-4508-a38a-54dd9a05b63e",
   "metadata": {},
   "outputs": [
    {
     "name": "stdout",
     "output_type": "stream",
     "text": [
      "New list -  [1, 2, 3, 4, 5, 6, 7, 8, 9]\n"
     ]
    }
   ],
   "source": [
    "l = [[1, 2, 3], [4, 5], [6, 7, 8, 9]]\n",
    "l1 = []\n",
    "for i in l : l1.extend(i)\n",
    "print(\"New list - \",l1)"
   ]
  },
  {
   "cell_type": "markdown",
   "id": "eb488f80-badd-470f-b35d-bb1b165fea51",
   "metadata": {},
   "source": [
    "29. Create a list of the first 10 Fibonacci numbers"
   ]
  },
  {
   "cell_type": "code",
   "execution_count": 37,
   "id": "6123e884-e396-485c-8bfa-61726eec3b5d",
   "metadata": {},
   "outputs": [
    {
     "name": "stdout",
     "output_type": "stream",
     "text": [
      "List with fibonacci numbers -  [0, 1, 1, 2, 3, 5, 8, 13, 21, 34]\n"
     ]
    }
   ],
   "source": [
    "l=[]\n",
    "for i in range(0,10):\n",
    "    if i == 0 or i==1 :\n",
    "        l.append(i)\n",
    "        continue\n",
    "    add=l[i-1]+l[i-2]\n",
    "    l.append(add)\n",
    "print(\"List with fibonacci numbers - \",l)"
   ]
  },
  {
   "cell_type": "markdown",
   "id": "a4ed5cac-e74a-4790-8fc3-502d663a620d",
   "metadata": {},
   "source": [
    "30. Check if a list is sorted"
   ]
  },
  {
   "cell_type": "code",
   "execution_count": 9,
   "id": "5987e621-b363-49c2-84be-1c34189ef87e",
   "metadata": {},
   "outputs": [
    {
     "name": "stdout",
     "output_type": "stream",
     "text": [
      "Yes, list is sorted\n"
     ]
    }
   ],
   "source": [
    "l1 = [1, 2, 3, 4, 5, 6, 7, 8, 9, 10]\n",
    "l2 = sorted(l1)\n",
    "if l1 == l2 : print(\"Yes, list is sorted\")\n",
    "else : print(\"No, list is not sorted\")"
   ]
  },
  {
   "cell_type": "markdown",
   "id": "689bda6a-49b2-45e0-9a68-f3ee410431dd",
   "metadata": {},
   "source": [
    "31. Rotate a list to the left by `n` positions"
   ]
  },
  {
   "cell_type": "code",
   "execution_count": 10,
   "id": "d3fa52cf-7e0b-401c-92fd-ba9de024fa84",
   "metadata": {},
   "outputs": [
    {
     "name": "stdin",
     "output_type": "stream",
     "text": [
      "Enter n position -  4\n"
     ]
    },
    {
     "name": "stdout",
     "output_type": "stream",
     "text": [
      "Rotated list -  [5, 6, 7, 8, 9, 10, 1, 2, 3, 4]\n"
     ]
    }
   ],
   "source": [
    "l = [1, 2, 3, 4, 5, 6, 7, 8, 9, 10]\n",
    "n = int(input(\"Enter n position - \"))\n",
    "l1 = l[n:] + l[:n]\n",
    "print(\"Rotated list to the left - \",l1)"
   ]
  },
  {
   "cell_type": "markdown",
   "id": "de8d329c-569a-4944-b6e1-0066de0aa8a7",
   "metadata": {},
   "source": [
    "32. Rotate a list to the right by `n` positions"
   ]
  },
  {
   "cell_type": "code",
   "execution_count": 1,
   "id": "cb8cea1d-105a-4489-bb56-671eeb32dc09",
   "metadata": {},
   "outputs": [
    {
     "name": "stdin",
     "output_type": "stream",
     "text": [
      "Enter n position -  4\n"
     ]
    },
    {
     "name": "stdout",
     "output_type": "stream",
     "text": [
      "Rotated list to the right -  [7, 8, 9, 10, 1, 2, 3, 4, 5, 6]\n"
     ]
    }
   ],
   "source": [
    "l = [1, 2, 3, 4, 5, 6, 7, 8, 9, 10]\n",
    "n = int(input(\"Enter n position - \"))\n",
    "l1 = l[-n:] + l[:-n]\n",
    "print(\"Rotated list to the right - \",l1)"
   ]
  },
  {
   "cell_type": "markdown",
   "id": "e06cfac4-0561-4a1d-adf7-86a06c10dc36",
   "metadata": {},
   "source": [
    "33. Create a list of prime numbers up to 50"
   ]
  },
  {
   "cell_type": "code",
   "execution_count": 12,
   "id": "597cfc9d-a6d6-458e-966a-a6d3bfa75647",
   "metadata": {},
   "outputs": [
    {
     "name": "stdout",
     "output_type": "stream",
     "text": [
      "List of prime numbers -  [2, 3, 5, 7, 11, 13, 17, 19, 23, 29, 31, 37, 41, 43, 47]\n"
     ]
    }
   ],
   "source": [
    "l = [] \n",
    "for num in range(2,51):\n",
    "    ct = 0\n",
    "    for i in range(1,51):\n",
    "        if num >= i :\n",
    "            if num % i == 0 : ct += 1\n",
    "    \n",
    "    if ct == 2 : l.append(num)\n",
    "print(\"List of prime numbers - \",l)"
   ]
  },
  {
   "cell_type": "markdown",
   "id": "d7f68d69-0ab5-45fe-8f81-22d65a7c076f",
   "metadata": {},
   "source": [
    "34. Split a list into chunks of size `n`"
   ]
  },
  {
   "cell_type": "code",
   "execution_count": 24,
   "id": "5b28809a-e7f2-48be-a429-7fde493b41c2",
   "metadata": {},
   "outputs": [
    {
     "name": "stdin",
     "output_type": "stream",
     "text": [
      "Enter the chunk size (n) -  4\n"
     ]
    },
    {
     "name": "stdout",
     "output_type": "stream",
     "text": [
      "[[1, 2, 3, 4], [5, 6, 7, 8], [9, 10, 11]]\n"
     ]
    }
   ],
   "source": [
    "l = [1, 2, 3, 4, 5, 6, 7, 8, 9, 10, 11]\n",
    "lst_1 = []\n",
    "lst_2 = []\n",
    "n = int(input(\"Enter the chunk size (n) - \"))\n",
    "\n",
    "for i in range(0,len(l),n) :\n",
    "    lst_1 = l[i : i+n]\n",
    "    lst_2.append(lst_1)\n",
    "print(lst_2)"
   ]
  },
  {
   "cell_type": "markdown",
   "id": "f1a7008e-fde0-4c5a-9baa-d248e2f8e451",
   "metadata": {},
   "source": [
    "35. Find the second largest number in a list"
   ]
  },
  {
   "cell_type": "code",
   "execution_count": 22,
   "id": "4492aa28-685d-46dd-86f0-85a2d6f19dde",
   "metadata": {},
   "outputs": [
    {
     "name": "stdout",
     "output_type": "stream",
     "text": [
      "Second largest number in the list -  9\n"
     ]
    }
   ],
   "source": [
    "l = [1, 2, 3, 4, 5, 6, 7, 8, 9, 10]\n",
    "l = sorted(list(set(l)))\n",
    "print(\"Second largest number in the list - \",l[len(l)-2])"
   ]
  },
  {
   "cell_type": "markdown",
   "id": "6b16c695-a3c1-4e88-9de7-a3ff2fdaf31b",
   "metadata": {},
   "source": [
    "36. Replace every element in a list with its square"
   ]
  },
  {
   "cell_type": "code",
   "execution_count": 27,
   "id": "fc5587b5-4021-4cae-9546-dc3f0b31b971",
   "metadata": {},
   "outputs": [
    {
     "name": "stdout",
     "output_type": "stream",
     "text": [
      "New list -  [1, 4, 9, 16, 25, 36, 49, 64, 81, 100]\n"
     ]
    }
   ],
   "source": [
    "l = [1, 2, 3, 4, 5, 6, 7, 8, 9, 10]\n",
    "lst_1 = [i**2 for i in l]\n",
    "print(\"New list - \",lst_1)"
   ]
  },
  {
   "cell_type": "markdown",
   "id": "265a5d34-40b3-4dba-bc67-1cb12b0adc72",
   "metadata": {},
   "source": [
    "37. Convert a list to a dictionary where list elements become keys and their\n",
    "indices become values"
   ]
  },
  {
   "cell_type": "code",
   "execution_count": 28,
   "id": "9d5c067f-74ea-427b-b578-9205ce343b30",
   "metadata": {},
   "outputs": [
    {
     "name": "stdout",
     "output_type": "stream",
     "text": [
      "{10: 0, 20: 1, 30: 2, 40: 3, 50: 4, 60: 5, 70: 6, 80: 7, 90: 8, 100: 9}\n"
     ]
    }
   ],
   "source": [
    "l = [10, 20, 30, 40, 50, 60, 70, 80, 90, 100]\n",
    "d = {i:l.index(i) for i in l}\n",
    "print(d)"
   ]
  },
  {
   "cell_type": "markdown",
   "id": "6ada4f77-2dd6-43f3-ad3d-4d3dbd5dead4",
   "metadata": {},
   "source": [
    "38. Shuffle the elements of a list randomly"
   ]
  },
  {
   "cell_type": "code",
   "execution_count": 31,
   "id": "ccbbfa34-4660-4ae3-b734-2e9084c858f0",
   "metadata": {},
   "outputs": [
    {
     "name": "stdout",
     "output_type": "stream",
     "text": [
      "Shuffled list -  [100, 40, 70, 80, 10, 30, 50, 90, 60, 20]\n"
     ]
    }
   ],
   "source": [
    "import random\n",
    "l = [10, 20, 30, 40, 50, 60, 70, 80, 90, 100]\n",
    "random.shuffle(l)\n",
    "print(\"Shuffled list - \",l)"
   ]
  },
  {
   "cell_type": "markdown",
   "id": "e18820e6-745d-4a18-9e73-60dd009a2cc0",
   "metadata": {},
   "source": [
    "39. Create a list of the first 10 factorial numbers"
   ]
  },
  {
   "cell_type": "code",
   "execution_count": 38,
   "id": "eb222eed-dec1-4148-aaf9-effd2b8c4347",
   "metadata": {},
   "outputs": [
    {
     "name": "stdout",
     "output_type": "stream",
     "text": [
      "List of factorial numbers -  [1, 1, 2, 6, 24, 120, 720, 5040, 40320, 362880]\n"
     ]
    }
   ],
   "source": [
    "def fact(a) :\n",
    "    if a == 1 or a == 0 : return 1\n",
    "    else : return a * fact(a - 1)\n",
    "\n",
    "l = [fact(i) for i in range(10)]\n",
    "print(\"List of factorial numbers - \", l)"
   ]
  },
  {
   "cell_type": "markdown",
   "id": "6a156bc4-6977-46f8-bcc0-96daddd0d186",
   "metadata": {},
   "source": [
    "40. Check if two lists have at least one element in common"
   ]
  },
  {
   "cell_type": "code",
   "execution_count": 39,
   "id": "dac294a4-0269-448f-b4bc-5361ed61414a",
   "metadata": {},
   "outputs": [
    {
     "name": "stdout",
     "output_type": "stream",
     "text": [
      "Yes, common elements exist -  [2, 6, 10]\n"
     ]
    }
   ],
   "source": [
    "l1 = [1, 2, 3, 4, 5, 6, 7, 8, 9, 10]\n",
    "l2 = [10, 11, 2, 13, 14, 15, 6, 17, 18, 19]\n",
    "l3 = sorted(list(set(l1).intersection(l2)))\n",
    "if l3 != [] : print(\"Yes, common elements exist - \",l3)\n",
    "elif l3 == [] : print(\"No, common elements doesn't exist\")"
   ]
  },
  {
   "cell_type": "markdown",
   "id": "5ebd06d5-1602-46b6-864b-0f925d434563",
   "metadata": {},
   "source": [
    "41. Remove all elements from a list"
   ]
  },
  {
   "cell_type": "code",
   "execution_count": 40,
   "id": "5fb2e5b8-db0b-46ad-b87d-3072f156d192",
   "metadata": {},
   "outputs": [
    {
     "name": "stdout",
     "output_type": "stream",
     "text": [
      "None\n"
     ]
    }
   ],
   "source": [
    "l = [1, 2, 3, 4, 5, 6, 7, 8, 9, 10]\n",
    "l.clear()\n",
    "print(l)"
   ]
  },
  {
   "cell_type": "markdown",
   "id": "e04ba538-8854-4825-88cc-32fe85f88664",
   "metadata": {},
   "source": [
    "42. Replace negative numbers in a list with 0"
   ]
  },
  {
   "cell_type": "code",
   "execution_count": 45,
   "id": "37ed8c14-3eb7-4271-bb66-6f4a6a232c75",
   "metadata": {},
   "outputs": [
    {
     "name": "stdout",
     "output_type": "stream",
     "text": [
      "Modified list -  [0, 11, 0, 13, 14, 15, 0, 17, 18, 19]\n"
     ]
    }
   ],
   "source": [
    "l = [-1, 11, -2, 13, 14, 15, -6, 17, 18, 19]\n",
    "for i in range(len(l)) :\n",
    "    if l[i] < 0 :\n",
    "        l[i] = 0\n",
    "print(\"Modified list - \",l)"
   ]
  },
  {
   "cell_type": "markdown",
   "id": "9608fc1f-8766-4f3e-8514-8162d9a23bd1",
   "metadata": {},
   "source": [
    "43. Convert a string into a list of words"
   ]
  },
  {
   "cell_type": "code",
   "execution_count": 46,
   "id": "7c2222e9-3464-44ff-a0b5-00be23fbad99",
   "metadata": {},
   "outputs": [
    {
     "name": "stdout",
     "output_type": "stream",
     "text": [
      "String into list of words -  ['Indian', 'cricket', 'team', 'is', 'the', 'best', 'team', 'in', 'the', 'world']\n"
     ]
    }
   ],
   "source": [
    "string = \"Indian cricket team is the best team in the world\"\n",
    "l = string.split()\n",
    "print(\"String into list of words - \",l)"
   ]
  },
  {
   "cell_type": "markdown",
   "id": "a0299ae3-fa09-471f-9282-72f46da19116",
   "metadata": {},
   "source": [
    "44. Convert a list of words into a string"
   ]
  },
  {
   "cell_type": "code",
   "execution_count": 47,
   "id": "53bdac95-9438-402d-9986-87897ac05681",
   "metadata": {},
   "outputs": [
    {
     "name": "stdout",
     "output_type": "stream",
     "text": [
      "List of words into a string -  Indian cricket team is the best team in the world\n"
     ]
    }
   ],
   "source": [
    "l = ['Indian', 'cricket', 'team', 'is', 'the', 'best', 'team', 'in', 'the', 'world']\n",
    "print(\"List of words into a string - \",\" \".join(l))"
   ]
  },
  {
   "cell_type": "markdown",
   "id": "83bccfa0-cb5d-4dc8-9a8a-9aeb211162be",
   "metadata": {},
   "source": [
    "45. Create a list of the first `n` powers of 2"
   ]
  },
  {
   "cell_type": "code",
   "execution_count": 49,
   "id": "26c4bce2-bec9-4b19-9aa4-32ddadcb27bb",
   "metadata": {},
   "outputs": [
    {
     "name": "stdin",
     "output_type": "stream",
     "text": [
      "Enter the value (n) -  10\n"
     ]
    },
    {
     "name": "stdout",
     "output_type": "stream",
     "text": [
      "List of first 10 powers of 2 -  [1, 2, 4, 8, 16, 32, 64, 128, 256, 512]\n"
     ]
    }
   ],
   "source": [
    "n = int(input(\"Enter the value (n) - \"))\n",
    "l = [2**i for i in range(n)]\n",
    "print(\"List of first\",n,\"powers of 2 - \",l)"
   ]
  },
  {
   "cell_type": "markdown",
   "id": "4114825e-883c-4d4b-80cd-978c1cb501dc",
   "metadata": {},
   "source": [
    "46. Find the longest string in a list of strings"
   ]
  },
  {
   "cell_type": "code",
   "execution_count": 52,
   "id": "16a43998-6acd-4b28-b61d-9da6a78feec8",
   "metadata": {},
   "outputs": [
    {
     "name": "stdout",
     "output_type": "stream",
     "text": [
      "Longest string in a list of strings -  cricket\n"
     ]
    }
   ],
   "source": [
    "l = ['Indian', 'cricket', 'team', 'is', 'the', 'best', 'team', 'in', 'the', 'world']\n",
    "a = \"\"\n",
    "for i in l :\n",
    "    if len(i) > len(a) :\n",
    "        a = i\n",
    "print(\"Longest string in a list of strings - \",a)"
   ]
  },
  {
   "cell_type": "markdown",
   "id": "c653b5e9-bf50-4988-b95e-368cdd7011ee",
   "metadata": {},
   "source": [
    "47. Find the shortest string in a list of strings"
   ]
  },
  {
   "cell_type": "code",
   "execution_count": 56,
   "id": "cc0a4de0-a3e3-47ee-8d5c-9a3fa948de23",
   "metadata": {},
   "outputs": [
    {
     "name": "stdout",
     "output_type": "stream",
     "text": [
      "Shortest string in a list of strings -  is\n"
     ]
    }
   ],
   "source": [
    "l = ['Indian', 'cricket', 'team', 'is', 'the', 'best', 'team', 'in', 'the', 'world']\n",
    "a = l[0]\n",
    "for i in l :\n",
    "    if len(i) < len(a) :\n",
    "        a = i\n",
    "print(\"Shortest string in a list of strings - \",a)"
   ]
  },
  {
   "cell_type": "markdown",
   "id": "5f3e92eb-c34f-40db-81d9-96099caeb439",
   "metadata": {},
   "source": [
    "48. Create a list of the first `n` triangular numbers"
   ]
  },
  {
   "cell_type": "code",
   "execution_count": 57,
   "id": "0cff1656-90ca-40b2-a845-de406d08f6f2",
   "metadata": {},
   "outputs": [
    {
     "name": "stdin",
     "output_type": "stream",
     "text": [
      "Enter the (n) value -  10\n"
     ]
    },
    {
     "name": "stdout",
     "output_type": "stream",
     "text": [
      "List of first 10 triangular numbers -  [1, 3, 6, 10, 15, 21, 28, 36, 45, 55]\n"
     ]
    }
   ],
   "source": [
    "a = int(input(\"Enter the (n) value - \"))\n",
    "l = [i * (i + 1) // 2 for i in range(1, a + 1)]\n",
    "print(\"List of first\",n,\"triangular numbers - \",l)"
   ]
  },
  {
   "cell_type": "markdown",
   "id": "bb366e3b-0d66-4efc-82d0-1ae643ca0ce7",
   "metadata": {},
   "source": [
    "49. Check if a list contains another list as a subsequence"
   ]
  },
  {
   "cell_type": "code",
   "execution_count": 7,
   "id": "52395f94-3719-4284-a0fa-7624f7a96f5a",
   "metadata": {},
   "outputs": [
    {
     "name": "stdout",
     "output_type": "stream",
     "text": [
      "Yes, list contains another list as a subsequence\n"
     ]
    }
   ],
   "source": [
    "l = [1, 2, 3, 4, 5, 6, 7, 8, 9, 10]\n",
    "sub_l = [2, 7, 9]\n",
    "index,ct = 0,0\n",
    "for i in l :\n",
    "    if i == sub_l[index] :\n",
    "        index += 1\n",
    "        if index == len(sub_l) :\n",
    "            ct = 1\n",
    "            break\n",
    "if ct > 0 :\n",
    "    print(\"Yes, list contains another list as a subsequence\")\n",
    "else :\n",
    "    print(\"No, list doesn't contains another list as a subsequence\")"
   ]
  },
  {
   "cell_type": "markdown",
   "id": "383b0bdd-0e0d-47fd-900b-f42a54cda3cd",
   "metadata": {},
   "source": [
    "50. Swap two elements in a list by their indices"
   ]
  },
  {
   "cell_type": "code",
   "execution_count": 66,
   "id": "f18499dd-28e7-4253-b864-39e52768c4ea",
   "metadata": {},
   "outputs": [
    {
     "name": "stdout",
     "output_type": "stream",
     "text": [
      "[1, 2, 3, 4, 5, 6, 7, 8, 9, 10]\n",
      "[0, 11, 22, 33, 44, 55, 66, 77, 88, 99]\n"
     ]
    },
    {
     "name": "stdin",
     "output_type": "stream",
     "text": [
      "Enter the index value from list 1 to swap -  2\n",
      "Enter the index value from list 2 to swap -  3\n"
     ]
    },
    {
     "name": "stdout",
     "output_type": "stream",
     "text": [
      "List after swapping elements -\n",
      " [1, 2, 33, 4, 5, 6, 7, 8, 9, 10] \n",
      " [0, 11, 22, 3, 44, 55, 66, 77, 88, 99]\n"
     ]
    }
   ],
   "source": [
    "l1 = [1,2,3,4,5,6,7,8,9,10]\n",
    "l2 = [0,11,22,33,44,55,66,77,88,99]\n",
    "print(l1)\n",
    "print(l2)\n",
    "a = int(input(\"Enter the index value from list 1 to swap - \"))\n",
    "b = int(input(\"Enter the index value from list 2 to swap - \"))\n",
    "l1[a] , l2[b] = l2[b] , l1[a]\n",
    "print(\"List after swapping elements -\\n\",l1,'\\n',l2)"
   ]
  },
  {
   "cell_type": "markdown",
   "id": "5b8dab62-bdc4-424a-866c-00af92b67f1c",
   "metadata": {},
   "source": [
    "Tuple Based Practice Problem"
   ]
  },
  {
   "cell_type": "markdown",
   "id": "6990023b-779c-4d8b-90de-a1d317e08fe8",
   "metadata": {},
   "source": [
    "1. Create a tuple with integers from 1 to 5"
   ]
  },
  {
   "cell_type": "code",
   "execution_count": 69,
   "id": "2aa462af-7cbc-40d5-8018-5cb6c9dffb7d",
   "metadata": {},
   "outputs": [
    {
     "name": "stdout",
     "output_type": "stream",
     "text": [
      "(1, 2, 3, 4, 5)\n"
     ]
    }
   ],
   "source": [
    "t = (1,2,3,4,5)\n",
    "print(t)"
   ]
  },
  {
   "cell_type": "markdown",
   "id": "55617aa6-50c5-4387-b458-864694b058df",
   "metadata": {},
   "source": [
    "2. Access the third element of a tuple"
   ]
  },
  {
   "cell_type": "code",
   "execution_count": 68,
   "id": "d45c2524-11e0-4298-9e37-53a06c64ab10",
   "metadata": {},
   "outputs": [
    {
     "name": "stdout",
     "output_type": "stream",
     "text": [
      "3\n"
     ]
    }
   ],
   "source": [
    "t = (1,2,3,4,5)\n",
    "print(t[2])"
   ]
  },
  {
   "cell_type": "markdown",
   "id": "58212f54-3e35-48b0-aa10-a2be8192c0e9",
   "metadata": {},
   "source": [
    "3. Find the length of a tuple without using the `len()` function"
   ]
  },
  {
   "cell_type": "code",
   "execution_count": 70,
   "id": "bf9dc5ee-bc7d-41c8-aa8e-82e0d548cff2",
   "metadata": {},
   "outputs": [
    {
     "name": "stdout",
     "output_type": "stream",
     "text": [
      "Length of tuple -  5\n"
     ]
    }
   ],
   "source": [
    "t,ct = (1,2,3,4,5) , 0\n",
    "for i in t : ct += 1\n",
    "print(\"Length of tuple - \",ct)"
   ]
  },
  {
   "cell_type": "markdown",
   "id": "04c04ea4-5de6-4d65-9963-2d2a0677ab17",
   "metadata": {},
   "source": [
    "4. Count the occurrences of an element in a tuple"
   ]
  },
  {
   "cell_type": "code",
   "execution_count": 8,
   "id": "ea9d19a3-bf1d-4756-93e2-5c9a15ae8808",
   "metadata": {},
   "outputs": [
    {
     "name": "stdin",
     "output_type": "stream",
     "text": [
      "Enter element -  3\n"
     ]
    },
    {
     "name": "stdout",
     "output_type": "stream",
     "text": [
      "Number times 3 occured in the tuple -  1\n"
     ]
    }
   ],
   "source": [
    "t = (1,2,3,4,5)\n",
    "a = int(input(\"Enter element - \"))\n",
    "print(\"Number times\",a,\"occured in the tuple - \",t.count(a))"
   ]
  },
  {
   "cell_type": "markdown",
   "id": "f3a638f4-61f7-4dab-bfbb-47cbe0f69f5b",
   "metadata": {},
   "source": [
    "5. Find the index of the first occurrence of an element in a tuple"
   ]
  },
  {
   "cell_type": "code",
   "execution_count": 10,
   "id": "7ffffbd2-1aba-4048-a7c7-4c759f6f29f9",
   "metadata": {},
   "outputs": [
    {
     "name": "stdin",
     "output_type": "stream",
     "text": [
      "Enter element (1-10) -  5\n"
     ]
    },
    {
     "name": "stdout",
     "output_type": "stream",
     "text": [
      "Index of the element -  4\n"
     ]
    }
   ],
   "source": [
    "t = (1,2,3,4,5,6,7,8,9,10)\n",
    "a = int(input(\"Enter element (1-10) - \"))\n",
    "print(\"Index of the element - \",t.index(a))"
   ]
  },
  {
   "cell_type": "markdown",
   "id": "bda8d4cd-44b5-4ab0-91ba-69f521e33b6d",
   "metadata": {},
   "source": [
    "6. Check if an element exists in a tuple"
   ]
  },
  {
   "cell_type": "code",
   "execution_count": 12,
   "id": "b02006eb-d76a-424e-8e1b-9d658a0164b4",
   "metadata": {},
   "outputs": [
    {
     "name": "stdin",
     "output_type": "stream",
     "text": [
      "Enter element -  9\n"
     ]
    },
    {
     "name": "stdout",
     "output_type": "stream",
     "text": [
      "Yes, 9 exist in tuple\n"
     ]
    }
   ],
   "source": [
    "t = (1,2,3,4,5,6,7,8,9,10)\n",
    "a = int(input(\"Enter element - \"))\n",
    "if a in t :\n",
    "    print(\"Yes,\",a,\"exist in tuple\")\n",
    "else :\n",
    "    print(\"No,\",a,\"doesn't exist in tuple\")"
   ]
  },
  {
   "cell_type": "markdown",
   "id": "f0a61a7a-172c-48fe-8d78-c0dd2d74aa33",
   "metadata": {},
   "source": [
    "7. Convert a tuple to a list"
   ]
  },
  {
   "cell_type": "code",
   "execution_count": 14,
   "id": "56c9cee7-fa61-4dfd-8315-8f65f72a0718",
   "metadata": {},
   "outputs": [
    {
     "name": "stdout",
     "output_type": "stream",
     "text": [
      "List -  [1, 2, 3, 4, 5, 6, 7, 8, 9, 10]\n"
     ]
    }
   ],
   "source": [
    "t = (1,2,3,4,5,6,7,8,9,10)\n",
    "l = sorted(list(t))\n",
    "print(\"List - \",l)"
   ]
  },
  {
   "cell_type": "markdown",
   "id": "4c095644-8367-4d9e-823c-41d089e15a65",
   "metadata": {},
   "source": [
    "8. Convert a list to a tuple"
   ]
  },
  {
   "cell_type": "code",
   "execution_count": 21,
   "id": "383d7e76-2f1a-4804-beb0-e5431ef2be64",
   "metadata": {},
   "outputs": [
    {
     "name": "stdout",
     "output_type": "stream",
     "text": [
      "Tuple -  (1, 2, 3, 4, 5, 6, 7, 8, 9, 10)\n"
     ]
    }
   ],
   "source": [
    "l = [1, 2, 3, 4, 5, 6, 7, 8, 9, 10]\n",
    "t = tuple(l)\n",
    "print(\"Tuple - \",t)"
   ]
  },
  {
   "cell_type": "markdown",
   "id": "e33abf9b-3b03-4687-84fa-2c25f359b523",
   "metadata": {},
   "source": [
    "9. Unpack the elements of a tuple into variables"
   ]
  },
  {
   "cell_type": "code",
   "execution_count": 22,
   "id": "36ed69b8-7b0f-4974-81ab-c71f37cf719d",
   "metadata": {},
   "outputs": [
    {
     "name": "stdout",
     "output_type": "stream",
     "text": [
      "a -  1\n",
      "b -  2\n",
      "c -  3\n",
      "d -  4\n",
      "e -  5\n"
     ]
    }
   ],
   "source": [
    "t = (1,2,3,4,5)\n",
    "a,b,c,d,e = t\n",
    "print(\"a - \",a)\n",
    "print(\"b - \",b)\n",
    "print(\"c - \",c)\n",
    "print(\"d - \",d)\n",
    "print(\"e - \",e)"
   ]
  },
  {
   "cell_type": "markdown",
   "id": "e8174e1c-855b-4c3d-ac44-bef3ed9d4fd2",
   "metadata": {},
   "source": [
    "10. Create a tuple of even numbers from 1 to 10"
   ]
  },
  {
   "cell_type": "code",
   "execution_count": 24,
   "id": "e91a2a3b-1bc8-4fb3-9295-576c5a00b0cb",
   "metadata": {},
   "outputs": [
    {
     "name": "stdout",
     "output_type": "stream",
     "text": [
      "Tuple of even numbers -  (2, 4, 6, 8, 10)\n"
     ]
    }
   ],
   "source": [
    "l = [i for i in range(1,11) if i%2 == 0]\n",
    "print(\"Tuple of even numbers - \",tuple(l))"
   ]
  },
  {
   "cell_type": "markdown",
   "id": "d2b7a440-91fa-401f-88b5-c9d9ca166a75",
   "metadata": {},
   "source": [
    "11. Create a tuple of odd numbers from 1 to 10"
   ]
  },
  {
   "cell_type": "code",
   "execution_count": 25,
   "id": "31ad55ad-2d82-4851-b444-4a6060cb50d0",
   "metadata": {},
   "outputs": [
    {
     "name": "stdout",
     "output_type": "stream",
     "text": [
      "Tuple of even numbers -  (1, 3, 5, 7, 9)\n"
     ]
    }
   ],
   "source": [
    "l = [i for i in range(1,11) if i%2 != 0]\n",
    "print(\"Tuple of even numbers - \",tuple(l))"
   ]
  },
  {
   "cell_type": "markdown",
   "id": "2f61081d-77e3-4f26-a4b2-388cddda1c9f",
   "metadata": {},
   "source": [
    "12. Concatenate two tuples"
   ]
  },
  {
   "cell_type": "code",
   "execution_count": 26,
   "id": "ffef2c3d-fccb-4446-afa7-ef045ea3761c",
   "metadata": {},
   "outputs": [
    {
     "name": "stdout",
     "output_type": "stream",
     "text": [
      "Concatenation of two tuples -  (1, 2, 3, 4, 5, 6, 7, 8, 9, 10)\n"
     ]
    }
   ],
   "source": [
    "t1 = (1,2,3,4,5)\n",
    "t2 = (6,7,8,9,10)\n",
    "print(\"Concatenation of two tuples - \",t1 + t2)"
   ]
  },
  {
   "cell_type": "markdown",
   "id": "098a74a4-1812-435f-bdac-0f20952feefc",
   "metadata": {},
   "source": [
    "13. Repeat a tuple three times"
   ]
  },
  {
   "cell_type": "code",
   "execution_count": 27,
   "id": "944d4d72-18a9-4807-a4f8-157f0c06be5f",
   "metadata": {},
   "outputs": [
    {
     "name": "stdout",
     "output_type": "stream",
     "text": [
      "Repeating tuple 3 times -  (1, 2, 3, 4, 5, 1, 2, 3, 4, 5, 1, 2, 3, 4, 5)\n"
     ]
    }
   ],
   "source": [
    "t = (1,2,3,4,5)\n",
    "print(\"Repeating tuple 3 times - \",t*3)"
   ]
  },
  {
   "cell_type": "markdown",
   "id": "6ff8c20a-df9f-4835-a4f6-5f6f3ff3064e",
   "metadata": {},
   "source": [
    "14. Check if a tuple is empty"
   ]
  },
  {
   "cell_type": "code",
   "execution_count": 28,
   "id": "4a5eebcc-0f6b-4308-bbc4-f62df00a3af5",
   "metadata": {},
   "outputs": [
    {
     "name": "stdout",
     "output_type": "stream",
     "text": [
      "No, tuple is not empty\n"
     ]
    }
   ],
   "source": [
    "t = (1,2,3,4,5)\n",
    "if t == ():\n",
    "    print(\"Yes, tuple is empty\")\n",
    "else :\n",
    "    print(\"No, tuple is not empty\")"
   ]
  },
  {
   "cell_type": "markdown",
   "id": "7afeaa1b-cb69-404d-ad20-0a09ab3df700",
   "metadata": {},
   "source": [
    "15. Create a nested tuple"
   ]
  },
  {
   "cell_type": "code",
   "execution_count": 30,
   "id": "46b02e37-0e26-4d3a-80e5-632f48f83d6b",
   "metadata": {},
   "outputs": [
    {
     "name": "stdout",
     "output_type": "stream",
     "text": [
      "((1, 2, 3, 4, 5), (6, 7, 8, 9, 10), (11, 12, 13, 14, 15))\n"
     ]
    }
   ],
   "source": [
    "t = ((1,2,3,4,5),(6,7,8,9,10),(11,12,13,14,15))\n",
    "print(t)"
   ]
  },
  {
   "cell_type": "markdown",
   "id": "d3f23348-67cb-4a2e-a2b3-17786cc887f5",
   "metadata": {},
   "source": [
    "16. Access the first element of a nested tuple"
   ]
  },
  {
   "cell_type": "code",
   "execution_count": 32,
   "id": "283f7d63-b70f-4de2-9629-0e2479b45e0d",
   "metadata": {},
   "outputs": [
    {
     "name": "stdout",
     "output_type": "stream",
     "text": [
      "(1, 2, 3, 4, 5)\n"
     ]
    }
   ],
   "source": [
    "t = ((1,2,3,4,5),(6,7,8,9,10),(11,12,13,14,15))\n",
    "print(t[0])"
   ]
  },
  {
   "cell_type": "markdown",
   "id": "725b3e9e-903e-4018-9943-bbf1423087cc",
   "metadata": {},
   "source": [
    "17. Create a tuple with a single element"
   ]
  },
  {
   "cell_type": "code",
   "execution_count": 46,
   "id": "7c003dde-c162-4e12-8511-561d00a52342",
   "metadata": {},
   "outputs": [
    {
     "name": "stdout",
     "output_type": "stream",
     "text": [
      "(1,)\n"
     ]
    }
   ],
   "source": [
    "t = (1,)\n",
    "print(t)"
   ]
  },
  {
   "cell_type": "markdown",
   "id": "02340381-0052-460d-a8c0-9efd045d01e3",
   "metadata": {},
   "source": [
    "18. Compare two tuples"
   ]
  },
  {
   "cell_type": "code",
   "execution_count": 43,
   "id": "078d0b84-1ea2-4dc0-92f6-bf67f87223e8",
   "metadata": {},
   "outputs": [
    {
     "name": "stdout",
     "output_type": "stream",
     "text": [
      "t1 = t2 :  False\n",
      "t1 > t2 :  False\n",
      "t1 < t2 :  True\n"
     ]
    }
   ],
   "source": [
    "t1 = (1,2,3,4,5)\n",
    "t2 = (6,7,8,9,10)\n",
    "\n",
    "print(\"t1 = t2 : \",t1==t2)\n",
    "print(\"t1 > t2 : \",t1 > t2)\n",
    "print(\"t1 < t2 : \",t1 < t2)"
   ]
  },
  {
   "cell_type": "markdown",
   "id": "8a34ef3f-2007-4862-ade6-66569835064e",
   "metadata": {},
   "source": [
    "19. Delete a tuple"
   ]
  },
  {
   "cell_type": "code",
   "execution_count": 53,
   "id": "5f3a6003-4617-461c-868c-80f85973cd58",
   "metadata": {},
   "outputs": [],
   "source": [
    "t = (1,2,3,4,5)\n",
    "del(t)"
   ]
  },
  {
   "cell_type": "markdown",
   "id": "38688d1a-ea3a-454c-bba3-e3484b04a9f2",
   "metadata": {},
   "source": [
    "20. Slice a tuple"
   ]
  },
  {
   "cell_type": "code",
   "execution_count": 54,
   "id": "1c3387e4-883e-4b12-b5e6-37bdb68ef4e2",
   "metadata": {},
   "outputs": [
    {
     "name": "stdout",
     "output_type": "stream",
     "text": [
      "Slicing a tuple -  (2, 3, 4, 5, 6)\n"
     ]
    }
   ],
   "source": [
    "t = (1, 2, 3, 4, 5, 6, 7, 8, 9, 10)\n",
    "print(\"Slicing a tuple - \",t[1:6])"
   ]
  },
  {
   "cell_type": "markdown",
   "id": "64aa7799-7a74-485e-9d07-c77d99fe94e2",
   "metadata": {},
   "source": [
    "21. Find the maximum value in a tuple"
   ]
  },
  {
   "cell_type": "code",
   "execution_count": 55,
   "id": "1fc54c54-9599-4e62-8482-b2aa19fc6f30",
   "metadata": {},
   "outputs": [
    {
     "name": "stdout",
     "output_type": "stream",
     "text": [
      "Maximum value in a tuple -  10\n"
     ]
    }
   ],
   "source": [
    "t = (1, 2, 3, 4, 5, 6, 7, 8, 9, 10)\n",
    "print(\"Maximum value in a tuple - \",max(t))"
   ]
  },
  {
   "cell_type": "markdown",
   "id": "57bdab03-5b93-4ab5-9fa1-9957c50818ff",
   "metadata": {},
   "source": [
    "22. Find the minimum value in a tuple"
   ]
  },
  {
   "cell_type": "code",
   "execution_count": 56,
   "id": "6d0ecc91-dfe5-44d9-8e4c-b27873d2b6fa",
   "metadata": {},
   "outputs": [
    {
     "name": "stdout",
     "output_type": "stream",
     "text": [
      "Minimum value in a tuple -  1\n"
     ]
    }
   ],
   "source": [
    "t = (1, 2, 3, 4, 5, 6, 7, 8, 9, 10)\n",
    "print(\"Minimum value in a tuple - \",min(t))"
   ]
  },
  {
   "cell_type": "markdown",
   "id": "5a9fdb15-bb00-4577-8c8c-e9ac1e92aab4",
   "metadata": {},
   "source": [
    "23. Convert a string to a tuple of characters"
   ]
  },
  {
   "cell_type": "code",
   "execution_count": 59,
   "id": "7c927ce8-63a6-42cb-b95a-4fa116552ce1",
   "metadata": {},
   "outputs": [
    {
     "name": "stdout",
     "output_type": "stream",
     "text": [
      "String into tuple of characters -  ('I', 'n', 'd', 'i', 'a', 'n', ' ', 't', 'e', 'a', 'm')\n"
     ]
    }
   ],
   "source": [
    "t = tuple(\"Indian team\")\n",
    "print(\"String into tuple of characters - \",t)"
   ]
  },
  {
   "cell_type": "markdown",
   "id": "21650e54-3ce5-4c52-aae5-943c6dfba3a1",
   "metadata": {},
   "source": [
    "24. Convert a tuple of characters to a string"
   ]
  },
  {
   "cell_type": "code",
   "execution_count": 61,
   "id": "1fb4f334-3c23-447a-9cf7-3dbb1412a128",
   "metadata": {},
   "outputs": [
    {
     "name": "stdout",
     "output_type": "stream",
     "text": [
      "Tuple of characters into tuples -  Indian team\n"
     ]
    }
   ],
   "source": [
    "t = ('I', 'n', 'd', 'i', 'a', 'n', ' ', 't', 'e', 'a', 'm')\n",
    "print(\"Tuple of characters into tuples - \",\"\".join(t))"
   ]
  },
  {
   "cell_type": "markdown",
   "id": "4e8cc26a-34d8-4d4e-8560-ead5c8ff74fc",
   "metadata": {},
   "source": [
    "25. Create a tuple from multiple data types"
   ]
  },
  {
   "cell_type": "code",
   "execution_count": 62,
   "id": "d858f84d-dc2f-41eb-8e98-de9dd4f0f65e",
   "metadata": {},
   "outputs": [
    {
     "name": "stdout",
     "output_type": "stream",
     "text": [
      "(10, 'word', True, 0.5)\n"
     ]
    }
   ],
   "source": [
    "t = (10,\"word\",True,0.5)\n",
    "print(t)"
   ]
  },
  {
   "cell_type": "markdown",
   "id": "bae66c04-b4bb-42d9-843d-a76c747bcd29",
   "metadata": {},
   "source": [
    "26. Check if two tuples are identical"
   ]
  },
  {
   "cell_type": "code",
   "execution_count": 65,
   "id": "5f341ee3-816f-4206-bde5-6537d7c1b37f",
   "metadata": {},
   "outputs": [
    {
     "name": "stdout",
     "output_type": "stream",
     "text": [
      "Yes, the tuples are identical\n"
     ]
    }
   ],
   "source": [
    "t1 = (1,2,3,4,5)\n",
    "t2 = (1,2,3,4,5)\n",
    "if t1 == t2 :\n",
    "    print(\"Yes, the tuples are identical\")\n",
    "else :\n",
    "    print(\"No, the tuples are not identical\")"
   ]
  },
  {
   "cell_type": "markdown",
   "id": "9165da08-0504-4570-9d37-117be9198574",
   "metadata": {},
   "source": [
    "27. Sort the elements of a tuple"
   ]
  },
  {
   "cell_type": "code",
   "execution_count": 69,
   "id": "23fa10c0-4f9b-4bfb-b9a7-c9b139efc464",
   "metadata": {},
   "outputs": [
    {
     "name": "stdout",
     "output_type": "stream",
     "text": [
      "Sorted tuple -  (1, 2, 3, 4, 5)\n"
     ]
    }
   ],
   "source": [
    "t = (3,2,4,1,5)\n",
    "print(\"Sorted tuple - \",tuple(sorted(list(t))))"
   ]
  },
  {
   "cell_type": "markdown",
   "id": "4eabe263-0803-46c8-8ad6-290db20ab1bf",
   "metadata": {},
   "source": [
    "28. Convert a tuple of integers to a tuple of strings"
   ]
  },
  {
   "cell_type": "code",
   "execution_count": 73,
   "id": "20d54d90-dee3-4298-af1f-fdc8f6c91aab",
   "metadata": {},
   "outputs": [
    {
     "name": "stdout",
     "output_type": "stream",
     "text": [
      "Tuple of stings -  ('1', '2', '3', '4', '5')\n"
     ]
    }
   ],
   "source": [
    "t = (1,2,3,4,5)\n",
    "t = tuple(str(i) for i in t)\n",
    "print(\"Tuple of stings - \",t)"
   ]
  },
  {
   "cell_type": "markdown",
   "id": "1ccf42dc-0edd-413d-a8d0-6fed535e3c91",
   "metadata": {},
   "source": [
    "29. Convert a tuple of strings to a tuple of integers"
   ]
  },
  {
   "cell_type": "code",
   "execution_count": 74,
   "id": "9fba4de7-4309-4da6-9302-38e44295629f",
   "metadata": {},
   "outputs": [
    {
     "name": "stdout",
     "output_type": "stream",
     "text": [
      "Tuple of stings -  (1, 2, 3, 4, 5)\n"
     ]
    }
   ],
   "source": [
    "t = ('1', '2', '3', '4', '5')\n",
    "t = tuple(int(i) for i in t)\n",
    "print(\"Tuple of stings - \",t)"
   ]
  },
  {
   "cell_type": "markdown",
   "id": "8bdfb3cf-b6ab-4fce-b231-47f17def5794",
   "metadata": {},
   "source": [
    "30. Merge two tuples"
   ]
  },
  {
   "cell_type": "code",
   "execution_count": 75,
   "id": "65a4d564-02a9-4953-8f8c-0c18d2edc294",
   "metadata": {},
   "outputs": [
    {
     "name": "stdout",
     "output_type": "stream",
     "text": [
      "Merging two tuples -  (1, 2, 3, 4, 5, 6, 7, 8, 9, 10)\n"
     ]
    }
   ],
   "source": [
    "t1 = (1,2,3,4,5)\n",
    "t2 = (6,7,8,9,10)\n",
    "print(\"Merging two tuples - \",t1 + t2)"
   ]
  },
  {
   "cell_type": "markdown",
   "id": "4e1ddb99-80e2-4d53-97c1-3af41cddced2",
   "metadata": {},
   "source": [
    "31. Flatten a nested tuple"
   ]
  },
  {
   "cell_type": "code",
   "execution_count": 77,
   "id": "2127a4c5-27bf-49c8-8a03-e64a1af745cf",
   "metadata": {},
   "outputs": [
    {
     "name": "stdout",
     "output_type": "stream",
     "text": [
      "New tuple -  (1, 2, 3, 4, 5, 6, 7, 8, 9, 10, 11, 12, 13, 14, 15)\n"
     ]
    }
   ],
   "source": [
    "t = ((1, 2, 3, 4, 5), (6, 7, 8, 9, 10), (11, 12, 13, 14, 15))\n",
    "l = []\n",
    "for i in t :\n",
    "    for j in i :\n",
    "        l.append(j)\n",
    "l.sort()\n",
    "print(\"New tuple - \",tuple(l))"
   ]
  },
  {
   "cell_type": "markdown",
   "id": "a4f59802-fc1f-48a4-b36e-5d87d869429b",
   "metadata": {},
   "source": [
    "32. Create a tuple of the first 5 prime numbers"
   ]
  },
  {
   "cell_type": "code",
   "execution_count": 85,
   "id": "66e81e1a-1f32-4d04-a2c3-205a759d794f",
   "metadata": {},
   "outputs": [
    {
     "name": "stdout",
     "output_type": "stream",
     "text": [
      "List of prime numbers -  (2, 3, 5, 7, 11)\n"
     ]
    }
   ],
   "source": [
    "l = [] \n",
    "for num in range(2,20):\n",
    "    ct = 0\n",
    "    if len(l) <= 4 :\n",
    "        for i in range(1,20):\n",
    "            if num >= i :\n",
    "                if num % i == 0 : ct += 1\n",
    "\n",
    "        if ct == 2 : l.append(num)\n",
    "print(\"List of prime numbers - \",tuple(l))"
   ]
  },
  {
   "cell_type": "markdown",
   "id": "1690e33c-02f5-406f-8538-74cad8002294",
   "metadata": {},
   "source": [
    "33. Check if a tuple is a palindrome"
   ]
  },
  {
   "cell_type": "code",
   "execution_count": 6,
   "id": "c7b03b94-a4b6-4a76-b625-9bd6b40ef1a1",
   "metadata": {},
   "outputs": [
    {
     "name": "stdout",
     "output_type": "stream",
     "text": [
      "Tuple is not pallindrome\n"
     ]
    }
   ],
   "source": [
    "t1 = (1, 2, 3, 4, 5, 6, 7, 8, 9, 10)\n",
    "t2 = t1[len(t1)-1 : : -1]\n",
    "if t1 == t2 :\n",
    "    print(\"Tuple is pallindrome\")\n",
    "else :\n",
    "    print(\"Tuple is not pallindrome\")"
   ]
  },
  {
   "cell_type": "markdown",
   "id": "829e4d96-e41d-4f92-b932-386fc3c4e9f1",
   "metadata": {},
   "source": [
    "34. Create a tuple of squares of numbers from 1 to 5"
   ]
  },
  {
   "cell_type": "code",
   "execution_count": 11,
   "id": "2794a0e2-2be4-4308-9a4f-fea39077d82d",
   "metadata": {},
   "outputs": [
    {
     "name": "stdout",
     "output_type": "stream",
     "text": [
      "Tuple of square of numbers -  (1, 4, 9, 16, 25)\n"
     ]
    }
   ],
   "source": [
    "t = (1, 2, 3, 4, 5)\n",
    "tup = tuple(i**2 for i in t)\n",
    "print(\"Tuple of square of numbers - \",tup)"
   ]
  },
  {
   "cell_type": "markdown",
   "id": "044c87ff-225c-4239-82b8-4ccb015ef74d",
   "metadata": {},
   "source": [
    "35. Filter out all even numbers from a tuple"
   ]
  },
  {
   "cell_type": "code",
   "execution_count": 12,
   "id": "8aed7831-95dc-4cbd-beec-24bdfd6c20e2",
   "metadata": {},
   "outputs": [
    {
     "name": "stdout",
     "output_type": "stream",
     "text": [
      "Tuple of square of numbers -  (1, 3, 5, 7, 9)\n"
     ]
    }
   ],
   "source": [
    "t = (1, 2, 3, 4, 5, 6, 7, 8, 9, 10)\n",
    "tup = tuple(i for i in t if i%2 != 0)\n",
    "print(\"Tuple of square of numbers - \",tup)"
   ]
  },
  {
   "cell_type": "markdown",
   "id": "8ca35b42-c4f8-4eeb-a674-a4e4c66ab6b5",
   "metadata": {},
   "source": [
    "36. Multiply all elements in a tuple by 2"
   ]
  },
  {
   "cell_type": "code",
   "execution_count": 14,
   "id": "9fabd4c2-fcfe-425f-b296-c670c65f9ff7",
   "metadata": {},
   "outputs": [
    {
     "name": "stdout",
     "output_type": "stream",
     "text": [
      "Modified tuple -  (2, 4, 6, 8, 10, 12, 14, 16, 18, 20)\n"
     ]
    }
   ],
   "source": [
    "t = (1, 2, 3, 4, 5, 6, 7, 8, 9, 10)\n",
    "tup = tuple(i*2 for i in t)\n",
    "print(\"Modified tuple - \",tup)"
   ]
  },
  {
   "cell_type": "markdown",
   "id": "72dd9312-1641-43cb-967b-872fcededc6a",
   "metadata": {},
   "source": [
    "37. Create a tuple of random numbers"
   ]
  },
  {
   "cell_type": "code",
   "execution_count": 17,
   "id": "3d724a1f-a784-4f73-a84b-adadef1fac16",
   "metadata": {},
   "outputs": [
    {
     "name": "stdout",
     "output_type": "stream",
     "text": [
      "Tuple with random numbers -  (64, 73, 87, 24, 76, 46, 42, 95, 72, 82)\n"
     ]
    }
   ],
   "source": [
    "import random\n",
    "t = tuple(random.randint(1,100) for i in range(10))\n",
    "print(\"Tuple with random numbers - \",t)"
   ]
  },
  {
   "cell_type": "markdown",
   "id": "33a405db-ea1c-4450-b9df-834a4a167a04",
   "metadata": {},
   "source": [
    "38. Check if a tuple is sorted"
   ]
  },
  {
   "cell_type": "code",
   "execution_count": 19,
   "id": "9560a886-1ff6-40d5-b7db-9d9e9b40b9b8",
   "metadata": {},
   "outputs": [
    {
     "name": "stdout",
     "output_type": "stream",
     "text": [
      "Tuple is not sorted\n"
     ]
    }
   ],
   "source": [
    "t = (64, 73, 87, 24, 76, 46, 42, 95, 72, 82)\n",
    "tup = tuple(sorted(list(t)))\n",
    "if t == tup :\n",
    "    print(\"Tuple is sorted\")\n",
    "else :\n",
    "    print(\"Tuple is not sorted\")"
   ]
  },
  {
   "cell_type": "markdown",
   "id": "5c62f44d-9ad0-4d2f-806a-2be8bba069b9",
   "metadata": {},
   "source": [
    "39. Rotate a tuple to the left by `n` positions"
   ]
  },
  {
   "cell_type": "code",
   "execution_count": 1,
   "id": "7aae3b68-b39e-40a0-8686-4c78c6e0c131",
   "metadata": {},
   "outputs": [
    {
     "name": "stdin",
     "output_type": "stream",
     "text": [
      "Enter n value -  4\n"
     ]
    },
    {
     "name": "stdout",
     "output_type": "stream",
     "text": [
      "Rotated tuple -  (5, 6, 7, 8, 9, 10, 1, 2, 3, 4)\n"
     ]
    }
   ],
   "source": [
    "t = (1, 2, 3, 4, 5, 6, 7, 8, 9, 10)\n",
    "n = int(input(\"Enter n value - \"))\n",
    "tup = tuple(t[n:] + t[:n])\n",
    "print(\"Rotated tuple - \",tup)"
   ]
  },
  {
   "cell_type": "markdown",
   "id": "cf743d6a-e5e1-4951-9106-55789181e08b",
   "metadata": {},
   "source": [
    "40. Rotate a tuple to the right by `n` positions"
   ]
  },
  {
   "cell_type": "code",
   "execution_count": 4,
   "id": "9f995af7-e69b-4e4b-b1a8-fb14242f6b8a",
   "metadata": {},
   "outputs": [
    {
     "name": "stdin",
     "output_type": "stream",
     "text": [
      "Enter n value -  4\n"
     ]
    },
    {
     "name": "stdout",
     "output_type": "stream",
     "text": [
      "Rotated tuple -  (7, 8, 9, 10, 1, 2, 3, 4, 5, 6)\n"
     ]
    }
   ],
   "source": [
    "t = (1, 2, 3, 4, 5, 6, 7, 8, 9, 10)\n",
    "n = int(input(\"Enter n value - \"))\n",
    "tup = tuple(t[-n:] + t[:-n])\n",
    "print(\"Rotated tuple - \",tup)"
   ]
  },
  {
   "cell_type": "markdown",
   "id": "ee62118b-de31-4bfe-b0e3-30cc5db9e612",
   "metadata": {},
   "source": [
    "41. Create a tuple of the first 5 Fibonacci numbers"
   ]
  },
  {
   "cell_type": "code",
   "execution_count": 8,
   "id": "4f7ac420-c3e4-4166-b18c-18c4ddb184f7",
   "metadata": {},
   "outputs": [
    {
     "name": "stdout",
     "output_type": "stream",
     "text": [
      "List with fibonacci numbers -  (0, 1, 1, 2, 3)\n"
     ]
    }
   ],
   "source": [
    "l=[]\n",
    "for i in range(0,10):\n",
    "    if len(l) <= 4 :\n",
    "        if i == 0 or i==1 :\n",
    "            l.append(i)\n",
    "            continue\n",
    "        add=l[i-1]+l[i-2]\n",
    "        l.append(add)\n",
    "print(\"List with fibonacci numbers - \",tuple(l))"
   ]
  },
  {
   "cell_type": "markdown",
   "id": "23875282-111d-48c1-b639-51da6b7499d4",
   "metadata": {},
   "source": [
    "42. Create a tuple from user input"
   ]
  },
  {
   "cell_type": "code",
   "execution_count": 18,
   "id": "72350a30-c9ea-46cd-b6f6-8f8f9e9e41e5",
   "metadata": {},
   "outputs": [
    {
     "name": "stdin",
     "output_type": "stream",
     "text": [
      "User input -  hey there I'm using whatsapp\n"
     ]
    },
    {
     "name": "stdout",
     "output_type": "stream",
     "text": [
      "Tuple from user input -  ('hey', 'there', \"I'm\", 'using', 'whatsapp')\n"
     ]
    }
   ],
   "source": [
    "print(\"Tuple from user input - \",tuple(str(input(\"User input - \")).split()))"
   ]
  },
  {
   "cell_type": "markdown",
   "id": "111fbf52-6c92-4cab-a3f6-afa1307ed6fa",
   "metadata": {},
   "source": [
    "43. Swap two elements in a tuple"
   ]
  },
  {
   "cell_type": "code",
   "execution_count": 7,
   "id": "31a9a1b3-9b93-4a87-8e21-00110480ebd6",
   "metadata": {},
   "outputs": [
    {
     "name": "stdout",
     "output_type": "stream",
     "text": [
      "Tuple with swapped elements -  (1, 3, 2, 4, 5)\n"
     ]
    }
   ],
   "source": [
    "t = (1, 2, 3, 4, 5)\n",
    "l = list(t)\n",
    "l[1],l[2]=l[2],l[1]\n",
    "print(\"Tuple with swapped elements - \",tuple(l))"
   ]
  },
  {
   "cell_type": "markdown",
   "id": "3e10f3bf-8401-45cc-b8a8-3437ca176cb0",
   "metadata": {},
   "source": [
    "44. Reverse the elements of a tuple"
   ]
  },
  {
   "cell_type": "code",
   "execution_count": 8,
   "id": "ed2f240a-dc1f-40f7-8c4a-554a618fbaf6",
   "metadata": {},
   "outputs": [
    {
     "name": "stdout",
     "output_type": "stream",
     "text": [
      "Reverse tuple -  (5, 4, 3, 2, 1)\n"
     ]
    }
   ],
   "source": [
    "t = (1, 2, 3, 4, 5)\n",
    "print(\"Reverse tuple - \",t[len(t)-1 : : -1])"
   ]
  },
  {
   "cell_type": "markdown",
   "id": "49ed2cbb-f2df-4124-bc34-19fa2b286057",
   "metadata": {},
   "source": [
    "45. Create a tuple of the first `n` powers of 2"
   ]
  },
  {
   "cell_type": "code",
   "execution_count": 11,
   "id": "21c03745-2f7e-4771-bea4-3a6db21b4dd2",
   "metadata": {},
   "outputs": [
    {
     "name": "stdin",
     "output_type": "stream",
     "text": [
      "Enter n value -  5\n"
     ]
    },
    {
     "name": "stdout",
     "output_type": "stream",
     "text": [
      "Tuple of the first n powers of 2 -  (1, 2, 4, 8, 16)\n"
     ]
    }
   ],
   "source": [
    "n = int(input(\"Enter n value - \"))\n",
    "t = tuple(2**i for i in range(n))\n",
    "print(\"Tuple of the first n powers of 2 - \",t)"
   ]
  },
  {
   "cell_type": "markdown",
   "id": "9ffca2ec-3a98-47c9-a14b-c96b3ba18d4a",
   "metadata": {},
   "source": [
    "46. Find the longest string in a tuple of strings"
   ]
  },
  {
   "cell_type": "code",
   "execution_count": 2,
   "id": "f9b5512b-416f-40b4-838a-489ce61498dd",
   "metadata": {},
   "outputs": [
    {
     "name": "stdout",
     "output_type": "stream",
     "text": [
      "Longest string in the tuple -  capital\n"
     ]
    }
   ],
   "source": [
    "t = ('New', 'delhi', 'is', 'the', 'capital', 'of', 'India')\n",
    "a = t[0]\n",
    "for i in t:\n",
    "    if len(i) > len(a):\n",
    "        a = i\n",
    "print(\"Longest string in the tuple - \",a)"
   ]
  },
  {
   "cell_type": "markdown",
   "id": "1fe9550c-62f2-4c71-ba82-1ab990fcb6fc",
   "metadata": {},
   "source": [
    "47. Find the shortest string in a tuple of strings"
   ]
  },
  {
   "cell_type": "code",
   "execution_count": 4,
   "id": "4b089218-c7c8-4781-b7fc-94075943a98e",
   "metadata": {},
   "outputs": [
    {
     "name": "stdout",
     "output_type": "stream",
     "text": [
      "Shortest string in the tuple -  is\n"
     ]
    }
   ],
   "source": [
    "t = ('New', 'delhi', 'is', 'the', 'capital', 'of', 'India')\n",
    "a = t[0]\n",
    "for i in t:\n",
    "    if len(i) < len(a):\n",
    "        a = i\n",
    "print(\"Shortest string in the tuple - \",a)"
   ]
  },
  {
   "cell_type": "markdown",
   "id": "6ae95469-53a8-4c35-805c-10e9ffd438dd",
   "metadata": {},
   "source": [
    "48. Create a tuple of the first `n` triangular numbers"
   ]
  },
  {
   "cell_type": "code",
   "execution_count": 1,
   "id": "8f31abf9-fe56-424e-8eb9-f414b6741fee",
   "metadata": {},
   "outputs": [
    {
     "name": "stdin",
     "output_type": "stream",
     "text": [
      "Enter n value -  5\n"
     ]
    },
    {
     "name": "stdout",
     "output_type": "stream",
     "text": [
      "Tuple of the first 5 triangular numbers -  (1, 3, 6, 10, 15)\n"
     ]
    }
   ],
   "source": [
    "n = int(input(\"Enter n value - \"))\n",
    "t = tuple((i * (i + 1)) // 2 for i in range(1, n + 1))\n",
    "print(\"Tuple of the first\",n,\"triangular numbers - \",t)"
   ]
  },
  {
   "cell_type": "markdown",
   "id": "be30c56f-8efb-4ab6-8422-91796da55f23",
   "metadata": {},
   "source": [
    "49. Check if a tuple contains another tuple as a subsequence"
   ]
  },
  {
   "cell_type": "code",
   "execution_count": 9,
   "id": "fa66ad55-89fc-4d7f-a3e9-5da9cc16f49e",
   "metadata": {},
   "outputs": [
    {
     "name": "stdout",
     "output_type": "stream",
     "text": [
      "Yes, list contains another list as a subsequence\n"
     ]
    }
   ],
   "source": [
    "t= (1, 2, 3, 4, 5, 6, 7, 8, 9, 10)\n",
    "sub_t = (5,6,8)\n",
    "index,ct = 0,0\n",
    "for i in t:\n",
    "    if i == sub_t[index] :\n",
    "        index += 1\n",
    "        if index == len(sub_t) :\n",
    "            ct = 1\n",
    "            break\n",
    "if ct > 0 :\n",
    "    print(\"Yes, tuple contains another tuple as a subsequence\")\n",
    "else :\n",
    "    print(\"No, tuple doesn't contains another tuple as a subsequence\")"
   ]
  },
  {
   "cell_type": "markdown",
   "id": "31750155-04e0-48f0-8b1b-7fb9b176de72",
   "metadata": {},
   "source": [
    "50. Create a tuple of alternating 1s and 0s of length `n`"
   ]
  },
  {
   "cell_type": "code",
   "execution_count": 15,
   "id": "f01333fd-0abf-495b-ad3f-0d7f8c2cc116",
   "metadata": {},
   "outputs": [
    {
     "name": "stdin",
     "output_type": "stream",
     "text": [
      "Enter n value -  10\n"
     ]
    },
    {
     "name": "stdout",
     "output_type": "stream",
     "text": [
      "Tuple of alternating 1s and 0s of 10 length -  (0, 1, 0, 1, 0, 1, 0, 1, 0, 1)\n"
     ]
    }
   ],
   "source": [
    "n = int(input(\"Enter n value - \"))\n",
    "t = tuple((i % 2 for i in range(n)))\n",
    "print(\"Tuple of alternating 1s and 0s of\",n,\"length - \",t)"
   ]
  },
  {
   "cell_type": "code",
   "execution_count": null,
   "id": "ca90bcc6-0ef9-4514-b1e8-ef229972bea2",
   "metadata": {},
   "outputs": [],
   "source": []
  },
  {
   "cell_type": "markdown",
   "id": "d6692c4b-daa6-4ddb-8399-1f8c43133352",
   "metadata": {},
   "source": [
    "Set Based Practice Problem"
   ]
  },
  {
   "cell_type": "markdown",
   "id": "6c165451-e72a-4ece-b5e0-e0bc109d99e6",
   "metadata": {},
   "source": [
    "1. Create a set with integers from 1 to 5"
   ]
  },
  {
   "cell_type": "code",
   "execution_count": 13,
   "id": "7f35aa66-9f2c-44f3-92bc-f8d8371cd231",
   "metadata": {},
   "outputs": [
    {
     "name": "stdout",
     "output_type": "stream",
     "text": [
      "Set -  {1, 2, 3, 4, 5}\n"
     ]
    }
   ],
   "source": [
    "s = {1,2,3,4,5}\n",
    "print(\"Set - \",s)"
   ]
  },
  {
   "cell_type": "markdown",
   "id": "b377e44e-ef47-4f48-96a5-8ffc33459e2f",
   "metadata": {},
   "source": [
    "2. Add an element to a set"
   ]
  },
  {
   "cell_type": "code",
   "execution_count": 15,
   "id": "ae60ca82-ab89-4385-82e4-122556f986f4",
   "metadata": {},
   "outputs": [
    {
     "name": "stdout",
     "output_type": "stream",
     "text": [
      "Set -  {1, 2, 3, 4, 5, 6}\n"
     ]
    }
   ],
   "source": [
    "s = {1,2,3,4,5}\n",
    "s.add(6)\n",
    "print(\"Set - \",s)"
   ]
  },
  {
   "cell_type": "markdown",
   "id": "db8dfd40-aac1-45ac-9596-0e10838afb44",
   "metadata": {},
   "source": [
    "3. Remove an element from a set"
   ]
  },
  {
   "cell_type": "code",
   "execution_count": 17,
   "id": "2850a5a7-6a6f-4a08-ac23-291dd236ca7b",
   "metadata": {},
   "outputs": [
    {
     "name": "stdout",
     "output_type": "stream",
     "text": [
      "Set -  {1, 2, 3, 5}\n"
     ]
    }
   ],
   "source": [
    "s = {1,2,3,4,5}\n",
    "s.remove(4)\n",
    "print(\"Set - \",s)"
   ]
  },
  {
   "cell_type": "markdown",
   "id": "52a2fed7-3a78-4ebb-a89f-54342da6df24",
   "metadata": {},
   "source": [
    "4. Check if an element exists in a set"
   ]
  },
  {
   "cell_type": "code",
   "execution_count": 18,
   "id": "5210ec49-33e9-457b-8998-ae26fb68234e",
   "metadata": {},
   "outputs": [
    {
     "name": "stdin",
     "output_type": "stream",
     "text": [
      "Enter element to check -  1\n"
     ]
    },
    {
     "name": "stdout",
     "output_type": "stream",
     "text": [
      "1 exist in set : True\n"
     ]
    }
   ],
   "source": [
    "s = {1,2,3,4,5}\n",
    "e = int(input(\"Enter element to check - \"))\n",
    "if e in s:\n",
    "    print(e,\"exist in set : True\")\n",
    "else :\n",
    "    print(e,\"exist in set : False\")"
   ]
  },
  {
   "cell_type": "markdown",
   "id": "08957217-9d56-4a41-b5ad-344231d61153",
   "metadata": {},
   "source": [
    "5. Find the length of a set without using the `len()` function"
   ]
  },
  {
   "cell_type": "code",
   "execution_count": 20,
   "id": "fffc26ed-9209-42ed-ae13-3bdf463aed8a",
   "metadata": {},
   "outputs": [
    {
     "name": "stdout",
     "output_type": "stream",
     "text": [
      "Lemgth of set is 5\n"
     ]
    }
   ],
   "source": [
    "s,ct = {1,2,3,4,5} , 0\n",
    "for i in s : ct += 1\n",
    "print(\"Lemgth of set is\",ct)"
   ]
  },
  {
   "cell_type": "markdown",
   "id": "d77398d9-0565-4176-9e82-7761e4dabfab",
   "metadata": {},
   "source": [
    "6. Clear all elements from a set"
   ]
  },
  {
   "cell_type": "code",
   "execution_count": 21,
   "id": "4326eabe-193e-4a47-bab0-df3b10d8fca1",
   "metadata": {},
   "outputs": [
    {
     "name": "stdout",
     "output_type": "stream",
     "text": [
      "set()\n"
     ]
    }
   ],
   "source": [
    "s = {1,2,3,4,5}\n",
    "s.clear()\n",
    "print(s)"
   ]
  },
  {
   "cell_type": "markdown",
   "id": "5ab17db9-6068-4f1a-9f6d-8dba767504d3",
   "metadata": {},
   "source": [
    "7. Create a set of even numbers from 1 to 10"
   ]
  },
  {
   "cell_type": "code",
   "execution_count": 7,
   "id": "dc46215d-8388-4fd7-a62d-72e0609e3bfa",
   "metadata": {},
   "outputs": [
    {
     "name": "stdout",
     "output_type": "stream",
     "text": [
      "{2, 4, 6, 8, 10}\n"
     ]
    }
   ],
   "source": [
    "s = {i for i in range(1,11) if i%2 == 0}\n",
    "print(\"Set of even numbers - \",s)"
   ]
  },
  {
   "cell_type": "markdown",
   "id": "672e7a02-2527-47a5-bbe6-29687b1dc60a",
   "metadata": {},
   "source": [
    "8. Create a set of odd numbers from 1 to 10"
   ]
  },
  {
   "cell_type": "code",
   "execution_count": 8,
   "id": "b19a5624-1075-4200-b808-a17350bc36bb",
   "metadata": {},
   "outputs": [
    {
     "name": "stdout",
     "output_type": "stream",
     "text": [
      "Set of odd numbers -  {1, 3, 5, 7, 9}\n"
     ]
    }
   ],
   "source": [
    "s = {i for i in range(1,11) if i%2 != 0}\n",
    "print(\"Set of odd numbers - \",s)"
   ]
  },
  {
   "cell_type": "markdown",
   "id": "0b05138a-1e2b-4edf-960a-18fab138bc3a",
   "metadata": {},
   "source": [
    "9. Find the union of two sets"
   ]
  },
  {
   "cell_type": "code",
   "execution_count": 11,
   "id": "aca8fa53-1773-4302-a840-41176ef6ee65",
   "metadata": {},
   "outputs": [
    {
     "name": "stdout",
     "output_type": "stream",
     "text": [
      "Union of sets -  {1, 2, 3, 4, 5, 6, 7, 8, 9, 10}\n"
     ]
    }
   ],
   "source": [
    "s1 = {1,2,3,4,5}\n",
    "s2 = {6,7,8,9,10}\n",
    "print(\"Union of two sets - \",s1.union(s2))"
   ]
  },
  {
   "cell_type": "markdown",
   "id": "de9103e5-f85d-4799-924f-24206bf754a3",
   "metadata": {},
   "source": [
    "10. Find the intersection of two sets"
   ]
  },
  {
   "cell_type": "code",
   "execution_count": 13,
   "id": "ce036272-e0f3-4791-a16a-4b2fb3bd05f0",
   "metadata": {},
   "outputs": [
    {
     "name": "stdout",
     "output_type": "stream",
     "text": [
      "Union of sets -  {1, 4}\n"
     ]
    }
   ],
   "source": [
    "s1 = {1,2,3,4,5}\n",
    "s2 = {6,7,4,9,1}\n",
    "print(\"Intersection of two sets - \",s1.intersection(s2))"
   ]
  },
  {
   "cell_type": "markdown",
   "id": "fbacc73b-1516-4789-a697-833ad1a0c11e",
   "metadata": {},
   "source": [
    "11. Find the difference between two sets"
   ]
  },
  {
   "cell_type": "code",
   "execution_count": 14,
   "id": "eff77d79-37ad-4355-ada0-00f859d97f74",
   "metadata": {},
   "outputs": [
    {
     "name": "stdout",
     "output_type": "stream",
     "text": [
      "Difference of two sets -  {2, 3, 5}\n"
     ]
    }
   ],
   "source": [
    "s1 = {1,2,3,4,5}\n",
    "s2 = {6,7,4,9,1}\n",
    "print(\"Difference of two sets - \",s1.difference(s2))"
   ]
  },
  {
   "cell_type": "markdown",
   "id": "bdf5702f-0a29-4e6e-b8a4-803b27567d08",
   "metadata": {},
   "source": [
    "12. Check if a set is a subset of another set"
   ]
  },
  {
   "cell_type": "code",
   "execution_count": 7,
   "id": "0767b36e-39e4-4656-b74a-2cc3fea9ea1d",
   "metadata": {},
   "outputs": [
    {
     "name": "stdout",
     "output_type": "stream",
     "text": [
      "{5, 6, 7} is the subset of {1, 2, 3, 4, 5, 6, 7, 8, 9, 10}  - True\n"
     ]
    }
   ],
   "source": [
    "s1 = {1,2,3,4,5,6,7,8,9,10}\n",
    "s2 = {5,6,7}\n",
    "if s2.issubset(s1) == True:\n",
    "    print(s2,\"is the subset of\",s1,\" - True\")\n",
    "else :\n",
    "    print(s2,\"is the subset of\",s1,\" - False\")"
   ]
  },
  {
   "cell_type": "markdown",
   "id": "b0f8ebd6-2745-4c20-ab54-c590a94c197a",
   "metadata": {},
   "source": [
    "13. Check if a set is a superset of another set"
   ]
  },
  {
   "cell_type": "code",
   "execution_count": 8,
   "id": "f88c55e6-a1a9-4177-9005-0d3f21720113",
   "metadata": {},
   "outputs": [
    {
     "name": "stdout",
     "output_type": "stream",
     "text": [
      "{1, 2, 3, 4, 5, 6, 7, 8, 9, 10} is the superset of {5, 6, 7}  - True\n"
     ]
    }
   ],
   "source": [
    "s1 = {1,2,3,4,5,6,7,8,9,10}\n",
    "s2 = {5,6,7}\n",
    "if s1.issuperset(s2) == True:\n",
    "    print(s1,\"is the superset of\",s2,\" - True\")\n",
    "else :\n",
    "    print(s1,\"is the superset of\",s2,\" - False\")"
   ]
  },
  {
   "cell_type": "markdown",
   "id": "77a83e11-4160-4b26-b9c5-21764079deda",
   "metadata": {},
   "source": [
    "14. Create a set from a list"
   ]
  },
  {
   "cell_type": "code",
   "execution_count": 9,
   "id": "703dc969-0675-4331-9571-b49dbdc10d43",
   "metadata": {},
   "outputs": [
    {
     "name": "stdout",
     "output_type": "stream",
     "text": [
      "Set from a list -  {1, 2, 3, 4, 5, 6, 7, 8, 9, 10}\n"
     ]
    }
   ],
   "source": [
    "l = [1,2,3,4,5,6,7,8,9,10]\n",
    "s = set(l)\n",
    "print(\"Set from a list - \",s)"
   ]
  },
  {
   "cell_type": "markdown",
   "id": "9799a3e7-b841-4dd5-a6aa-d4e6d2b38a96",
   "metadata": {},
   "source": [
    "15. Convert a set to a list"
   ]
  },
  {
   "cell_type": "code",
   "execution_count": 6,
   "id": "f9537f17-276d-4574-a42c-9f5989949ce0",
   "metadata": {},
   "outputs": [
    {
     "name": "stdout",
     "output_type": "stream",
     "text": [
      "Set to a list -  [1, 2, 3, 4, 5, 6, 7, 8, 9, 10]\n"
     ]
    }
   ],
   "source": [
    "s = {1,2,3,4,5,6,7,8,9,10}\n",
    "l = list(s)\n",
    "print(\"Set to a list - \",l)"
   ]
  },
  {
   "cell_type": "markdown",
   "id": "b6508e68-0fd9-479d-bdc8-28035b30482f",
   "metadata": {},
   "source": [
    "16. Remove a random element from a set"
   ]
  },
  {
   "cell_type": "code",
   "execution_count": 5,
   "id": "c1c0a463-d380-4dec-90e5-a98c20e18e44",
   "metadata": {},
   "outputs": [
    {
     "name": "stdin",
     "output_type": "stream",
     "text": [
      "Enter element between 1-10 to remove -  3\n"
     ]
    },
    {
     "name": "stdout",
     "output_type": "stream",
     "text": [
      "Set after removing the element -  {1, 2, 4, 5, 6, 7, 8, 9, 10}\n"
     ]
    }
   ],
   "source": [
    "s = {1,2,3,4,5,6,7,8,9,10}\n",
    "e = int(input(\"Enter element between 1-10 to remove - \"))\n",
    "s.remove(e)\n",
    "print(\"Set after removing the element - \",s)"
   ]
  },
  {
   "cell_type": "markdown",
   "id": "1ad1a26d-fe2c-4e3a-b2ad-075fc8ba8b97",
   "metadata": {},
   "source": [
    "17. Pop an element from a set"
   ]
  },
  {
   "cell_type": "code",
   "execution_count": 13,
   "id": "6cf13796-ae53-4a09-a02b-399b8a03673b",
   "metadata": {},
   "outputs": [
    {
     "name": "stdout",
     "output_type": "stream",
     "text": [
      "Set after removing the element -  {2, 3, 4, 5, 6, 7, 9, 10}\n"
     ]
    }
   ],
   "source": [
    "s = {1,2,3,4,5,6,7,4,9,10}\n",
    "s.pop()\n",
    "print(\"Set after removing the element - \",s)"
   ]
  },
  {
   "cell_type": "markdown",
   "id": "51b60c95-3289-4399-bce9-0477a267f3d7",
   "metadata": {},
   "source": [
    "18. Check if two sets have no elements in common"
   ]
  },
  {
   "cell_type": "code",
   "execution_count": 28,
   "id": "5b75ac87-933e-4b8f-9ec2-6041aa3ea4dd",
   "metadata": {},
   "outputs": [
    {
     "name": "stdout",
     "output_type": "stream",
     "text": [
      "The two sets have no elements in common : True\n"
     ]
    }
   ],
   "source": [
    "s1 = {1,2,3,4,5}\n",
    "s2 = {6,7,8,9,10}\n",
    "s = s1.intersection(s2)\n",
    "if s == set() :\n",
    "    print(\"The two sets have no elements in common : True\")\n",
    "else :\n",
    "    print(\"The two sets have no elements in common : False\")"
   ]
  },
  {
   "cell_type": "markdown",
   "id": "c982bdef-a5be-4186-a262-b0c422d89001",
   "metadata": {},
   "source": [
    "19. Find the symmetric difference between two sets"
   ]
  },
  {
   "cell_type": "code",
   "execution_count": 1,
   "id": "90e2817e-45e5-4e73-a301-79866cbb5fbc",
   "metadata": {},
   "outputs": [
    {
     "name": "stdout",
     "output_type": "stream",
     "text": [
      "Symmetric difference between two sets -  {1, 2, 3, 8, 9, 10}\n"
     ]
    }
   ],
   "source": [
    "s1 = {1,2,3,4,5}\n",
    "s2 = {4,5,8,9,10}\n",
    "print(\"Symmetric difference between two sets - \",s1.symmetric_difference(s2)) # or s1^s2"
   ]
  },
  {
   "cell_type": "markdown",
   "id": "19f29d5b-4d3d-4c68-8301-fb63e6b96cca",
   "metadata": {},
   "source": [
    "20. Update a set with elements from another set"
   ]
  },
  {
   "cell_type": "code",
   "execution_count": 2,
   "id": "f192eb6d-fc6c-43fa-9efa-a050fbaf1a56",
   "metadata": {},
   "outputs": [
    {
     "name": "stdout",
     "output_type": "stream",
     "text": [
      "Set with elements from another set -  {1, 2, 3, 4, 5, 6, 7, 8, 9, 10}\n"
     ]
    }
   ],
   "source": [
    "s1 = {1,2,3,4,5}\n",
    "s2 = {6,7,8,9,10}\n",
    "s1.update(s2)\n",
    "print(\"Set with elements from another set - \",s1)"
   ]
  },
  {
   "cell_type": "markdown",
   "id": "69cf26ca-92bb-4cf8-a769-471f5627a471",
   "metadata": {},
   "source": [
    "21. Create a set of the first 5 prime numbers"
   ]
  },
  {
   "cell_type": "code",
   "execution_count": 7,
   "id": "080a3c09-9958-4b67-94af-979054382515",
   "metadata": {},
   "outputs": [
    {
     "name": "stdout",
     "output_type": "stream",
     "text": [
      "Set of the first 5 prime numbers -  {2, 3, 5, 7, 11}\n"
     ]
    }
   ],
   "source": [
    "s = set()\n",
    "for num in range(2,15):\n",
    "    ct = 0\n",
    "    for i in range(1,15):\n",
    "        if num >= i :\n",
    "            if num%i == 0 :\n",
    "                ct += 1\n",
    "    if ct == 2 :\n",
    "        s.add(num)\n",
    "    if len(s) == 5 :\n",
    "        break\n",
    "print(\"Set of the first 5 prime numbers - \",s)"
   ]
  },
  {
   "cell_type": "markdown",
   "id": "7b1ee2ef-0944-4736-aa3f-27c0a046e756",
   "metadata": {},
   "source": [
    "22. Check if two sets are identical"
   ]
  },
  {
   "cell_type": "code",
   "execution_count": 8,
   "id": "67324205-a46e-4a71-9d03-df3d094ebdfa",
   "metadata": {},
   "outputs": [
    {
     "name": "stdout",
     "output_type": "stream",
     "text": [
      "The two set not identical\n"
     ]
    }
   ],
   "source": [
    "s1 = {1,2,3,4,5}\n",
    "s2 = {6,7,8,9,10}\n",
    "if s1 == s2 :\n",
    "    print(\"The two sets are identical\")\n",
    "else :\n",
    "    print(\"The two sets not identical\")"
   ]
  },
  {
   "cell_type": "markdown",
   "id": "cda9979a-9c2a-4359-abcc-d5e0d124c41e",
   "metadata": {},
   "source": [
    "23. Create a frozen set"
   ]
  },
  {
   "cell_type": "code",
   "execution_count": 1,
   "id": "de1e7abb-80fc-4737-8051-28d9d7a0ed5b",
   "metadata": {},
   "outputs": [
    {
     "name": "stdout",
     "output_type": "stream",
     "text": [
      "Frozen Set -  frozenset({1, 2, 3, 4, 5})\n"
     ]
    }
   ],
   "source": [
    "s = {1,2,3,4,5}\n",
    "print(\"Frozen Set - \",frozenset(s))"
   ]
  },
  {
   "cell_type": "markdown",
   "id": "bb462dac-6bc5-42f5-9014-30a3edfa93b3",
   "metadata": {},
   "source": [
    "24. Check if a set is disjoint with another set"
   ]
  },
  {
   "cell_type": "code",
   "execution_count": 5,
   "id": "3c3be3f6-790f-4134-b1f7-f9e8f459de02",
   "metadata": {},
   "outputs": [
    {
     "name": "stdout",
     "output_type": "stream",
     "text": [
      "{1, 2, 3, 4, 5} and {6, 7, 8, 9, 10} are disjoint sets - True\n"
     ]
    }
   ],
   "source": [
    "s1 = {1,2,3,4,5}\n",
    "s2 = {6,7,8,9,10}\n",
    "if s1.isdisjoint(s2) :\n",
    "    print(s1,\"and\",s2,\"are disjoint sets - True\")\n",
    "else :\n",
    "    print(s1,\"and\",s2,\"are disjoint sets - False\")"
   ]
  },
  {
   "cell_type": "markdown",
   "id": "90890f09-a104-45f6-8a9e-223093f0dd3c",
   "metadata": {},
   "source": [
    "25. Create a set of squares of numbers from 1 to 5"
   ]
  },
  {
   "cell_type": "code",
   "execution_count": 3,
   "id": "98bfd0da-1915-4960-8e6f-99729e336e3d",
   "metadata": {},
   "outputs": [
    {
     "name": "stdout",
     "output_type": "stream",
     "text": [
      "Set of squares of numbers from 1 to 5 - {1, 4, 9, 16, 25}\n"
     ]
    }
   ],
   "source": [
    "s = set(i**2 for i in range(1,6))\n",
    "print(\"Set of squares of numbers from 1 to 5 -\",s)"
   ]
  },
  {
   "cell_type": "markdown",
   "id": "223e26ee-34d2-4ecf-9451-9ee168e592e5",
   "metadata": {},
   "source": [
    "26. Filter out all even numbers from a set"
   ]
  },
  {
   "cell_type": "code",
   "execution_count": 19,
   "id": "c8f99bb1-a857-437a-bf70-81dc6451f200",
   "metadata": {},
   "outputs": [
    {
     "name": "stdout",
     "output_type": "stream",
     "text": [
      "Filtered out even numbers -  {2, 4}\n"
     ]
    }
   ],
   "source": [
    "s1 = {1,2,3,4,5}\n",
    "s2 = set()\n",
    "for i in s1:\n",
    "    if i%2 == 0:\n",
    "        s2.add(i)\n",
    "print(\"Filtered out even numbers - \",s2)"
   ]
  },
  {
   "cell_type": "markdown",
   "id": "6d91862b-c938-4658-b60c-588d03bc847e",
   "metadata": {},
   "source": [
    "27. Multiply all elements in a set by 2"
   ]
  },
  {
   "cell_type": "code",
   "execution_count": 2,
   "id": "53889bee-5176-4e04-a076-d59ad4c140de",
   "metadata": {},
   "outputs": [
    {
     "name": "stdout",
     "output_type": "stream",
     "text": [
      "Modified set -  {2, 4, 6, 8, 10}\n"
     ]
    }
   ],
   "source": [
    "s1 = {1,2,3,4,5}\n",
    "s2 = set(i*2 for i in s1)\n",
    "print(\"Modified set - \",s2)"
   ]
  },
  {
   "cell_type": "markdown",
   "id": "6c3e9bb7-8f15-45a7-9543-ae1019c2f968",
   "metadata": {},
   "source": [
    "28. Create a set of random numbers"
   ]
  },
  {
   "cell_type": "code",
   "execution_count": 11,
   "id": "debe9127-702f-490d-94dd-5fbd472232d6",
   "metadata": {},
   "outputs": [
    {
     "name": "stdin",
     "output_type": "stream",
     "text": [
      "Enter length of set -  5\n"
     ]
    },
    {
     "name": "stdout",
     "output_type": "stream",
     "text": [
      "Set of random numbers -  {33, 99, 78, 16, 63}\n"
     ]
    }
   ],
   "source": [
    "import random\n",
    "n = int(input(\"Enter length of set - \"))\n",
    "s = set(random.randint(1,100) for i in range(n))\n",
    "print(\"Set of random numbers - \",s)"
   ]
  },
  {
   "cell_type": "markdown",
   "id": "dc284f7e-433c-404c-8dfc-6f1f8b31f9cd",
   "metadata": {},
   "source": [
    "29. Check if a set is empty."
   ]
  },
  {
   "cell_type": "code",
   "execution_count": 13,
   "id": "2bf8cbe2-03e9-43ed-8d34-b6895a3ca299",
   "metadata": {},
   "outputs": [
    {
     "name": "stdout",
     "output_type": "stream",
     "text": [
      "set() is an empty set\n"
     ]
    }
   ],
   "source": [
    "s = set()\n",
    "if s == set():\n",
    "    print(s,\"is an empty set\")\n",
    "else:\n",
    "    print(s,\"is not an empty set\")"
   ]
  },
  {
   "cell_type": "markdown",
   "id": "4b0b6f93-dc1e-4657-911c-85fe952aece3",
   "metadata": {},
   "source": [
    "30. Create a nested set (hint: use frozenset)"
   ]
  },
  {
   "cell_type": "code",
   "execution_count": 14,
   "id": "8c9601d8-c845-4f3f-9c30-38e3bfbf4b7e",
   "metadata": {},
   "outputs": [
    {
     "name": "stdout",
     "output_type": "stream",
     "text": [
      "Nested list -  {frozenset({1, 2, 3, 4, 5}), frozenset({6, 7, 8, 9, 10})}\n"
     ]
    }
   ],
   "source": [
    "s1 = {1,2,3,4,5}\n",
    "s2 = {6,7,8,9,10}\n",
    "fs1 = frozenset(s1)\n",
    "fs2 = frozenset(s2)\n",
    "s = {fs1,fs2}\n",
    "print(\"Nested list - \",s)"
   ]
  },
  {
   "cell_type": "markdown",
   "id": "307535fd-8c5e-4370-b4bf-059dfcf62558",
   "metadata": {},
   "source": [
    "31. Remove an element from a set using the discard method"
   ]
  },
  {
   "cell_type": "code",
   "execution_count": 15,
   "id": "bc63cbe6-9296-4b73-8642-f80e9fc9c745",
   "metadata": {},
   "outputs": [
    {
     "name": "stdin",
     "output_type": "stream",
     "text": [
      "Enter element to remove -  2\n"
     ]
    },
    {
     "name": "stdout",
     "output_type": "stream",
     "text": [
      "Set after removing the element -  {1, 3, 4, 5}\n"
     ]
    }
   ],
   "source": [
    "s = {1,2,3,4,5}\n",
    "n = int(input(\"Enter element to remove - \"))\n",
    "s.discard(n)\n",
    "print(\"Set after removing the element - \",s)"
   ]
  },
  {
   "cell_type": "markdown",
   "id": "e6b6bcac-b81b-49b8-8469-8359242ddb41",
   "metadata": {},
   "source": [
    "32. Compare two sets"
   ]
  },
  {
   "cell_type": "code",
   "execution_count": 16,
   "id": "da996c9a-3522-4110-8d8d-8c9af3e878b2",
   "metadata": {},
   "outputs": [
    {
     "name": "stdout",
     "output_type": "stream",
     "text": [
      "s1 > s2 -  False\n",
      "s1 < s2 -  False\n",
      "s1 == s2 -  False\n"
     ]
    }
   ],
   "source": [
    "s1 = {1,2,3,4,5}\n",
    "s2 = {6,7,8,9,10}\n",
    "print(\"s1 > s2 - \",bool(s1 > s2))\n",
    "print(\"s1 < s2 - \",bool(s1 < s2))\n",
    "print(\"s1 == s2 - \",bool(s1 == s2))"
   ]
  },
  {
   "cell_type": "markdown",
   "id": "20f64d63-fe5c-4baf-8993-48351953b91a",
   "metadata": {},
   "source": [
    "33. Create a set from a string"
   ]
  },
  {
   "cell_type": "code",
   "execution_count": 4,
   "id": "5109419e-8f6b-4da3-802c-a90461703095",
   "metadata": {},
   "outputs": [
    {
     "name": "stdin",
     "output_type": "stream",
     "text": [
      "Enter string -  this year is about to end\n"
     ]
    },
    {
     "name": "stdout",
     "output_type": "stream",
     "text": [
      "Set from a string -  {'is', 'to', 'end', 'about', 'year', 'this'}\n"
     ]
    }
   ],
   "source": [
    "s = set(str(input(\"Enter string - \")).split())\n",
    "print(\"Set from a string - \",s)"
   ]
  },
  {
   "cell_type": "markdown",
   "id": "51948daa-a94c-4456-ad9f-26223fa7c7c4",
   "metadata": {},
   "source": [
    "34. Convert a set of strings to a set of integers"
   ]
  },
  {
   "cell_type": "code",
   "execution_count": 2,
   "id": "19e2c31a-7664-4cdc-af9b-9bdd4d70109d",
   "metadata": {},
   "outputs": [
    {
     "name": "stdout",
     "output_type": "stream",
     "text": [
      "Set of strings to a set of integers - {1, 2, 3, 4, 5}\n"
     ]
    }
   ],
   "source": [
    "s_str = {\"1\",\"2\",\"3\",\"4\",\"5\"}\n",
    "s_int = set(int(i) for i in s_str)\n",
    "print(\"Set of strings to a set of integers -\",s_int)"
   ]
  },
  {
   "cell_type": "markdown",
   "id": "a5be2504-44b4-4c93-962b-f312ed582646",
   "metadata": {},
   "source": [
    "35. Convert a set of integers to a set of strings"
   ]
  },
  {
   "cell_type": "code",
   "execution_count": 3,
   "id": "13aabb5b-00fd-4a3a-b1f2-161141ec1ff0",
   "metadata": {},
   "outputs": [
    {
     "name": "stdout",
     "output_type": "stream",
     "text": [
      "Set of integers to a set of strings - {'3', '2', '1', '5', '4'}\n"
     ]
    }
   ],
   "source": [
    "s_int = {1, 2, 3, 4, 5}\n",
    "s_str = set(str(i) for i in s_str)\n",
    "print(\"Set of integers to a set of strings -\",s_str)"
   ]
  },
  {
   "cell_type": "markdown",
   "id": "5dfe7ccb-febd-4566-b693-9fb2826ba4cb",
   "metadata": {},
   "source": [
    "36. Create a set from a tuple"
   ]
  },
  {
   "cell_type": "code",
   "execution_count": 4,
   "id": "69ac1fba-5cde-47ad-aaef-bdc96e082de9",
   "metadata": {},
   "outputs": [
    {
     "name": "stdout",
     "output_type": "stream",
     "text": [
      "Set from a tuple - {1, 2, 3, 4, 5}\n"
     ]
    }
   ],
   "source": [
    "t = (1, 2, 3, 4, 5)\n",
    "s = set(t)\n",
    "print(\"Set from a tuple -\",s)"
   ]
  },
  {
   "cell_type": "markdown",
   "id": "53ba3b5a-bd0a-4de0-a717-d42979373651",
   "metadata": {},
   "source": [
    "37. Convert a set to a tuple"
   ]
  },
  {
   "cell_type": "code",
   "execution_count": 5,
   "id": "6e8694cc-3521-460a-916b-52fd4261e422",
   "metadata": {},
   "outputs": [
    {
     "name": "stdout",
     "output_type": "stream",
     "text": [
      "Tuple from a set - (1, 2, 3, 4, 5)\n"
     ]
    }
   ],
   "source": [
    "s = {1, 2, 3, 4, 5}\n",
    "t = tuple(s)\n",
    "print(\"Tuple from a set -\",t)"
   ]
  },
  {
   "cell_type": "markdown",
   "id": "0eab648c-6b46-4c04-b076-da8f9322f9e5",
   "metadata": {},
   "source": [
    "38. Find the maximum value in a set"
   ]
  },
  {
   "cell_type": "code",
   "execution_count": 8,
   "id": "4f33c758-932d-4f53-8e48-4abeff264d6d",
   "metadata": {},
   "outputs": [
    {
     "name": "stdout",
     "output_type": "stream",
     "text": [
      "maximum value in the set - 5\n"
     ]
    }
   ],
   "source": [
    "s = {1, 2, 3, 4, 5}\n",
    "print(\"Maximum value in the set -\",max(s))"
   ]
  },
  {
   "cell_type": "markdown",
   "id": "d624851a-77a3-469f-a7a8-717c5aea46d0",
   "metadata": {},
   "source": [
    "39. Find the minimum value in a set"
   ]
  },
  {
   "cell_type": "code",
   "execution_count": 9,
   "id": "dc489b2e-f235-4b52-b9c5-7c7a79d4be5a",
   "metadata": {},
   "outputs": [
    {
     "name": "stdout",
     "output_type": "stream",
     "text": [
      "Minimum value in the set - 1\n"
     ]
    }
   ],
   "source": [
    "s = {1, 2, 3, 4, 5}\n",
    "print(\"Minimum value in the set -\",min(s))"
   ]
  },
  {
   "cell_type": "markdown",
   "id": "7f9f3dbb-59ae-430a-8368-152a06c1dc2c",
   "metadata": {},
   "source": [
    "40. Create a set from user input"
   ]
  },
  {
   "cell_type": "code",
   "execution_count": 12,
   "id": "0420b14e-39a9-443e-9de9-2770d6fb08b6",
   "metadata": {},
   "outputs": [
    {
     "name": "stdin",
     "output_type": "stream",
     "text": [
      "Enter length of set - 5\n",
      "Enter element 1\n",
      "Enter element two\n",
      "Enter element 3.3\n",
      "Enter element @@@@\n",
      "Enter element $\n"
     ]
    },
    {
     "name": "stdout",
     "output_type": "stream",
     "text": [
      "Set from user input - {'$', 'two', '1', '3.3', '@@@@'}\n"
     ]
    }
   ],
   "source": [
    "s = set(input(\"Enter element\") for i in range(int(input(\"Enter length of set -\"))))\n",
    "print(\"Set from user input -\",s)"
   ]
  },
  {
   "cell_type": "markdown",
   "id": "97489b16-ded7-47bd-9a8f-0b32f048f3e4",
   "metadata": {},
   "source": [
    "41. Check if the intersection of two sets is empty"
   ]
  },
  {
   "cell_type": "code",
   "execution_count": 16,
   "id": "325157f2-b495-4c94-95e3-eca0d3a91049",
   "metadata": {},
   "outputs": [
    {
     "name": "stdout",
     "output_type": "stream",
     "text": [
      "Intersection of two sets is empty : True\n"
     ]
    }
   ],
   "source": [
    "s1 = {1,2,3,4,5}\n",
    "s2 = {6,7,8,9,10}\n",
    "if s1.intersection(s2) == set() :\n",
    "    print(\"Intersection of two sets is empty : True\")\n",
    "else :\n",
    "    print(\"Intersection of two sets is empty : false\")"
   ]
  },
  {
   "cell_type": "markdown",
   "id": "f245395c-11ac-487b-ba8c-99b921cfd72a",
   "metadata": {},
   "source": [
    "42. Create a set of the first 5 Fibonacci numbers"
   ]
  },
  {
   "cell_type": "code",
   "execution_count": 7,
   "id": "da9e7247-42cb-4f0f-a2fd-739e4c183f1b",
   "metadata": {},
   "outputs": [
    {
     "name": "stdout",
     "output_type": "stream",
     "text": [
      "Set of the first 5 Fibonacci numbers - {0, 1, 2, 3, 5}\n"
     ]
    }
   ],
   "source": [
    "s = set()\n",
    "num_1,num_2 = 0,1\n",
    "for i in range(6):\n",
    "    s.add(num_1)\n",
    "    num_1,num_2 = num_2, num_1 + num_2\n",
    "print(\"Set of the first 5 Fibonacci numbers -\",s)"
   ]
  },
  {
   "cell_type": "markdown",
   "id": "2dde12b7-aa6f-4b1b-9d8a-a3ad9645e9d4",
   "metadata": {},
   "source": [
    "43. Remove duplicates from a list using sets"
   ]
  },
  {
   "cell_type": "code",
   "execution_count": 1,
   "id": "f3700376-b4e1-4cd8-9984-a9c6c99a5f1b",
   "metadata": {},
   "outputs": [
    {
     "name": "stdout",
     "output_type": "stream",
     "text": [
      "List after removing duplicates - [0, 1, 2, 3, 4, 5, 6]\n"
     ]
    }
   ],
   "source": [
    "l = [0,1,2,3,4,5,6,1,3,5]\n",
    "l = sorted(list(set(l)))\n",
    "print(\"List after removing duplicates -\",l)"
   ]
  },
  {
   "cell_type": "markdown",
   "id": "dc7b50e4-5ee9-43fc-92b0-c91513805649",
   "metadata": {},
   "source": [
    "44. Check if two sets have the same elements, regardless of their count"
   ]
  },
  {
   "cell_type": "code",
   "execution_count": 6,
   "id": "cba62fc6-cb2d-4b0d-969f-cb8ad65f39f8",
   "metadata": {},
   "outputs": [
    {
     "name": "stdout",
     "output_type": "stream",
     "text": [
      "The two sets have the same elements : False\n"
     ]
    }
   ],
   "source": [
    "s1 = {1,2,3,4,5}\n",
    "s2 = {1,2,3}\n",
    "if sorted(list(s1)) == sorted(list(s2)) :\n",
    "    print(\"The two sets have the same elements : True\")\n",
    "else :\n",
    "    print(\"The two sets have the same elements : False\")"
   ]
  },
  {
   "cell_type": "markdown",
   "id": "af4c98ac-5687-4627-b967-e27cf55dcdc6",
   "metadata": {},
   "source": [
    "45. Create a set of the first `n` powers of 2"
   ]
  },
  {
   "cell_type": "code",
   "execution_count": 7,
   "id": "3bcfd4d1-dc3b-4dbe-a41b-909c5053ae13",
   "metadata": {},
   "outputs": [
    {
     "name": "stdin",
     "output_type": "stream",
     "text": [
      "Enter the n value - 5\n"
     ]
    },
    {
     "name": "stdout",
     "output_type": "stream",
     "text": [
      "Set of the first n powers of 2 -  {1, 2, 4, 8, 16}\n"
     ]
    }
   ],
   "source": [
    "print(\"Set of the first n powers of 2 - \",set(2**i for i in range(int(input(\"Enter the n value -\")))))"
   ]
  },
  {
   "cell_type": "markdown",
   "id": "87544de2-dd51-466d-aa71-1c51143894d3",
   "metadata": {},
   "source": [
    "46. Find the common elements between a set and a list"
   ]
  },
  {
   "cell_type": "code",
   "execution_count": 8,
   "id": "a530d335-59a6-4e75-8c3b-d006a8842a44",
   "metadata": {},
   "outputs": [
    {
     "name": "stdout",
     "output_type": "stream",
     "text": [
      "Common elements between a set and a list - {1, 2, 3}\n"
     ]
    }
   ],
   "source": [
    "s = {1,2,3,4,5}\n",
    "l = [1,2,3]\n",
    "c = s.intersection(set(l))\n",
    "if c == set() :\n",
    "    print(\"There is no common element between a set and a list\")\n",
    "else :\n",
    "    print(\"Common elements between a set and a list -\",c)"
   ]
  },
  {
   "cell_type": "markdown",
   "id": "1fc35e71-0a92-481d-b2ae-a856c79b8da9",
   "metadata": {},
   "source": [
    "47. Create a set of the first `n` triangular numbers"
   ]
  },
  {
   "cell_type": "code",
   "execution_count": 9,
   "id": "be3666c8-778e-4ebe-b717-568f57f35b6e",
   "metadata": {},
   "outputs": [
    {
     "name": "stdin",
     "output_type": "stream",
     "text": [
      "Enter the n value -  5\n"
     ]
    },
    {
     "name": "stdout",
     "output_type": "stream",
     "text": [
      "Set of first 5 triangular numbers -  {1, 3, 6, 10, 15}\n"
     ]
    }
   ],
   "source": [
    "n = int(input(\"Enter the n value - \"))\n",
    "s = set(i * (i + 1) // 2 for i in range(1, n + 1))\n",
    "print(\"Set of first\",n,\"triangular numbers - \",s)"
   ]
  },
  {
   "cell_type": "markdown",
   "id": "b8bbee62-d323-476d-ae2b-3bd473d66483",
   "metadata": {},
   "source": [
    "48. Check if a set contains another set as a subset"
   ]
  },
  {
   "cell_type": "code",
   "execution_count": 12,
   "id": "693af59b-633e-4568-a762-c465db71fb52",
   "metadata": {},
   "outputs": [
    {
     "name": "stdout",
     "output_type": "stream",
     "text": [
      "{1, 10, 4} is the subset of {1, 2, 3, 4, 5, 6, 7, 8, 9, 10}\n"
     ]
    }
   ],
   "source": [
    "s = {1,2,3,4,5,6,7,8,9,10}\n",
    "sub_s = {1,4,10}\n",
    "if sub_s.issubset(s):\n",
    "    print(sub_s,\"is the subset of\",s)\n",
    "else :\n",
    "    print(sub_s,\"is not a subset of\",s)"
   ]
  },
  {
   "cell_type": "markdown",
   "id": "0a525c0c-d43d-4c39-8615-a44c9a900297",
   "metadata": {},
   "source": [
    "49. Create a set of alternating 1s and 0s of length `n`"
   ]
  },
  {
   "cell_type": "code",
   "execution_count": 16,
   "id": "9079ffee-93b6-40dc-84d4-12ea852a22a6",
   "metadata": {},
   "outputs": [
    {
     "name": "stdin",
     "output_type": "stream",
     "text": [
      "Enter n value -  10\n"
     ]
    },
    {
     "name": "stdout",
     "output_type": "stream",
     "text": [
      "Tuple of alternating 1s and 0s of 10 length -  {0, 1}\n"
     ]
    }
   ],
   "source": [
    "n = int(input(\"Enter n value - \"))\n",
    "s = set((i % 2 for i in range(n)))\n",
    "print(\"Tuple of alternating 1s and 0s of\",n,\"length - \",s)"
   ]
  },
  {
   "cell_type": "markdown",
   "id": "6d6ac75c-9ba9-49c4-801c-d2bb0c3a832d",
   "metadata": {},
   "source": [
    "50. Merge multiple sets into one"
   ]
  },
  {
   "cell_type": "code",
   "execution_count": 18,
   "id": "4a236d54-37d3-4f9c-8ee4-878b85043c76",
   "metadata": {},
   "outputs": [
    {
     "name": "stdout",
     "output_type": "stream",
     "text": [
      "Merging multiple sets into one - {1, 2, 3, 1.2, 2.3, 3.1, 't', 's', 'e'}\n"
     ]
    }
   ],
   "source": [
    "s1 = {1,2,3}\n",
    "s2 = {\"s\",\"e\",\"t\"}\n",
    "s3 = {1.2,2.3,3.1}\n",
    "print(\"Merging multiple sets into one -\",s1.union(s2,s3))"
   ]
  },
  {
   "cell_type": "code",
   "execution_count": null,
   "id": "0d037a28-33ea-449f-ac0d-bd2da31ba66a",
   "metadata": {},
   "outputs": [],
   "source": [
    "s = {}\n"
   ]
  }
 ],
 "metadata": {
  "kernelspec": {
   "display_name": "Python 3 (ipykernel)",
   "language": "python",
   "name": "python3"
  },
  "language_info": {
   "codemirror_mode": {
    "name": "ipython",
    "version": 3
   },
   "file_extension": ".py",
   "mimetype": "text/x-python",
   "name": "python",
   "nbconvert_exporter": "python",
   "pygments_lexer": "ipython3",
   "version": "3.10.8"
  }
 },
 "nbformat": 4,
 "nbformat_minor": 5
}
