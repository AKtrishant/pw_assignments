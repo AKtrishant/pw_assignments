{
 "cells": [
  {
   "cell_type": "markdown",
   "id": "dd493363-4e32-4d94-aaf6-43100e6baf6d",
   "metadata": {},
   "source": [
    "BASIC LEVEL"
   ]
  },
  {
   "cell_type": "markdown",
   "id": "c3961b79-f028-43e1-b21e-88859c03eea1",
   "metadata": {},
   "source": [
    "1. Write a Python program to print the numbers from 1 to 10 using a `for` loop."
   ]
  },
  {
   "cell_type": "code",
   "execution_count": 3,
   "id": "6acb85b2-264c-4349-a07a-a922176ee986",
   "metadata": {},
   "outputs": [
    {
     "name": "stdout",
     "output_type": "stream",
     "text": [
      "1\n",
      "2\n",
      "3\n",
      "4\n",
      "5\n",
      "6\n",
      "7\n",
      "8\n",
      "9\n",
      "10\n"
     ]
    }
   ],
   "source": [
    "for i in range(1,11):\n",
    "    print(i)"
   ]
  },
  {
   "cell_type": "markdown",
   "id": "7e21d467-1ca1-4351-8409-f99b92942588",
   "metadata": {},
   "source": [
    "2. Create a program that calculates the sum of all numbers in a list using a `for` loop."
   ]
  },
  {
   "cell_type": "code",
   "execution_count": 4,
   "id": "c1400644-4877-42fa-b978-de1bf14881d5",
   "metadata": {},
   "outputs": [
    {
     "name": "stdout",
     "output_type": "stream",
     "text": [
      "Sum of all elements in the list - 55\n"
     ]
    }
   ],
   "source": [
    "l = [1,2,3,4,5,6,7,8,9,10]\n",
    "cnt = 0\n",
    "for i in l:\n",
    "    cnt = cnt + i\n",
    "print(\"Sum of all elements in the list -\",cnt)"
   ]
  },
  {
   "cell_type": "markdown",
   "id": "c3b8e70b-322a-45b0-8b86-2abcf00ddf40",
   "metadata": {},
   "source": [
    "3. Write a program to print the characters of a string in reverse order using a `for` loop."
   ]
  },
  {
   "cell_type": "code",
   "execution_count": 1,
   "id": "128a92a9-56b5-42c6-994d-d12f39c81afb",
   "metadata": {},
   "outputs": [
    {
     "name": "stdout",
     "output_type": "stream",
     "text": [
      "s\n",
      "l\n",
      "l\n",
      "i\n",
      "k\n",
      "s\n",
      "w\n",
      "p\n"
     ]
    }
   ],
   "source": [
    "a = \"pwskills\"\n",
    "for i in a[len(a)-1::-1]:\n",
    "    print(i)"
   ]
  },
  {
   "cell_type": "markdown",
   "id": "f8e0d177-2393-46e0-bc42-caf2e64a808f",
   "metadata": {},
   "source": [
    "4. Develop a program that finds the factorial of a given number using a `for` loop."
   ]
  },
  {
   "cell_type": "code",
   "execution_count": 4,
   "id": "f45ec397-8ab6-4d55-bb41-f572e9a5f3a8",
   "metadata": {},
   "outputs": [
    {
     "name": "stdin",
     "output_type": "stream",
     "text": [
      "Enter number - 5\n"
     ]
    },
    {
     "name": "stdout",
     "output_type": "stream",
     "text": [
      "Facorial of 5 - 120\n"
     ]
    }
   ],
   "source": [
    "num = int(input(\"Enter number -\"))\n",
    "cnt = 1\n",
    "for i in range(1,num+1):\n",
    "    cnt = cnt*i\n",
    "print(\"Facorial of\",num,\"-\",cnt)"
   ]
  },
  {
   "cell_type": "markdown",
   "id": "d51b7e0a-c6df-4f17-bf8d-1628de34bbae",
   "metadata": {},
   "source": [
    "5. Create a program to print the multiplication table of a given number using a `for` loop."
   ]
  },
  {
   "cell_type": "code",
   "execution_count": 6,
   "id": "77f18611-be34-444b-ac14-76360997c8b2",
   "metadata": {},
   "outputs": [
    {
     "name": "stdin",
     "output_type": "stream",
     "text": [
      "Enter number - 10\n"
     ]
    },
    {
     "name": "stdout",
     "output_type": "stream",
     "text": [
      "10 X 1 - 10\n",
      "10 X 2 - 20\n",
      "10 X 3 - 30\n",
      "10 X 4 - 40\n",
      "10 X 5 - 50\n",
      "10 X 6 - 60\n",
      "10 X 7 - 70\n",
      "10 X 8 - 80\n",
      "10 X 9 - 90\n",
      "10 X 10 - 100\n"
     ]
    }
   ],
   "source": [
    "num = int(input(\"Enter number -\"))\n",
    "for i in range(1,11):\n",
    "    print(num,\"X\",i,\"-\",num*i)"
   ]
  },
  {
   "cell_type": "markdown",
   "id": "d1e80f7b-6c17-48db-98d0-eaa7c8fb1b41",
   "metadata": {},
   "source": [
    "6. Write a program that counts the number of even and odd numbers in a list using a `for` loop."
   ]
  },
  {
   "cell_type": "code",
   "execution_count": 8,
   "id": "fff5ff39-0254-40b4-9b0f-944e8540b5f2",
   "metadata": {},
   "outputs": [
    {
     "name": "stdout",
     "output_type": "stream",
     "text": [
      "count of even numbers in the list - 4\n",
      "count of odd numbers in the list - 5\n"
     ]
    }
   ],
   "source": [
    "l = [1,2,3,4,5,6,7,8,9]\n",
    "cnt_even = 0\n",
    "cnt_odd = 0\n",
    "for i in l:\n",
    "    if i%2==0:\n",
    "        cnt_even += 1\n",
    "    else:\n",
    "        cnt_odd += 1\n",
    "print(\"count of even numbers in the list -\",cnt_even)\n",
    "print(\"count of odd numbers in the list -\",cnt_odd)"
   ]
  },
  {
   "cell_type": "markdown",
   "id": "5454d86e-84c2-405e-9040-b45d7de4323a",
   "metadata": {},
   "source": [
    "7. Develop a program that prints the squares of numbers from 1 to 5 using a `for` loop."
   ]
  },
  {
   "cell_type": "code",
   "execution_count": 9,
   "id": "09e95278-e37e-4fb9-97cc-56229327e3e7",
   "metadata": {},
   "outputs": [
    {
     "name": "stdout",
     "output_type": "stream",
     "text": [
      "square of 1 - 1\n",
      "square of 2 - 4\n",
      "square of 3 - 9\n",
      "square of 4 - 16\n",
      "square of 5 - 25\n"
     ]
    }
   ],
   "source": [
    "for i in range(1,6):\n",
    "    print(\"square of\",i,\"-\",i**2)"
   ]
  },
  {
   "cell_type": "markdown",
   "id": "4d30c2e4-0606-48ac-90a8-5a741655d515",
   "metadata": {},
   "source": [
    "8. Create a program to find the length of a string without using the `len()` function."
   ]
  },
  {
   "cell_type": "code",
   "execution_count": 10,
   "id": "79a07129-7f87-49af-988c-6bdd1721ce26",
   "metadata": {},
   "outputs": [
    {
     "name": "stdout",
     "output_type": "stream",
     "text": [
      "length of string - 8\n"
     ]
    }
   ],
   "source": [
    "a = \"pwskills\"\n",
    "cnt = 0\n",
    "for i in a:\n",
    "    cnt += 1\n",
    "print(\"length of string -\",cnt)"
   ]
  },
  {
   "cell_type": "markdown",
   "id": "5b2f2a51-cfd8-40db-a142-90d49324b733",
   "metadata": {},
   "source": [
    "9. Write a program that calculates the average of a list of numbers using a `for` loop."
   ]
  },
  {
   "cell_type": "code",
   "execution_count": 1,
   "id": "c80845f3-f19d-4ff4-b8c1-7b1ef6c52f9f",
   "metadata": {},
   "outputs": [
    {
     "name": "stdout",
     "output_type": "stream",
     "text": [
      "Average of numbers in the list - 5.5\n"
     ]
    }
   ],
   "source": [
    "l = [1,2,3,4,5,6,7,8,9,10]\n",
    "a = 0\n",
    "cnt = 0\n",
    "for i in l:\n",
    "    a = a + i\n",
    "    cnt += 1\n",
    "print(\"Average of numbers in the list -\",a/cnt)"
   ]
  },
  {
   "cell_type": "markdown",
   "id": "f4aa05a6-b3be-4b54-9e2f-2cd923309dae",
   "metadata": {},
   "source": [
    "10. Develop a program that prints the first `n` Fibonacci numbers using a `for` loop."
   ]
  },
  {
   "cell_type": "code",
   "execution_count": 10,
   "id": "71b24d42-5d28-4d9e-bafc-c6db00d90072",
   "metadata": {},
   "outputs": [
    {
     "name": "stdin",
     "output_type": "stream",
     "text": [
      "Enter the range -  10\n"
     ]
    },
    {
     "name": "stdout",
     "output_type": "stream",
     "text": [
      "0 1 1 2 3 5 8 13 21 34 55 89 "
     ]
    }
   ],
   "source": [
    "n = int(input(\"Enter the range - \"))\n",
    "a = 0\n",
    "b = 1\n",
    "print(a, b, end=\" \")\n",
    "for i in range(n):\n",
    "    c = a + b\n",
    "    print(c, end=\" \")\n",
    "    a = b\n",
    "    b = c"
   ]
  },
  {
   "cell_type": "markdown",
   "id": "eee24593-b525-4ebb-a22e-21d039807b89",
   "metadata": {},
   "source": [
    "_________________________________________________________________________________________"
   ]
  },
  {
   "cell_type": "markdown",
   "id": "e67e089e-bb0b-4712-b683-2b481e6baaaf",
   "metadata": {},
   "source": [
    "INTERMEDIATE LEVEL"
   ]
  },
  {
   "cell_type": "markdown",
   "id": "81c9d3eb-45c4-489c-9e0f-97d0bbe2d5e3",
   "metadata": {},
   "source": [
    "11. Write a program to check if a given list contains any duplicates using a `for` loop."
   ]
  },
  {
   "cell_type": "code",
   "execution_count": 6,
   "id": "1fe4b6d0-c9d5-4477-a412-d987b9b95a0e",
   "metadata": {},
   "outputs": [
    {
     "name": "stdout",
     "output_type": "stream",
     "text": [
      "No, list doesn't contain duplicate elements\n"
     ]
    }
   ],
   "source": [
    "l = [1,2,3,4,5,6,7,8,9,10]\n",
    "lst = []\n",
    "for i in range(len(l)):\n",
    "    start = i + 1\n",
    "    for j in range(start,len(l)):\n",
    "        if l[i] == l[j] : lst.append(l[j])\n",
    "if lst == []:\n",
    "    print(\"No, list doesn't contain duplicate elements\")\n",
    "else :\n",
    "    print(\"Yes, list contains any duplicate elements -\",lst)    "
   ]
  },
  {
   "cell_type": "markdown",
   "id": "ec3c1148-8b01-44ca-81b5-da0c84105b43",
   "metadata": {},
   "source": [
    "12. Create a program that prints the prime numbers in a given range using a `for` loop."
   ]
  },
  {
   "cell_type": "code",
   "execution_count": 3,
   "id": "78e04c6f-e95e-4030-a582-64bfcf201f6c",
   "metadata": {},
   "outputs": [
    {
     "name": "stdin",
     "output_type": "stream",
     "text": [
      "Enter the range -  37\n"
     ]
    },
    {
     "name": "stdout",
     "output_type": "stream",
     "text": [
      "2 3 5 7 11 13 17 19 23 29 31 37 "
     ]
    }
   ],
   "source": [
    "n = int(input(\"Enter the range - \"))\n",
    "for i in range(1,n+1):\n",
    "    cnt = 0\n",
    "    for j in range(1,i+1):\n",
    "        if i%j == 0:\n",
    "            cnt += 1\n",
    "    if cnt == 2:\n",
    "        print(i,end=\" \")"
   ]
  },
  {
   "cell_type": "markdown",
   "id": "bb1f8500-8e1f-46f5-9161-5bb50a0b896f",
   "metadata": {},
   "source": [
    "13. Develop a program that counts the number of vowels in a string using a `for` loop."
   ]
  },
  {
   "cell_type": "code",
   "execution_count": 6,
   "id": "f3448ecc-d7c5-4b2c-afb4-7f62679b995d",
   "metadata": {},
   "outputs": [
    {
     "name": "stdin",
     "output_type": "stream",
     "text": [
      "Enter string - Alphabet\n"
     ]
    },
    {
     "name": "stdout",
     "output_type": "stream",
     "text": [
      "Vowels - a e "
     ]
    }
   ],
   "source": [
    "a = list(set(str(input(\"Enter string -\")).lower()))\n",
    "l = [\"a\",\"e\",\"i\",\"o\",\"u\"]\n",
    "print(\"Vowels -\",end=\" \")\n",
    "for i in a:\n",
    "    if i in l : print(i,end=\" \")"
   ]
  },
  {
   "cell_type": "markdown",
   "id": "3aacacd4-82a0-4e6e-96a5-d9a2e023f17e",
   "metadata": {},
   "source": [
    "14. Write a program to find the maximum element in a 2D list using a nested `for` loop."
   ]
  },
  {
   "cell_type": "code",
   "execution_count": 9,
   "id": "9ef76ad9-f4eb-473f-beeb-a76c171aacb4",
   "metadata": {},
   "outputs": [
    {
     "name": "stdout",
     "output_type": "stream",
     "text": [
      "Maximum element in a 2D list - 9\n"
     ]
    }
   ],
   "source": [
    "data = [\n",
    "    [1,2,3],\n",
    "    [4,5,6],\n",
    "    [7,8,9]\n",
    "]\n",
    "max_e = data[0][0]\n",
    "for row in data:\n",
    "    for element in row:\n",
    "        if element > max_e:\n",
    "            max_e = element\n",
    "print(\"Maximum element in a 2D list -\",max_e)"
   ]
  },
  {
   "cell_type": "markdown",
   "id": "670cd2bc-fe54-498a-b64d-84b298d31bf5",
   "metadata": {},
   "source": [
    "15. Create a program that removes all occurrences of a specific element from a list using a `for` loop."
   ]
  },
  {
   "cell_type": "code",
   "execution_count": null,
   "id": "83278b1d-4e14-49a4-8a10-dabcdd438696",
   "metadata": {},
   "outputs": [],
   "source": [
    "l1 = [1,2,7,4,5,6,7,8,9]\n",
    "l2 = []\n",
    "e = int(input(\"Enter element to remove -\"))\n",
    "for i in l1:\n",
    "    if e != i:\n",
    "        l2.append(i)\n",
    "print(\"Original list -\",l1)\n",
    "print(\"\")"
   ]
  },
  {
   "cell_type": "markdown",
   "id": "882fea69-42ae-4999-b1cd-0b820d7a75ee",
   "metadata": {},
   "source": [
    "16. Develop a program that generates a multiplication table for numbers from 1 to 5 using a nested `for` loop."
   ]
  },
  {
   "cell_type": "code",
   "execution_count": 10,
   "id": "7cfd3822-022a-4c4e-98ec-dd9fedf5f6be",
   "metadata": {},
   "outputs": [
    {
     "name": "stdin",
     "output_type": "stream",
     "text": [
      "Enter element to remove - 7\n"
     ]
    },
    {
     "name": "stdout",
     "output_type": "stream",
     "text": [
      "Original list - [1, 2, 7, 4, 5, 6, 7, 8, 9]\n",
      "Modified list - [1, 2, 4, 5, 6, 8, 9]\n"
     ]
    }
   ],
   "source": [
    "l1 = [1,2,7,4,5,6,7,8,9]\n",
    "l2 = []\n",
    "e = int(input(\"Enter element to remove -\"))\n",
    "for i in l1:\n",
    "    if e != i:\n",
    "        l2.append(i)\n",
    "print(\"Original list -\",l1)\n",
    "print(\"Modified list -\",l2)"
   ]
  },
  {
   "cell_type": "markdown",
   "id": "8edcfc14-dd93-454d-beca-ee5c159792be",
   "metadata": {},
   "source": [
    "17. Write a program that converts a list of Fahrenheit temperatures to Celsius using a `for` loop."
   ]
  },
  {
   "cell_type": "code",
   "execution_count": 24,
   "id": "2dea22c9-7db3-4c39-ad61-11dc3e380c9c",
   "metadata": {},
   "outputs": [
    {
     "name": "stdout",
     "output_type": "stream",
     "text": [
      "List of fahrenheit temperatures - [100.4, 102.2, 104, 105.8]\n",
      "List of celsius temperatures - [38.00000000000001, 39.0, 40.0, 41.0]\n"
     ]
    }
   ],
   "source": [
    "f = [100.4,102.2,104,105.8]\n",
    "c = []\n",
    "for i in f:\n",
    "    c.append((i - 32) * (5/9))\n",
    "print(\"List of fahrenheit temperatures -\",f)\n",
    "print(\"List of celsius temperatures -\",c)"
   ]
  },
  {
   "cell_type": "markdown",
   "id": "eed37c52-c356-4ebe-a3d0-8658401dd665",
   "metadata": {},
   "source": [
    "18. Create a program to print the common elements from two lists using a `for` loop."
   ]
  },
  {
   "cell_type": "code",
   "execution_count": 5,
   "id": "e200f24c-0a44-4f4a-afaa-e0767379f600",
   "metadata": {},
   "outputs": [
    {
     "name": "stdout",
     "output_type": "stream",
     "text": [
      "Common elements between the two list - [2, 4, 6, 8]\n"
     ]
    }
   ],
   "source": [
    "lst_1 = [1,2,3,4,5,6,7,8,9]\n",
    "lst_2 = [11,2,13,4,15,6,17,8,19]\n",
    "com_l = []\n",
    "for i in lst_1:\n",
    "    for j in lst_2:\n",
    "        if i==j and i not in com_l:\n",
    "            com_l.append(i)\n",
    "if com_l == []:\n",
    "    print(\"There's no common element \")\n",
    "else :\n",
    "    print(\"Common elements between the two list -\",com_l)"
   ]
  },
  {
   "cell_type": "markdown",
   "id": "26856331-7ca8-4ab8-8f08-02766344f240",
   "metadata": {},
   "source": [
    "19. Develop a program that prints the pattern of right-angled triangles using a `for` loop. Use ‘*’ to draw the\n",
    "pattern."
   ]
  },
  {
   "cell_type": "code",
   "execution_count": 9,
   "id": "0dccfa8c-b09e-46a9-b6c5-deb34d386336",
   "metadata": {},
   "outputs": [
    {
     "name": "stdin",
     "output_type": "stream",
     "text": [
      "Enter number of rows - 5\n"
     ]
    },
    {
     "name": "stdout",
     "output_type": "stream",
     "text": [
      "*\n",
      "**\n",
      "***\n",
      "****\n",
      "*****\n"
     ]
    }
   ],
   "source": [
    "n = int(input(\"Enter number of rows -\"))\n",
    "for i in range(1,n+1):\n",
    "    print(\"*\"*i)"
   ]
  },
  {
   "cell_type": "markdown",
   "id": "8b371b3d-60d8-4f2a-9003-f9ec7b4857a1",
   "metadata": {},
   "source": [
    "20. Write a program to find the greatest common divisor (GCD) of two numbers using a `for` loop."
   ]
  },
  {
   "cell_type": "code",
   "execution_count": 4,
   "id": "a5041a1a-584e-460b-b02c-726dd335175b",
   "metadata": {},
   "outputs": [
    {
     "name": "stdin",
     "output_type": "stream",
     "text": [
      "Enter first number - 36\n",
      "Enter second number - 60\n"
     ]
    },
    {
     "name": "stdout",
     "output_type": "stream",
     "text": [
      "GCD of 36 and 60 - 12\n"
     ]
    }
   ],
   "source": [
    "a = int(input(\"Enter first number -\"))\n",
    "b = int(input(\"Enter second number -\"))\n",
    "gcd = 1\n",
    "for i in range(1,min(a,b)+1):\n",
    "    if a%i == 0 and b%i == 0 :\n",
    "        gcd = i\n",
    "print(\"GCD of\",a,\"and\",b,\"-\",gcd)"
   ]
  },
  {
   "cell_type": "markdown",
   "id": "49b98392-1090-4b01-8122-37635238cdaa",
   "metadata": {},
   "source": [
    "_________________________________________________________________________________________"
   ]
  },
  {
   "cell_type": "markdown",
   "id": "c897eb50-bd14-48ff-88d8-a210f7b12a31",
   "metadata": {},
   "source": [
    "ADVANCE LEVEL"
   ]
  },
  {
   "cell_type": "markdown",
   "id": "eb0cc3bc-2317-472a-86e2-00c9c45f22cf",
   "metadata": {},
   "source": [
    "21. Create a program that calculates the sum of the digits of numbers in a list using a list comprehension."
   ]
  },
  {
   "cell_type": "code",
   "execution_count": 25,
   "id": "c0da8ae4-ae53-4892-a421-182c768da463",
   "metadata": {},
   "outputs": [
    {
     "name": "stdout",
     "output_type": "stream",
     "text": [
      "Sum of digits of elements - [6, 15, 24]\n"
     ]
    }
   ],
   "source": [
    "l = [123,456,789]\n",
    "new_l = [sum(int(d) for d in str(n)) for n in l]\n",
    "print(\"Sum of digits of elements -\",new_l)"
   ]
  },
  {
   "cell_type": "markdown",
   "id": "3a9994d5-4f79-427e-8aa0-6730b7618a3b",
   "metadata": {},
   "source": [
    "22. Write a program to find the prime factors of a given number using a `for` loop and list comprehension."
   ]
  },
  {
   "cell_type": "code",
   "execution_count": 37,
   "id": "4fdf86e5-6c01-4bb8-a55d-b1289e5bb3f2",
   "metadata": {},
   "outputs": [
    {
     "name": "stdin",
     "output_type": "stream",
     "text": [
      "enter a number :- 120\n"
     ]
    },
    {
     "name": "stdout",
     "output_type": "stream",
     "text": [
      "Prime factors of 120 - [2, 3, 5]\n"
     ]
    }
   ],
   "source": [
    "n , pfl = int(input(\"enter a number :-\")) , []\n",
    "if n > 1:\n",
    "    l = [i for i in range(2,n+1) if n%i == 0]\n",
    "    for i in l:\n",
    "        cnt = 0\n",
    "        for j in range(2,i+1):\n",
    "            if i%j == 0 : cnt += 1\n",
    "        if cnt == 1 : pfl.append(i)\n",
    "    print(\"Prime factors of\",n,\"-\",pfl)\n",
    "elif n == 1 :\n",
    "    print(\"Since given number is 1, so it has no prime factors.\")\n",
    "else:\n",
    "    print(\"Invalid input\")"
   ]
  },
  {
   "cell_type": "markdown",
   "id": "df276ee4-e241-45e8-8665-73306bc8d0cb",
   "metadata": {},
   "source": [
    "23. Develop a program that extracts unique elements from a list and stores them in a new list using a list\n",
    "comprehension."
   ]
  },
  {
   "cell_type": "code",
   "execution_count": 18,
   "id": "baf243d3-a6c9-49b8-8802-8ef79651aef1",
   "metadata": {},
   "outputs": [
    {
     "name": "stdout",
     "output_type": "stream",
     "text": [
      "List of unique numbers - [16, 18, 20]\n"
     ]
    }
   ],
   "source": [
    "l = [11,12,13,14,11,16,12,18,13,20,14]\n",
    "lst = [i for i in l if l.count(i)==1]\n",
    "print(\"List of unique numbers -\",lst)"
   ]
  },
  {
   "cell_type": "markdown",
   "id": "afc021fc-1dfd-497c-ba9f-05650b9190ac",
   "metadata": {},
   "source": [
    "24. Create a program that generates a list of all palindromic numbers up to a specified limit using a list\n",
    "comprehension."
   ]
  },
  {
   "cell_type": "code",
   "execution_count": 16,
   "id": "75cdace1-f604-4345-96bc-9f30f1879377",
   "metadata": {},
   "outputs": [
    {
     "name": "stdin",
     "output_type": "stream",
     "text": [
      "Enter range :- 500\n"
     ]
    },
    {
     "name": "stdout",
     "output_type": "stream",
     "text": [
      "List of palindromic numbers - [0, 1, 2, 3, 4, 5, 6, 7, 8, 9, 11, 22, 33, 44, 55, 66, 77, 88, 99, 101, 111, 121, 131, 141, 151, 161, 171, 181, 191, 202, 212, 222, 232, 242, 252, 262, 272, 282, 292, 303, 313, 323, 333, 343, 353, 363, 373, 383, 393, 404, 414, 424, 434, 444, 454, 464, 474, 484, 494]\n"
     ]
    }
   ],
   "source": [
    "n = int(input(\"Enter range :-\"))\n",
    "l = [i for i in range(n+1) if str(i) == str(i)[::-1]]\n",
    "print(\"List of palindromic numbers -\",l)"
   ]
  },
  {
   "cell_type": "markdown",
   "id": "62720557-7dda-49ad-bd2e-fba378bf74a8",
   "metadata": {},
   "source": [
    "25. Write a program to flatten a nested list using list comprehension."
   ]
  },
  {
   "cell_type": "code",
   "execution_count": 8,
   "id": "261f9855-b9bc-4e3f-94fb-6402efd70043",
   "metadata": {},
   "outputs": [
    {
     "name": "stdout",
     "output_type": "stream",
     "text": [
      "Flatten_list - [1, 2, 3, 4, 5, 6, 7, 8, 9, 10, 11, 12]\n"
     ]
    }
   ],
   "source": [
    "l = [[1,2,3],[4,5],[6,7,8],[9,10,11,12]]\n",
    "fl = [i for sublist in l for i in sublist]\n",
    "print(\"Flatten_list -\",fl)"
   ]
  },
  {
   "cell_type": "markdown",
   "id": "b04d56ec-5c96-4726-b1bc-d750cf60beff",
   "metadata": {},
   "source": [
    "26. Develop a program that computes the sum of even and odd numbers in a list separately using list\n",
    "comprehension."
   ]
  },
  {
   "cell_type": "code",
   "execution_count": 13,
   "id": "8fc23076-c2cb-4e75-a748-925486244d05",
   "metadata": {},
   "outputs": [
    {
     "name": "stdout",
     "output_type": "stream",
     "text": [
      "Sum of even numbers - 20\n",
      "Sum of odd numbers - 25\n"
     ]
    }
   ],
   "source": [
    "l = [1,2,3,4,5,6,7,8,9]\n",
    "sum_even = sum([i for i in l if i%2 == 0])\n",
    "sum_odd  = sum([j for j in l if j%2 != 0])\n",
    "print(\"Sum of even numbers -\",sum_even)\n",
    "print(\"Sum of odd numbers -\",sum_odd)"
   ]
  },
  {
   "cell_type": "markdown",
   "id": "ee9913ec-418b-4f12-881e-c91b8e457c14",
   "metadata": {},
   "source": [
    "27. Create a program that generates a list of squares of odd numbers between 1 and 10 using list\n",
    "comprehension."
   ]
  },
  {
   "cell_type": "code",
   "execution_count": 16,
   "id": "6a0f8257-7eb6-4828-8096-b286d4603a53",
   "metadata": {},
   "outputs": [
    {
     "name": "stdout",
     "output_type": "stream",
     "text": [
      "List of squares of odd numbers - [1, 9, 25, 49, 81]\n"
     ]
    }
   ],
   "source": [
    "l = [i**2 for i in range(1,11) if i%2 != 0]\n",
    "print(\"List of squares of odd numbers -\",l)"
   ]
  },
  {
   "cell_type": "markdown",
   "id": "7cb43186-fe30-44ec-8dd0-c92241391de3",
   "metadata": {},
   "source": [
    "28. Write a program that combines two lists into a dictionary using list comprehension."
   ]
  },
  {
   "cell_type": "code",
   "execution_count": 26,
   "id": "1ac10a31-335c-41ce-b328-88ca1c000281",
   "metadata": {},
   "outputs": [
    {
     "name": "stdout",
     "output_type": "stream",
     "text": [
      "Dictionary - {'a': 1, 'b': 4, 'c': 9, 'd': 16, 'e': 25, 'f': 36, 'g': 49, 'h': 64, 'i': 81}\n"
     ]
    }
   ],
   "source": [
    "l1 = [\"a\",\"b\",\"c\",\"d\",\"e\",\"f\",\"g\",\"h\",\"i\"]\n",
    "l2 = [1,4,9,16,25,36,49,64,81]\n",
    "dct = {l1[i]:l2[i] for i in range(9)}\n",
    "print(\"Dictionary -\",dct)"
   ]
  },
  {
   "cell_type": "markdown",
   "id": "42b86f0f-7d28-4bba-9d09-4c2affc1d524",
   "metadata": {},
   "source": [
    "29. Develop a program that extracts the vowels from a string and stores them in a list using list comprehension."
   ]
  },
  {
   "cell_type": "code",
   "execution_count": 31,
   "id": "bd01bcbf-9543-42ca-bce1-ae192f686262",
   "metadata": {},
   "outputs": [
    {
     "name": "stdin",
     "output_type": "stream",
     "text": [
      "Enter string - alphabet\n"
     ]
    },
    {
     "name": "stdout",
     "output_type": "stream",
     "text": [
      "List with extracted vowels - ['a', 'a', 'e']\n"
     ]
    }
   ],
   "source": [
    "v = ['a','e','i','o','u']\n",
    "s = str(input(\"Enter string -\")).lower()\n",
    "l = [i for i in s if i in v]\n",
    "print(\"List with extracted vowels -\",l)"
   ]
  },
  {
   "cell_type": "markdown",
   "id": "3f2adf35-d62a-42c0-a7d2-a391607f7fcd",
   "metadata": {},
   "source": [
    "30. Create a program that removes all non-numeric characters from a list of strings using list comprehension."
   ]
  },
  {
   "cell_type": "code",
   "execution_count": 34,
   "id": "4ae05059-e47e-483b-a3be-b43f1a8b7081",
   "metadata": {},
   "outputs": [
    {
     "name": "stdout",
     "output_type": "stream",
     "text": [
      "Modified list - ['112', '9067', '0001']\n"
     ]
    }
   ],
   "source": [
    "l = [\"pwskills\",\"@@\",\"112\",\" \",\"9067\",\"program\",\"0001\"]\n",
    "num_lst = [i for i in l if i.isnumeric() is True]\n",
    "print(\"Modified list -\",num_lst)"
   ]
  },
  {
   "cell_type": "markdown",
   "id": "b5bae13d-d6f0-467b-b78a-643c36eca0fd",
   "metadata": {},
   "source": [
    "_________________________________________________________________________________________"
   ]
  },
  {
   "cell_type": "markdown",
   "id": "c547cf82-d306-4f64-a2e4-8cccca1d225a",
   "metadata": {},
   "source": [
    "CHALLENGE LEVEL"
   ]
  },
  {
   "cell_type": "markdown",
   "id": "0f4258c5-205f-481d-bff4-9ec3917c2bfa",
   "metadata": {},
   "source": [
    "31. Write a program to generate a list of prime numbers using the Sieve of Eratosthenes algorithm and list\n",
    "comprehension."
   ]
  },
  {
   "cell_type": "code",
   "execution_count": 3,
   "id": "21a21bab-5d48-46b4-bfaa-80cb3cc75cdd",
   "metadata": {},
   "outputs": [
    {
     "name": "stdin",
     "output_type": "stream",
     "text": [
      "enter limit - 50\n"
     ]
    },
    {
     "name": "stdout",
     "output_type": "stream",
     "text": [
      "List of prime numbers [2, 3, 5, 7, 11, 13, 17, 19, 23, 29, 31, 37, 41, 43, 47]\n"
     ]
    }
   ],
   "source": [
    "n = int(input(\"enter limit -\"))\n",
    "pl = [True] * (n+1)\n",
    "pl[0] = pl[1] = False\n",
    "for i in range(2, int(n**0.5) + 1):\n",
    "    if pl[i]:\n",
    "        for j in range(i*i, n+1, i):\n",
    "            pl[j] = False\n",
    "prime = [num for num in range(n+1) if pl[num]]\n",
    "print(\"List of prime numbers\",prime)"
   ]
  },
  {
   "cell_type": "markdown",
   "id": "01b3e802-52bd-4bdc-9ae7-8651e9dfaa00",
   "metadata": {},
   "source": [
    "32. Create a program that generates a list of all Pythagorean triplets up to a specified limit using list\n",
    "comprehension."
   ]
  },
  {
   "cell_type": "code",
   "execution_count": null,
   "id": "98c4c1db-8435-4e12-9667-f41fbf116232",
   "metadata": {},
   "outputs": [],
   "source": [
    "n = int(input(\"enter limit -\"))\n",
    "l = [(a, b, c) for a in range(1, n+1) for b in range(a, n+1) for c in range(b, n+1) if a**2 + b**2 == c**2]\n",
    "print(\"List of all Pythagorean triplets -\",l)"
   ]
  },
  {
   "cell_type": "markdown",
   "id": "8e7e3cb0-3c15-4002-9cf3-30fbfa91129e",
   "metadata": {},
   "source": [
    "33. Develop a program that generates a list of all possible combinations of two lists using list comprehension."
   ]
  },
  {
   "cell_type": "code",
   "execution_count": 22,
   "id": "4daecd0e-d13b-4123-a9f9-a37639dcf2a1",
   "metadata": {},
   "outputs": [
    {
     "name": "stdout",
     "output_type": "stream",
     "text": [
      "[(2, 'c'), (3, 'c'), (1, 'c'), (2, 'a'), (2, 'b'), (3, 'a'), (3, 'b'), (1, 'a'), (1, 'b'), ('c', 1), ('a', 1), ('b', 3), ('c', 3), ('a', 3), ('b', 2), ('c', 2), ('a', 2), ('b', 1)]\n"
     ]
    }
   ],
   "source": [
    "l1 = [1,2,3]\n",
    "l2 = [\"a\",\"b\",\"c\"]\n",
    "l3 = list(set([(i,j) for i in l1 for j in l2]))\n",
    "l4 = list(set([(j,i) for j in l2 for i in l1]))\n",
    "l3.extend(l4)\n",
    "print(\"List of all possible combnations -\",l3)"
   ]
  },
  {
   "cell_type": "markdown",
   "id": "b002ad7a-0deb-45e8-9f23-19847d65475c",
   "metadata": {},
   "source": [
    "34. Write a program that calculates the mean, median, and mode of a list of numbers using list\n",
    "comprehension."
   ]
  },
  {
   "cell_type": "code",
   "execution_count": 6,
   "id": "a20d9bd8-42d6-463b-b38e-685ffa48990b",
   "metadata": {},
   "outputs": [
    {
     "name": "stdout",
     "output_type": "stream",
     "text": [
      "Mean : 5.5\n",
      "Median : 6\n",
      "Mode : no mode\n"
     ]
    }
   ],
   "source": [
    "l = sorted([1,2,3,4,5,6,7,8,9,10])\n",
    "mean = sum(l)/len(l)\n",
    "if len(l)/2 == 0 : median = l[(len(l)/2)-1] + l[(len(l)/2)]\n",
    "elif len(l)/2 != 0: median = l[(len(l)//2)]\n",
    "cnt = {i:l.count(i) for i in l}\n",
    "mode = sorted([i for i,j in cnt.items() if j==max(cnt.values())])\n",
    "print(\"Mean :\", mean)\n",
    "print(\"Median :\", median)\n",
    "if mode == l:\n",
    "    print(\"Mode : no mode\")\n",
    "else:\n",
    "    print(\"Mode:\", mode)"
   ]
  },
  {
   "cell_type": "markdown",
   "id": "ae139bf5-e854-4312-b4b9-03230d591128",
   "metadata": {},
   "source": [
    "35. Create a program that generates Pascal's triangle up to a specified number of rows using list\n",
    "comprehension."
   ]
  },
  {
   "cell_type": "code",
   "execution_count": 43,
   "id": "a2ff14b1-9fc5-4005-a93b-64f646296bb4",
   "metadata": {},
   "outputs": [
    {
     "name": "stdin",
     "output_type": "stream",
     "text": [
      "Enter number of rows - 10\n"
     ]
    },
    {
     "name": "stdout",
     "output_type": "stream",
     "text": [
      "[1]\n",
      "[1, 1]\n",
      "[1, 2, 1]\n",
      "[1, 3, 3, 1]\n",
      "[1, 4, 6, 4, 1]\n",
      "[1, 5, 10, 10, 5, 1]\n",
      "[1, 6, 15, 20, 15, 6, 1]\n",
      "[1, 7, 21, 35, 35, 21, 7, 1]\n",
      "[1, 8, 28, 56, 70, 56, 28, 8, 1]\n",
      "[1, 9, 36, 84, 126, 126, 84, 36, 9, 1]\n"
     ]
    }
   ],
   "source": [
    "n = int(input(\"Enter number of rows -\"))\n",
    "t = [[1] * row for row in range(1,n+1)]\n",
    "for i in range(2, n):\n",
    "    for j in range(1, i):\n",
    "        t[i][j] = t[i-1][j-1] + t[i-1][j]\n",
    "        \n",
    "print(*t,sep=\"\\n\")"
   ]
  },
  {
   "cell_type": "markdown",
   "id": "d7efd27e-5353-42cf-a346-e50bf4388fef",
   "metadata": {},
   "source": [
    "36. Develop a program that calculates the sum of the digits of a factorial of numbers from 1 to 5 using list\n",
    "comprehension."
   ]
  },
  {
   "cell_type": "code",
   "execution_count": 6,
   "id": "67c30e27-7edc-410c-9722-b5ad62b248d1",
   "metadata": {},
   "outputs": [
    {
     "name": "stdout",
     "output_type": "stream",
     "text": [
      "Sum of digits of 1 factorial (1) - 1\n",
      "Sum of digits of 2 factorial (2) - 2\n",
      "Sum of digits of 3 factorial (6) - 6\n",
      "Sum of digits of 4 factorial (24) - 6\n",
      "Sum of digits of 5 factorial (120) - 3\n"
     ]
    }
   ],
   "source": [
    "a = 1\n",
    "for n in range(1,6):\n",
    "    a *= n \n",
    "    s = [int(i) for i in str(a)]\n",
    "    print(f\"Sum of digits of {n} factorial ({a}) - {sum(s)}\")"
   ]
  },
  {
   "cell_type": "markdown",
   "id": "372e5877-33d3-449f-97b8-64e86908aee4",
   "metadata": {},
   "source": [
    "37. Write a program that finds the longest word in a sentence using list comprehension."
   ]
  },
  {
   "cell_type": "code",
   "execution_count": 19,
   "id": "f810a8d0-a53c-48ef-aa05-4457a3cf4247",
   "metadata": {},
   "outputs": [
    {
     "name": "stdin",
     "output_type": "stream",
     "text": [
      "Enter string - hey there i'm using whatsapp\n"
     ]
    },
    {
     "name": "stdout",
     "output_type": "stream",
     "text": [
      "Longest word in the sentence - whatsapp\n"
     ]
    }
   ],
   "source": [
    "s = str(input(\"Enter string -\")).split()\n",
    "l = [i for i in s if max(s,key=len)==i]\n",
    "print(\"Longest word in the sentence -\",l[0])"
   ]
  },
  {
   "cell_type": "markdown",
   "id": "06501300-9e58-4c84-861c-517476c1ee52",
   "metadata": {},
   "source": [
    "38. Create a program that filters a list of strings to include only those with more than three vowels using list\n",
    "comprehension."
   ]
  },
  {
   "cell_type": "code",
   "execution_count": 27,
   "id": "12dc578d-a0ba-4563-bcc7-3e7e2cf3a85c",
   "metadata": {},
   "outputs": [
    {
     "name": "stdin",
     "output_type": "stream",
     "text": [
      "Enter string - i want you to do the calculation\n"
     ]
    },
    {
     "name": "stdout",
     "output_type": "stream",
     "text": [
      "List of strings having more than 3 vowels - ['calculation']\n"
     ]
    }
   ],
   "source": [
    "s = input(\"Enter string -\").lower().split()\n",
    "l = [w for w in s if sum(1 for ch in w if ch in 'aeiou')>3]\n",
    "if l == [] : print(\"No word in the string have more than 3 vowels\")\n",
    "else : print(\"List of strings having more than 3 vowels -\",l)"
   ]
  },
  {
   "cell_type": "markdown",
   "id": "c517eb05-0029-4313-a134-14702f852760",
   "metadata": {},
   "source": [
    "39. Develop a program that calculates the sum of the digits of numbers from 1 to 1000 using list\n",
    "comprehension."
   ]
  },
  {
   "cell_type": "code",
   "execution_count": 46,
   "id": "67a471c5-a481-4966-862d-573bad2e0627",
   "metadata": {},
   "outputs": [
    {
     "name": "stdout",
     "output_type": "stream",
     "text": [
      "Sum of digits of numbers from 1-1000 - 13501\n"
     ]
    }
   ],
   "source": [
    "l = sum([sum(int(j) for j in str(i)) for i in range(1,1001)])\n",
    "print(\"Sum of digits of numbers from 1-1000 -\",l)"
   ]
  },
  {
   "cell_type": "markdown",
   "id": "f616024c-3d9f-4ca7-9d75-801d6f4accf5",
   "metadata": {},
   "source": [
    "40. Write a program that generates a list of prime palindromic numbers using list comprehension."
   ]
  },
  {
   "cell_type": "code",
   "execution_count": 52,
   "id": "0fe6cb30-fe7e-4359-b2ae-cd31dd2bd9f6",
   "metadata": {},
   "outputs": [
    {
     "name": "stdin",
     "output_type": "stream",
     "text": [
      "Enter range :- 1000\n"
     ]
    },
    {
     "name": "stdout",
     "output_type": "stream",
     "text": [
      "List of prime palindromic numbers - [2, 3, 5, 7, 11, 101, 131, 151, 181, 191, 313, 353, 373, 383, 727, 757, 787, 797, 919, 929]\n"
     ]
    }
   ],
   "source": [
    "n = int(input(\"Enter range :-\"))\n",
    "l = [i for i in range(2,n+1) if str(i) == str(i)[::-1] and not any(i%j==0 for j in range(2,int(i/2)+1))]\n",
    "print(\"List of prime palindromic numbers -\",l)"
   ]
  }
 ],
 "metadata": {
  "kernelspec": {
   "display_name": "Python 3 (ipykernel)",
   "language": "python",
   "name": "python3"
  },
  "language_info": {
   "codemirror_mode": {
    "name": "ipython",
    "version": 3
   },
   "file_extension": ".py",
   "mimetype": "text/x-python",
   "name": "python",
   "nbconvert_exporter": "python",
   "pygments_lexer": "ipython3",
   "version": "3.10.8"
  }
 },
 "nbformat": 4,
 "nbformat_minor": 5
}
