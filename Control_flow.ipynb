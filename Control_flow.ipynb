{
 "cells": [
  {
   "cell_type": "markdown",
   "id": "97726b4a-d782-44cd-b540-97d8eae4d3e1",
   "metadata": {},
   "source": [
    "BASIC if-else statements"
   ]
  },
  {
   "cell_type": "markdown",
   "id": "7feabbd7-f135-4390-8917-ba6904f4a08b",
   "metadata": {},
   "source": [
    "1. Write a Python program to check if a given number is positive or negative."
   ]
  },
  {
   "cell_type": "code",
   "execution_count": null,
   "id": "63808ed8-929a-4a52-b6ac-2a0ce9940937",
   "metadata": {},
   "outputs": [
    {
     "name": "stdin",
     "output_type": "stream",
     "text": [
      "Enter number - 10\n"
     ]
    },
    {
     "name": "stdout",
     "output_type": "stream",
     "text": [
      "10 is a positive number.\n"
     ]
    }
   ],
   "source": [
    "n = int(input(\"Enter number -\"))\n",
    "if n > 0 : print(n,\"is a positive number.\")\n",
    "else : print(n,\"is a negative number.\")"
   ]
  },
  {
   "cell_type": "markdown",
   "id": "f826e3bf-3616-4308-b172-37d5c9ebcbfa",
   "metadata": {},
   "source": [
    "2. Create a program that determines if a person is eligible to vote based on their age."
   ]
  },
  {
   "cell_type": "code",
   "execution_count": 1,
   "id": "2dad0051-d893-48fc-adf8-37a06cf449b0",
   "metadata": {},
   "outputs": [
    {
     "name": "stdin",
     "output_type": "stream",
     "text": [
      "Enter your age in years - 22\n"
     ]
    },
    {
     "name": "stdout",
     "output_type": "stream",
     "text": [
      "You're an eligible voter\n"
     ]
    }
   ],
   "source": [
    "n = int(input(\"Enter your age in years -\"))\n",
    "if n >= 18 : print(\"You're an eligible voter\")\n",
    "else : print(\"You're not an eligible voter\")"
   ]
  },
  {
   "cell_type": "markdown",
   "id": "c736486f-3908-4e83-b4aa-8353d64c7f68",
   "metadata": {},
   "source": [
    "3. Develop a program to find the maximum of two numbers using if-else statements."
   ]
  },
  {
   "cell_type": "code",
   "execution_count": null,
   "id": "b936fb1f-ce16-4fb7-8e2a-41bdaac335b5",
   "metadata": {},
   "outputs": [
    {
     "name": "stdin",
     "output_type": "stream",
     "text": [
      "Enter 1st number - 10\n",
      "Enter 2nd number - 20\n"
     ]
    },
    {
     "name": "stdout",
     "output_type": "stream",
     "text": [
      "20 is greater than 10\n"
     ]
    }
   ],
   "source": [
    "a = int(input(\"Enter 1st number -\"))\n",
    "b = int(input(\"Enter 2nd number -\"))\n",
    "if a>b : print(a,\"is greater than\",b)\n",
    "else : print(b,\"is greater than\",a)"
   ]
  },
  {
   "cell_type": "markdown",
   "id": "b40b59a1-b279-41b4-9972-1938d68e5ae3",
   "metadata": {},
   "source": [
    "4. Write a Python script to classify a given year as a leap year or not."
   ]
  },
  {
   "cell_type": "code",
   "execution_count": 5,
   "id": "451f5a00-8625-48a8-8f47-2c9c9f027fd2",
   "metadata": {},
   "outputs": [
    {
     "name": "stdin",
     "output_type": "stream",
     "text": [
      "Enter a year:  2024\n"
     ]
    },
    {
     "name": "stdout",
     "output_type": "stream",
     "text": [
      "2024 is a leap year\n"
     ]
    }
   ],
   "source": [
    "y = int(input(\"Enter a year: \"))\n",
    "if y % 4 == 0 : print(y,\"is a leap year\")\n",
    "else : print(y, \"is not a leap year\")"
   ]
  },
  {
   "cell_type": "markdown",
   "id": "28704254-8c19-4803-a0e9-7d963552aac7",
   "metadata": {},
   "source": [
    "5. Create a program that checks whether a character is a vowel or a consonant."
   ]
  },
  {
   "cell_type": "code",
   "execution_count": 4,
   "id": "d69d8f01-c7d8-4b31-bfc9-f1369d0bbcf1",
   "metadata": {},
   "outputs": [
    {
     "name": "stdin",
     "output_type": "stream",
     "text": [
      "enter ch - i\n"
     ]
    },
    {
     "name": "stdout",
     "output_type": "stream",
     "text": [
      "i is a vowel\n"
     ]
    }
   ],
   "source": [
    "ch = str(input(\"enter ch -\")).lower()\n",
    "if ch in 'aeiou':\n",
    "    print(ch,\"is a vowel\")\n",
    "else :\n",
    "    print(ch,\"is a consonent\")"
   ]
  },
  {
   "cell_type": "markdown",
   "id": "4f29280a-2230-47c5-a828-fc0cc79d91ac",
   "metadata": {},
   "source": [
    "6. Implement a program to determine whether a given number is even or odd."
   ]
  },
  {
   "cell_type": "code",
   "execution_count": 2,
   "id": "1984736b-e607-48c0-94f7-bda73f2f5f5f",
   "metadata": {},
   "outputs": [
    {
     "name": "stdin",
     "output_type": "stream",
     "text": [
      "enter number - 10\n"
     ]
    },
    {
     "name": "stdout",
     "output_type": "stream",
     "text": [
      "10 is even\n"
     ]
    }
   ],
   "source": [
    "n = int(input(\"enter number -\"))\n",
    "if n%2 == 0 : print(n,\"is even\")\n",
    "else : print(n,\"is odd\")"
   ]
  },
  {
   "cell_type": "markdown",
   "id": "eedb9805-faab-4c82-889b-f33f32a6f9ba",
   "metadata": {},
   "source": [
    "7. Write a Python function to calculate the absolute value of a number without using the `abs()` function."
   ]
  },
  {
   "cell_type": "code",
   "execution_count": 3,
   "id": "a8ccda10-6d2a-405d-a2b7-4f0938c40aa9",
   "metadata": {},
   "outputs": [
    {
     "name": "stdin",
     "output_type": "stream",
     "text": [
      "enter number -> -10\n"
     ]
    },
    {
     "name": "stdout",
     "output_type": "stream",
     "text": [
      "Absolute value of -10 -> 10\n"
     ]
    }
   ],
   "source": [
    "n = int(input(\"enter number ->\"))\n",
    "if n >= 0:\n",
    "    print(\"Absolute value of\",n,\"->\",n)\n",
    "else :\n",
    "    print(\"Absolute value of\",n,\"->\",-n)"
   ]
  },
  {
   "cell_type": "markdown",
   "id": "1064f6a2-087d-4a53-a912-ddedb9b5d3a6",
   "metadata": {},
   "source": [
    "8. Develop a program that determines the largest of three given numbers using if-else statements."
   ]
  },
  {
   "cell_type": "code",
   "execution_count": 5,
   "id": "ced9127c-6521-461d-b55f-cfcd40762fa0",
   "metadata": {},
   "outputs": [
    {
     "name": "stdin",
     "output_type": "stream",
     "text": [
      "enter 1st number - 10\n",
      "enter 2nd number - 20\n",
      "enter 3rd number - 30\n"
     ]
    },
    {
     "name": "stdout",
     "output_type": "stream",
     "text": [
      "30 is the largest number\n"
     ]
    }
   ],
   "source": [
    "a = int(input(\"enter 1st number -\"))\n",
    "b = int(input(\"enter 2nd number -\"))\n",
    "c = int(input(\"enter 3rd number -\"))\n",
    "\n",
    "if a>b and a>c :\n",
    "    print(a,\"is the largest number\")\n",
    "elif b>a and b>c :\n",
    "    print(b,\"is the largest number\")\n",
    "else :\n",
    "    print(c,\"is the largest number\")"
   ]
  },
  {
   "cell_type": "markdown",
   "id": "3aa9cef3-8fd1-4165-a070-479fbd5bfb10",
   "metadata": {},
   "source": [
    "9. Create a program that checks if a given string is a palindrome."
   ]
  },
  {
   "cell_type": "code",
   "execution_count": 4,
   "id": "d7154aeb-2280-4bef-97a4-5b3aeed30459",
   "metadata": {},
   "outputs": [
    {
     "name": "stdin",
     "output_type": "stream",
     "text": [
      "Enter string - level\n"
     ]
    },
    {
     "name": "stdout",
     "output_type": "stream",
     "text": [
      "level is pallindrome\n"
     ]
    }
   ],
   "source": [
    "s = input(\"Enter string -\")\n",
    "if s == s[len(s)-1::-1] :\n",
    "    print(s,\"is pallindrome\")\n",
    "else : print(s,\"is not pallindrome\")"
   ]
  },
  {
   "cell_type": "markdown",
   "id": "f96cb990-ff6d-4d58-b72c-5f0c96645b33",
   "metadata": {},
   "source": [
    "10. Write a Python program to calculate the grade based on a student's score."
   ]
  },
  {
   "cell_type": "code",
   "execution_count": 5,
   "id": "ccfea4df-ff12-4e40-a8f5-4ab9786a8fe1",
   "metadata": {},
   "outputs": [
    {
     "name": "stdin",
     "output_type": "stream",
     "text": [
      "Enter score out of 100 - 98\n"
     ]
    },
    {
     "name": "stdout",
     "output_type": "stream",
     "text": [
      "A grade\n"
     ]
    }
   ],
   "source": [
    "sr = int(input(\"Enter score out of 100 -\"))\n",
    "if sr<=100 and sr>70 :\n",
    "    print(\"A grade\")\n",
    "else :\n",
    "    print(\"B grade\")"
   ]
  },
  {
   "cell_type": "markdown",
   "id": "79bae073-8ded-4acf-a9d9-f8da431919ad",
   "metadata": {},
   "source": [
    "_______________________________________________________________________________________________"
   ]
  },
  {
   "cell_type": "markdown",
   "id": "8cfccb61-0b1c-4403-8866-f02dab21ec85",
   "metadata": {},
   "source": [
    "Nested If-Else Statements"
   ]
  },
  {
   "cell_type": "markdown",
   "id": "a82bbe74-6659-4f58-9159-155fa1cba759",
   "metadata": {},
   "source": [
    "11. Write a program to find the largest among three numbers using nested if-else statements."
   ]
  },
  {
   "cell_type": "code",
   "execution_count": 11,
   "id": "b93cd368-4d55-4ead-84a7-5af5d528e92b",
   "metadata": {},
   "outputs": [
    {
     "name": "stdin",
     "output_type": "stream",
     "text": [
      "enter 1st number - 1\n",
      "enter 2nd number - 2\n",
      "enter 3rd number - 3\n"
     ]
    },
    {
     "name": "stdout",
     "output_type": "stream",
     "text": [
      "Largest number - 3\n"
     ]
    }
   ],
   "source": [
    "a = int(input(\"enter 1st number -\"))\n",
    "b = int(input(\"enter 2nd number -\"))\n",
    "c = int(input(\"enter 3rd number -\"))\n",
    "\n",
    "if a>=b :\n",
    "    if a>=c :\n",
    "        print(\"Largest number -\",a)\n",
    "    else :\n",
    "        print(\"Largest number -\",c)\n",
    "else :\n",
    "    if b>=c :\n",
    "        print(\"Largest number -\",b)\n",
    "    else :\n",
    "        print(\"Largest number -\",c)"
   ]
  },
  {
   "cell_type": "markdown",
   "id": "1f300c47-7f54-463b-b738-77bdf399117d",
   "metadata": {},
   "source": [
    "12. Implement a program to determine if a triangle is equilateral, isosceles, or scalene."
   ]
  },
  {
   "cell_type": "code",
   "execution_count": 7,
   "id": "1772277d-bcf0-4efc-8e95-4d38ee386557",
   "metadata": {},
   "outputs": [
    {
     "name": "stdin",
     "output_type": "stream",
     "text": [
      "enter 1st side - 10\n",
      "enter 2nd side - 20\n",
      "enter 3rd side - 10\n"
     ]
    },
    {
     "name": "stdout",
     "output_type": "stream",
     "text": [
      "Isosceles triangle\n"
     ]
    }
   ],
   "source": [
    "a = int(input(\"enter 1st side -\"))\n",
    "b = int(input(\"enter 2nd side -\"))\n",
    "c = int(input(\"enter 3rd side -\"))\n",
    "\n",
    "if a==b or b==c or c==a :\n",
    "    if a==b==c :\n",
    "        print(\"Equilateral triangle\")\n",
    "    else :\n",
    "        print(\"Isosceles triangle\")\n",
    "else :\n",
    "    print(\"Scalene triangle\")"
   ]
  },
  {
   "cell_type": "markdown",
   "id": "baeda249-f535-47d7-8882-4d8ae1cba099",
   "metadata": {},
   "source": [
    "13. Develop a program that checks if a year is a leap year and also if it is a century year."
   ]
  },
  {
   "cell_type": "code",
   "execution_count": 8,
   "id": "a2f2f93f-c52d-4037-b93e-171105b87b20",
   "metadata": {},
   "outputs": [
    {
     "name": "stdin",
     "output_type": "stream",
     "text": [
      "Enter a year:  2023\n"
     ]
    },
    {
     "name": "stdout",
     "output_type": "stream",
     "text": [
      "2023 is neither a leap year nor a century year.\n"
     ]
    }
   ],
   "source": [
    "y = int(input(\"Enter a year: \"))\n",
    "if y % 4 == 0 :\n",
    "    if y % 100 == 0 :\n",
    "        if y % 400 == 0 :\n",
    "            print(y, \"is a leap year and century year.\")        \n",
    "        else : \n",
    "            print(y, \"is a century year but not a leap year.\")\n",
    "    else : \n",
    "        print(y, \"is a leap year but not a century year.\")\n",
    "else : \n",
    "    print(y, \"is neither a leap year nor a century year.\")"
   ]
  },
  {
   "cell_type": "markdown",
   "id": "3e70ccf6-1fa9-42cc-a5c1-7b12c772da32",
   "metadata": {},
   "source": [
    "14. Write a Python script to determine if a number is positive, negative, or zero."
   ]
  },
  {
   "cell_type": "code",
   "execution_count": 7,
   "id": "a25fc385-b9ce-4abd-9204-638dc338d142",
   "metadata": {},
   "outputs": [
    {
     "name": "stdin",
     "output_type": "stream",
     "text": [
      "Enter number - -5\n"
     ]
    },
    {
     "name": "stdout",
     "output_type": "stream",
     "text": [
      "-5 is negative\n"
     ]
    }
   ],
   "source": [
    "n = int(input(\"Enter number -\"))\n",
    "\n",
    "if n>=0 :\n",
    "    if n>0 : print(n,\"is positive\")\n",
    "    else : print(n,\"is zero\")\n",
    "\n",
    "else : print(n,\"is negative\")"
   ]
  },
  {
   "cell_type": "markdown",
   "id": "9def8464-2df9-48ac-8f1b-63fc114e334b",
   "metadata": {},
   "source": [
    "15. Create a program to check if a person is a teenager (between 13 and 19 years old)."
   ]
  },
  {
   "cell_type": "code",
   "execution_count": 10,
   "id": "91e4d0a6-201c-4957-8cad-d4c4c1de1fc5",
   "metadata": {},
   "outputs": [
    {
     "name": "stdin",
     "output_type": "stream",
     "text": [
      "Enter number - 15\n"
     ]
    },
    {
     "name": "stdout",
     "output_type": "stream",
     "text": [
      "You are a teenager\n"
     ]
    }
   ],
   "source": [
    "age = int(input(\"Enter number -\"))\n",
    " \n",
    "if age<20 :\n",
    "    if age>12 :\n",
    "        print(\"You are a teenager\")\n",
    "    else :\n",
    "        print(\"You are not a teenager\")\n",
    "else :\n",
    "    print(\"You are not a teenager\")"
   ]
  },
  {
   "cell_type": "markdown",
   "id": "9346153b-ed03-4fb5-ad59-c9d16db7db85",
   "metadata": {},
   "source": [
    "16. Develop a program that determines the type of angle based on its measure (acute, obtuse, or right)."
   ]
  },
  {
   "cell_type": "code",
   "execution_count": 15,
   "id": "dfbbc042-52c3-455e-ae70-3d36ec8a895e",
   "metadata": {},
   "outputs": [
    {
     "name": "stdin",
     "output_type": "stream",
     "text": [
      "Enter angle - 90\n"
     ]
    },
    {
     "name": "stdout",
     "output_type": "stream",
     "text": [
      "90 is right angle\n"
     ]
    }
   ],
   "source": [
    "n = int(input(\"Enter angle -\"))\n",
    "\n",
    "if n>=90 :\n",
    "    if n>90 :\n",
    "        print(n,\"is Obtuse angle\")\n",
    "    else :\n",
    "        print(n,\"is right angle\")\n",
    "else :\n",
    "    print(n,\"is acute angle\")"
   ]
  },
  {
   "cell_type": "markdown",
   "id": "3dd11beb-b344-45d7-a143-da8c7e2671b5",
   "metadata": {},
   "source": [
    "17. Write a Python program to calculate the roots of a quadratic equation."
   ]
  },
  {
   "cell_type": "code",
   "execution_count": 10,
   "id": "67d679fa-89d3-4876-9860-946728e969a7",
   "metadata": {},
   "outputs": [
    {
     "name": "stdin",
     "output_type": "stream",
     "text": [
      "Enter the coefficient of x^2 - 1\n",
      "Enter the coefficient of x - -7\n",
      "Enter the constant term - 12\n"
     ]
    },
    {
     "name": "stdout",
     "output_type": "stream",
     "text": [
      "The equation has two distinct real roots -> 4.0 and 3.0\n"
     ]
    }
   ],
   "source": [
    "a = float(input(\"Enter the coefficient of x^2 -\"))\n",
    "b = float(input(\"Enter the coefficient of x -\"))\n",
    "c = float(input(\"Enter the constant term -\"))\n",
    "d = (b**2) - (4*a*c)\n",
    "\n",
    "if d >= 0: \n",
    "    if d > 0 :\n",
    "        r1 = (-b + (d)**0.5) / (2*a) \n",
    "        r2 = (-b - (d)**0.5) / (2*a) \n",
    "        print(f\"The equation has two distinct real roots -> {r1} and {r2}\")\n",
    "    else : \n",
    "        r = (-b) / (2*a) \n",
    "        print(\"The equation has one real root ->\",r) \n",
    "else: \n",
    "    print(\"The equation has no real roots.\")"
   ]
  },
  {
   "cell_type": "markdown",
   "id": "ad149a59-b36e-4129-9c2d-9f7ba02198ca",
   "metadata": {},
   "source": [
    "18. Implement a program to determine the day of the week based on a user-provided number (1 for Monday, 2\n",
    "for Tuesday, etc.)."
   ]
  },
  {
   "cell_type": "code",
   "execution_count": 1,
   "id": "23db75bf-9a60-4d65-aa82-434a4c80ebb1",
   "metadata": {},
   "outputs": [
    {
     "name": "stdin",
     "output_type": "stream",
     "text": [
      "Enter number (1-7) -> 4\n"
     ]
    },
    {
     "name": "stdout",
     "output_type": "stream",
     "text": [
      "Thursday\n"
     ]
    }
   ],
   "source": [
    "n = int(input(\"Enter number (1-7) ->\"))\n",
    "if n<8:\n",
    "    if n<5 and n>0 :\n",
    "        if n<3 and n>0 :\n",
    "            if n==1 :\n",
    "                print(\"Monday\")\n",
    "            else :\n",
    "                print(\"Tuesday\")\n",
    "        else :\n",
    "            if n==3 :\n",
    "                print(\"Wednesday\")\n",
    "            else :\n",
    "                print(\"Thursday\")\n",
    "    else :\n",
    "        if n<7 and n>4 :\n",
    "            if n==5 :\n",
    "                print(\"Friday\")\n",
    "            else :\n",
    "                print(\"Saturday\")\n",
    "        else :\n",
    "            print(\"Sunday\")"
   ]
  },
  {
   "cell_type": "markdown",
   "id": "10d09203-d521-499c-b1e5-d49f22216c9c",
   "metadata": {},
   "source": [
    "19. Create a program that determines if a year is a leap year and also if it is evenly divisible by 400."
   ]
  },
  {
   "cell_type": "code",
   "execution_count": null,
   "id": "d5c9c84b-81cd-4e6f-9ebf-89bc01636432",
   "metadata": {},
   "outputs": [
    {
     "name": "stdin",
     "output_type": "stream",
     "text": [
      "Enter a year:  2024\n"
     ]
    },
    {
     "name": "stdout",
     "output_type": "stream",
     "text": [
      "2024 is a leap year but not divisible by 400\n"
     ]
    }
   ],
   "source": [
    "y = int(input(\"Enter a year: \"))\n",
    "if y % 4 == 0 :\n",
    "    if y % 100 == 0 :\n",
    "        if y % 400 == 0 :\n",
    "            print(y, \"is a leap year and evenly divisible by 400\")        \n",
    "        else : print(y, \"is neither a leap year nor divisible by 400\")\n",
    "    else : print(y, \"is a leap year but not divisible by 400\")\n",
    "else : print(y, \"is neither a leap year nor divisible by 400\")"
   ]
  },
  {
   "cell_type": "markdown",
   "id": "fa41b36d-9d74-4691-8f41-9009be9ef1cc",
   "metadata": {},
   "source": [
    "20. Develop a program that checks if a given number is prime or not using nested if-else statements."
   ]
  },
  {
   "cell_type": "code",
   "execution_count": 4,
   "id": "739f2bb5-307b-4cb8-9b17-f9a1ac88f7bb",
   "metadata": {},
   "outputs": [
    {
     "name": "stdin",
     "output_type": "stream",
     "text": [
      "Enter number - 41\n"
     ]
    },
    {
     "name": "stdout",
     "output_type": "stream",
     "text": [
      "41 is a prime number\n"
     ]
    }
   ],
   "source": [
    "n = int(input(\"Enter number -\"))\n",
    "\n",
    "if n>1 :\n",
    "    if n==2 :\n",
    "        print(n,\"is a prime number\")\n",
    "    else :\n",
    "        for i in range(2,n):\n",
    "            if n%i==0 :\n",
    "                print(n,\"is not a prime number\")\n",
    "                break\n",
    "        else :\n",
    "            print(n,\"is a prime number\")\n",
    "else :\n",
    "    print(n,\"is not a prime number\")    "
   ]
  },
  {
   "cell_type": "markdown",
   "id": "560f4b40-c4f2-4695-b241-56cfd3fe86a5",
   "metadata": {},
   "source": [
    "_______________________________________________________________________________________________"
   ]
  },
  {
   "cell_type": "markdown",
   "id": "c011eaaa-4559-4f7b-abbc-028f2e1f6451",
   "metadata": {},
   "source": [
    "Elif Statements"
   ]
  },
  {
   "cell_type": "markdown",
   "id": "d94f3177-1347-4866-8c15-01c72185306f",
   "metadata": {},
   "source": [
    "21. Write a Python program to assign grades based on different ranges of scores using elif statements."
   ]
  },
  {
   "cell_type": "code",
   "execution_count": 6,
   "id": "c7157779-5dc7-4475-a747-d8995a00b469",
   "metadata": {},
   "outputs": [
    {
     "name": "stdin",
     "output_type": "stream",
     "text": [
      "Enter score - 100\n"
     ]
    },
    {
     "name": "stdout",
     "output_type": "stream",
     "text": [
      "Grade - A\n"
     ]
    }
   ],
   "source": [
    "g = int(input(\"Enter score -\"))\n",
    "\n",
    "if g<=100 and g>89 :\n",
    "    print(\"Grade - A\")\n",
    "elif g<=89 and g>75 :\n",
    "    print(\"Grade - B\")\n",
    "elif g<=75 and g>59 :\n",
    "    print(\"Grade - C\")\n",
    "elif g<=59 and g>32 :\n",
    "    print(\"Grade - D\")\n",
    "else :\n",
    "    print(\"FAIL\")"
   ]
  },
  {
   "cell_type": "markdown",
   "id": "c2e2adc0-7cfe-4ed7-b2c8-cf81fe5afc9c",
   "metadata": {},
   "source": [
    "22. Implement a program to determine the type of a triangle based on its angles."
   ]
  },
  {
   "cell_type": "code",
   "execution_count": 9,
   "id": "ced8ce48-0561-466a-b7e9-71619058c0fa",
   "metadata": {},
   "outputs": [
    {
     "name": "stdin",
     "output_type": "stream",
     "text": [
      "Enter angle - 120\n"
     ]
    },
    {
     "name": "stdout",
     "output_type": "stream",
     "text": [
      "Type of a triangle -> Obtuse Triangle\n"
     ]
    }
   ],
   "source": [
    "n = int(input(\"Enter angle -\"))\n",
    "\n",
    "if n<180 and n>90 :\n",
    "    print(\"Type of a triangle -> Obtuse Triangle\")\n",
    "        \n",
    "elif n<90 and n>0 :\n",
    "    print(\"Type of a triangle -> Acute Triangle\")\n",
    "    \n",
    "elif n==90 :\n",
    "    print(\"Type of a triangle -> Right Triangle\")\n",
    "\n",
    "else :\n",
    "    print(\"Invalid value\")"
   ]
  },
  {
   "cell_type": "markdown",
   "id": "32609b0f-2bb9-484c-8ccc-a95ec2a45712",
   "metadata": {},
   "source": [
    "23. Develop a program to categorize a given person's BMI into underweight, normal, overweight, or obese using\n",
    "elif statements."
   ]
  },
  {
   "cell_type": "code",
   "execution_count": 12,
   "id": "7d5f1ae8-c053-45a4-b762-7ad9e1ce9ff0",
   "metadata": {},
   "outputs": [
    {
     "name": "stdin",
     "output_type": "stream",
     "text": [
      "Enter weight in kilograms:  77\n",
      "Enter height in meters:  1.89\n"
     ]
    },
    {
     "name": "stdout",
     "output_type": "stream",
     "text": [
      "Normal weight\n"
     ]
    }
   ],
   "source": [
    "weight = float(input(\"Enter weight in kilograms -\"))\n",
    "height = float(input(\"Enter height in meters -\"))\n",
    "\n",
    "bmi = weight / (height ** 2)\n",
    "\n",
    "if bmi<=18.5 :\n",
    "    print(\"Underweight\")\n",
    "elif bmi<25 and bmi>18.5 :\n",
    "    print(\"Normal weight\")\n",
    "elif bmi<40 and bmi>=25 :\n",
    "    print(\"Overweight\")\n",
    "else :\n",
    "    print(\"Obese\")"
   ]
  },
  {
   "cell_type": "markdown",
   "id": "35d6e224-0517-4817-998a-f6334223dab7",
   "metadata": {},
   "source": [
    "24. Create a program that determines whether a given number is positive, negative, or zero using elif\n",
    "statements."
   ]
  },
  {
   "cell_type": "code",
   "execution_count": 1,
   "id": "98238282-3d5c-4fc4-a490-58ad8c1a6e47",
   "metadata": {},
   "outputs": [
    {
     "name": "stdin",
     "output_type": "stream",
     "text": [
      "Enter number - 10\n"
     ]
    },
    {
     "name": "stdout",
     "output_type": "stream",
     "text": [
      "10 is a Positive number\n"
     ]
    }
   ],
   "source": [
    "n = int(input(\"Enter number -\"))\n",
    "\n",
    "if n>0 :\n",
    "    print(n,\"is a Positive number\")\n",
    "elif n<0 :\n",
    "    print(n,\"is a negative number\")\n",
    "else :\n",
    "    print(n,\"is zero\")"
   ]
  },
  {
   "cell_type": "markdown",
   "id": "911aadd7-ba76-4078-b55c-417b767da8b1",
   "metadata": {},
   "source": [
    "25. Write a Python script to determine the type of a character (uppercase, lowercase, or special) using elif\n",
    "statements."
   ]
  },
  {
   "cell_type": "code",
   "execution_count": 6,
   "id": "ce00db67-f6d7-4cb4-92d1-664a03837aad",
   "metadata": {},
   "outputs": [
    {
     "name": "stdin",
     "output_type": "stream",
     "text": [
      "Enter character - A\n"
     ]
    },
    {
     "name": "stdout",
     "output_type": "stream",
     "text": [
      "A is an uppercase character\n"
     ]
    }
   ],
   "source": [
    "n = input(\"Enter character -\")\n",
    "\n",
    "if n.isupper() :\n",
    "    print(n,\"is an uppercase character\")\n",
    "elif n.islower() :\n",
    "    print(n,\"is a lowercase character\")\n",
    "elif n.isnum() :\n",
    "    print(n,\"is a number\")\n",
    "elif n.isalnum() :\n",
    "    print(n,\"is a aplha numeric character\")\n",
    "else :\n",
    "    print(n,\"is a special character\")"
   ]
  },
  {
   "cell_type": "markdown",
   "id": "1494d5a4-83e1-4ee8-a821-d85c734b93fe",
   "metadata": {},
   "source": [
    "26. Implement a program to calculate the discounted price based on different purchase amounts using elif\n",
    "statements."
   ]
  },
  {
   "cell_type": "code",
   "execution_count": 12,
   "id": "832451ee-4dc1-418d-840e-9e308e2694cd",
   "metadata": {},
   "outputs": [
    {
     "name": "stdin",
     "output_type": "stream",
     "text": [
      "Enter the purchase amount:  500\n"
     ]
    },
    {
     "name": "stdout",
     "output_type": "stream",
     "text": [
      "Discounted price - 460.0\n"
     ]
    }
   ],
   "source": [
    "pa = float(input(\"Enter the purchase amount: \"))\n",
    "\n",
    "if pa >= 1000:\n",
    "    d = 0.11\n",
    "elif pa >= 500:\n",
    "    d = 0.08\n",
    "elif pa >= 100:\n",
    "    d = 0.05\n",
    "else:\n",
    "    d = 0\n",
    "    \n",
    "dis_p = pa - (pa * d)\n",
    "print(\"Discounted price -\", dis_p)"
   ]
  },
  {
   "cell_type": "markdown",
   "id": "2c3dd260-e11a-46e9-adbd-04bb11cbc571",
   "metadata": {},
   "source": [
    "27. Develop a program to calculate the electricity bill based on different consumption slabs using elif statements."
   ]
  },
  {
   "cell_type": "code",
   "execution_count": 10,
   "id": "1fccc138-994d-4418-98ed-208d671a0373",
   "metadata": {},
   "outputs": [
    {
     "name": "stdin",
     "output_type": "stream",
     "text": [
      "Enter the number of units consumed - 180\n"
     ]
    },
    {
     "name": "stdout",
     "output_type": "stream",
     "text": [
      "Electricity Bill - Rs. 136.0\n"
     ]
    }
   ],
   "source": [
    "units = float(input(\"Enter the number of units consumed -\"))\n",
    "\n",
    "if units <= 50:\n",
    "    b = units * 0.50\n",
    "elif units <= 150:\n",
    "    b = 25 + (units - 50) * 0.75\n",
    "elif units <= 250:\n",
    "    b = 100 + (units - 150) * 1.2\n",
    "else:\n",
    "    b = 220 + (units - 250) * 1.5\n",
    "\n",
    "print(\"Electricity Bill - Rs.\",b)"
   ]
  },
  {
   "cell_type": "markdown",
   "id": "fa499ef5-8ddf-4f6b-bb2f-bde8855347af",
   "metadata": {},
   "source": [
    "28. Create a program to determine the type of quadrilateral based on its angles and sides using elif statements."
   ]
  },
  {
   "cell_type": "code",
   "execution_count": null,
   "id": "2089445b-a891-4036-b673-e904728b7b02",
   "metadata": {},
   "outputs": [
    {
     "name": "stdin",
     "output_type": "stream",
     "text": [
      "Enter the measure of angle 1:  120\n"
     ]
    }
   ],
   "source": [
    "a1 = int(input(\"Enter the measure of angle 1: \"))\n",
    "a2 = int(input(\"Enter the measure of angle 2: \"))\n",
    "a3 = int(input(\"Enter the measure of angle 3: \"))\n",
    "a4 = int(input(\"Enter the measure of angle 4: \"))\n",
    "\n",
    "s1 = int(input(\"Enter the length of side 1: \"))\n",
    "s2 = int(input(\"Enter the length of side 2: \"))\n",
    "s3 = int(input(\"Enter the length of side 3: \"))\n",
    "s4 = int(input(\"Enter the length of side 4: \"))\n",
    "\n",
    "if a1 == a2 == a3 == a4 == 90 :\n",
    "    if s1 == s2 == s3 == s4 :\n",
    "        print(\"The quadrilateral is a square.\")\n",
    "    else:\n",
    "        print(\"The quadrilateral is a rectangle.\")\n",
    "elif a1 == a2 == a3 == a4 != 90 :\n",
    "    if s1 == s2 == s3 == s4 :\n",
    "        print(\"The quadrilateral is a rhombus.\")\n",
    "    else:\n",
    "        print(\"The quadrilateral is a parallelogram.\")\n",
    "elif a1 == a3 and a2 == a4 and a1 + a2 + a3 + a4 == 360 :\n",
    "    if s1 == s2 and s3 == s4 and s1 != s3 and a1!=a2 :\n",
    "        print(\"The quadrilateral is a kite.\")\n",
    "    else:\n",
    "        print(\"The quadrilateral is a trapezoid.\")\n",
    "else:\n",
    "    print(\"The quadrilateral is a general quadrilateral.\")"
   ]
  },
  {
   "cell_type": "markdown",
   "id": "d09aad98-592d-44e2-941b-91c0da6841de",
   "metadata": {},
   "source": [
    "29. Write a Python script to determine the season based on a user-provided month using elif statements."
   ]
  },
  {
   "cell_type": "code",
   "execution_count": 5,
   "id": "4a679c88-9385-4a95-a873-1c06d00da986",
   "metadata": {},
   "outputs": [
    {
     "name": "stdin",
     "output_type": "stream",
     "text": [
      "Enter month - May\n"
     ]
    },
    {
     "name": "stdout",
     "output_type": "stream",
     "text": [
      "Summer Season\n"
     ]
    }
   ],
   "source": [
    "m = input(\"Enter month -\").lower()\n",
    "\n",
    "if m in [\"december\" , \"january\"] :\n",
    "    print(\"Winter season\")\n",
    "elif m in [\"feburary\" , \"march\"]:\n",
    "    print(\"Spring Season\")\n",
    "elif m in [\"april\" , \"may\" , \"june\"] :\n",
    "    print(\"Summer Season\")\n",
    "elif m in [\"july\" , \"september\"] :\n",
    "    print(\"Monsoon Season\")\n",
    "elif m in [\"october\" , \"november\"] :\n",
    "    print(\"Autumn Season\")\n",
    "else :\n",
    "    print(\"Invalid entry\")"
   ]
  },
  {
   "cell_type": "markdown",
   "id": "c542fe67-d4ae-41df-b569-302fcfa419ee",
   "metadata": {},
   "source": [
    "30. Implement a program to determine the type of a year (leap or common) and month (30 or 31 days) using\n",
    "elif statements."
   ]
  },
  {
   "cell_type": "code",
   "execution_count": 4,
   "id": "56320da5-fb34-4a2f-99b9-8ab6d04aad1b",
   "metadata": {},
   "outputs": [
    {
     "name": "stdin",
     "output_type": "stream",
     "text": [
      "enter month - october\n",
      "Enter a year - 2023\n"
     ]
    },
    {
     "name": "stdout",
     "output_type": "stream",
     "text": [
      "2023 is a Common year\n",
      "There are 31 days in october\n"
     ]
    }
   ],
   "source": [
    "m = input(\"enter month -\").lower()\n",
    "y = int(input(\"Enter a year -\"))\n",
    "day_30 = [\"april\",\"june\",\"september\",\"november\"]\n",
    "day_31 = [\"january\",\"march\",\"may\",\"july\",\"august\",\"october\",\"december\"]\n",
    "\n",
    "if y % 4 == 0 and (y % 100 != 0 or y % 400 == 0):\n",
    "    print(y,\"is a Leap year\")\n",
    "    if m in day_31 : print(\"There are 31 days in\",m)\n",
    "    elif m in day_30 : print(\"There are 30 days in\",m)\n",
    "    else : print(\"There are 29 days in\",m)\n",
    "else:\n",
    "    print(y,\"is a Common year\")\n",
    "    if m in day_31 : print(\"There are 31 days in\",m)\n",
    "    elif m in day_30 : print(\"There are 30 days in\",m)\n",
    "    else : print(\"There are 28 days in\",m)"
   ]
  },
  {
   "cell_type": "markdown",
   "id": "5fb3edd1-d471-48b8-99d0-8d08657886b4",
   "metadata": {},
   "source": [
    "_______________________________________________________________________________________________"
   ]
  },
  {
   "cell_type": "markdown",
   "id": "783d9ce7-fc7e-4351-ac6d-f1ba2ae5c057",
   "metadata": {},
   "source": [
    "Basic Level"
   ]
  },
  {
   "cell_type": "markdown",
   "id": "19aa6d53-e005-4fe4-bdd5-57e5e67af25b",
   "metadata": {},
   "source": [
    "1. Write a Python program that checks if a given number is positive, negative, or zero."
   ]
  },
  {
   "cell_type": "code",
   "execution_count": 9,
   "id": "3beca0ff-d742-4005-9833-b5a89e8eeef0",
   "metadata": {},
   "outputs": [
    {
     "name": "stdin",
     "output_type": "stream",
     "text": [
      "Enter number - 10\n"
     ]
    },
    {
     "name": "stdout",
     "output_type": "stream",
     "text": [
      "10 is a positive number\n"
     ]
    }
   ],
   "source": [
    "n = int(input(\"Enter number -\"))\n",
    "if n>0 :\n",
    "    print(n,\"is a positive number\")\n",
    "elif n<0 :\n",
    "    print(n,\"is a negative number\")\n",
    "else :\n",
    "    print(n,\"is zero\")"
   ]
  },
  {
   "cell_type": "markdown",
   "id": "1faa0cc0-c6ff-429f-8e41-b0f727f99c24",
   "metadata": {},
   "source": [
    "2. Create a program to determine if a person is eligible to vote based on their age."
   ]
  },
  {
   "cell_type": "code",
   "execution_count": 8,
   "id": "3123d19d-8903-46c7-ae7b-6e9b53feec50",
   "metadata": {},
   "outputs": [
    {
     "name": "stdin",
     "output_type": "stream",
     "text": [
      "Enter age - 21\n"
     ]
    },
    {
     "name": "stdout",
     "output_type": "stream",
     "text": [
      "21 is eligible to vote\n"
     ]
    }
   ],
   "source": [
    "n = int(input(\"Enter age -\"))\n",
    "if n>=18 :\n",
    "    print(n,\"is eligible to vote\")\n",
    "else :\n",
    "    print(n,\"is not eligible to vote\")"
   ]
  },
  {
   "cell_type": "markdown",
   "id": "23ce6210-ed6f-426d-83af-4d72d7223e39",
   "metadata": {},
   "source": [
    "3. Write a program to find the maximum of two given numbers using conditional statements."
   ]
  },
  {
   "cell_type": "code",
   "execution_count": 1,
   "id": "7dd70c75-0449-4162-ba0e-94fda0879389",
   "metadata": {},
   "outputs": [
    {
     "name": "stdin",
     "output_type": "stream",
     "text": [
      "Enter 1st number - 10\n",
      "Enter 2nd number - 20\n"
     ]
    },
    {
     "name": "stdout",
     "output_type": "stream",
     "text": [
      "20 is greater than 10\n"
     ]
    }
   ],
   "source": [
    "a = int(input(\"Enter 1st number -\"))\n",
    "b  = int(input(\"Enter 2nd number -\"))\n",
    "if a>b :\n",
    "    print(a,\"is greater than\",b)\n",
    "else :\n",
    "    print(b,\"is greater than\",a)"
   ]
  },
  {
   "cell_type": "markdown",
   "id": "776b6382-0424-4cf6-b3f4-c83ee3ed6819",
   "metadata": {},
   "source": [
    "4. Develop a program that calculates the grade of a student based on their exam score."
   ]
  },
  {
   "cell_type": "code",
   "execution_count": 7,
   "id": "cd9a3640-d196-4259-8903-6326aecb3294",
   "metadata": {},
   "outputs": [
    {
     "name": "stdin",
     "output_type": "stream",
     "text": [
      "Enter score out of 100 - 95\n"
     ]
    },
    {
     "name": "stdout",
     "output_type": "stream",
     "text": [
      "Grade -> A+\n"
     ]
    }
   ],
   "source": [
    "g = int(input(\"Enter score out of 100 -\"))\n",
    "\n",
    "if g<=100 and g>90 :\n",
    "    print(\"Grade -> A+\")\n",
    "elif g<91 and g>80 :\n",
    "    print(\"Grade -> A\")\n",
    "elif g<81 and g>70 :\n",
    "    print(\"Grade -> B+\")\n",
    "elif g<71 and g>60 :\n",
    "    print(\"Grade -> B\")\n",
    "elif g<61 and g>50 :\n",
    "    print(\"Grade -> C+\")\n",
    "elif g<51 and g>40 :\n",
    "    print(\"Grade -> C\")\n",
    "elif g<41 and g>32 :\n",
    "    print(\"Grade -> D\")\n",
    "else :\n",
    "    print(\"F - Fail\")"
   ]
  },
  {
   "cell_type": "markdown",
   "id": "fcccc297-598b-4317-a835-a2a57735fb9b",
   "metadata": {},
   "source": [
    "5. Create a program that checks if a year is a leap year or not."
   ]
  },
  {
   "cell_type": "code",
   "execution_count": 6,
   "id": "bd663df3-0502-4eda-b1b3-e3a770038f3c",
   "metadata": {},
   "outputs": [
    {
     "name": "stdin",
     "output_type": "stream",
     "text": [
      "Enter a year:  2024\n"
     ]
    },
    {
     "name": "stdout",
     "output_type": "stream",
     "text": [
      "2024 is a Leap year\n"
     ]
    }
   ],
   "source": [
    "y = int(input(\"Enter a year: \"))\n",
    "if y % 4 == 0 and (y % 100 != 0 or y % 400 == 0):\n",
    "    print(y,\"is a Leap year\")\n",
    "else : \n",
    "    print(y, \"is not a leap year.\")"
   ]
  },
  {
   "cell_type": "markdown",
   "id": "afa308b4-6c96-49d8-8216-38f752e195c3",
   "metadata": {},
   "source": [
    "6. Write a program to classify a triangle based on its sides' lengths."
   ]
  },
  {
   "cell_type": "code",
   "execution_count": 4,
   "id": "f937c92e-bdfa-48d6-a9a6-475983252ceb",
   "metadata": {},
   "outputs": [
    {
     "name": "stdin",
     "output_type": "stream",
     "text": [
      "enter 1st side - 20\n",
      "enter 2nd side - 10\n",
      "enter 3rd side - 20\n"
     ]
    },
    {
     "name": "stdout",
     "output_type": "stream",
     "text": [
      "Isosceles triangle\n"
     ]
    }
   ],
   "source": [
    "a = int(input(\"enter 1st side -\"))\n",
    "b = int(input(\"enter 2nd side -\"))\n",
    "c = int(input(\"enter 3rd side -\"))\n",
    "\n",
    "if a==b or b==c or c==a :\n",
    "    if a==b and b==c and c==a :\n",
    "        print(\"Equilateral triangle\")\n",
    "    else :\n",
    "        print(\"Isosceles triangle\")\n",
    "else :\n",
    "    print(\"Scalene triangle\")"
   ]
  },
  {
   "cell_type": "markdown",
   "id": "06c1bd30-06c8-4997-83fe-ebe35fdac29e",
   "metadata": {},
   "source": [
    "7. Build a program that determines the largest of three given numbers."
   ]
  },
  {
   "cell_type": "code",
   "execution_count": 6,
   "id": "9329e3f8-9bd5-49db-a007-b286df488eca",
   "metadata": {},
   "outputs": [
    {
     "name": "stdin",
     "output_type": "stream",
     "text": [
      "enter 1st number - 50\n",
      "enter 2nd number - 40\n",
      "enter 3rd number - 30\n"
     ]
    },
    {
     "name": "stdout",
     "output_type": "stream",
     "text": [
      "50 is the largest number\n"
     ]
    }
   ],
   "source": [
    "a = int(input(\"enter 1st number -\"))\n",
    "b = int(input(\"enter 2nd number -\"))\n",
    "c = int(input(\"enter 3rd number -\"))\n",
    "\n",
    "if a>b and a>c :\n",
    "    print(a,\"is the largest number\")\n",
    "elif b>a and b>c :\n",
    "    print(b,\"is the largest number\")\n",
    "else :\n",
    "    print(c,\"is the largest number\")"
   ]
  },
  {
   "cell_type": "markdown",
   "id": "2db20e65-12e1-461f-ac46-e20e130a300f",
   "metadata": {},
   "source": [
    "8. Develop a program that checks whether a character is a vowel or a consonant."
   ]
  },
  {
   "cell_type": "code",
   "execution_count": null,
   "id": "8c24cd5c-4c22-4681-9e30-72eef62c4f70",
   "metadata": {},
   "outputs": [],
   "source": [
    "ch = str(input(\"enter ch -\")).lower()\n",
    "if ch in 'aeiou':\n",
    "    print(ch,\"is a vowel\")\n",
    "else :\n",
    "    print(ch,\"is a consonent\")"
   ]
  },
  {
   "cell_type": "markdown",
   "id": "c2b5acb6-bb4f-4c21-ae1a-74b89411c535",
   "metadata": {},
   "source": [
    "9. Create a program to calculate the total cost of a shopping cart based on discounts."
   ]
  },
  {
   "cell_type": "code",
   "execution_count": 15,
   "id": "ca0be36f-9096-4101-866f-4841f5d06dca",
   "metadata": {},
   "outputs": [
    {
     "name": "stdout",
     "output_type": "stream",
     "text": [
      "Total cost after discount : Rs.149.9\n"
     ]
    }
   ],
   "source": [
    "def total_cost(cart_items, d):\n",
    "    total = sum(cart_items)\n",
    "    dis_amount = total * d\n",
    "    final_cost = total - d\n",
    "    return final_cost\n",
    "\n",
    "cart_items = [10, 20, 30, 40, 50]\n",
    "d = 0.1 \n",
    "tc = total_cost(cart_items, d)\n",
    "print(f\"Total cost after discount : Rs.{tc}\")"
   ]
  },
  {
   "cell_type": "markdown",
   "id": "1e8c6283-84f7-45aa-8d74-2ba5ccec6c9c",
   "metadata": {},
   "source": [
    "10. Write a program that checks if a given number is even or odd."
   ]
  },
  {
   "cell_type": "code",
   "execution_count": 8,
   "id": "d4b09959-87c3-47f0-9ad6-442bbe18ea93",
   "metadata": {},
   "outputs": [
    {
     "name": "stdin",
     "output_type": "stream",
     "text": [
      "Enter number - 55\n"
     ]
    },
    {
     "name": "stdout",
     "output_type": "stream",
     "text": [
      "55 is an odd number\n"
     ]
    }
   ],
   "source": [
    "n = int(input(\"Enter number -\"))\n",
    "if n%2==0 : print(n,\"is even\")\n",
    "else : print(n,\"is an odd number\")"
   ]
  },
  {
   "cell_type": "markdown",
   "id": "b44f2f9a-80dc-4a60-baf3-c4a1fd7dd5ec",
   "metadata": {},
   "source": [
    "_______________________________________________________________________________________________"
   ]
  },
  {
   "cell_type": "markdown",
   "id": "2decf20f-1314-429c-9290-cb0cd04fd68f",
   "metadata": {},
   "source": [
    "Intermediate Level"
   ]
  },
  {
   "cell_type": "markdown",
   "id": "16f5a757-9e8e-4fd7-b1c8-b44ef82d1d05",
   "metadata": {},
   "source": [
    "11. Write a program that calculates the roots of a quadratic equation ."
   ]
  },
  {
   "cell_type": "code",
   "execution_count": 11,
   "id": "a0d8b91f-ca0d-426d-9358-02e96d26ef6c",
   "metadata": {},
   "outputs": [
    {
     "name": "stdin",
     "output_type": "stream",
     "text": [
      "Enter the coefficient of x^2 - 1\n",
      "Enter the coefficient of x - -7\n",
      "Enter the constant term - 12\n"
     ]
    },
    {
     "name": "stdout",
     "output_type": "stream",
     "text": [
      "The equation has two distinct real roots -> 4.0 and 3.0\n"
     ]
    }
   ],
   "source": [
    "a = float(input(\"Enter the coefficient of x^2 -\"))\n",
    "b = float(input(\"Enter the coefficient of x -\"))\n",
    "c = float(input(\"Enter the constant term -\"))\n",
    "d = (b**2) - (4*a*c)\n",
    "\n",
    "if d >= 0: \n",
    "    if d > 0 :\n",
    "        r1 = (-b + (d)**0.5) / (2*a) \n",
    "        r2 = (-b - (d)**0.5) / (2*a) \n",
    "        print(f\"The equation has two distinct real roots -> {r1} and {r2}\")\n",
    "    else : \n",
    "        r = (-b) / (2*a) \n",
    "        print(\"The equation has one real root ->\",r) \n",
    "else: \n",
    "    print(\"The equation has no real roots.\")"
   ]
  },
  {
   "cell_type": "markdown",
   "id": "c4003b71-9617-49ba-ba4b-a0aa5e84b433",
   "metadata": {},
   "source": [
    "12. Create a program that determines the day of the week based on the day number (1-7)."
   ]
  },
  {
   "cell_type": "code",
   "execution_count": 12,
   "id": "4135aa7d-e9b7-4db3-bb4a-7bd9dc32ee97",
   "metadata": {},
   "outputs": [
    {
     "name": "stdin",
     "output_type": "stream",
     "text": [
      "Enter number (1-7) -> 7\n"
     ]
    },
    {
     "name": "stdout",
     "output_type": "stream",
     "text": [
      "Sunday\n"
     ]
    }
   ],
   "source": [
    "n = int(input(\"Enter number (1-7) ->\"))\n",
    "if n<8 and n>0:\n",
    "    if n<5 and n>0 :\n",
    "        if n<3 and n>0 :\n",
    "            if n==1 :\n",
    "                print(\"Monday\")\n",
    "            else :\n",
    "                print(\"Tuesday\")\n",
    "        else :\n",
    "            if n==3 :\n",
    "                print(\"Wednesday\")\n",
    "            else :\n",
    "                print(\"Thursday\")\n",
    "    else :\n",
    "        if n<7 and n>4 :\n",
    "            if n==5 :\n",
    "                print(\"Friday\")\n",
    "            else :\n",
    "                print(\"Saturday\")\n",
    "        else :\n",
    "            print(\"Sunday\")"
   ]
  },
  {
   "cell_type": "markdown",
   "id": "3ef4cb80-d0f0-466d-9a1b-1258d21da5fb",
   "metadata": {},
   "source": [
    "13. Develop a program that calculates the factorial of a given number using recursion."
   ]
  },
  {
   "cell_type": "code",
   "execution_count": 6,
   "id": "27bf02f7-14ca-48e3-8d79-5085dce77648",
   "metadata": {},
   "outputs": [
    {
     "name": "stdin",
     "output_type": "stream",
     "text": [
      "Enter number - 12\n"
     ]
    },
    {
     "name": "stdout",
     "output_type": "stream",
     "text": [
      "Factorial of 12 is 479001600\n"
     ]
    }
   ],
   "source": [
    "def fact(n):\n",
    "    if n == 0 : return 1\n",
    "    else : return n * fact(n-1)\n",
    "num = int(input(\"Enter number -\"))\n",
    "print(\"Factorial of\", num, \"is\", fact(num))"
   ]
  },
  {
   "cell_type": "markdown",
   "id": "a31dff74-9c4b-4576-ad5b-f286c16abfc4",
   "metadata": {},
   "source": [
    "14. Write a program to find the largest among three numbers without using the `max()` function."
   ]
  },
  {
   "cell_type": "code",
   "execution_count": 16,
   "id": "68dfb872-1db9-434b-962f-6c9fb2820b66",
   "metadata": {},
   "outputs": [
    {
     "name": "stdin",
     "output_type": "stream",
     "text": [
      "enter 1st number - 100\n",
      "enter 2nd number - 200\n",
      "enter 3rd number - 300\n"
     ]
    },
    {
     "name": "stdout",
     "output_type": "stream",
     "text": [
      "300 is the largest number\n"
     ]
    }
   ],
   "source": [
    "a = int(input(\"enter 1st number -\"))\n",
    "b = int(input(\"enter 2nd number -\"))\n",
    "c = int(input(\"enter 3rd number -\"))\n",
    "\n",
    "if a>b and a>c :\n",
    "    print(a,\"is the largest number\")\n",
    "elif b>a and b>c :\n",
    "    print(b,\"is the largest number\")\n",
    "else :\n",
    "    print(c,\"is the largest number\")"
   ]
  },
  {
   "cell_type": "markdown",
   "id": "955bc7d6-c4f2-4bbc-850e-0b09e78a61e4",
   "metadata": {},
   "source": [
    "15. Create a program that simulates a basic ATM transaction menu."
   ]
  },
  {
   "cell_type": "code",
   "execution_count": 4,
   "id": "594acbee-59b0-4eb1-b18c-d70c158198dd",
   "metadata": {},
   "outputs": [],
   "source": [
    "balance = 10000\n",
    "pin = 11001"
   ]
  },
  {
   "cell_type": "code",
   "execution_count": 11,
   "id": "e02a0795-4c4e-4a2e-b164-75dcf9bf4d4d",
   "metadata": {},
   "outputs": [
    {
     "name": "stdin",
     "output_type": "stream",
     "text": [
      "Enter pin - 11001\n"
     ]
    },
    {
     "name": "stdout",
     "output_type": "stream",
     "text": [
      "\n",
      "    ____________________________________________\n",
      "    Choose option from the menu\n",
      "    1. Deposit\n",
      "    2. Cash withdrawal\n",
      "    3. Pin change\n",
      "    4. Transfer\n",
      "    5. Balance inquiry\n",
      "    6. Payment (tax, recharge, insurance, etc.)\n",
      "    ____________________________________________\n"
     ]
    },
    {
     "name": "stdin",
     "output_type": "stream",
     "text": [
      "Enter option - 2\n",
      "Enter amount to withdraw (in Rs.) - 5000\n"
     ]
    },
    {
     "name": "stdout",
     "output_type": "stream",
     "text": [
      "Amount successfully withdrawn\n"
     ]
    }
   ],
   "source": [
    "p = int(input(\"Enter pin -\"))\n",
    "if p==pin :\n",
    "    print(\"\"\"\n",
    "    ____________________________________________\n",
    "    Choose option from the menu\n",
    "    1. Deposit\n",
    "    2. Cash withdrawal\n",
    "    3. Pin change\n",
    "    4. Transfer\n",
    "    5. Balance inquiry\n",
    "    6. Payment (tax, recharge, insurance, etc.)\n",
    "    ____________________________________________\"\"\")\n",
    "    op = int(input(\"Enter option -\"))\n",
    "\n",
    "    if op==1 :\n",
    "        d = int(input(\"Enter amount to deposit (in Rs.) -\"))\n",
    "        balance = balance + d\n",
    "        print(\"Amount successfully deposited\")\n",
    "\n",
    "    elif op==2 :\n",
    "        cw = int(input(\"Enter amount to withdraw (in Rs.) -\"))\n",
    "        balance = balance - cw\n",
    "        print(\"Amount successfully withdrawn\")\n",
    "\n",
    "    elif op==3 :\n",
    "        p = int(input(\"Enter new pin -\"))\n",
    "        print(\"Pin changed successfully\")\n",
    "        \n",
    "    elif op==4 :\n",
    "        t = int(input(\"Enter amount to transfer (in Rs.) -\"))\n",
    "        acc_num = int(input(\"Enter account number -\"))\n",
    "        ifsc_code = input(\"IFSC code -\")\n",
    "        balance = balance - t\n",
    "        print(\"Amount transfered successfully\")\n",
    "        \n",
    "    elif op==5 :\n",
    "        print(\"Current account balance -\",balance)\n",
    "        \n",
    "    elif op==6 :\n",
    "        pay = int(input(\"Enter amount to pay (in Rs.) -\"))\n",
    "        note = input(\"Payment of -\")\n",
    "        balance = balance - pay\n",
    "        print(note,\"payment done successfully\")\n",
    "        \n",
    "    else :\n",
    "        print(\"Incorrect option\")\n",
    "        \n",
    "else :\n",
    "    print(\"Incorrect Pin\")"
   ]
  },
  {
   "cell_type": "markdown",
   "id": "eeeb0b47-2add-47f0-b8ae-b6d9422ba0d8",
   "metadata": {},
   "source": [
    "16. Build a program that checks if a given string is a palindrome or not."
   ]
  },
  {
   "cell_type": "code",
   "execution_count": 17,
   "id": "2dc348a3-7c6e-4fae-9f7a-d861218e5b25",
   "metadata": {},
   "outputs": [
    {
     "name": "stdin",
     "output_type": "stream",
     "text": [
      "Enter string - level\n"
     ]
    },
    {
     "name": "stdout",
     "output_type": "stream",
     "text": [
      "level is pallindrome\n"
     ]
    }
   ],
   "source": [
    "a = str(input(\"Enter string -\")).lower()\n",
    "if a == a[len(a)-1::-1] : print(a,\"is pallindrome\")\n",
    "else : print(a,\"is not a pallindrome \")"
   ]
  },
  {
   "cell_type": "markdown",
   "id": "ce4606ab-fa3f-474a-9260-1322ca7c2000",
   "metadata": {},
   "source": [
    "17. Write a program that calculates the average of a list of numbers, excluding the smallest and largest values."
   ]
  },
  {
   "cell_type": "code",
   "execution_count": 34,
   "id": "217d76c6-a65e-45e4-97b2-73720b1e2818",
   "metadata": {},
   "outputs": [
    {
     "name": "stdout",
     "output_type": "stream",
     "text": [
      "Average of list of numbers excluding the smallest and largest values - 8.0\n"
     ]
    }
   ],
   "source": [
    "l = [1,2,3,4,5,6,7,8,9,10,11,12,13,14,15]\n",
    "l.remove(min(l)) ; l.remove(max(l))\n",
    "print(\"Average of list of numbers excluding the smallest and largest values -\",sum(l)/len(l))"
   ]
  },
  {
   "cell_type": "markdown",
   "id": "69ce00c7-0bdc-4a72-946b-1638f47652b1",
   "metadata": {},
   "source": [
    "18. Develop a program that converts a given temperature from Celsius to Fahrenheit."
   ]
  },
  {
   "cell_type": "code",
   "execution_count": 36,
   "id": "a590194f-fb67-4cf4-a999-f3c9497a5b2f",
   "metadata": {},
   "outputs": [
    {
     "name": "stdin",
     "output_type": "stream",
     "text": [
      "Enter temperature in Celsius :-  100\n"
     ]
    },
    {
     "name": "stdout",
     "output_type": "stream",
     "text": [
      "Temperature in Fahrenheit -  212.0\n"
     ]
    }
   ],
   "source": [
    "cel=float(input(\"Enter temperature in Celsius :- \"))\n",
    "fah=(cel*(9/5))+32\n",
    "print(\"Temperature in Fahrenheit - \",fah)"
   ]
  },
  {
   "cell_type": "markdown",
   "id": "5fddd5dd-a5da-4897-a632-6839a57a4b6b",
   "metadata": {},
   "source": [
    "19. Create a program that simulates a basic calculator for addition, subtraction, multiplication, and division."
   ]
  },
  {
   "cell_type": "code",
   "execution_count": 2,
   "id": "845e9220-817b-4a52-9c8e-5ee5e17f147e",
   "metadata": {},
   "outputs": [
    {
     "name": "stdin",
     "output_type": "stream",
     "text": [
      "Enter 1st number - 1\n",
      "Enter 2nd number - 2\n"
     ]
    },
    {
     "name": "stdout",
     "output_type": "stream",
     "text": [
      "Choose number for the operation :\n",
      "Addation - 1\n",
      "Subtraction - 2\n",
      "Multiplication - 3\n",
      "Division - 4\n"
     ]
    }
   ],
   "source": [
    "print(\"\"\"Choose number for the operation :\n",
    "Addation - 1\n",
    "Subtraction - 2\n",
    "Multiplication - 3\n",
    "Division - 4\"\"\")\n",
    "c = int(input(\"Enter n -\"))\n",
    "b = int(input(\"Enter 2nd number -\"))"
   ]
  },
  {
   "cell_type": "markdown",
   "id": "4bf2fec3-5b2f-4e0e-a476-43ac5a6f4fa9",
   "metadata": {},
   "source": [
    "20. Write a program that determines the roots of a cubic equation using the Cardano formula."
   ]
  },
  {
   "cell_type": "code",
   "execution_count": 35,
   "id": "8a1847a8-4fce-4cf8-b317-824ea54a387c",
   "metadata": {},
   "outputs": [
    {
     "name": "stdout",
     "output_type": "stream",
     "text": [
      "Roots of the cubic equation :\n",
      "Root 1: 1.27756\n",
      "Root 2: -2.18217\n",
      "Root 3: -0.09538\n"
     ]
    }
   ],
   "source": [
    "import cmath\n",
    "\n",
    "def cubic_roots(a, b, c, d):\n",
    "    p = b - (a**2) / 3\n",
    "    q = c + (a**3) / 27 - (a*b) / 3\n",
    "    delta = (q**2) / 4 + (p**3) / 27\n",
    "    root_delta = cmath.sqrt(delta)\n",
    "\n",
    "    u = (-q/2 + root_delta)**(1/3)\n",
    "    v = (-q/2 - root_delta)**(1/3)\n",
    "\n",
    "    root1 = u + v - a/3\n",
    "    root2 = -(u + v)/2 - a/3 + (u - v)*cmath.sqrt(3)/2j\n",
    "    root3 = -(u + v)/2 - a/3 - (u - v)*cmath.sqrt(3)/2j\n",
    "\n",
    "    return round(root1.real, 5), round(root2.real, 5), round(root3.real, 5)\n",
    "\n",
    "# Example cubic equation coefficients\n",
    "a = 1\n",
    "b = -6\n",
    "c = 11\n",
    "d = -6\n",
    "\n",
    "root1, root2, root3 = cubic_roots(a, b, c, d)\n",
    "print(\"Roots of the cubic equation :\")\n",
    "print(f\"Root 1: {root1}\")\n",
    "print(f\"Root 2: {root2}\")\n",
    "print(f\"Root 3: {root3}\")"
   ]
  },
  {
   "cell_type": "markdown",
   "id": "69315851-465e-48bd-9278-4190e05a7b68",
   "metadata": {},
   "source": [
    "_______________________________________________________________________________________________"
   ]
  },
  {
   "cell_type": "markdown",
   "id": "6440ca4d-230b-479e-92d4-1ab58a8cbaed",
   "metadata": {},
   "source": [
    "Advanced Level"
   ]
  },
  {
   "cell_type": "markdown",
   "id": "cb260a1a-8a30-496f-a562-c6d22d072fec",
   "metadata": {},
   "source": [
    "21. Create a program that calculates the income tax based on the user's income and tax brackets."
   ]
  },
  {
   "cell_type": "code",
   "execution_count": 42,
   "id": "1956f2c7-694e-4d15-9f44-c184e4bc5888",
   "metadata": {},
   "outputs": [
    {
     "name": "stdin",
     "output_type": "stream",
     "text": [
      "Enter your annual income:  800000\n"
     ]
    },
    {
     "name": "stdout",
     "output_type": "stream",
     "text": [
      "Your income tax to pay is: 35000.0\n"
     ]
    }
   ],
   "source": [
    "def calculate_income_tax(income):\n",
    "    if income <= 300000:\n",
    "        tax = 0\n",
    "    elif income > 300000 and income <= 600000:\n",
    "        tax = (income - 300000)*0.05 \n",
    "    elif income > 600000 and income <= 900000:\n",
    "        tax = (income - 600000)*0.1 + 15000\n",
    "    elif income > 900000 and income <= 1200000:\n",
    "        tax = (income - 900000)*0.15 + 45000\n",
    "    elif income > 1200000 and income <= 1500000:\n",
    "        tax = (income - 1200000)*0.2 + 90000\n",
    "    else:\n",
    "        tax = (income - 1500000)*0.3 + 150000\n",
    "    return tax\n",
    "\n",
    "income = float(input(\"Enter your annual income: \"))\n",
    "tax_to_pay = calculate_income_tax(income)\n",
    "print(f\"Your income tax to pay is: {tax_to_pay}\")"
   ]
  },
  {
   "cell_type": "markdown",
   "id": "b18a4909-4ddf-4113-8146-834396e51a63",
   "metadata": {},
   "source": [
    "22. Write a program that simulates a rock-paper-scissors game against the computer."
   ]
  },
  {
   "cell_type": "code",
   "execution_count": 43,
   "id": "ace93b12-98aa-4aa4-8c8e-93193e3a23f4",
   "metadata": {},
   "outputs": [
    {
     "name": "stdin",
     "output_type": "stream",
     "text": [
      "Enter your choice (rock, paper, or scissors):  rock\n"
     ]
    },
    {
     "name": "stdout",
     "output_type": "stream",
     "text": [
      "You chose: rock\n",
      "Computer chose: paper\n",
      "Computer wins!\n"
     ]
    }
   ],
   "source": [
    "import random\n",
    "\n",
    "def get_user_choice():\n",
    "    user_choice = input(\"Enter your choice (rock, paper, or scissors): \").lower()\n",
    "    while user_choice not in [\"rock\", \"paper\", \"scissors\"]:\n",
    "        user_choice = input(\"Invalid choice. Please enter rock, paper, or scissors: \").lower()\n",
    "    return user_choice\n",
    "\n",
    "def get_computer_choice():\n",
    "    return random.choice([\"rock\", \"paper\", \"scissors\"])\n",
    "\n",
    "def determine_winner(user_choice, computer_choice):\n",
    "    if user_choice == computer_choice:\n",
    "        return \"It's a tie!\"\n",
    "    elif (user_choice == \"rock\" and computer_choice == \"scissors\") or (user_choice == \"paper\" and computer_choice == \"rock\") or (user_choice == \"scissors\" and computer_choice == \"paper\"):\n",
    "        return \"You win!\"\n",
    "    else:\n",
    "        return \"Computer wins!\"\n",
    "\n",
    "def play_game():\n",
    "    user_choice = get_user_choice()\n",
    "    computer_choice = get_computer_choice()\n",
    "    print(f\"You chose: {user_choice}\")\n",
    "    print(f\"Computer chose: {computer_choice}\")\n",
    "    print(determine_winner(user_choice, computer_choice))\n",
    "\n",
    "play_game()\n"
   ]
  },
  {
   "cell_type": "markdown",
   "id": "9719c3dc-2cac-4cd2-a3f9-c52463a2e4d2",
   "metadata": {},
   "source": [
    "23. Develop a program that generates a random password based on user preferences (length, complexity)."
   ]
  },
  {
   "cell_type": "code",
   "execution_count": 49,
   "id": "95ae4fa8-18fe-43d0-9b13-4ed27bdbaa4c",
   "metadata": {},
   "outputs": [
    {
     "name": "stdout",
     "output_type": "stream",
     "text": [
      "Y\"=8KsCKxtYc\n"
     ]
    }
   ],
   "source": [
    "import random\n",
    "import string\n",
    "\n",
    "def generate_password(length, complexity):\n",
    "    if complexity == \"low\":\n",
    "        characters = string.ascii_letters + string.digits\n",
    "    elif complexity == \"medium\":\n",
    "        characters = string.ascii_letters + string.digits + string.punctuation\n",
    "    else:\n",
    "        characters = string.ascii_letters + string.digits + string.punctuation + string.ascii_uppercase + string.ascii_lowercase\n",
    "\n",
    "    password = ''.join(random.choice(characters) for i in range(length))\n",
    "    return password\n",
    "\n",
    "password_length = 12\n",
    "password_complexity = \"high\"\n",
    "random_password = generate_password(password_length, password_complexity)\n",
    "print(random_password)"
   ]
  },
  {
   "cell_type": "markdown",
   "id": "2620ee14-2f25-419e-9bc1-91b18c860a63",
   "metadata": {},
   "source": [
    "24. Create a program that implements a simple text-based adventure game with branching scenarios."
   ]
  },
  {
   "cell_type": "code",
   "execution_count": 50,
   "id": "f69319da-f496-4fba-b7e3-95ac6a6adbc9",
   "metadata": {},
   "outputs": [
    {
     "name": "stdout",
     "output_type": "stream",
     "text": [
      "Welcome to the Text-Based Adventure Game!\n",
      "You find yourself in a dark forest. You can go 'left' or 'right'.\n"
     ]
    },
    {
     "name": "stdin",
     "output_type": "stream",
     "text": [
      "Which way will you go?  right\n"
     ]
    },
    {
     "name": "stdout",
     "output_type": "stream",
     "text": [
      "You come across a cave. Do you 'enter' the cave or 'walk' around it?\n"
     ]
    },
    {
     "name": "stdin",
     "output_type": "stream",
     "text": [
      "What will you do?  walk\n"
     ]
    },
    {
     "name": "stdout",
     "output_type": "stream",
     "text": [
      "You walk around the cave and discover a magic portal. You win!\n"
     ]
    }
   ],
   "source": [
    "def start_game():\n",
    "    print(\"Welcome to the Text-Based Adventure Game!\")\n",
    "    print(\"You find yourself in a dark forest. You can go 'left' or 'right'.\")\n",
    "\n",
    "    user_choice = input(\"Which way will you go? \").lower()\n",
    "\n",
    "    if user_choice == \"left\":\n",
    "        print(\"You encounter a river. Do you 'swim' across or 'follow' the river?\")\n",
    "        user_choice = input(\"What will you do? \").lower()\n",
    "\n",
    "        if user_choice == \"swim\":\n",
    "            print(\"You made it across the river safely. You win!\")\n",
    "        elif user_choice == \"follow\":\n",
    "            print(\"You follow the river and find a hidden treasure. You win!\")\n",
    "        else:\n",
    "            print(\"Invalid choice. Game over.\")\n",
    "\n",
    "    elif user_choice == \"right\":\n",
    "        print(\"You come across a cave. Do you 'enter' the cave or 'walk' around it?\")\n",
    "        user_choice = input(\"What will you do? \").lower()\n",
    "\n",
    "        if user_choice == \"enter\":\n",
    "            print(\"You enter the cave and find a dragon. Game over.\")\n",
    "        elif user_choice == \"walk\":\n",
    "            print(\"You walk around the cave and discover a magic portal. You win!\")\n",
    "        else:\n",
    "            print(\"Invalid choice. Game over.\")\n",
    "\n",
    "    else:\n",
    "        print(\"Invalid choice. Game over.\")\n",
    "\n",
    "start_game()"
   ]
  },
  {
   "cell_type": "markdown",
   "id": "39c1db66-e565-405e-86b7-3ea5f13e5ede",
   "metadata": {},
   "source": [
    "25. Build a program that solves a linear equation for x, considering different cases."
   ]
  },
  {
   "cell_type": "code",
   "execution_count": 53,
   "id": "9c81fb76-fbf7-4969-8584-5443c47c107c",
   "metadata": {},
   "outputs": [
    {
     "name": "stdin",
     "output_type": "stream",
     "text": [
      "Enter the coefficient of the x term (a):  4\n",
      "Enter the constant term (b):  8\n"
     ]
    },
    {
     "name": "stdout",
     "output_type": "stream",
     "text": [
      "x = -2.00\n"
     ]
    }
   ],
   "source": [
    "def solve_linear_equation(a, b):\n",
    "    if a == 0:\n",
    "        if b == 0:\n",
    "            return \"Infinite solutions\" \n",
    "        else:\n",
    "            return \"No solution\"  \n",
    "    else:\n",
    "        x = -b / a\n",
    "        return f\"x = {x:.2f}\"  \n",
    "\n",
    "while True:\n",
    "    try:\n",
    "        a = float(input(\"Enter the coefficient of the x term (a): \"))\n",
    "        b = float(input(\"Enter the constant term (b): \"))\n",
    "        break\n",
    "    except ValueError:\n",
    "        print(\"Invalid input. Please enter numbers only.\")\n",
    "\n",
    "\n",
    "solution = solve_linear_equation(a, b)\n",
    "print(solution)"
   ]
  },
  {
   "cell_type": "markdown",
   "id": "3a0be5e2-7883-41d3-97fc-0e4716d27dd9",
   "metadata": {},
   "source": [
    "26. Write a program that simulates a basic quiz game with multiple-choice questions and scoring."
   ]
  },
  {
   "cell_type": "code",
   "execution_count": 61,
   "id": "f548a52c-6703-4585-9d71-a7a316e2f975",
   "metadata": {},
   "outputs": [
    {
     "name": "stdout",
     "output_type": "stream",
     "text": [
      "Let's begin the quiz!\n",
      "\n",
      "What is the capital of France?\n",
      "1. London\n",
      "2. Paris\n",
      "3. Berlin\n",
      "4. Rome\n"
     ]
    },
    {
     "name": "stdin",
     "output_type": "stream",
     "text": [
      "Enter your answer (1-4):  2\n"
     ]
    },
    {
     "name": "stdout",
     "output_type": "stream",
     "text": [
      "Correct!\n",
      "\n",
      "What is the largest planet in our solar system?\n",
      "1. Earth\n",
      "2. Jupiter\n",
      "3. Mars\n",
      "4. Venus\n"
     ]
    },
    {
     "name": "stdin",
     "output_type": "stream",
     "text": [
      "Enter your answer (1-4):  2\n"
     ]
    },
    {
     "name": "stdout",
     "output_type": "stream",
     "text": [
      "Correct!\n",
      "\n",
      "What is the scientific name for a human?\n",
      "1. Homo sapiens\n",
      "2. Pan troglodytes\n",
      "3. Ursus arctos\n",
      "4. Felis catus\n"
     ]
    },
    {
     "name": "stdin",
     "output_type": "stream",
     "text": [
      "Enter your answer (1-4):  1\n"
     ]
    },
    {
     "name": "stdout",
     "output_type": "stream",
     "text": [
      "Correct!\n",
      "\n",
      "You scored 3 out of 3 questions.\n"
     ]
    }
   ],
   "source": [
    "def ask_question(question, choices):\n",
    "    print(question)\n",
    "    for i, choice in enumerate(choices):\n",
    "        print(f\"{i+1}. {choice}\")\n",
    "    while True:\n",
    "        try:\n",
    "            answer = int(input(\"Enter your answer (1-4): \")) - 1\n",
    "            if 0 <= answer < len(choices):\n",
    "                return answer\n",
    "            else:\n",
    "                print(\"Invalid choice. Please enter a number between 1 and 4.\")\n",
    "        except ValueError:\n",
    "            print(\"Invalid input. Please enter a number.\")\n",
    "\n",
    "def check_answer(answer, correct_answer):\n",
    "    return answer == correct_answer\n",
    "\n",
    "def main():\n",
    "    questions = [\n",
    "        {\n",
    "            \"question\": \"What is the capital of France?\",\n",
    "            \"choices\": [\"London\", \"Paris\", \"Berlin\", \"Rome\"],\n",
    "            \"answer\": 1\n",
    "        },\n",
    "        {\n",
    "            \"question\": \"What is the largest planet in our solar system?\",\n",
    "            \"choices\": [\"Earth\", \"Jupiter\", \"Mars\", \"Venus\"],\n",
    "            \"answer\": 1\n",
    "        },\n",
    "        {\n",
    "            \"question\": \"What is the scientific name for a human?\",\n",
    "            \"choices\": [\"Homo sapiens\", \"Pan troglodytes\", \"Ursus arctos\", \"Felis catus\"],\n",
    "            \"answer\": 0\n",
    "        }\n",
    "    ]\n",
    "    score = 0\n",
    "    for question in questions:\n",
    "        answer_index = ask_question(question[\"question\"], question[\"choices\"])\n",
    "        if check_answer(answer_index, question[\"answer\"]):\n",
    "            print(\"Correct!\\n\")\n",
    "            score += 1\n",
    "        else:\n",
    "            print(f\"Incorrect. The correct answer is {question['choices'][question['answer']]}\\n\")\n",
    "            \n",
    "    print(f\"You scored {score} out of {len(questions)} questions.\")\n",
    "\n",
    "if __name__ == \"__main__\":\n",
    "    print(\"Let's begin the quiz!\\n\")\n",
    "    main()"
   ]
  },
  {
   "cell_type": "markdown",
   "id": "2f8fa14e-69ed-43d1-8901-9fab217c9e49",
   "metadata": {},
   "source": [
    "27. Develop a program that determines whether a given year is a prime number or not."
   ]
  },
  {
   "cell_type": "code",
   "execution_count": 67,
   "id": "49040093-16fa-4131-9626-35018e7145b6",
   "metadata": {},
   "outputs": [
    {
     "name": "stdin",
     "output_type": "stream",
     "text": [
      "Enter year - 2029\n"
     ]
    },
    {
     "name": "stdout",
     "output_type": "stream",
     "text": [
      "2029 is a prime number\n"
     ]
    }
   ],
   "source": [
    "n = int(input(\"Enter year -\"))\n",
    "\n",
    "if n>1 :\n",
    "    if n==2 :\n",
    "        print(n,\"is a prime number\")\n",
    "    else :\n",
    "        for i in range(2,n):\n",
    "            if n%i==0 :\n",
    "                print(n,\"is not a prime number\")\n",
    "                break\n",
    "        else :\n",
    "            print(n,\"is a prime number\")\n",
    "else :\n",
    "    print(n,\"is not a prime number\")    "
   ]
  },
  {
   "cell_type": "markdown",
   "id": "946babd1-f0a9-4211-8e65-e1c4a7bc89c1",
   "metadata": {},
   "source": [
    "28. Create a program that sorts three numbers in ascending order using conditional statements."
   ]
  },
  {
   "cell_type": "code",
   "execution_count": 68,
   "id": "c19cb059-9dd2-477f-ab85-63a7bae4ddfc",
   "metadata": {},
   "outputs": [
    {
     "name": "stdin",
     "output_type": "stream",
     "text": [
      "Enter first number:  57\n",
      "Enter second number:  92\n",
      "Enter third number:  33\n"
     ]
    },
    {
     "name": "stdout",
     "output_type": "stream",
     "text": [
      "Numbers in ascending order:  33.0 57.0 92.0\n"
     ]
    }
   ],
   "source": [
    "# Input three numbers\n",
    "num1 = float(input(\"Enter first number: \"))\n",
    "num2 = float(input(\"Enter second number: \"))\n",
    "num3 = float(input(\"Enter third number: \"))\n",
    "\n",
    "# Sorting the numbers\n",
    "if num1 <= num2 and num1 <= num3:\n",
    "    min_num = num1\n",
    "    if num2 <= num3:\n",
    "        mid_num = num2\n",
    "        max_num = num3\n",
    "    else:\n",
    "        mid_num = num3\n",
    "        max_num = num2\n",
    "elif num2 <= num1 and num2 <= num3:\n",
    "    min_num = num2\n",
    "    if num1 <= num3:\n",
    "        mid_num = num1\n",
    "        max_num = num3\n",
    "    else:\n",
    "        mid_num = num3\n",
    "        max_num = num1\n",
    "else:\n",
    "    min_num = num3\n",
    "    if num1 <= num2:\n",
    "        mid_num = num1\n",
    "        max_num = num2\n",
    "    else:\n",
    "        mid_num = num2\n",
    "        max_num = num1\n",
    "\n",
    "# Output the sorted numbers\n",
    "print(\"Numbers in ascending order: \", min_num, mid_num, max_num)"
   ]
  },
  {
   "cell_type": "markdown",
   "id": "7d5c078f-93c5-4a3c-9f3e-f36abc75e15a",
   "metadata": {},
   "source": [
    "29. Build a program that determines the roots of a quartic equation using numerical methods."
   ]
  },
  {
   "cell_type": "code",
   "execution_count": 82,
   "id": "cfd628b1-9107-4bef-b7d8-58caab2498e5",
   "metadata": {},
   "outputs": [
    {
     "name": "stdout",
     "output_type": "stream",
     "text": [
      "Roots of the quartic equation: [1. 1. 2. 3.]\n"
     ]
    }
   ],
   "source": [
    "import numpy as np\n",
    "from scipy.optimize import root\n",
    "\n",
    "def quartic_equation(c):\n",
    "    return lambda x: c[0]*x**4 + c[1]*x**3 + c[2]*x**2 + c[3]*x + c[4]\n",
    "\n",
    "coefficients = [1, -10, 35, -50, 24]  # coefficients of the quartic equation\n",
    "sol = root(quartic_equation(coefficients), [0, 1, 2, 3])  # initial guesses for roots\n",
    "r = sol.x\n",
    "print(\"Roots of the quartic equation:\",r)"
   ]
  },
  {
   "cell_type": "markdown",
   "id": "eaee2071-9e5c-4a98-ae5d-278dd8a9b820",
   "metadata": {},
   "source": [
    "30. Write a program that calculates the BMI (Body Mass Index) and provides health recommendations based on the user's input."
   ]
  },
  {
   "cell_type": "code",
   "execution_count": null,
   "id": "528d5034-41e3-4e9b-92f1-d4f6db13b0ed",
   "metadata": {},
   "outputs": [],
   "source": [
    "weight = float(input(\"Enter weight in kilograms -\"))\n",
    "height = float(input(\"Enter height in meters -\"))\n",
    "\n",
    "bmi = weight / (height ** 2)\n",
    "\n",
    "if bmi<=18.5 :\n",
    "    print(\"You are underweight. Please consult with a nutritionist.\")\n",
    "elif bmi<25 and bmi>18.5 :\n",
    "    print(\"You are within the healthy weight range. Keep up the good work!\")\n",
    "elif bmi<40 and bmi>=25 :\n",
    "    print(\"You are overweight. Consider adjusting your diet and exercise routine.\")\n",
    "else :\n",
    "    print(\"ou are obese. It's important to prioritize your health. Consult a healthcare provider.\")"
   ]
  },
  {
   "cell_type": "markdown",
   "id": "c39087f0-b64a-4d3f-8c72-9dc08f966f65",
   "metadata": {},
   "source": [
    "_______________________________________________________________________________________________"
   ]
  },
  {
   "cell_type": "markdown",
   "id": "c26dcaea-4913-4933-94c5-b61505140528",
   "metadata": {},
   "source": [
    "Challenge Level"
   ]
  },
  {
   "cell_type": "markdown",
   "id": "4d718afb-4c90-404c-9dc2-551992d9d264",
   "metadata": {},
   "source": [
    "31. Create a program that validates a password based on complexity rules (length, characters, etc.)."
   ]
  },
  {
   "cell_type": "code",
   "execution_count": 83,
   "id": "0883f21c-59d6-4d2b-8aba-b1b41351893b",
   "metadata": {},
   "outputs": [
    {
     "name": "stdin",
     "output_type": "stream",
     "text": [
      "enter your password for validation -  ^PwSkills#8^\n"
     ]
    },
    {
     "name": "stdout",
     "output_type": "stream",
     "text": [
      "Password is valid.\n"
     ]
    }
   ],
   "source": [
    "def validate_password(password):\n",
    "    if len(password) < 8:\n",
    "        return False\n",
    "    elif not any(char.isdigit() for char in password):\n",
    "        return False\n",
    "    elif not any(char.isupper() for char in password):\n",
    "        return False\n",
    "    elif not any(char.islower() for char in password):\n",
    "        return False\n",
    "    else:\n",
    "        return True\n",
    "\n",
    "# Test the password validation function\n",
    "password = input(\"enter your password for validation - \")\n",
    "if validate_password(password):\n",
    "    print(\"Password is valid.\")\n",
    "else:\n",
    "    print(\"Password is invalid.\")"
   ]
  },
  {
   "cell_type": "markdown",
   "id": "f356a7d7-8695-45f6-a569-4a47fc100171",
   "metadata": {},
   "source": [
    "32. Develop a program that performs matrix addition and subtraction based on user input."
   ]
  },
  {
   "cell_type": "code",
   "execution_count": 105,
   "id": "40f9fa71-f3db-4e2b-9e37-8ded3d369ee5",
   "metadata": {},
   "outputs": [
    {
     "name": "stdout",
     "output_type": "stream",
     "text": [
      "Enter dimensions for first matrix (rows columns):\n"
     ]
    },
    {
     "name": "stdin",
     "output_type": "stream",
     "text": [
      " 3 3\n"
     ]
    },
    {
     "name": "stdout",
     "output_type": "stream",
     "text": [
      "Enter elements for the first matrix:\n"
     ]
    },
    {
     "name": "stdin",
     "output_type": "stream",
     "text": [
      " 1\n",
      " 2\n",
      " 3\n",
      " 4\n",
      " 5\n",
      " 6\n",
      " 7\n",
      " 8\n",
      " 9\n"
     ]
    },
    {
     "name": "stdout",
     "output_type": "stream",
     "text": [
      "Enter dimensions for second matrix (rows columns):\n"
     ]
    },
    {
     "name": "stdin",
     "output_type": "stream",
     "text": [
      " 3 3\n"
     ]
    },
    {
     "name": "stdout",
     "output_type": "stream",
     "text": [
      "Enter elements for the second matrix:\n"
     ]
    },
    {
     "name": "stdin",
     "output_type": "stream",
     "text": [
      " 9\n",
      " 8\n",
      " 7\n",
      " 6\n",
      " 5\n",
      " 4\n",
      " 3\n",
      " 2\n",
      " 1\n"
     ]
    },
    {
     "name": "stdout",
     "output_type": "stream",
     "text": [
      "Sum of the matrices:\n",
      "10.0 10.0 10.0\n",
      "\n",
      "10.0 10.0 10.0\n",
      "\n",
      "10.0 10.0 10.0\n",
      "\n",
      "Difference of the matrices:\n",
      "-8.0 -6.0 -4.0\n",
      "\n",
      "-2.0 0.0 2.0\n",
      "\n",
      "4.0 6.0 8.0\n",
      "\n"
     ]
    }
   ],
   "source": [
    "def get_matrix(rows, cols):\n",
    "    return [[float(input()) for _ in range(cols)] for _ in range(rows)]\n",
    "\n",
    "def add_or_subtract(matrix1, matrix2, op):\n",
    "    if len(matrix1) != len(matrix2) or len(matrix1[0]) != len(matrix2[0]):\n",
    "        print(f\"Matrices must have same dimensions for {op}.\")\n",
    "        return None\n",
    "    return [[a + b if op == 'add' else a - b for a, b in zip(row1, row2)] for row1, row2 in zip(matrix1, matrix2)]\n",
    "\n",
    "def print_matrix(matrix):\n",
    "    for row in matrix:\n",
    "        print(*row, sep=\" \")  # Unpack row elements with spacing\n",
    "        print()\n",
    "\n",
    "def main():\n",
    "    print(\"Enter dimensions for first matrix (rows columns):\")\n",
    "    rows1, cols1 = map(int, input().split())\n",
    "    print(\"Enter elements for the first matrix:\")\n",
    "    matrix1 = get_matrix(rows1, cols1)\n",
    "\n",
    "    print(\"Enter dimensions for second matrix (rows columns):\")\n",
    "    rows2, cols2 = map(int, input().split())\n",
    "    print(\"Enter elements for the second matrix:\")\n",
    "    matrix2 = get_matrix(rows2, cols2)\n",
    "\n",
    "    if rows1 == rows2 and cols1 == cols2:\n",
    "        sum_matrix = add_or_subtract(matrix1.copy(), matrix2.copy(), \"add\")\n",
    "        difference_matrix = add_or_subtract(matrix1.copy(), matrix2.copy(), \"subtract\")\n",
    "\n",
    "    if sum_matrix:\n",
    "        print(\"Sum of the matrices:\")\n",
    "        print_matrix(sum_matrix)\n",
    "\n",
    "    if difference_matrix:\n",
    "        print(\"Difference of the matrices:\")\n",
    "        print_matrix(difference_matrix)\n",
    "\n",
    "if __name__ == \"__main__\":\n",
    "    main()"
   ]
  },
  {
   "cell_type": "markdown",
   "id": "8bd9f3d8-9529-4b0f-ba4c-9a59997071f3",
   "metadata": {},
   "source": [
    "33. Write a program that calculates the greatest common divisor (GCD) of two numbers using the Euclidean algorithm."
   ]
  },
  {
   "cell_type": "code",
   "execution_count": 109,
   "id": "b8a54b86-ab01-4b21-8e1d-46390031fd18",
   "metadata": {},
   "outputs": [
    {
     "name": "stdin",
     "output_type": "stream",
     "text": [
      "Enter the first number:  20\n",
      "Enter the second number:  60\n"
     ]
    },
    {
     "name": "stdout",
     "output_type": "stream",
     "text": [
      "The greatest common divisor of 20 and 60 is: 20\n"
     ]
    }
   ],
   "source": [
    "def gcd(a, b):\n",
    "    while b != 0:\n",
    "        remainder = a % b\n",
    "        a = b\n",
    "        b = remainder\n",
    "    return a\n",
    "\n",
    "num1 = int(input(\"Enter the first number: \"))\n",
    "num2 = int(input(\"Enter the second number: \"))\n",
    "\n",
    "gcd_result = gcd(num1, num2)\n",
    "\n",
    "print(f\"The greatest common divisor of {num1} and {num2} is: {gcd_result}\")\n"
   ]
  },
  {
   "cell_type": "markdown",
   "id": "688dfd63-73f6-47de-a964-5c356d2b67f9",
   "metadata": {},
   "source": [
    "34. Build a program that performs matrix multiplication using nested loops and conditional statements."
   ]
  },
  {
   "cell_type": "code",
   "execution_count": 110,
   "id": "000ec74d-3755-4e41-bb43-2c4f22c9f3fd",
   "metadata": {},
   "outputs": [
    {
     "name": "stdout",
     "output_type": "stream",
     "text": [
      "Resulting product matrix:\n",
      "[19, 22]\n",
      "[43, 50]\n"
     ]
    }
   ],
   "source": [
    "def multiply_matrices(matrix1, matrix2):\n",
    "    rows1 = len(matrix1)\n",
    "    cols1 = len(matrix1[0])\n",
    "    rows2 = len(matrix2)\n",
    "    cols2 = len(matrix2[0])\n",
    "\n",
    "  # Check if matrix dimensions are compatible for multiplication (m x n * p x q -> m x q)\n",
    "    if cols1 != rows2:\n",
    "        print(\"Error: Matrix dimensions are not compatible for multiplication.\")\n",
    "        return None\n",
    "\n",
    "    result = [[0 for _ in range(cols2)] for _ in range(rows1)]\n",
    "    for i in range(rows1):\n",
    "        for j in range(cols2):\n",
    "            for k in range(cols1):  # Inner loop iterates over elements of the same column in matrix1\n",
    "                result[i][j] += matrix1[i][k] * matrix2[k][j]\n",
    "\n",
    "    return result\n",
    "\n",
    "matrix1 = [[1, 2], [3, 4]]\n",
    "matrix2 = [[5, 6], [7, 8]]\n",
    "\n",
    "product_matrix = multiply_matrices(matrix1, matrix2)\n",
    "\n",
    "if product_matrix:\n",
    "    print(\"Resulting product matrix:\")\n",
    "    for row in product_matrix:\n",
    "        print(row)\n"
   ]
  },
  {
   "cell_type": "markdown",
   "id": "b9b03ea9-726a-4c49-b29b-15016ceea614",
   "metadata": {},
   "source": [
    "35. Create a program that simulates a basic text-based tic-tac-toe game against the computer."
   ]
  },
  {
   "cell_type": "code",
   "execution_count": 119,
   "id": "9b8c5b26-cf0b-42ea-b0f6-1fdd0a1edacd",
   "metadata": {},
   "outputs": [
    {
     "name": "stdout",
     "output_type": "stream",
     "text": [
      "Welcome to the game !\n",
      "\n",
      "(0,0) | (0,1) | (0,2)\n",
      "-----------------------\n",
      "(1,0) | (1,1) | (2,1)\n",
      "-----------------------\n",
      "(2,0) | (2,1) | (2,2)\n",
      "\n",
      "These are the co-ordinates so that you can play your move.\n",
      "\n",
      "Example -\n",
      "Enter your move (row col): 1 1\n",
      "\n",
      "Let's begin !\n",
      "\n",
      "  |   |  \n",
      "-----\n",
      "  |   |  \n",
      "-----\n",
      "  |   |  \n",
      "-----\n"
     ]
    },
    {
     "name": "stdin",
     "output_type": "stream",
     "text": [
      "Enter your move (row col):  1 1\n"
     ]
    },
    {
     "name": "stdout",
     "output_type": "stream",
     "text": [
      "  |   |  \n",
      "-----\n",
      "  | X |  \n",
      "-----\n",
      "  |   |  \n",
      "-----\n",
      "Computer chooses: 1 0\n",
      "  |   |  \n",
      "-----\n",
      "O | X |  \n",
      "-----\n",
      "  |   |  \n",
      "-----\n"
     ]
    },
    {
     "name": "stdin",
     "output_type": "stream",
     "text": [
      "Enter your move (row col):  0 0\n"
     ]
    },
    {
     "name": "stdout",
     "output_type": "stream",
     "text": [
      "X |   |  \n",
      "-----\n",
      "O | X |  \n",
      "-----\n",
      "  |   |  \n",
      "-----\n",
      "Computer chooses: 0 1\n",
      "X | O |  \n",
      "-----\n",
      "O | X |  \n",
      "-----\n",
      "  |   |  \n",
      "-----\n"
     ]
    },
    {
     "name": "stdin",
     "output_type": "stream",
     "text": [
      "Enter your move (row col):  2 0\n"
     ]
    },
    {
     "name": "stdout",
     "output_type": "stream",
     "text": [
      "X | O |  \n",
      "-----\n",
      "O | X |  \n",
      "-----\n",
      "X |   |  \n",
      "-----\n",
      "Computer chooses: 0 2\n",
      "X | O | O\n",
      "-----\n",
      "O | X |  \n",
      "-----\n",
      "X |   |  \n",
      "-----\n"
     ]
    },
    {
     "name": "stdin",
     "output_type": "stream",
     "text": [
      "Enter your move (row col):  2 2\n"
     ]
    },
    {
     "name": "stdout",
     "output_type": "stream",
     "text": [
      "X | O | O\n",
      "-----\n",
      "O | X |  \n",
      "-----\n",
      "X |   | X\n",
      "-----\n",
      "Computer chooses: 2 1\n",
      "X | O | O\n",
      "-----\n",
      "O | X |  \n",
      "-----\n",
      "X | O | X\n",
      "-----\n",
      "Congratulations! You won!\n"
     ]
    }
   ],
   "source": [
    "import random\n",
    "\n",
    "def print_board(board):\n",
    "    for row in board:\n",
    "        print(\" | \".join(row))\n",
    "        print(\"-\" * 5)\n",
    "\n",
    "def check_winner(board, player):\n",
    "    for row in board:\n",
    "        if all([cell == player for cell in row]):\n",
    "            return True\n",
    "    for col in range(3):\n",
    "        if all([board[row][col] == player for row in range(3)]):\n",
    "            return True\n",
    "    if all([board[i][i] == player for i in range(3)]) or all([board[i][2-i] == player for i in range(3)]):\n",
    "        return True\n",
    "    return False\n",
    "\n",
    "def is_board_full(board):\n",
    "    return all([cell != \" \" for row in board for cell in row])\n",
    "\n",
    "def get_empty_cells(board):\n",
    "    return [(row, col) for row in range(3) for col in range(3) if board[row][col] == \" \"]\n",
    "\n",
    "def computer_move(board):\n",
    "    empty_cells = get_empty_cells(board)\n",
    "    return random.choice(empty_cells)\n",
    "\n",
    "def main():\n",
    "    board = [[\" \" for _ in range(3)] for _ in range(3)]\n",
    "    players = [\"X\", \"O\"]\n",
    "    turn = 0\n",
    "\n",
    "    while not check_winner(board, players[turn]) and not is_board_full(board):\n",
    "        print_board(board)\n",
    "        if turn == 0:\n",
    "            row, col = map(int, input(\"Enter your move (row col): \").split())\n",
    "        else:\n",
    "            row, col = computer_move(board)\n",
    "            print(f\"Computer chooses: {row} {col}\")\n",
    "\n",
    "        if board[row][col] == \" \":\n",
    "            board[row][col] = players[turn]\n",
    "            turn = (turn + 1) % 2\n",
    "        else:\n",
    "            print(\"Invalid move. Try again.\")\n",
    "\n",
    "    print_board(board)\n",
    "    if check_winner(board, \"X\"):\n",
    "        print(\"Congratulations! You won!\")\n",
    "    elif check_winner(board, \"O\"):\n",
    "        print(\"Computer wins!\")\n",
    "    else:\n",
    "        print(\"It's a tie!\")\n",
    "\n",
    "if __name__ == \"__main__\":\n",
    "    print(\"Welcome to the game !\\n\")\n",
    "    print(\n",
    "        \"(0,0) | (0,1) | (0,2)\\n\"\n",
    "        \"-----------------------\\n\"\n",
    "        \"(1,0) | (1,1) | (2,1)\\n\"\n",
    "        \"-----------------------\\n\"\n",
    "        \"(2,0) | (2,1) | (2,2)\\n\"\n",
    "        \"\\n\"\n",
    "        \"These are the co-ordinates so that you can play your move.\\n\"\n",
    "        \"\\n\"\n",
    "        \"Example -\\n\"\n",
    "        \"Enter your move (row col): 1 1\\n\"\n",
    "        \"\\n\"\n",
    "        \"Let's begin !\\n\"\n",
    "    )\n",
    "    main()"
   ]
  },
  {
   "cell_type": "markdown",
   "id": "748add6e-43e3-42b7-afe2-0e017ae4ce79",
   "metadata": {},
   "source": [
    "36. Write a program that generates Fibonacci numbers up to a specified term using iterative methods."
   ]
  },
  {
   "cell_type": "code",
   "execution_count": 120,
   "id": "c942039b-e5e0-467a-8ddb-726c477ef2bd",
   "metadata": {},
   "outputs": [
    {
     "name": "stdin",
     "output_type": "stream",
     "text": [
      "Enter range -  10\n"
     ]
    },
    {
     "name": "stdout",
     "output_type": "stream",
     "text": [
      "Fibonacci numbers up to the 10th term: [0, 1, 1, 2, 3, 5, 8, 13, 21, 34, 55]\n"
     ]
    }
   ],
   "source": [
    "def fibonacci(n):\n",
    "    if n < 0:\n",
    "        print(\"Invalid input. n must be non-negative.\")\n",
    "        return []\n",
    "\n",
    "    fib_sequence = [0, 1]\n",
    "\n",
    "    for i in range(2, n + 1):\n",
    "        next_term = fib_sequence[i-1] + fib_sequence[i-2]\n",
    "        fib_sequence.append(next_term)\n",
    "\n",
    "    return fib_sequence\n",
    "\n",
    "n = int(input(\"Enter range - \"))\n",
    "fibonacci_numbers = fibonacci(n)\n",
    "\n",
    "print(f\"Fibonacci numbers up to the {n}th term: {fibonacci_numbers}\")"
   ]
  },
  {
   "cell_type": "markdown",
   "id": "4b16c247-2a1c-4ed6-af62-e2b6d33aa12e",
   "metadata": {},
   "source": [
    "37. Develop a program that calculates the nth term of the Fibonacci sequence using memoization."
   ]
  },
  {
   "cell_type": "code",
   "execution_count": 121,
   "id": "101ab48b-3a29-445e-9e54-1218a700f1e1",
   "metadata": {},
   "outputs": [
    {
     "name": "stdin",
     "output_type": "stream",
     "text": [
      "Enter range -  10\n"
     ]
    },
    {
     "name": "stdout",
     "output_type": "stream",
     "text": [
      "The 10th term of the Fibonacci sequence is: 55\n"
     ]
    }
   ],
   "source": [
    "def fibonacci(n, memo={}):\n",
    "    if n in memo:\n",
    "        return memo[n]\n",
    "    if n <= 1:\n",
    "        return n\n",
    "    memo[n] = fibonacci(n-1, memo) + fibonacci(n-2, memo)\n",
    "    return memo[n]\n",
    "\n",
    "n = int(input(\"Enter range - \"))\n",
    "result = fibonacci(n)\n",
    "print(f\"The {n}th term of the Fibonacci sequence is: {result}\")"
   ]
  },
  {
   "cell_type": "markdown",
   "id": "e8d40b86-7a3e-42ba-9f56-bb5682661552",
   "metadata": {},
   "source": [
    "38. Create a program that generates a calendar for a given month and year using conditional statements."
   ]
  },
  {
   "cell_type": "code",
   "execution_count": 175,
   "id": "459616e6-71f3-4525-9462-3db3b12996c1",
   "metadata": {},
   "outputs": [
    {
     "name": "stdin",
     "output_type": "stream",
     "text": [
      "Enter month -  9\n",
      "Enter year -  2023\n"
     ]
    },
    {
     "name": "stdout",
     "output_type": "stream",
     "text": [
      "\n",
      "Calendar for 9/2023\n",
      "\n",
      "Mon Tue Wed Thu Fri Sat Sun\n",
      "                      1   2 \n",
      "  3   4   5   6   7   8   9 \n",
      " 10  11  12  13  14  15  16 \n",
      " 17  18  19  20  21  22  23 \n",
      " 24  25  26  27  28  29  30 \n"
     ]
    }
   ],
   "source": [
    "def generate_calendar(month, year):\n",
    "    days_in_month = {\n",
    "        1: 31, 2: 28, 3: 31, 4: 30, 5: 31, 6: 30,\n",
    "        7: 31, 8: 31, 9: 30, 10: 31, 11: 30, 12: 31\n",
    "    }\n",
    "    \n",
    "    if (year % 4 == 0 and year % 100 != 0) or year % 400 == 0:\n",
    "        days_in_month[2] = 29\n",
    "\n",
    "    if month < 1 or month > 12:\n",
    "        print(\"Invalid month. Please enter a month between 1 and 12.\")\n",
    "        return\n",
    "\n",
    "    print(f\"Calendar for {month}/{year}\\n\")\n",
    "    print(\"Mon Tue Wed Thu Fri Sat Sun\")\n",
    "\n",
    "    first_day_of_week = (year + (year // 4) - (year // 100) + (year // 400) + ((13 * month + 8) // 5) + 1) % 7\n",
    "\n",
    "    print(\" \" * 4 * first_day_of_week, end='')\n",
    "\n",
    "    for day in range(1, days_in_month[month] + 1):\n",
    "        print(f\"{day:3}\", end=' ')\n",
    "        if (day + first_day_of_week) % 7 == 0:\n",
    "            print()\n",
    "\n",
    "m = int(input(\"Enter month - \"))\n",
    "y = int(input(\"Enter year - \"))\n",
    "print(\"\")\n",
    "generate_calendar(m, y)"
   ]
  },
  {
   "cell_type": "markdown",
   "id": "5b043935-7166-4e8d-9115-1cc58197299e",
   "metadata": {},
   "source": [
    "39. Build a program that simulates a basic text-based blackjack game against the computer."
   ]
  },
  {
   "cell_type": "code",
   "execution_count": 192,
   "id": "35bd1c77-ef50-4c80-a609-21bcd21c9a52",
   "metadata": {},
   "outputs": [
    {
     "name": "stdout",
     "output_type": "stream",
     "text": [
      "Welcome to Blackjack!\n",
      "Your hand: ['6 of Hearts', 'K of Spades'], Your score: 16\n",
      "Computer's hand: 6 of Clubs\n"
     ]
    },
    {
     "name": "stdin",
     "output_type": "stream",
     "text": [
      "Do you want to hit or stand? (h/s):  h\n"
     ]
    },
    {
     "name": "stdout",
     "output_type": "stream",
     "text": [
      "Your hand: ['6 of Hearts', 'K of Spades', '5 of Hearts'], Your score: 21\n",
      "Your final hand: ['6 of Hearts', 'K of Spades', '5 of Hearts'], Your final score: 21\n",
      "Computer's final hand: ['6 of Clubs', 'K of Hearts', '10 of Hearts'], Computer's final score: 26\n",
      "Computer busts! You win.\n"
     ]
    }
   ],
   "source": [
    "import random\n",
    "\n",
    "class BlackjackGame:\n",
    "    def __init__(self):\n",
    "        self.deck = self.create_deck()\n",
    "        self.player_hand = []\n",
    "        self.computer_hand = []\n",
    "        self.player_score = 0\n",
    "        self.computer_score = 0\n",
    "\n",
    "    def create_deck(self):\n",
    "        ranks = ['2', '3', '4', '5', '6', '7', '8', '9', '10', 'J', 'Q', 'K', 'A']\n",
    "        suits = ['Hearts', 'Diamonds', 'Clubs', 'Spades']\n",
    "        deck = [f'{rank} of {suit}' for rank in ranks for suit in suits]\n",
    "        random.shuffle(deck)\n",
    "        return deck\n",
    "\n",
    "    def deal_card(self):\n",
    "        return self.deck.pop()\n",
    "\n",
    "    def calculate_score(self, hand):\n",
    "        score = 0\n",
    "        num_aces = 0\n",
    "        for card in hand:\n",
    "            rank = card.split()[0]\n",
    "            if rank.isdigit():\n",
    "                score += int(rank)\n",
    "            elif rank in ['J', 'Q', 'K']:\n",
    "                score += 10\n",
    "            else:\n",
    "                num_aces += 1\n",
    "                score += 11\n",
    "        while score > 21 and num_aces:\n",
    "            score -= 10\n",
    "            num_aces -= 1\n",
    "        return score\n",
    "\n",
    "    def play_game(self):\n",
    "        print(\"Welcome to Blackjack!\")\n",
    "        \n",
    "        self.player_hand.append(self.deal_card())\n",
    "        self.computer_hand.append(self.deal_card())\n",
    "        self.player_hand.append(self.deal_card())\n",
    "        self.computer_hand.append(self.deal_card())\n",
    "        \n",
    "        self.player_score = self.calculate_score(self.player_hand)\n",
    "        self.computer_score = self.calculate_score(self.computer_hand)\n",
    "        \n",
    "        print(f\"Your hand: {self.player_hand}, Your score: {self.player_score}\")\n",
    "        print(f\"Computer's hand: {self.computer_hand[0]}\")\n",
    "        \n",
    "        while self.player_score < 21:\n",
    "            action = input(\"Do you want to hit or stand? (h/s): \").lower()\n",
    "            if action == 'h':\n",
    "                self.player_hand.append(self.deal_card())\n",
    "                self.player_score = self.calculate_score(self.player_hand)\n",
    "                print(f\"Your hand: {self.player_hand}, Your score: {self.player_score}\")\n",
    "            elif action == 's':\n",
    "                break\n",
    "        \n",
    "        while self.computer_score < 17:\n",
    "            self.computer_hand.append(self.deal_card())\n",
    "            self.computer_score = self.calculate_score(self.computer_hand)\n",
    "        \n",
    "        print(f\"Your final hand: {self.player_hand}, Your final score: {self.player_score}\")\n",
    "        print(f\"Computer's final hand: {self.computer_hand}, Computer's final score: {self.computer_score}\")\n",
    "        \n",
    "        if self.player_score > 21:\n",
    "            print(\"You bust! Computer wins.\")\n",
    "        elif self.computer_score > 21:\n",
    "            print(\"Computer busts! You win.\")\n",
    "        elif self.player_score > self.computer_score:\n",
    "            print(\"You win!\")\n",
    "        elif self.player_score < self.computer_score:\n",
    "            print(\"Computer wins.\")\n",
    "        else:\n",
    "            print(\"It's a tie!\")\n",
    "        \n",
    "game = BlackjackGame()\n",
    "game.play_game()"
   ]
  },
  {
   "cell_type": "markdown",
   "id": "792b6676-5a24-4224-a7a6-54a4d35dfe4f",
   "metadata": {},
   "source": [
    "40. Write a program that generates the prime factors of a given number using trial division."
   ]
  },
  {
   "cell_type": "code",
   "execution_count": 6,
   "id": "6c485d9b-a76b-4e99-aea5-ed4ffb70656f",
   "metadata": {},
   "outputs": [
    {
     "name": "stdin",
     "output_type": "stream",
     "text": [
      "Enter a positive integer:  60\n"
     ]
    },
    {
     "name": "stdout",
     "output_type": "stream",
     "text": [
      "Prime factors of 60: [2, 2, 3, 5]\n"
     ]
    }
   ],
   "source": [
    "def prime_factors(n):\n",
    "    if n <= 1:\n",
    "        return []  # Handle non-positive input\n",
    "    factors = []\n",
    "    i = 2  # Start with potential factor 2\n",
    "    while n > 1:\n",
    "        if n % i == 0:\n",
    "            factors.append(i)\n",
    "            n //= i  # Efficient integer division for repeated division by the same factor\n",
    "        else:\n",
    "            i += 1\n",
    "    return factors\n",
    "\n",
    "while True:\n",
    "    try:\n",
    "        number = int(input(\"Enter a positive integer: \"))\n",
    "        if number > 0:\n",
    "            break\n",
    "        else:\n",
    "            print(\"Invalid input. Please enter a positive integer.\")\n",
    "    except ValueError:\n",
    "        print(\"Invalid input. Please enter a number.\")\n",
    "\n",
    "prime_factors_list = prime_factors(number)\n",
    "if prime_factors_list:\n",
    "    print(f\"Prime factors of {number}: {prime_factors_list}\")\n",
    "else:\n",
    "    print(f\"{number} is a prime number.\")"
   ]
  }
 ],
 "metadata": {
  "kernelspec": {
   "display_name": "Python 3 (ipykernel)",
   "language": "python",
   "name": "python3"
  },
  "language_info": {
   "codemirror_mode": {
    "name": "ipython",
    "version": 3
   },
   "file_extension": ".py",
   "mimetype": "text/x-python",
   "name": "python",
   "nbconvert_exporter": "python",
   "pygments_lexer": "ipython3",
   "version": "3.10.8"
  }
 },
 "nbformat": 4,
 "nbformat_minor": 5
}
