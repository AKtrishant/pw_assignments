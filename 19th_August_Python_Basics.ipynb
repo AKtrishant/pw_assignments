{
 "cells": [
  {
   "cell_type": "markdown",
   "id": "365b2669-6895-44a0-9ba2-a9a4fba9a85e",
   "metadata": {},
   "source": [
    "Topic - Python basic variables"
   ]
  },
  {
   "cell_type": "markdown",
   "id": "6fba0ded-9f27-4d8d-b01f-c989bbc11909",
   "metadata": {},
   "source": [
    "___________________________________________#1 Value swapping"
   ]
  },
  {
   "cell_type": "code",
   "execution_count": 4,
   "id": "1f42f406-1e64-47c3-9303-1d32a9de5754",
   "metadata": {},
   "outputs": [],
   "source": [
    "x=10\n",
    "y=20"
   ]
  },
  {
   "cell_type": "code",
   "execution_count": 5,
   "id": "cfbc3e0d-3b2c-4f5b-b5cd-80cb1fee52ab",
   "metadata": {},
   "outputs": [
    {
     "name": "stdout",
     "output_type": "stream",
     "text": [
      "10 20\n"
     ]
    }
   ],
   "source": [
    "print(x,y)"
   ]
  },
  {
   "cell_type": "code",
   "execution_count": 6,
   "id": "bf149a33-6fed-4e63-b250-e50549ee1e22",
   "metadata": {},
   "outputs": [],
   "source": [
    "x,y=y,x"
   ]
  },
  {
   "cell_type": "code",
   "execution_count": 7,
   "id": "2f235991-3cde-4ff4-bf4e-6c97cfda3173",
   "metadata": {},
   "outputs": [
    {
     "name": "stdout",
     "output_type": "stream",
     "text": [
      "20 10\n"
     ]
    }
   ],
   "source": [
    "print(x,y)"
   ]
  },
  {
   "cell_type": "markdown",
   "id": "6c2c9f07-a732-4893-a6f9-45e73092294f",
   "metadata": {},
   "source": [
    "___________________________________________#2 Area of rectangle"
   ]
  },
  {
   "cell_type": "code",
   "execution_count": 8,
   "id": "05c52898-b3fc-4acf-a01e-ccc18cf6eb17",
   "metadata": {},
   "outputs": [
    {
     "name": "stdin",
     "output_type": "stream",
     "text": [
      "Length -  20\n"
     ]
    }
   ],
   "source": [
    "l=int(input(\"Length - \"))"
   ]
  },
  {
   "cell_type": "code",
   "execution_count": 10,
   "id": "2940552d-8c72-4306-8ae5-a443032bc990",
   "metadata": {},
   "outputs": [
    {
     "name": "stdin",
     "output_type": "stream",
     "text": [
      "width -  10\n"
     ]
    }
   ],
   "source": [
    "w=int(input(\"width - \"))"
   ]
  },
  {
   "cell_type": "code",
   "execution_count": null,
   "id": "752b18b0-b389-4c15-8177-b9a2976a57d3",
   "metadata": {},
   "outputs": [],
   "source": [
    "area=l*w"
   ]
  },
  {
   "cell_type": "code",
   "execution_count": 13,
   "id": "6d912d9b-d712-4337-a718-e3cce34feb69",
   "metadata": {},
   "outputs": [
    {
     "name": "stdout",
     "output_type": "stream",
     "text": [
      "Area of rectangle -  200\n"
     ]
    }
   ],
   "source": [
    "print(\"Area of rectangle - \",area)"
   ]
  },
  {
   "cell_type": "markdown",
   "id": "17f7c122-ef7f-4365-82b7-1772f637aeb0",
   "metadata": {},
   "source": [
    "___________________________________________#3 Temperature conversion"
   ]
  },
  {
   "cell_type": "code",
   "execution_count": 19,
   "id": "d73cc2f2-38c1-4620-8ef9-c3276565aaa8",
   "metadata": {},
   "outputs": [
    {
     "name": "stdin",
     "output_type": "stream",
     "text": [
      "Enter temperature in Celsius :-  40\n"
     ]
    }
   ],
   "source": [
    "cel=float(input(\"Enter temperature in Celsius :- \"))"
   ]
  },
  {
   "cell_type": "code",
   "execution_count": 20,
   "id": "443e3cf7-1ef5-454c-9005-9ab69e6b81eb",
   "metadata": {},
   "outputs": [],
   "source": [
    "fah=(cel*(9/5))+32"
   ]
  },
  {
   "cell_type": "code",
   "execution_count": 21,
   "id": "5ce79e6c-64e8-4214-9aaf-e16fc1259d46",
   "metadata": {},
   "outputs": [
    {
     "name": "stdout",
     "output_type": "stream",
     "text": [
      "Temperature in Fahrenheit -  104.0\n"
     ]
    }
   ],
   "source": [
    "print(\"Temperature in Fahrenheit - \",fah)"
   ]
  },
  {
   "cell_type": "markdown",
   "id": "fa2aac9f-d89c-4d4c-a3ae-4ec24a8bbdeb",
   "metadata": {},
   "source": [
    "-----------------------------------------------------------------------------------------------------"
   ]
  },
  {
   "cell_type": "markdown",
   "id": "bc2f85dd-ad71-48f2-b54f-57d8f8dd9753",
   "metadata": {},
   "source": [
    "Topic - String based"
   ]
  },
  {
   "cell_type": "markdown",
   "id": "687eb5f0-f890-4b9e-b850-8ac8f04a5176",
   "metadata": {},
   "source": [
    "___________________________________________#1 Length of string"
   ]
  },
  {
   "cell_type": "code",
   "execution_count": 25,
   "id": "6a1d47f8-0dc0-4528-86f5-95c83f92e9b1",
   "metadata": {},
   "outputs": [
    {
     "name": "stdin",
     "output_type": "stream",
     "text": [
      "Enter string -  pwskills\n"
     ]
    }
   ],
   "source": [
    "s = str(input(\"Enter string - \"))"
   ]
  },
  {
   "cell_type": "code",
   "execution_count": 31,
   "id": "44328016-6cf4-48fb-8a23-8d30c2b7fefa",
   "metadata": {},
   "outputs": [
    {
     "name": "stdout",
     "output_type": "stream",
     "text": [
      "length of string -  8\n"
     ]
    }
   ],
   "source": [
    "print(\"length of string - \",len(s))"
   ]
  },
  {
   "cell_type": "markdown",
   "id": "e32e2abb-6de7-4a4f-85fe-f8ba8c49b72c",
   "metadata": {},
   "source": [
    "___________________________________________#2 Vowels in the string"
   ]
  },
  {
   "cell_type": "code",
   "execution_count": 51,
   "id": "0936a2f2-d2a3-48c9-bb26-497dfb653dd2",
   "metadata": {},
   "outputs": [
    {
     "name": "stdin",
     "output_type": "stream",
     "text": [
      "Enter string -  data science course from string\n"
     ]
    }
   ],
   "source": [
    "string = str(input(\"Enter string - \"))"
   ]
  },
  {
   "cell_type": "code",
   "execution_count": 52,
   "id": "b4b43946-4eb2-4ad6-a7bb-9dd91b49b8e8",
   "metadata": {},
   "outputs": [],
   "source": [
    "s1 = string.lower()"
   ]
  },
  {
   "cell_type": "code",
   "execution_count": 53,
   "id": "07750051-119c-4634-8ee7-1af702b6bc72",
   "metadata": {},
   "outputs": [],
   "source": [
    "list1 = [\"a\",\"e\",\"i\",\"o\",\"u\"]"
   ]
  },
  {
   "cell_type": "code",
   "execution_count": 62,
   "id": "5bbd02e6-1503-4676-bf0a-9be0e92e4862",
   "metadata": {},
   "outputs": [],
   "source": [
    "count=0\n",
    "for j in s1:\n",
    "    if j in list1:\n",
    "        count=count+1"
   ]
  },
  {
   "cell_type": "code",
   "execution_count": 63,
   "id": "3057084b-ad6e-49d3-8e4f-ec7e4485d2ba",
   "metadata": {},
   "outputs": [
    {
     "name": "stdout",
     "output_type": "stream",
     "text": [
      "Number of vowels in the string -  10\n"
     ]
    }
   ],
   "source": [
    "if x>0:\n",
    "    print(\"Number of vowels in the string - \",count)\n",
    "else:\n",
    "    print(\"no vowels exist in the string\")"
   ]
  },
  {
   "cell_type": "markdown",
   "id": "3e7ce668-57f8-4ef4-96e0-9c0000d3452e",
   "metadata": {},
   "source": [
    "___________________________________________#3 Reversing a string"
   ]
  },
  {
   "cell_type": "code",
   "execution_count": 65,
   "id": "6463fbd7-267c-4c2d-b67b-47e99aaebece",
   "metadata": {},
   "outputs": [
    {
     "name": "stdin",
     "output_type": "stream",
     "text": [
      "Enter string -  python\n"
     ]
    }
   ],
   "source": [
    "str_1 = str(input(\"Enter string - \"))"
   ]
  },
  {
   "cell_type": "code",
   "execution_count": 66,
   "id": "9636d7f4-8a5e-40de-a051-8a08b2ec80f6",
   "metadata": {},
   "outputs": [],
   "source": [
    "str_2 = str_1[len(str_1)-1::-1]     # using len() function calulate length and use index slicing"
   ]
  },
  {
   "cell_type": "code",
   "execution_count": 67,
   "id": "6377fa12-7d4a-44ad-9af2-a79f31f48bf5",
   "metadata": {},
   "outputs": [
    {
     "name": "stdout",
     "output_type": "stream",
     "text": [
      "Reverse string -  nohtyp\n"
     ]
    }
   ],
   "source": [
    "print(\"Reversed string - \",str_2)"
   ]
  },
  {
   "cell_type": "markdown",
   "id": "325a50e7-d95d-45bf-a719-99de9ee65706",
   "metadata": {},
   "source": [
    "___________________________________________#4 Palindrome"
   ]
  },
  {
   "cell_type": "code",
   "execution_count": 69,
   "id": "c5b61e36-32a5-46a9-8dca-63d27eb9db21",
   "metadata": {},
   "outputs": [
    {
     "name": "stdin",
     "output_type": "stream",
     "text": [
      "Enter string -  science\n"
     ]
    }
   ],
   "source": [
    "string_1 = str(input(\"Enter string - \"))"
   ]
  },
  {
   "cell_type": "code",
   "execution_count": 70,
   "id": "0b051d2d-5f5f-4678-b73c-506c21691f57",
   "metadata": {},
   "outputs": [],
   "source": [
    "string_2 = string_1[len(string_1)-1::-1]"
   ]
  },
  {
   "cell_type": "code",
   "execution_count": 71,
   "id": "ef703a86-728b-47f7-a151-787675d25a6f",
   "metadata": {},
   "outputs": [
    {
     "name": "stdout",
     "output_type": "stream",
     "text": [
      "science is not a palindrome\n"
     ]
    }
   ],
   "source": [
    "if(string_1 == string_2):\n",
    "    print(string_1, \"is a palindrome\")\n",
    "else:\n",
    "    print(string_1, \"is not a palindrome\")"
   ]
  },
  {
   "cell_type": "markdown",
   "id": "55d6e320-5029-40f6-a568-96a842941100",
   "metadata": {},
   "source": [
    "___________________________________________#5 Remove spaces from string"
   ]
  },
  {
   "cell_type": "code",
   "execution_count": 72,
   "id": "dfa1c9e3-fcdd-4ea5-895c-95de531f9309",
   "metadata": {},
   "outputs": [
    {
     "name": "stdin",
     "output_type": "stream",
     "text": [
      "Enter string -  data science from pwskills\n"
     ]
    }
   ],
   "source": [
    "y = str(input(\"Enter string - \"))"
   ]
  },
  {
   "cell_type": "code",
   "execution_count": 80,
   "id": "46adcbf8-a910-4495-92a5-24ff2f737e56",
   "metadata": {},
   "outputs": [
    {
     "name": "stdout",
     "output_type": "stream",
     "text": [
      "Modified string -  datasciencefrompwskills\n"
     ]
    }
   ],
   "source": [
    "y = y.replace(\" \",\"\")\n",
    "print(\"Modified string - \",z)"
   ]
  },
  {
   "cell_type": "code",
   "execution_count": null,
   "id": "0d775d87-cc49-4f13-9576-3710c063c242",
   "metadata": {},
   "outputs": [],
   "source": []
  }
 ],
 "metadata": {
  "kernelspec": {
   "display_name": "Python 3 (ipykernel)",
   "language": "python",
   "name": "python3"
  },
  "language_info": {
   "codemirror_mode": {
    "name": "ipython",
    "version": 3
   },
   "file_extension": ".py",
   "mimetype": "text/x-python",
   "name": "python",
   "nbconvert_exporter": "python",
   "pygments_lexer": "ipython3",
   "version": "3.10.8"
  }
 },
 "nbformat": 4,
 "nbformat_minor": 5
}
