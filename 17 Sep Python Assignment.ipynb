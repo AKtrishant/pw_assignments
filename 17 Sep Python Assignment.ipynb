{
 "cells": [
  {
   "cell_type": "markdown",
   "id": "743646dd-bbd1-4506-93a8-a9cdd1c53293",
   "metadata": {},
   "source": [
    "FOR LOOP"
   ]
  },
  {
   "cell_type": "markdown",
   "id": "40ac98ea-815b-45a3-8b46-ebabfecc23b1",
   "metadata": {},
   "source": [
    "--------------------------------------------------------------------------------------------------------------"
   ]
  },
  {
   "cell_type": "markdown",
   "id": "f30057ac-53d8-4206-b106-045f299b09d3",
   "metadata": {},
   "source": [
    "1. Write a Python program to print numbers from 1 to 10 using a for loop."
   ]
  },
  {
   "cell_type": "code",
   "execution_count": 10,
   "id": "282cd61b-db46-4d33-b9af-745fdb2bb2d6",
   "metadata": {},
   "outputs": [
    {
     "name": "stdout",
     "output_type": "stream",
     "text": [
      "1\n",
      "2\n",
      "3\n",
      "4\n",
      "5\n",
      "6\n",
      "7\n",
      "8\n",
      "9\n",
      "10\n"
     ]
    }
   ],
   "source": [
    "for i in range(1, 11) : print(i)"
   ]
  },
  {
   "cell_type": "markdown",
   "id": "5d8c4daa-f63c-4840-afa1-ad1a505be5da",
   "metadata": {},
   "source": [
    "2. Explain the difference between a for loop and a while loop in Python."
   ]
  },
  {
   "cell_type": "raw",
   "id": "94d6574f-2b09-40c0-9ed0-c2659a7fb793",
   "metadata": {},
   "source": [
    "1. for loop : Does not require a separate condition. The loop continues as long as there are items left in the sequence.\n",
    "while loop : Requires a condition that controls the loop's execution. The loop continues as long as the condition evaluates to True.\n",
    "\n",
    "2. for loop : Ideal for iterating over sequences with a known length, especially when you need to access or process each item in the sequence.\n",
    "while loop : Suitable for situations where the number of iterations is unknown or depends on a condition that changes within the loop.\n",
    "\n",
    "3. for loop syntax - for i in range(n):\n",
    "while loop syntax - while (x>0):\n",
    "\n",
    "4. for loop :  iterates over a sequence of items (e.g., lists, strings, tuples) a pre-determined number of times.\n",
    "while loop : executes a block of code repeatedly as long as a certain condition is true. The number of iterations is not pre-determined.\n",
    "\n",
    "5. for loop : Can optionally initialize a variable within the loop. This variable takes on the value of each item in the sequence during each iteration.\n",
    "while loop : May require initialization of variables used in the condition before the loop starts."
   ]
  },
  {
   "cell_type": "markdown",
   "id": "1c66242c-49f1-4903-9c67-00dc42dd63b0",
   "metadata": {},
   "source": [
    "3. Write a Python program to calculate the sum of all numbers from 1 to 100 using a for loop."
   ]
  },
  {
   "cell_type": "code",
   "execution_count": 11,
   "id": "e858c99a-4c6b-4484-9398-850c9aec83bf",
   "metadata": {},
   "outputs": [
    {
     "name": "stdout",
     "output_type": "stream",
     "text": [
      "The sum of numbers from 1 to 100 is: 5050\n"
     ]
    }
   ],
   "source": [
    "total = 0\n",
    "for num in range(1, 101) : total += num\n",
    "print(\"The sum of numbers from 1 to 100 is:\", total)"
   ]
  },
  {
   "cell_type": "markdown",
   "id": "e026cddb-0d40-4155-b20e-dd04521f29cb",
   "metadata": {},
   "source": [
    "4. How do you iterate through a list using a for loop in Python?"
   ]
  },
  {
   "cell_type": "raw",
   "id": "06c21b38-7383-484a-ad5a-34a93c442902",
   "metadata": {},
   "source": [
    "Syntax :-\n",
    "\n",
    "for item in my_list:\n",
    "  # Your code to process each item\n",
    "\n",
    "\n",
    "Explanation :-\n",
    "1. for keyword: This initiates the for loop.\n",
    "\n",
    "2. item: This is a placeholder variable. In each iteration of the loop, the current item from the list will be assigned to this variable. You can choose a more descriptive name based on the content of your list (e.g., fruit for a list of fruits).\n",
    "\n",
    "3. in keyword: This separates the loop variable from the iterable object.\n",
    "\n",
    "4. my_list: This is the actual list you want to iterate through. Replace it with the name of your list.\n",
    "\n",
    "5. Indented Block: This indented block of code represents the actions you want to perform on each item in the list. This is where you write your logic to process the current item held by the item variable.\n",
    "\n",
    "\n",
    "Example :-\n",
    "\n",
    "cars = [\"lamborghini\", \"BMW\", \"bugatti\"]\n",
    "\n",
    "for car in cars:\n",
    "  print(car)"
   ]
  },
  {
   "cell_type": "markdown",
   "id": "2ff6f6ff-6e2e-4dd5-a510-5fc1c768719b",
   "metadata": {},
   "source": [
    "5. Write a Python program to find the product of all elements in a list using a for loop."
   ]
  },
  {
   "cell_type": "code",
   "execution_count": 12,
   "id": "6baf3b92-eedd-4e13-b942-cbbbb0f216e4",
   "metadata": {},
   "outputs": [
    {
     "name": "stdout",
     "output_type": "stream",
     "text": [
      "Product of all elements in the list: 120\n"
     ]
    }
   ],
   "source": [
    "p , n = 1 , [2, 3, 4, 5]\n",
    "for num in n : p *= num\n",
    "print(\"Product of all elements in the list:\", p)"
   ]
  },
  {
   "cell_type": "markdown",
   "id": "f869dbd1-28ff-4e25-a248-a36e367cfb68",
   "metadata": {},
   "source": [
    "6. Create a Python program that prints all even numbers from 1 to 20 using a for loop."
   ]
  },
  {
   "cell_type": "code",
   "execution_count": 13,
   "id": "7152b1d8-5e0b-4b98-94d7-ab7ec7433601",
   "metadata": {},
   "outputs": [
    {
     "name": "stdout",
     "output_type": "stream",
     "text": [
      "2\n",
      "4\n",
      "6\n",
      "8\n",
      "10\n",
      "12\n",
      "14\n",
      "16\n",
      "18\n",
      "20\n"
     ]
    }
   ],
   "source": [
    "for num in range(1, 21):\n",
    "    if num % 2 == 0 : print(num)"
   ]
  },
  {
   "cell_type": "markdown",
   "id": "8e9e7185-8f97-4f8b-84f7-dd2d9de3db39",
   "metadata": {},
   "source": [
    "7. Write a Python program that calculates the factorial of a number using a for loop."
   ]
  },
  {
   "cell_type": "code",
   "execution_count": null,
   "id": "e0a75a5f-50a3-4b52-9200-8be808a28aec",
   "metadata": {},
   "outputs": [
    {
     "name": "stdin",
     "output_type": "stream",
     "text": [
      "Enter a number:  10\n"
     ]
    },
    {
     "name": "stdout",
     "output_type": "stream",
     "text": [
      "The factorial of 10 is 3628800\n"
     ]
    }
   ],
   "source": [
    "num = int(input(\"Enter a number: \"))\n",
    "factorial = 1\n",
    "\n",
    "if num < 0:\n",
    "    print(\"Sorry, factorial does not exist for negative numbers\")\n",
    "elif num == 0:\n",
    "    print(\"The factorial of 0 is 1\")\n",
    "else:\n",
    "    for i in range(1, num + 1):\n",
    "        factorial *= i\n",
    "    print(\"The factorial of\", num, \"is\", factorial)"
   ]
  },
  {
   "cell_type": "markdown",
   "id": "1d5743aa-19af-48a1-aadb-d259eab3a8d3",
   "metadata": {},
   "source": [
    "8. How can you iterate through the characters of a string using a for loop in Python?"
   ]
  },
  {
   "cell_type": "raw",
   "id": "c101b3fb-2867-4607-a120-ac27e75d0739",
   "metadata": {},
   "source": [
    "1. Leveraging String as Iterable: Strings in Python are iterable objects. This means you can use a for loop to access each character one by one.\n",
    "\n",
    "2. Syntax:-\n",
    "for item in iterable:\n",
    "    # Your code to process the item\n",
    "    \n",
    "3. Define a string: Create a variable to hold the text you want to process (e.g., my_string = \"Hello,World!\").\n",
    "\n",
    "4. Set up the for loop: Use for followed by a variable name to store the character (e.g., char) and in, then specify the string (e.g., for char in my_string:)\n",
    "\n",
    "5. Iterating Directly:\n",
    "my_string = \"Hello, World!\"\n",
    "\n",
    "for char in my_string:\n",
    "    print(char)  \n",
    "    \n",
    "6. Accessing Characters: Inside the loop, the variable assigned after for (e.g., char here) takes on the value of the current character during each iteration.\n",
    "\n",
    "7. Another way of accessing :\n",
    "\n",
    "my_string = \"Hello, World!\"\n",
    "\n",
    "for char in range(len(my_string)):\n",
    "    print(char)  "
   ]
  },
  {
   "cell_type": "markdown",
   "id": "60611999-d9af-411b-b406-68c2f23f625b",
   "metadata": {},
   "source": [
    "9. Write a Python program to find the largest number in a list using a for loop."
   ]
  },
  {
   "cell_type": "code",
   "execution_count": null,
   "id": "4589d1fe-c402-40e1-9808-357238d56ae3",
   "metadata": {},
   "outputs": [
    {
     "name": "stdout",
     "output_type": "stream",
     "text": [
      "The largest number in the list is: 140\n"
     ]
    }
   ],
   "source": [
    "numbers = [30, 90, 50, 20, 140]\n",
    "max_num = numbers[0]\n",
    "for num in numbers:\n",
    "    if num > max_num : max_num = num\n",
    "print(\"The largest number in the list is:\", max_num)"
   ]
  },
  {
   "cell_type": "markdown",
   "id": "c6aab581-bff4-4128-a00f-819dc2578685",
   "metadata": {},
   "source": [
    "10. Create a Python program that prints the Fibonacci sequence up to a specified limit using a for loop."
   ]
  },
  {
   "cell_type": "code",
   "execution_count": 16,
   "id": "32eb6028-996e-40c9-9754-6272f700d6ba",
   "metadata": {},
   "outputs": [
    {
     "name": "stdin",
     "output_type": "stream",
     "text": [
      "Enter limit of fibonacci sequence -  10\n"
     ]
    },
    {
     "name": "stdout",
     "output_type": "stream",
     "text": [
      "0 1 1 2 3 5 8 13 21 34 "
     ]
    }
   ],
   "source": [
    "a, b = 0, 1\n",
    "limit = int(input(\"Enter limit of fibonacci sequence - \"))\n",
    "for _ in range(limit):\n",
    "    print(a, end=' ')\n",
    "    a, b = b, a + b"
   ]
  },
  {
   "cell_type": "markdown",
   "id": "4acf7239-40bd-487b-bbad-493b140c275a",
   "metadata": {},
   "source": [
    "11. Write a Python program to count the number of vowels in a given string using a for loop."
   ]
  },
  {
   "cell_type": "code",
   "execution_count": 17,
   "id": "3affadba-114f-410b-9965-5cdbdae8f0a1",
   "metadata": {},
   "outputs": [
    {
     "name": "stdout",
     "output_type": "stream",
     "text": [
      "Number of vowels: 15\n"
     ]
    }
   ],
   "source": [
    "input_string = \"interstellar is a science fiction movie\"\n",
    "count = 0\n",
    "for char in input_string:\n",
    "    if char.lower() in \"aeiou\":\n",
    "        count += 1\n",
    "print(\"Number of vowels:\", count)"
   ]
  },
  {
   "cell_type": "markdown",
   "id": "8b4236a7-6dd1-49cd-b710-728856f50ace",
   "metadata": {},
   "source": [
    "12. Create a Python program that generates a multiplication table for a given number using a for loop."
   ]
  },
  {
   "cell_type": "code",
   "execution_count": 18,
   "id": "19026f04-8e99-429c-be1b-dc4f43bab658",
   "metadata": {},
   "outputs": [
    {
     "name": "stdin",
     "output_type": "stream",
     "text": [
      "Enter a number to generate its multiplication table:  10\n"
     ]
    },
    {
     "name": "stdout",
     "output_type": "stream",
     "text": [
      "Multiplication Table for 10:\n",
      "10 x 1 = 10\n",
      "10 x 2 = 20\n",
      "10 x 3 = 30\n",
      "10 x 4 = 40\n",
      "10 x 5 = 50\n",
      "10 x 6 = 60\n",
      "10 x 7 = 70\n",
      "10 x 8 = 80\n",
      "10 x 9 = 90\n",
      "10 x 10 = 100\n"
     ]
    }
   ],
   "source": [
    "num = int(input(\"Enter a number to generate its multiplication table: \"))\n",
    "print(f\"Multiplication Table for {num}:\")\n",
    "for i in range(1, 11) : print(f\"{num} x {i} = {num*i}\")"
   ]
  },
  {
   "cell_type": "markdown",
   "id": "45f6cbdc-8636-43a6-a4d6-8b6b499949b1",
   "metadata": {},
   "source": [
    "13. Write a Python program to reverse a list using a for loop."
   ]
  },
  {
   "cell_type": "code",
   "execution_count": 19,
   "id": "9e8783ae-a43f-4451-9e05-d5bdd6d0e5ac",
   "metadata": {},
   "outputs": [
    {
     "name": "stdout",
     "output_type": "stream",
     "text": [
      "[5, 4, 3, 2, 1]\n"
     ]
    }
   ],
   "source": [
    "my_list = [1, 2, 3, 4, 5]\n",
    "reversed_list = []\n",
    "\n",
    "for i in range(len(my_list)):\n",
    "    reversed_list.append(my_list[len(my_list) - 1 - i])\n",
    "\n",
    "print(reversed_list)"
   ]
  },
  {
   "cell_type": "markdown",
   "id": "bd8a0b8b-77ca-4874-a08f-dd5b00726273",
   "metadata": {},
   "source": [
    "14. Write a Python program to find the common elements between two lists using a for loop."
   ]
  },
  {
   "cell_type": "code",
   "execution_count": 20,
   "id": "f0eb927a-39f1-4327-b46d-2f207dcdd9e4",
   "metadata": {},
   "outputs": [
    {
     "name": "stdout",
     "output_type": "stream",
     "text": [
      "Common elements between list1 and list2: [4, 5]\n"
     ]
    }
   ],
   "source": [
    "list1 = [1, 2, 3, 4, 5]\n",
    "list2 = [4, 5, 6, 7, 8]\n",
    "\n",
    "common_elements = []\n",
    "\n",
    "for element in list1:\n",
    "    if element in list2:\n",
    "        common_elements.append(element)\n",
    "\n",
    "print(\"Common elements between list1 and list2:\", common_elements)"
   ]
  },
  {
   "cell_type": "markdown",
   "id": "768f3f21-834c-48fe-af9c-96ebe73a639b",
   "metadata": {},
   "source": [
    "15. Explain how to use a for loop to iterate through the keys and values of a dictionary in Python."
   ]
  },
  {
   "cell_type": "raw",
   "id": "a90fcabf-31f6-492b-b3c8-10817657a8b2",
   "metadata": {},
   "source": [
    "1. Iterating over Keys:\n",
    "my_dict = {\"name\": \"steven\", \"age\": 30, \"city\": \"london\"}\n",
    "\n",
    "# Loop through each key\n",
    "for key in my_dict:\n",
    "  print(key)  # Access and process the key\n",
    "\n",
    "2. Iterating over Values:\n",
    "my_dict = {\"name\": \"Alice\", \"age\": 30, \"city\": \"New York\"}\n",
    "\n",
    "# Loop through each value\n",
    "for value in my_dict.values():\n",
    "  print(value)  # Access and process the value\n",
    "\n",
    "3. Iterating over Key-Value Pairs:\n",
    "my_dict = {\"name\": \"Alice\", \"age\": 30, \"city\": \"New York\"}\n",
    "\n",
    "# Loop through key-value pairs\n",
    "for key, value in my_dict.items():\n",
    "  print(f\"Key: {key}, Value: {value}\")  # Access both key and value\n",
    "\n",
    "\n",
    "* In all three cases, we define a dictionary (my_dict) with some key-value pairs.\n",
    "\n",
    "* The for loop structure remains the same, but the way we iterate changes:\n",
    "    (A) Keys: We directly iterate over the dictionary itself (for key in my_dict:) to access keys.\n",
    "    (B) Values: We use the .values() method (for value in my_dict.values():) to get a view of all values and iterate over them.\n",
    "    (C) Key-Value Pairs: We use the .items() method (for key, value in my_dict.items():) to get a view of key-value pairs as tuples and iterate over them, unpacking them into separate variables (key and value)."
   ]
  },
  {
   "cell_type": "markdown",
   "id": "705e64fb-df51-4a44-92a9-77bf6ce9d8fe",
   "metadata": {},
   "source": [
    "16. Write a Python program to find the GCD (Greatest Common Divisor) of two numbers using a for loop."
   ]
  },
  {
   "cell_type": "code",
   "execution_count": 21,
   "id": "f96ba6e7-5d2d-46bc-80f8-18ea514599a4",
   "metadata": {},
   "outputs": [
    {
     "name": "stdin",
     "output_type": "stream",
     "text": [
      "Enter first number -  12\n",
      "Enter second number -  60\n"
     ]
    },
    {
     "name": "stdout",
     "output_type": "stream",
     "text": [
      "The GCD of 12 and 60 is 12\n"
     ]
    }
   ],
   "source": [
    "num1 = int(input(\"Enter first number - \"))\n",
    "num2 = int(input(\"Enter second number - \"))\n",
    "if num1 > num2 : smaller = num2 \n",
    "else : smaller = num1\n",
    "for i in range(1, smaller+1) : \n",
    "    if((num1 % i == 0) and (num2 % i == 0)) : gcd = i\n",
    "print(\"The GCD of\", num1, \"and\", num2, \"is\", gcd)"
   ]
  },
  {
   "cell_type": "markdown",
   "id": "bf6e89d9-c3a3-4e0c-8cf1-94533bc007a0",
   "metadata": {},
   "source": [
    "17. Create a Python program that checks if a string is a palindrome using a for loop."
   ]
  },
  {
   "cell_type": "code",
   "execution_count": 22,
   "id": "425d2aa1-a019-4b35-bf46-35069f7194e7",
   "metadata": {},
   "outputs": [
    {
     "name": "stdout",
     "output_type": "stream",
     "text": [
      "nature is not a palindrome\n"
     ]
    }
   ],
   "source": [
    "text = \"nature\"\n",
    "\n",
    "text = ''.join(char.lower() for char in text if char.isalnum())\n",
    "\n",
    "is_palindrome = True\n",
    "for i in range(len(text) // 2):\n",
    "    if text[i] != text[len(text) - 1 - i]:\n",
    "        is_palindrome = False\n",
    "        break\n",
    "\n",
    "if is_palindrome:\n",
    "    print(f\"{text} is a palindrome\")\n",
    "else:\n",
    "    print(f\"{text} is not a palindrome\")\n"
   ]
  },
  {
   "cell_type": "markdown",
   "id": "92ea9e19-a412-4009-af1c-d108ffbd3152",
   "metadata": {},
   "source": [
    "18. Write a Python program to remove duplicates from a list using a for loop."
   ]
  },
  {
   "cell_type": "code",
   "execution_count": 23,
   "id": "48f20847-20b6-43fb-816e-9e449a47933a",
   "metadata": {},
   "outputs": [
    {
     "name": "stdout",
     "output_type": "stream",
     "text": [
      "[1, 2, 3, 4, 5, 6, 10, 15]\n"
     ]
    }
   ],
   "source": [
    "my_list = [1, 2, 2, 3, 4, 4, 5, 6, 6, 1, 10, 15, 4, 10]\n",
    "new_list = []\n",
    "for num in my_list:\n",
    "    if num not in new_list:\n",
    "        new_list.append(num)\n",
    "print(new_list)"
   ]
  },
  {
   "cell_type": "markdown",
   "id": "510194e2-189e-4a4c-8e4c-2aaf04725fa9",
   "metadata": {},
   "source": [
    "19. Create a Python program that counts the number of words in a sentence using a for loop."
   ]
  },
  {
   "cell_type": "code",
   "execution_count": 24,
   "id": "790963ce-a615-4734-9cb6-d80d8e4ef8c8",
   "metadata": {},
   "outputs": [
    {
     "name": "stdout",
     "output_type": "stream",
     "text": [
      "Number of words in the sentence: 11\n"
     ]
    }
   ],
   "source": [
    "sentence = \"This is a sample sentence to count the number of words\"\n",
    "word_count = 0\n",
    "\n",
    "for word in sentence.split():\n",
    "    word_count += 1\n",
    "\n",
    "print(\"Number of words in the sentence:\", word_count)"
   ]
  },
  {
   "cell_type": "markdown",
   "id": "c4ac465b-7170-4cc3-87de-7833b0d0bcb4",
   "metadata": {},
   "source": [
    "20. Write a Python program to find the sum of all odd numbers from 1 to 50 using a for loop."
   ]
  },
  {
   "cell_type": "code",
   "execution_count": 25,
   "id": "cb5146a2-a571-4a3d-bfe3-4fa57da886d2",
   "metadata": {},
   "outputs": [
    {
     "name": "stdout",
     "output_type": "stream",
     "text": [
      "The sum of all odd numbers from 1 to 50 is : 625\n"
     ]
    }
   ],
   "source": [
    "sum_odd = 0 \n",
    "for num in range(1, 51, 2) : sum_odd += num\n",
    "print(\"The sum of all odd numbers from 1 to 50 is :\", sum_odd)"
   ]
  },
  {
   "cell_type": "markdown",
   "id": "378c33a6-eee2-412e-bac2-3cdd4264b520",
   "metadata": {},
   "source": [
    "21. Write a Python program that checks if a given year is a leap year using a for loop."
   ]
  },
  {
   "cell_type": "code",
   "execution_count": 26,
   "id": "c71b1022-301b-4f48-9438-0cf7ca24ca58",
   "metadata": {},
   "outputs": [
    {
     "name": "stdin",
     "output_type": "stream",
     "text": [
      "Enter a year:  2023\n"
     ]
    },
    {
     "name": "stdout",
     "output_type": "stream",
     "text": [
      "2023 is not a leap year.\n"
     ]
    }
   ],
   "source": [
    "year = int(input(\"Enter a year: \"))\n",
    "leap = False\n",
    "for i in range(1) : \n",
    "    if (year % 4 == 0 and year % 100 != 0) or (year % 400 == 0): \n",
    "        leap = True\n",
    "if leap: \n",
    "    print(year, \"is a leap year.\") \n",
    "else: \n",
    "    print(year, \"is not a leap year.\")"
   ]
  },
  {
   "cell_type": "markdown",
   "id": "35c9645c-adad-45fd-9dc7-925ea36f34e3",
   "metadata": {},
   "source": [
    "22. Create a Python program that calculates the square root of a number using a for loop."
   ]
  },
  {
   "cell_type": "code",
   "execution_count": 27,
   "id": "f66ccd1e-c362-4958-9b3a-6568170fc4cb",
   "metadata": {},
   "outputs": [
    {
     "name": "stdin",
     "output_type": "stream",
     "text": [
      "Enter number -  49\n"
     ]
    },
    {
     "name": "stdout",
     "output_type": "stream",
     "text": [
      "The square root of 49 is: 7\n"
     ]
    }
   ],
   "source": [
    "num = int(input(\"Enter number - \"))\n",
    "for i in range(num) : \n",
    "    if i * i == num : \n",
    "        print(f\"The square root of {num} is: {i}\") \n",
    "        break"
   ]
  },
  {
   "cell_type": "markdown",
   "id": "fc322931-49ce-446a-80bf-f89432867b78",
   "metadata": {},
   "source": [
    "23. Write a Python program to find the LCM (Least Common Multiple) of two numbers using a for loop."
   ]
  },
  {
   "cell_type": "code",
   "execution_count": 28,
   "id": "b84b46ec-bdbb-402d-a60f-4be967371bdc",
   "metadata": {},
   "outputs": [
    {
     "name": "stdin",
     "output_type": "stream",
     "text": [
      "Enter first number - 20\n",
      "Enter second number - 40\n"
     ]
    },
    {
     "name": "stdout",
     "output_type": "stream",
     "text": [
      "LCM of 20 and 40 is: 40\n"
     ]
    }
   ],
   "source": [
    "num1 = int(input(\"Enter first number -\"))\n",
    "num2 = int(input(\"Enter second number -\"))\n",
    "larger = max(num1, num2)\n",
    "lcm = larger\n",
    "for i in range(larger, larger * num2, larger):\n",
    "    if i % num1 == 0 and i % num2 == 0:\n",
    "        lcm = i\n",
    "        break\n",
    "print(f\"LCM of {num1} and {num2} is: {lcm}\")"
   ]
  },
  {
   "cell_type": "markdown",
   "id": "7b9d8b9f-c6c6-4f17-8844-04aac9db3f50",
   "metadata": {},
   "source": [
    "--------------------------------------------------------------------------------------------------------------"
   ]
  },
  {
   "cell_type": "markdown",
   "id": "413fc76b-c31a-4f84-8bd5-eb27a6a5c2ab",
   "metadata": {},
   "source": [
    "IF ELSE"
   ]
  },
  {
   "cell_type": "markdown",
   "id": "516d38dc-2cfb-4f0b-9f8a-ec570b1e86fb",
   "metadata": {},
   "source": [
    "--------------------------------------------------------------------------------------------------------------"
   ]
  },
  {
   "cell_type": "markdown",
   "id": "e02c9d17-a1e3-464a-9cda-bd1788e4356d",
   "metadata": {},
   "source": [
    "1. Write a Python program to check if a number is positive, negative, or zero using an if-else statement."
   ]
  },
  {
   "cell_type": "code",
   "execution_count": 29,
   "id": "28411542-f1d5-45e9-a64b-e18d475fbdbd",
   "metadata": {},
   "outputs": [
    {
     "name": "stdin",
     "output_type": "stream",
     "text": [
      "Enter a number:  -9\n"
     ]
    },
    {
     "name": "stdout",
     "output_type": "stream",
     "text": [
      "Negative number\n"
     ]
    }
   ],
   "source": [
    "num = float(input(\"Enter a number: \"))\n",
    "if num > 0:\n",
    "    print(\"Positive number\")\n",
    "else:\n",
    "    if num < 0:\n",
    "        print(\"Negative number\")\n",
    "    else:\n",
    "        print(\"Zero\")"
   ]
  },
  {
   "cell_type": "markdown",
   "id": "17b8a5df-4163-4fde-b634-a470ed39b7cf",
   "metadata": {},
   "source": [
    "2. Create a Python program that checks if a given number is even or odd using an if-else statement."
   ]
  },
  {
   "cell_type": "code",
   "execution_count": 30,
   "id": "69c8c048-29e6-4248-8f51-de3c49b46579",
   "metadata": {},
   "outputs": [
    {
     "name": "stdin",
     "output_type": "stream",
     "text": [
      "Enter a number:  31\n"
     ]
    },
    {
     "name": "stdout",
     "output_type": "stream",
     "text": [
      "31 is an odd number.\n"
     ]
    }
   ],
   "source": [
    "n = int(input(\"Enter a number: \"))\n",
    "if n % 2 == 0 : print(f\"{n} is an even number.\")\n",
    "else : print(f\"{n} is an odd number.\")"
   ]
  },
  {
   "cell_type": "markdown",
   "id": "2d028102-6e1a-4d70-87d4-aed94bea7257",
   "metadata": {},
   "source": [
    "3. How can you use nested if-else statements in Python, and provide an example?"
   ]
  },
  {
   "cell_type": "raw",
   "id": "4bd63d36-8818-427e-93c5-7a9f43855e6d",
   "metadata": {},
   "source": [
    "if condition1:\n",
    "    # code to execute if condition1 is True\n",
    "    if condition2:\n",
    "        # code to execute if condition2 is True within condition1 being True\n",
    "    else:\n",
    "        # code to execute if condition2 is False within condition1 being True\n",
    "else:\n",
    "    # code to execute if condition1 is False"
   ]
  },
  {
   "cell_type": "raw",
   "id": "cd20a18d-a47f-48ce-bcb1-31e5bc0c0b6d",
   "metadata": {},
   "source": [
    "1. The outer if statement checks condition1.\n",
    "2. If condition1 is True, the indented code block within it executes. This block can contain another if-else statement (the inner one) that checks condition2.\n",
    "3. If condition2 is True, the code within the inner if block executes.\n",
    "4. If condition2 is False, the code within the inner else block executes.\n",
    "5. If condition1 is False, the code block within the outer else sbtatement executes."
   ]
  },
  {
   "cell_type": "code",
   "execution_count": 31,
   "id": "aeea9b27-b514-4f12-93bc-64afd47c7b3d",
   "metadata": {},
   "outputs": [
    {
     "name": "stdout",
     "output_type": "stream",
     "text": [
      "Student score: 85, Letter grade: B\n"
     ]
    }
   ],
   "source": [
    "def grade_calculator(score):\n",
    "    if score >= 90:\n",
    "        return \"A\"\n",
    "    else:\n",
    "        if score >= 80:\n",
    "            return \"B\"\n",
    "        else:\n",
    "            if score >= 70:\n",
    "                return \"C\"\n",
    "            else:\n",
    "                return \"F\"  \n",
    "\n",
    "student_score = 85\n",
    "letter_grade = grade_calculator(student_score)\n",
    "print(f\"Student score: {student_score}, Letter grade: {letter_grade}\") "
   ]
  },
  {
   "cell_type": "markdown",
   "id": "b0492c8c-e366-4210-be82-4d68f40f8a88",
   "metadata": {},
   "source": [
    "4. Write a Python program to determine the largest of three numbers using if-else."
   ]
  },
  {
   "cell_type": "code",
   "execution_count": 32,
   "id": "c1438636-cd95-4374-84a1-66bfe9d4ef5f",
   "metadata": {},
   "outputs": [
    {
     "name": "stdin",
     "output_type": "stream",
     "text": [
      "Enter first number:  10\n",
      "Enter second number:  20\n",
      "Enter third number:  30\n"
     ]
    },
    {
     "name": "stdout",
     "output_type": "stream",
     "text": [
      "\n",
      "The largest number is: 30\n"
     ]
    }
   ],
   "source": [
    "a = int(input(\"Enter first number: \"))\n",
    "b = int(input(\"Enter second number: \"))\n",
    "c = int(input(\"Enter third number: \"))\n",
    "print(\"\")\n",
    "if a > b:\n",
    "    if a > c:\n",
    "        largest = a\n",
    "    else:\n",
    "        largest = c\n",
    "else:\n",
    "    if b > c:\n",
    "        largest = b\n",
    "    else:\n",
    "        largest = c\n",
    "\n",
    "print(\"The largest number is:\", largest)"
   ]
  },
  {
   "cell_type": "markdown",
   "id": "11135a58-f97c-4157-b05d-f1493a0b1af2",
   "metadata": {},
   "source": [
    "5. Write a Python program that calculates the absolute value of a number using if-else."
   ]
  },
  {
   "cell_type": "code",
   "execution_count": 33,
   "id": "5fa34dd7-5a1c-47eb-bc41-5e231d672f8d",
   "metadata": {},
   "outputs": [
    {
     "name": "stdout",
     "output_type": "stream",
     "text": [
      "The absolute value of -4 is 4\n"
     ]
    }
   ],
   "source": [
    "num = -4\n",
    "if num < 0 : abs_value = -num\n",
    "else : abs_value = num\n",
    "print(\"The absolute value of\", num, \"is\", abs_value)"
   ]
  },
  {
   "cell_type": "markdown",
   "id": "0cd1206d-d092-431f-8486-73abc855bd3a",
   "metadata": {},
   "source": [
    "6. Create a Python program that checks if a given character is a vowel or consonant using if-else."
   ]
  },
  {
   "cell_type": "code",
   "execution_count": 34,
   "id": "7c573624-ef3a-493b-a219-36f010e3ed52",
   "metadata": {},
   "outputs": [
    {
     "name": "stdin",
     "output_type": "stream",
     "text": [
      "Enter a character:  a\n"
     ]
    },
    {
     "name": "stdout",
     "output_type": "stream",
     "text": [
      "a is a Vowel\n"
     ]
    }
   ],
   "source": [
    "c = input(\"Enter a character: \")\n",
    "if c.lower() in 'aeiou' : print(f\"{c} is a Vowel\")\n",
    "else : print(f\"{c} is a Consonant\")"
   ]
  },
  {
   "cell_type": "markdown",
   "id": "6f6b8a30-62b9-4d0e-bb8d-c856fda5d19a",
   "metadata": {},
   "source": [
    "7. Write a Python program to determine if a user is eligible to vote based on their age using if-else."
   ]
  },
  {
   "cell_type": "code",
   "execution_count": 35,
   "id": "a3ee3a88-7c10-49f4-bf4d-572ba0c7c0f0",
   "metadata": {},
   "outputs": [
    {
     "name": "stdin",
     "output_type": "stream",
     "text": [
      "Enter your age:  50\n"
     ]
    },
    {
     "name": "stdout",
     "output_type": "stream",
     "text": [
      "You are eligible to vote.\n"
     ]
    }
   ],
   "source": [
    "age = int(input(\"Enter your age: \"))\n",
    "if age >= 18 : print(\"You are eligible to vote.\")\n",
    "else : print(\"You are not eligible to vote yet.\")"
   ]
  },
  {
   "cell_type": "markdown",
   "id": "afec3406-5512-4cbe-bc2f-8b1fe918ede0",
   "metadata": {},
   "source": [
    "8. Create a Python program that calculates the discount amount based on the purchase amount using if-else."
   ]
  },
  {
   "cell_type": "code",
   "execution_count": 36,
   "id": "0931a5d9-a0c0-480e-b792-cbc42bb7c6af",
   "metadata": {},
   "outputs": [
    {
     "name": "stdin",
     "output_type": "stream",
     "text": [
      "Enter the purchase amount: $ 500\n"
     ]
    },
    {
     "name": "stdout",
     "output_type": "stream",
     "text": [
      "Discount amount: $50.0\n"
     ]
    }
   ],
   "source": [
    "purchase_amount = float(input(\"Enter the purchase amount: $\"))\n",
    "if purchase_amount > 100 : discount = purchase_amount * 0.1\n",
    "else : discount = 0\n",
    "print(f\"Discount amount: ${discount}\")"
   ]
  },
  {
   "cell_type": "markdown",
   "id": "65d44fb1-5606-4fb4-ac28-9947a8ffba7e",
   "metadata": {},
   "source": [
    "9. Write a Python program to check if a number is within a specified range using if-else."
   ]
  },
  {
   "cell_type": "code",
   "execution_count": 37,
   "id": "9249a0f5-6614-4857-adf0-4d4ea56c6b2e",
   "metadata": {},
   "outputs": [
    {
     "name": "stdout",
     "output_type": "stream",
     "text": [
      "25 is within the specified range.\n"
     ]
    }
   ],
   "source": [
    "num = 25\n",
    "if 10 <= num <= 30 : print(f\"{num} is within the specified range.\")\n",
    "else : print(f\"{num} is outside the specified range.\")"
   ]
  },
  {
   "cell_type": "markdown",
   "id": "d43898cb-c95f-46cb-8a67-9de172212b24",
   "metadata": {},
   "source": [
    "10. Create a Python program that determines the grade of a student based on their score using if-else."
   ]
  },
  {
   "cell_type": "code",
   "execution_count": 38,
   "id": "c8a54f19-6fb2-4ee5-84b8-1c02649fcb0e",
   "metadata": {},
   "outputs": [
    {
     "name": "stdin",
     "output_type": "stream",
     "text": [
      "Enter the student's score:  99\n"
     ]
    },
    {
     "name": "stdout",
     "output_type": "stream",
     "text": [
      "The student's grade is: A\n"
     ]
    }
   ],
   "source": [
    "score = float(input(\"Enter the student's score: \"))\n",
    "\n",
    "if score >= 90:\n",
    "    grade = 'A'\n",
    "else:\n",
    "    if score >= 80:\n",
    "        grade = 'B'\n",
    "    else:\n",
    "        if score >= 70:\n",
    "            grade = 'C'\n",
    "        else:\n",
    "            if score >= 60:\n",
    "                grade = 'D'\n",
    "            else:\n",
    "                grade = 'F'\n",
    "\n",
    "print(f\"The student's grade is: {grade}\")"
   ]
  },
  {
   "cell_type": "markdown",
   "id": "1324ddf0-a7e5-453e-843d-6d8822863c2f",
   "metadata": {},
   "source": [
    "11. Write a Python program to check if a string is empty or not using if-else."
   ]
  },
  {
   "cell_type": "code",
   "execution_count": 39,
   "id": "4fe9ba52-2fe2-4007-bf09-77baeca9e146",
   "metadata": {},
   "outputs": [
    {
     "name": "stdout",
     "output_type": "stream",
     "text": [
      "String is empty\n"
     ]
    }
   ],
   "source": [
    "string = \"\"\n",
    "if not string : print(\"String is empty\")\n",
    "else : print(\"String is not empty\")"
   ]
  },
  {
   "cell_type": "markdown",
   "id": "178e5a5d-1135-46a4-8d93-0d333b31f15b",
   "metadata": {},
   "source": [
    "12. Create a Python program that identifies the type of a triangle (e.g., equilateral, isosceles, or scalene) based on input values using if-else."
   ]
  },
  {
   "cell_type": "code",
   "execution_count": 40,
   "id": "5ce12d9f-b8c5-4fce-96e9-ce3adf5f53fe",
   "metadata": {},
   "outputs": [
    {
     "name": "stdin",
     "output_type": "stream",
     "text": [
      "Enter the length of side 1:  10\n",
      "Enter the length of side 2:  20\n",
      "Enter the length of side 3:  10\n"
     ]
    },
    {
     "name": "stdout",
     "output_type": "stream",
     "text": [
      "Isosceles Triangle\n"
     ]
    }
   ],
   "source": [
    "side1 = float(input(\"Enter the length of side 1: \"))\n",
    "side2 = float(input(\"Enter the length of side 2: \"))\n",
    "side3 = float(input(\"Enter the length of side 3: \"))\n",
    "\n",
    "if side1 == side2 and side2 == side3 : print(\"Equilateral Triangle\")\n",
    "else: \n",
    "    if side1 != side2 and side2 != side3 and side1 != side3 : print(\"Scalene Triangle\") \n",
    "    else : print(\"Isosceles Triangle\")"
   ]
  },
  {
   "cell_type": "markdown",
   "id": "0e5ddd3b-28de-4891-afaf-7af4ec7d6e6c",
   "metadata": {},
   "source": [
    "13. Write a Python program to determine the day of the week based on a user-provided number using if-else."
   ]
  },
  {
   "cell_type": "code",
   "execution_count": 41,
   "id": "c7ad3f36-c847-403a-8e39-746e1c649229",
   "metadata": {},
   "outputs": [
    {
     "name": "stdin",
     "output_type": "stream",
     "text": [
      "Enter a number (1-7):  3\n"
     ]
    },
    {
     "name": "stdout",
     "output_type": "stream",
     "text": [
      "Wednesday\n"
     ]
    }
   ],
   "source": [
    "day_number = int(input(\"Enter a number (1-7): \"))\n",
    "\n",
    "if day_number == 1:\n",
    "    print(\"Monday\")\n",
    "if day_number == 2:\n",
    "    print(\"Tuesday\")\n",
    "if day_number == 3:\n",
    "    print(\"Wednesday\")\n",
    "if day_number == 4:\n",
    "    print(\"Thursday\")\n",
    "if day_number == 5:\n",
    "    print(\"Friday\")\n",
    "if day_number == 6:\n",
    "    print(\"Saturday\")\n",
    "if day_number == 7:\n",
    "    print(\"Sunday\")"
   ]
  },
  {
   "cell_type": "markdown",
   "id": "e8f12932-553f-401f-99fa-337224b19d9a",
   "metadata": {},
   "source": [
    "14. Create a Python program that checks if a given year is a leap year using both if-else and a function."
   ]
  },
  {
   "cell_type": "code",
   "execution_count": 42,
   "id": "84fb83be-e663-44d6-aced-02ad3b1ae074",
   "metadata": {},
   "outputs": [
    {
     "name": "stdin",
     "output_type": "stream",
     "text": [
      "Enter year - 2023\n"
     ]
    },
    {
     "name": "stdout",
     "output_type": "stream",
     "text": [
      "2023 is not a leap year.\n"
     ]
    }
   ],
   "source": [
    "def is_leap_year(year):\n",
    "    if year % 4 == 0:\n",
    "        if year % 100 == 0:\n",
    "            if year % 400 == 0:\n",
    "                return True\n",
    "            else:\n",
    "                return False\n",
    "        else:\n",
    "            return True\n",
    "    else:\n",
    "        return False\n",
    "\n",
    "year = int(input(\"Enter year -\"))\n",
    "if is_leap_year(year):\n",
    "    print(f\"{year} is a leap year.\")\n",
    "else:\n",
    "    print(f\"{year} is not a leap year.\")"
   ]
  },
  {
   "cell_type": "markdown",
   "id": "f444c1ae-0180-42da-8998-88ae9a5778f7",
   "metadata": {},
   "source": [
    "15. How do you use the \"assert\" statement in Python to add debugging checks within if-else blocks?"
   ]
  },
  {
   "cell_type": "raw",
   "id": "549fddaa-a518-4bfe-9c53-357a228f7937",
   "metadata": {},
   "source": [
    "The assert statement in Python is used for debugging purposes. It adds in-line checks to your code to verify assumptions you've made about program flow and variable states.  Here's how you can use it effectively within if-else blocks:\n",
    "\n",
    "\n",
    "1. Assertions for Expected Conditions:\n",
    "\n",
    "Place assert statements within an if block to verify assumptions about the code reaching that point only if a certain condition is True. If the assertion fails (the condition following assert is False), it raises an AssertionError exception, halting program execution and providing an error message.\n",
    "\n",
    "\n",
    "2. Assertions in else Blocks:\n",
    "\n",
    "You can use assert in else blocks to verify assumptions about the code not reaching a certain point if a specific condition is True in the if block."
   ]
  },
  {
   "cell_type": "code",
   "execution_count": 43,
   "id": "9499ac77-2ec5-44be-95a2-1fa7c74bdf1f",
   "metadata": {},
   "outputs": [
    {
     "name": "stdout",
     "output_type": "stream",
     "text": [
      "True\n"
     ]
    }
   ],
   "source": [
    "# 1. Assertions for Expected Conditions\n",
    "\n",
    "def is_even(number):\n",
    "    if isinstance(number, int): \n",
    "        assert number >= 0, \"Number must be non-negative\" \n",
    "        return number % 2 == 0\n",
    "    else:\n",
    "        assert False, \"Input must be a number\" \n",
    "    return False\n",
    "\n",
    "print(is_even(4))"
   ]
  },
  {
   "cell_type": "code",
   "execution_count": 44,
   "id": "0382d785-ed2d-489d-a9ff-cd7e255506a5",
   "metadata": {},
   "outputs": [
    {
     "name": "stdout",
     "output_type": "stream",
     "text": [
      "9\n"
     ]
    }
   ],
   "source": [
    "def get_positive_square(number):\n",
    "    if number > 0:\n",
    "        return number * number\n",
    "    else:\n",
    "        assert False, \"This point should not be reached for positive input\"\n",
    "        return None  \n",
    "\n",
    "print(get_positive_square(3))  "
   ]
  },
  {
   "cell_type": "markdown",
   "id": "de345e82-d1f2-4a19-b1ad-0810a67063c1",
   "metadata": {},
   "source": [
    "16. Create a Python program that determines the eligibility of a person for a senior citizen discount based on age using if-else."
   ]
  },
  {
   "cell_type": "code",
   "execution_count": 45,
   "id": "d024286a-7a61-415a-bdc6-bebff0bbdfb7",
   "metadata": {},
   "outputs": [
    {
     "name": "stdin",
     "output_type": "stream",
     "text": [
      "Enter your age:  64\n"
     ]
    },
    {
     "name": "stdout",
     "output_type": "stream",
     "text": [
      "Congratulations! You are eligible for a senior citizen discount.\n"
     ]
    }
   ],
   "source": [
    "age = int(input(\"Enter your age: \"))\n",
    "if age >= 60 : print(\"Congratulations! You are eligible for a senior citizen discount.\")\n",
    "else : print(\"Sorry, you are not eligible for a senior citizen discount.\")"
   ]
  },
  {
   "cell_type": "markdown",
   "id": "e6e9e157-cfb6-4116-b2d6-cd06cc94b0f4",
   "metadata": {},
   "source": [
    "17. Write a Python program to categorize a given character as uppercase, lowercase, or neither using if-else."
   ]
  },
  {
   "cell_type": "code",
   "execution_count": 46,
   "id": "587628ed-f6b7-4edc-84f3-321971fe02d5",
   "metadata": {},
   "outputs": [
    {
     "name": "stdin",
     "output_type": "stream",
     "text": [
      "Enter a character:  Z\n"
     ]
    },
    {
     "name": "stdout",
     "output_type": "stream",
     "text": [
      "Z is an uppercase letter.\n"
     ]
    }
   ],
   "source": [
    "char = input(\"Enter a character: \")\n",
    "if 'A' <= char <= 'Z' : print(f\"{char} is an uppercase letter.\")\n",
    "else:\n",
    "    if 'a' <= char <= 'z' : print(f\"{char} is a lowercase letter.\")\n",
    "    else : print(f\"{char} is neither uppercase nor lowercase.\")"
   ]
  },
  {
   "cell_type": "markdown",
   "id": "f5f9456a-7cba-45a3-b60b-b21eb896c775",
   "metadata": {},
   "source": [
    "18. Write a Python program to determine the roots of a quadratic equation using if-else."
   ]
  },
  {
   "cell_type": "code",
   "execution_count": 47,
   "id": "9bbc8108-5dbf-479d-97af-14bf8a02fa04",
   "metadata": {},
   "outputs": [
    {
     "name": "stdout",
     "output_type": "stream",
     "text": [
      "Two distinct real roots: x1 = 2.0 and x2 = 1.0\n"
     ]
    }
   ],
   "source": [
    "a = 1\n",
    "b = -3\n",
    "c = 2\n",
    "\n",
    "D = b**2 - 4*a*c\n",
    "\n",
    "if D > 0:\n",
    "    x1 = (-b + D**0.5) / (2*a)\n",
    "    x2 = (-b - D**0.5) / (2*a)\n",
    "    print(\"Two distinct real roots: x1 =\", x1, \"and x2 =\", x2)\n",
    "elif D == 0:\n",
    "    x = -b / (2*a)\n",
    "    print(\"One real root: x =\", x)\n",
    "else:\n",
    "    realPart = -b / (2*a)\n",
    "    imagPart = (-D)**0.5 / (2*a)\n",
    "    print(\"Two complex roots: x1 =\", realPart, \"+\", imagPart, \"i and x2 =\", realPart, \"-\", imagPart, \"i\")"
   ]
  },
  {
   "cell_type": "markdown",
   "id": "9215fef0-bcae-4ef4-b0fe-dc146a0c0708",
   "metadata": {},
   "source": [
    "19. Create a Python program that checks if a given year is a century year or not using if-else."
   ]
  },
  {
   "cell_type": "code",
   "execution_count": 48,
   "id": "51f64826-87f4-4f50-aba6-ea4373fa530d",
   "metadata": {},
   "outputs": [
    {
     "name": "stdin",
     "output_type": "stream",
     "text": [
      "Enter a year:  2023\n"
     ]
    },
    {
     "name": "stdout",
     "output_type": "stream",
     "text": [
      "2023 is not a century year.\n"
     ]
    }
   ],
   "source": [
    "year = int(input(\"Enter a year: \"))\n",
    "if year % 100 == 0 : print(f\"{year} is a century year.\")\n",
    "else : print(f\"{year} is not a century year.\")"
   ]
  },
  {
   "cell_type": "markdown",
   "id": "1d837440-0f43-4230-9358-b6b3371742ab",
   "metadata": {},
   "source": [
    "20. Write a Python program to determine if a given number is a perfect square using if-else."
   ]
  },
  {
   "cell_type": "code",
   "execution_count": 49,
   "id": "53ffa3b0-b086-43fe-88cd-bb9af21ae715",
   "metadata": {},
   "outputs": [
    {
     "name": "stdin",
     "output_type": "stream",
     "text": [
      "Enter number - 100\n"
     ]
    },
    {
     "name": "stdout",
     "output_type": "stream",
     "text": [
      "100 is a perfect square.\n"
     ]
    }
   ],
   "source": [
    "num = int(input(\"Enter number -\"))\n",
    "if (num**0.5).is_integer() : print(f\"{num} is a perfect square.\")\n",
    "else : print(f\"{num} is not a perfect square.\")"
   ]
  },
  {
   "cell_type": "markdown",
   "id": "12a85537-8131-4db7-bd72-65a864df3d02",
   "metadata": {},
   "source": [
    "21. Explain the purpose of the \"continue\" and \"break\" statements within if-else loops."
   ]
  },
  {
   "cell_type": "raw",
   "id": "aa868a43-92d1-4add-9e31-cbf902c2f5c8",
   "metadata": {},
   "source": [
    "The continue and break statements are control flow statements used within loops (for and while) to modify how the loop iterates. They provide ways to skip or terminate loop iterations based on certain conditions.\n",
    "\n",
    "1. continue:\n",
    "(A) The continue statement skips the remaining part of the current iteration and immediately jumps to the start of the next iteration in the loop.\n",
    "(B) It's typically used within an if condition to selectively skip certain iterations based on the condition's outcome.\n",
    "\n",
    "2. Break:\n",
    "(A) The break statement completely terminates the loop prematurely, exiting the loop entirely.\n",
    "(B) It's often used within an if condition when a specific condition is met, and you don't need to process any further iterations."
   ]
  },
  {
   "cell_type": "code",
   "execution_count": 50,
   "id": "3f3de7c7-6b1e-4699-8bd0-d9e409355354",
   "metadata": {},
   "outputs": [
    {
     "name": "stdout",
     "output_type": "stream",
     "text": [
      "1\n",
      "5\n"
     ]
    }
   ],
   "source": [
    "# 1. continue example\n",
    "\n",
    "numbers = [1, 4, 2, 8, 5, 10]\n",
    "for num in numbers:\n",
    "    if num % 2 == 0:  \n",
    "        continue\n",
    "    print(num)  "
   ]
  },
  {
   "cell_type": "code",
   "execution_count": 51,
   "id": "8893db78-4917-4f36-8ff7-d467a2c7e58c",
   "metadata": {},
   "outputs": [
    {
     "name": "stdout",
     "output_type": "stream",
     "text": [
      "Checking for: apple\n",
      "Checking for: banana\n",
      "orange\n"
     ]
    }
   ],
   "source": [
    "# 2. break example\n",
    "\n",
    "fruits = [\"apple\", \"banana\", \"orange\", \"mango\"]\n",
    "for fruit in fruits:\n",
    "    if fruit == \"orange\":\n",
    "        print(fruit)\n",
    "        break  # Exit the loop after finding orange\n",
    "    print(f\"Checking for: {fruit}\")"
   ]
  },
  {
   "cell_type": "markdown",
   "id": "695e6601-a8df-438f-81c5-cf9d81f56659",
   "metadata": {},
   "source": [
    "22. Create a Python program that calculates the BMI (Body Mass Index) of a person based on their weight and height using if-else."
   ]
  },
  {
   "cell_type": "code",
   "execution_count": 52,
   "id": "d7c04844-8988-4424-8db1-6494314461c4",
   "metadata": {},
   "outputs": [
    {
     "name": "stdin",
     "output_type": "stream",
     "text": [
      "Enter your weight in kilograms:  80\n",
      "Enter your height in meters:  189\n"
     ]
    },
    {
     "name": "stdout",
     "output_type": "stream",
     "text": [
      "Underweight\n"
     ]
    }
   ],
   "source": [
    "weight = float(input(\"Enter your weight in kilograms: \"))\n",
    "height = float(input(\"Enter your height in meters: \"))\n",
    "\n",
    "bmi = weight / (height ** 2)\n",
    "\n",
    "if bmi < 18.5: print(\"Underweight\") \n",
    "elif 18.5 <= bmi < 25: print(\"Normal weight\") \n",
    "elif 25 <= bmi < 30: print(\"Overweight\") \n",
    "else: print(\"Obese\")"
   ]
  },
  {
   "cell_type": "markdown",
   "id": "6df75fa2-cd56-4c8c-bf44-667927ae958a",
   "metadata": {},
   "source": [
    "23. How can you use the \"filter()\" function with if-else statements to filter elements from a list?"
   ]
  },
  {
   "cell_type": "raw",
   "id": "ae8ebdd6-b8e1-4ee1-a38b-f491a518ca5c",
   "metadata": {},
   "source": [
    "The filter function in Python takes a function and an iterable (like a list) as arguments. It returns a new iterator containing elements from the iterable for which the given function returns True. However, filter itself doesn't directly utilize if-else statements.\n",
    "\n",
    "Here's how you can leverage filter in conjunction with a custom function containing if-else logic to achieve filtering within a list:\n",
    "\n",
    "\n",
    "1. Define a Custom Filter Function:\n",
    "\n",
    "Create a function that takes an element as input and uses an if-else statement to determine if the element meets the filtering criteria.\n",
    "The function should return True if the element qualifies for inclusion in the filtered list, otherwise it should return False.\n",
    "\n",
    "\n",
    "2. Use filter with the Custom Function:\n",
    "\n",
    "Apply the filter function to the list you want to filter.\n",
    "Pass the custom filter function as the first argument to filter.\n",
    "\n",
    "\n",
    "(A) is_positive(number): This function checks if a number is positive using an if statement.\n",
    "(B) filter(is_positive, numbers): This part applies filter to the numbers list. It passes the is_positive function as the first argument, essentially telling filter to use the logic within is_positive to determine which elements to keep.\n",
    "(C) list(filter(...)): This converts the iterator returned by filter into a regular list named positive_numbers for easy printing."
   ]
  },
  {
   "cell_type": "code",
   "execution_count": 53,
   "id": "9b9997e1-5b1f-46bb-bb60-29cf4b9164ba",
   "metadata": {},
   "outputs": [
    {
     "name": "stdout",
     "output_type": "stream",
     "text": [
      "[1, 5]\n"
     ]
    }
   ],
   "source": [
    "def is_positive(number):\n",
    "    return number > 0\n",
    "\n",
    "numbers = [1, -3, 0, 5, -2]\n",
    "positive_numbers = list(filter(is_positive, numbers))\n",
    "print(positive_numbers)  "
   ]
  },
  {
   "cell_type": "markdown",
   "id": "80912925-98ba-49d6-96d4-ae20fbdb8caa",
   "metadata": {},
   "source": [
    "24. Write a Python program to determine if a given number is prime or not using if-else."
   ]
  },
  {
   "cell_type": "code",
   "execution_count": 54,
   "id": "1b16a162-c40f-49f2-a222-0856a3b57d5b",
   "metadata": {},
   "outputs": [
    {
     "name": "stdin",
     "output_type": "stream",
     "text": [
      "Enter a number:  67\n"
     ]
    },
    {
     "name": "stdout",
     "output_type": "stream",
     "text": [
      "67 is a prime number\n"
     ]
    }
   ],
   "source": [
    "num = int(input(\"Enter a number: \"))\n",
    "\n",
    "if num > 1:\n",
    "    for i in range(2, num):\n",
    "        if (num % i) == 0:\n",
    "            print(num, \"is not a prime number\")\n",
    "            break\n",
    "    else:\n",
    "        print(num, \"is a prime number\")\n",
    "else:\n",
    "    print(num, \"is not a prime number\")"
   ]
  },
  {
   "cell_type": "markdown",
   "id": "6be9242e-24e4-40a8-b595-0ff606af9d33",
   "metadata": {},
   "source": [
    "--------------------------------------------------------------------------------------------------------------"
   ]
  },
  {
   "cell_type": "markdown",
   "id": "19876d63-194d-48b0-b575-7684c4e3c146",
   "metadata": {},
   "source": [
    "MAP"
   ]
  },
  {
   "cell_type": "markdown",
   "id": "f7248d45-2487-45c9-8199-27789e31c755",
   "metadata": {},
   "source": [
    "--------------------------------------------------------------------------------------------------------------"
   ]
  },
  {
   "cell_type": "markdown",
   "id": "1320a33c-917c-4d91-b829-602c15b2f5a8",
   "metadata": {},
   "source": [
    "1. Explain the purpose of the `map()` function in Python and provide an example of how it can be used to apply a function to each element of an iterable."
   ]
  },
  {
   "cell_type": "raw",
   "id": "670c875b-d200-470d-b082-74472f68b0e0",
   "metadata": {},
   "source": [
    "The map() function in Python is a powerful tool for applying a function to all elements of an iterable (like a list, tuple, or string) and creating a new iterable with the results. It provides a concise way to iterate through an iterable and transform each element based on the provided function.\n",
    "\n",
    "syntax - map(function, iterable)\n",
    "-> function: This is the function you want to apply to each element in the iterable.\n",
    "-> iterable: This is the collection of elements (list, tuple, string, etc.) that you want to iterate through.\n",
    "\n",
    "Return Value:\n",
    "map() returns an iterator object containing the transformed elements. You can convert this iterator to a list using list(), a tuple using tuple(), or apply further operations directly on the iterator.\n"
   ]
  },
  {
   "cell_type": "code",
   "execution_count": 55,
   "id": "68d966d3-c859-4fed-8f9e-723b65495923",
   "metadata": {},
   "outputs": [
    {
     "name": "stdout",
     "output_type": "stream",
     "text": [
      "[1, 2, 3, 4]\n",
      "[1, 4, 9, 16]\n"
     ]
    }
   ],
   "source": [
    "def square(x):\n",
    "    return x * x\n",
    "\n",
    "numbers = [1, 2, 3, 4]\n",
    "\n",
    "squared_numbers = list(map(square, numbers))\n",
    "\n",
    "print(numbers)  \n",
    "print(squared_numbers) "
   ]
  },
  {
   "cell_type": "raw",
   "id": "a65467e5-3838-4f9d-b2b6-10b495b7b6fb",
   "metadata": {},
   "source": [
    "1. square(x): This defines a function that squares a number.\n",
    "2. map(square, numbers): This applies the square function to each element in the numbers list using map(). It creates an iterator containing the squared values.\n",
    "3. list(map(square, numbers)): This converts the iterator generated by map() to a regular list named squared_numbers for easy printing."
   ]
  },
  {
   "cell_type": "markdown",
   "id": "ed591169-5c9a-48c0-a55a-cd164ba8b1e1",
   "metadata": {},
   "source": [
    "2. Write a Python program that uses the `map()` function to square each element of a list of numbers."
   ]
  },
  {
   "cell_type": "code",
   "execution_count": 56,
   "id": "b0036f57-1445-4675-99e5-b9d755bedd58",
   "metadata": {},
   "outputs": [
    {
     "name": "stdout",
     "output_type": "stream",
     "text": [
      "Square of each element of list of numbers - [4, 9, 16, 25, 36]\n"
     ]
    }
   ],
   "source": [
    "l = [2,3,4,5,6]\n",
    "print(\"Square of each element of list of numbers -\",list(map(lambda x : x**2,l)))"
   ]
  },
  {
   "cell_type": "markdown",
   "id": "66a50edf-6192-478a-88cf-0ebf7eace564",
   "metadata": {},
   "source": [
    "3. How does the `map()` function differ from a list comprehension in Python, and when would you choose one over the other?"
   ]
  },
  {
   "cell_type": "raw",
   "id": "69491b76-bd3d-4f51-81d7-790d89aaef01",
   "metadata": {},
   "source": [
    "1. Synatx :\n",
    "(A) map - map(function, iterable)\n",
    "(B) list comprehension - [result for element in iterable if condition]\n",
    "\n",
    "2. Return Value:\n",
    "(A) map(): Returns an iterator containing the transformed elements.\n",
    "(B) List Comprehension: Returns a new list containing the transformed elements.\n",
    "\n",
    "3. Immediate vs. Deferred Execution:\n",
    "(A) map():\n",
    "-> The function passed to map() is not immediately executed for each element.\n",
    "-> The results are generated only when you iterate over the returned iterator or convert it to a list using list().\n",
    "\n",
    "(B) List Comprehension:\n",
    "The expression within the list comprehension is evaluated for each element immediately when the list is created.\n",
    "\n",
    "\n",
    "Choosing Between map() and List Comprehension:\n",
    "\n",
    "(A) Use map() when:\n",
    "* You need an iterator object to process the results further using other iterator functions like filter().\n",
    "* You want to avoid immediate execution of the function for each element, potentially improving performance for large datasets.\n",
    "\n",
    "(B) Use list comprehension when:\n",
    "* You want a new list containing the transformed elements directly.\n",
    "* You need to apply a conditional expression to filter elements while transforming them (using the if clause within the comprehension)."
   ]
  },
  {
   "cell_type": "markdown",
   "id": "2f4b83b5-6602-475d-b2be-34e567500e7e",
   "metadata": {},
   "source": [
    "4. Create a Python program that uses the `map()` function to convert a list of names to uppercase."
   ]
  },
  {
   "cell_type": "code",
   "execution_count": 57,
   "id": "7a9d0a39-2a73-4a7d-be4c-45478a0e973e",
   "metadata": {},
   "outputs": [
    {
     "name": "stdout",
     "output_type": "stream",
     "text": [
      "Names in capital letters - ['RAHUL', 'SHUBHAM', 'ADITYA']\n"
     ]
    }
   ],
   "source": [
    "l = [\"rahul\",\"shubham\",\"aditya\"]\n",
    "print(\"Names in capital letters -\",list(map(lambda x: x.upper(),l)))"
   ]
  },
  {
   "cell_type": "markdown",
   "id": "d807e957-d450-495f-bfde-f593ecb97dad",
   "metadata": {},
   "source": [
    "5. Write a Python program that uses the `map()` function to calculate the length of each word in a list of strings."
   ]
  },
  {
   "cell_type": "code",
   "execution_count": 58,
   "id": "112d462a-cbaf-4178-8b81-96aabc938f4a",
   "metadata": {},
   "outputs": [
    {
     "name": "stdout",
     "output_type": "stream",
     "text": [
      "length of respective string - [5, 7, 6]\n"
     ]
    }
   ],
   "source": [
    "l = [\"rahul\",\"shubham\",\"aditya\"]\n",
    "print(\"length of respective string -\",list(map(len,l)))"
   ]
  },
  {
   "cell_type": "markdown",
   "id": "36c192cd-7d4f-4517-8e70-8715d4bebb28",
   "metadata": {},
   "source": [
    "6. How can you use the `map()` function to apply a custom function to elements of multiple lists simultaneously in Python?"
   ]
  },
  {
   "cell_type": "raw",
   "id": "c6165100-5110-46f8-a9cf-7ee2a87a1d29",
   "metadata": {},
   "source": [
    "by Using zip() with map():\n",
    "\n",
    "zip() takes multiple iterables as arguments and returns an iterator of tuples, where each tuple contains the corresponding elements from each iterable at the same index.\n",
    "You can then apply map() to this iterator of tuples, passing a function that takes multiple arguments (one for each element in the tuple)."
   ]
  },
  {
   "cell_type": "code",
   "execution_count": 59,
   "id": "4b39204c-a0f8-4140-994b-a51a7796751a",
   "metadata": {},
   "outputs": [
    {
     "name": "stdout",
     "output_type": "stream",
     "text": [
      "[5, 7, 9]\n"
     ]
    }
   ],
   "source": [
    "def add_numbers(x):\n",
    "    return x[0] + x[1]\n",
    "\n",
    "list1 = [1, 2, 3]\n",
    "list2 = [4, 5, 6]\n",
    "\n",
    "sum_of_elements = list(map(add_numbers, zip(list1, list2)))\n",
    "print(sum_of_elements)"
   ]
  },
  {
   "cell_type": "raw",
   "id": "0f4d033e-ac69-4d5b-9341-d9d118e9965d",
   "metadata": {},
   "source": [
    "Explanation:\n",
    "\n",
    "1. def add_numbers(x): This defines a function called add_numbers that takes a single argument x, which is expected to be a sequence (e.g., a list) containing two elements.\n",
    "\n",
    "2. return x[0] + x[1]: The function simply returns the sum of the first two elements of the input sequence x.\n",
    "\n",
    "3. list1 = [1, 2, 3] and list2 = [4, 5, 6]: These lines create two separate lists, list1 and list2, each containing three elements.\n",
    "\n",
    "4. sum_of_elements = list(map(add_numbers, zip(list1, list2))): This line is the main part of the code. Here's what's happening:\n",
    "\n",
    "    (A) zip(list1, list2) takes the two lists and pairs up their corresponding elements, creating a sequence of tuples. In this case, it would create the sequence [(1, 4), (2, 5), (3, 6)].\n",
    "\n",
    "    (B) map(add_numbers, ...) applies the add_numbers function to each tuple in the sequence created by zip(). This means that add_numbers is called with each pair of elements from the two lists, and the results are collected into a new sequence.\n",
    "\n",
    "    (C) list(...) converts the resulting sequence from map() into a list, which is then assigned to the variable sum_of_elements.\n",
    "\n",
    "5. print(sum_of_elements): This line simply prints the final result, which is a list containing the sums of the corresponding elements from list1 and list2: [5, 7, 9]."
   ]
  },
  {
   "cell_type": "markdown",
   "id": "9e8b75fb-3a7f-425b-936e-a3396d401e74",
   "metadata": {},
   "source": [
    "7. Create a Python program that uses `map()` to convert a list of temperatures from Celsius to Fahrenheit."
   ]
  },
  {
   "cell_type": "code",
   "execution_count": 60,
   "id": "649e6560-6936-47c9-a5f7-261771a75022",
   "metadata": {},
   "outputs": [
    {
     "name": "stdout",
     "output_type": "stream",
     "text": [
      "Temperatures in fahrenheit - [32.0, 50.0, 68.0, 86.0, 104.0]\n"
     ]
    }
   ],
   "source": [
    "c = [0, 10, 20, 30, 40] ; print(\"Temperatures in fahrenheit -\",list(map(lambda c: c * 9/5 + 32, c)))"
   ]
  },
  {
   "cell_type": "markdown",
   "id": "feb73a90-d1ad-4abe-a780-303f81e84551",
   "metadata": {},
   "source": [
    "8. Write a Python program that uses the `map()` function to round each element of a list of floating-point numbers to the nearest integer."
   ]
  },
  {
   "cell_type": "code",
   "execution_count": 61,
   "id": "e2386b2e-0913-443b-944a-90ac4004a89c",
   "metadata": {},
   "outputs": [
    {
     "name": "stdout",
     "output_type": "stream",
     "text": [
      "floating-point numbers to the nearest integer - [3, 3, 2, 5, 5]\n"
     ]
    }
   ],
   "source": [
    "num = [3.14, 2.718, 1.618, 4.669, 5.432]\n",
    "print(\"floating-point numbers to the nearest integer -\",list(map(lambda x: round(x), num)))"
   ]
  },
  {
   "cell_type": "markdown",
   "id": "eec79a2e-c099-42c7-b662-aa7139dd3c35",
   "metadata": {},
   "source": [
    "--------------------------------------------------------------------------------------------------------------"
   ]
  },
  {
   "cell_type": "markdown",
   "id": "d870951d-d30a-4d97-bd8b-48fa84c3f77b",
   "metadata": {},
   "source": [
    "REDUCE"
   ]
  },
  {
   "cell_type": "markdown",
   "id": "c4fd14cd-e1cc-4de6-a768-41bec8a3559b",
   "metadata": {},
   "source": [
    "--------------------------------------------------------------------------------------------------------------"
   ]
  },
  {
   "cell_type": "markdown",
   "id": "2fd4d5b3-cc0a-4a2e-a29e-8ce0b36033a0",
   "metadata": {},
   "source": [
    "1. What is the `reduce()` function in Python, and what module should you import to use it? Provide an example of its basic usage."
   ]
  },
  {
   "cell_type": "raw",
   "id": "53b44b04-e4bc-45a1-a645-e8b1df499edf",
   "metadata": {},
   "source": [
    "The reduce() function in Python is a built-in function found in the functools module. It applies a given function cumulatively to the elements of an iterable, reducing them to a single value.\n",
    "\n",
    "You need to import the functools module to use reduce() : (syntax below)\n",
    "from functools import reduce\n",
    "reduce(function, iterable[, initializer])\n",
    "\n",
    "1. function: This is the function that will be applied to the elements of the iterable. It should take two arguments and return a single value.\n",
    "2. iterable: This is the iterable (e.g., list, tuple) whose elements will be processed.\n",
    "3. initializer (optional): This is an optional initial value that is used as the starting point for the reduction. If not provided, the first element of the iterable is used as the initial value."
   ]
  },
  {
   "cell_type": "code",
   "execution_count": 62,
   "id": "579ef9ca-8589-4954-ab70-2a661e4d1434",
   "metadata": {},
   "outputs": [
    {
     "name": "stdout",
     "output_type": "stream",
     "text": [
      "120\n"
     ]
    }
   ],
   "source": [
    "from functools import reduce\n",
    "numbers = [1, 2, 3, 4, 5]\n",
    "product = reduce(lambda x, y: x * y, numbers)\n",
    "print(product)"
   ]
  },
  {
   "cell_type": "markdown",
   "id": "7731a81d-01b0-42b4-b310-0272a408e4a2",
   "metadata": {},
   "source": [
    "2. Write a Python program that uses the `reduce()` function to find the product of all elements in a list."
   ]
  },
  {
   "cell_type": "code",
   "execution_count": 63,
   "id": "9f87f8d9-b5f5-450d-a98e-b96d829bd277",
   "metadata": {},
   "outputs": [
    {
     "name": "stdout",
     "output_type": "stream",
     "text": [
      "Product of all elements - 120\n"
     ]
    }
   ],
   "source": [
    "from functools import reduce\n",
    "l = [1,2,3,4,5]\n",
    "print(\"Product of all elements -\",reduce(lambda x,y: x*y,l))"
   ]
  },
  {
   "cell_type": "markdown",
   "id": "2d9c100a-dada-4f95-8732-9979e296d309",
   "metadata": {},
   "source": [
    "3. Create a Python program that uses `reduce()` to find the maximum element in a list of numbers."
   ]
  },
  {
   "cell_type": "code",
   "execution_count": 64,
   "id": "fe770ecc-8a80-4359-b3ef-c3bc606eedd5",
   "metadata": {},
   "outputs": [
    {
     "name": "stdout",
     "output_type": "stream",
     "text": [
      "Maximum element in the list - 5\n"
     ]
    }
   ],
   "source": [
    "from functools import reduce\n",
    "l = [1,2,3,4,5]\n",
    "print(\"Maximum element in the list -\",reduce(lambda x, y: x if x > y else y,l))"
   ]
  },
  {
   "cell_type": "markdown",
   "id": "87095a97-06dc-4f40-a068-c8e548d6bb73",
   "metadata": {},
   "source": [
    "4. How can you use the `reduce()` function to concatenate a list of strings into a single string?"
   ]
  },
  {
   "cell_type": "code",
   "execution_count": 65,
   "id": "5ba987ae-0b9f-4568-8e82-acb418271703",
   "metadata": {},
   "outputs": [
    {
     "name": "stdout",
     "output_type": "stream",
     "text": [
      "Indiaiscalledthelandofdiversity\n"
     ]
    }
   ],
   "source": [
    "from functools import reduce\n",
    "words = [\"India\", \"is\", \"called\", \"the\", \"land\", \"of\", \"diversity\"]\n",
    "concatenated_string = reduce(lambda x, y: x + y, words)\n",
    "print(concatenated_string) "
   ]
  },
  {
   "cell_type": "raw",
   "id": "f3c1f6e6-181f-4a72-80da-8cc373293c51",
   "metadata": {},
   "source": [
    "1. Import reduce(): You need to import the reduce() function from the functools module.\n",
    "\n",
    "2. Define the List of Strings: Create a list named words containing the strings you want to concatenate.\n",
    "\n",
    "3. Apply reduce() with Lambda Function:\n",
    "\n",
    "* Use reduce() with a lambda function that takes two arguments (strings x and y) and returns their concatenation using the + operator.\n",
    "* reduce() applies this function cumulatively to the elements in the words list, starting with the first two strings and then using the result with the next element, and so on.\n",
    "\n",
    "4. Print the Result : The final concatenated string is stored in concatenated_string and printed."
   ]
  },
  {
   "cell_type": "markdown",
   "id": "8c6069b8-5c1d-4080-bafb-86d240188c95",
   "metadata": {},
   "source": [
    "5. Write a Python program that calculates the factorial of a number using the `reduce()` function."
   ]
  },
  {
   "cell_type": "code",
   "execution_count": 66,
   "id": "6993afd1-fa1c-4eb8-a0eb-5cb58d32ae0b",
   "metadata": {},
   "outputs": [
    {
     "name": "stdin",
     "output_type": "stream",
     "text": [
      "Enter number - 6\n"
     ]
    },
    {
     "name": "stdout",
     "output_type": "stream",
     "text": [
      "Factorial of number - 720\n"
     ]
    }
   ],
   "source": [
    "from functools import reduce\n",
    "num = int(input(\"Enter number -\"))\n",
    "print(\"Factorial of number -\",reduce(lambda x, y: x * y, range(1, num + 1)))"
   ]
  },
  {
   "cell_type": "markdown",
   "id": "7edd943f-de6b-4fac-9c3e-4d521dff969c",
   "metadata": {},
   "source": [
    "6. Create a Python program that uses `reduce()` to find the GCD (Greatest Common Divisor) of a list of numbers."
   ]
  },
  {
   "cell_type": "code",
   "execution_count": 67,
   "id": "8838e840-515f-42bd-9be2-37436ea4301b",
   "metadata": {},
   "outputs": [
    {
     "name": "stdout",
     "output_type": "stream",
     "text": [
      "GCD of the numbers: 12\n"
     ]
    }
   ],
   "source": [
    "from functools import reduce\n",
    "import math\n",
    "\n",
    "numbers = [24, 36, 48, 60]\n",
    "gcd = reduce(math.gcd, numbers)\n",
    "print(\"GCD of the numbers:\", gcd)"
   ]
  },
  {
   "cell_type": "markdown",
   "id": "a79ca584-2f56-414b-ab07-ece45d7114e3",
   "metadata": {},
   "source": [
    "7. Write a Python program that uses the `reduce()` function to find the sum of the digits of a given number."
   ]
  },
  {
   "cell_type": "code",
   "execution_count": 68,
   "id": "00b98af7-9348-4ddf-88e8-2e221b6aa8cd",
   "metadata": {},
   "outputs": [
    {
     "name": "stdout",
     "output_type": "stream",
     "text": [
      "Sum of digits of given number - 15\n"
     ]
    }
   ],
   "source": [
    "from functools import reduce\n",
    "number = 12345\n",
    "print(\"Sum of digits of given number -\",reduce(lambda x, y: int(x) + int(y), str(number)))"
   ]
  },
  {
   "cell_type": "markdown",
   "id": "595d3d23-462f-4057-9ea4-8bdc65ccbb78",
   "metadata": {},
   "source": [
    "--------------------------------------------------------------------------------------------------------------"
   ]
  },
  {
   "cell_type": "markdown",
   "id": "dce31d7d-3912-440d-b7d9-1dbd13e1440d",
   "metadata": {},
   "source": [
    "FILTER"
   ]
  },
  {
   "cell_type": "markdown",
   "id": "24b8a1e2-ed91-4b3b-998c-840a6a3e2fcb",
   "metadata": {},
   "source": [
    "--------------------------------------------------------------------------------------------------------------"
   ]
  },
  {
   "cell_type": "markdown",
   "id": "1af076dd-039c-4aec-9dcb-9dd6224a6549",
   "metadata": {},
   "source": [
    "1. Explain the purpose of the `filter()` function in Python and provide an example of how it can be used to filter elements from an iterable."
   ]
  },
  {
   "cell_type": "raw",
   "id": "1862ca1f-2631-4d45-809d-bf6d3aab9ac3",
   "metadata": {},
   "source": [
    "The filter() function in Python is a built-in function used to create a filtered iterable by removing elements that don't meet a certain condition. It takes two arguments:\n",
    "\n",
    "* Function: This is a function that takes an element from the iterable as input and returns a boolean value (True or False).\n",
    "* Iterable: This is the iterable (e.g., list, tuple, string) from which elements will be filtered.\n",
    "\n",
    "synatx : filtered_iterable = filter(function, iterable)\n",
    "\n",
    "The filter() function applies the given function to each element in the iterable.\n",
    "* If the function returns True, the element is included in the filtered iterable.\n",
    "* If the function returns False, the element is excluded."
   ]
  },
  {
   "cell_type": "code",
   "execution_count": 69,
   "id": "e33e6b45-9505-46e8-8f9b-1b24e6bbb95c",
   "metadata": {},
   "outputs": [
    {
     "name": "stdout",
     "output_type": "stream",
     "text": [
      "[2, 4, 6]\n"
     ]
    }
   ],
   "source": [
    "numbers = [1, 2, 3, 4, 5, 6]\n",
    "even_numbers = filter(lambda x: x % 2 == 0, numbers)\n",
    "even_numbers_list = list(even_numbers)\n",
    "print(even_numbers_list) "
   ]
  },
  {
   "cell_type": "raw",
   "id": "d46302d1-af9a-428d-8f00-8e9bc5b22809",
   "metadata": {},
   "source": [
    "Explanation:\n",
    "\n",
    "1. lambda x: x % 2 == 0 defines a lambda function that checks if a number is even (divisible by 2).\n",
    "2. filter(lambda x: x % 2 == 0, numbers) applies the lambda function to each number in the numbers list.\n",
    "3. Numbers that return True (even numbers) are included in the filtered iterable.\n",
    "4. list(even_numbers) converts the filtered iterable returned by filter() to a regular list for easy printing."
   ]
  },
  {
   "cell_type": "markdown",
   "id": "cb538230-d6fa-450e-b437-0518abf42641",
   "metadata": {},
   "source": [
    "2. Write a Python program that uses the `filter()` function to select even numbers from a list of integers."
   ]
  },
  {
   "cell_type": "code",
   "execution_count": 70,
   "id": "f5525b3f-9bdb-4788-8c21-c7256b18dfdb",
   "metadata": {},
   "outputs": [
    {
     "name": "stdout",
     "output_type": "stream",
     "text": [
      "Even numbers from list of integers - [2, 4, 6, 8, 10]\n"
     ]
    }
   ],
   "source": [
    "l = [1,2,3,4,5,6,7,8,9,10]\n",
    "print(\"Even numbers from list of integers -\",list(filter(lambda a : a%2==0, l)))"
   ]
  },
  {
   "cell_type": "markdown",
   "id": "6d18d052-1c6d-48b8-b8c4-4e1e4b600d90",
   "metadata": {},
   "source": [
    "3. Create a Python program that uses the `filter()` function to select names that start with a specific letter from a list of strings."
   ]
  },
  {
   "cell_type": "code",
   "execution_count": 71,
   "id": "80cee434-72c9-4530-8cae-cce4a1b3f02e",
   "metadata": {},
   "outputs": [
    {
     "name": "stdout",
     "output_type": "stream",
     "text": [
      "Names that start with letter A - ['amit', 'ashish', 'aditya']\n"
     ]
    }
   ],
   "source": [
    "l = [\"amit\",\"rahul\",\"ashish\",\"shubham\",\"aditya\"]\n",
    "print(\"Names that start with letter A -\",list(filter(lambda a : a[0]==\"a\", l)))"
   ]
  },
  {
   "cell_type": "markdown",
   "id": "c81d2d2d-6be6-4a00-94e3-3eebb6808993",
   "metadata": {},
   "source": [
    "4. Write a Python program that uses the `filter()` function to select prime numbers from a list of integers."
   ]
  },
  {
   "cell_type": "code",
   "execution_count": 72,
   "id": "a1e03f32-68f6-4f57-978c-00fa367b5f92",
   "metadata": {},
   "outputs": [
    {
     "name": "stdout",
     "output_type": "stream",
     "text": [
      "Prime numbers -  [2, 3, 5, 7]\n"
     ]
    }
   ],
   "source": [
    "numbers = [1,2,3,4,5,6,7,8,9,10]\n",
    "is_prime = lambda num: num > 1 and all(num % i != 0 for i in range(2, int(num ** 0.5) + 1))\n",
    "print(\"Prime numbers - \",list(filter(is_prime, numbers)))"
   ]
  },
  {
   "cell_type": "markdown",
   "id": "006c9cdb-829c-4421-824d-ed66b54c4918",
   "metadata": {},
   "source": [
    "5. How can you use the `filter()` function to remove None values from a list in Python?"
   ]
  },
  {
   "cell_type": "code",
   "execution_count": 73,
   "id": "702826f9-cd53-44f2-ae30-2ab21ceceeb5",
   "metadata": {},
   "outputs": [
    {
     "name": "stdout",
     "output_type": "stream",
     "text": [
      "[1, 2, 3, 4]\n"
     ]
    }
   ],
   "source": [
    "mixed_list = [1, 2, None, 3, None, 4]\n",
    "filtered_list = list(filter(lambda x: x is not None, mixed_list))\n",
    "print(filtered_list)"
   ]
  },
  {
   "cell_type": "raw",
   "id": "623523f0-51b1-4123-bedd-af0fce8b53da",
   "metadata": {},
   "source": [
    "Explanation:\n",
    "\n",
    "1. Create the List : Define a list named mixed_list containing elements with both values and None values.\n",
    "2. Apply filter() with Lambda Function:\n",
    "    (A) Use filter() with a lambda function that takes an element (x) as input and checks if it's not None using the is not None operator.\n",
    "    (B) The filter() function applies this lambda function to each element in the mixed_list.\n",
    "    (C) Elements that evaluate to True (not None) are included in the filtered iterable.\n",
    "3. Convert and Print the Result:\n",
    "    (A) The filtered iterable returned by filter() is converted to a regular list using list().\n",
    "    (B) The resulting list (filtered_list) contains only the elements that were not None in the original list.\n",
    "    \n",
    "This code effectively demonstrates how filter() can be combined with a lambda function to remove None values from a list, creating a new list with only the actual values."
   ]
  },
  {
   "cell_type": "markdown",
   "id": "53bb8ba7-a7c8-4909-908a-a3ea4e3ec4cc",
   "metadata": {},
   "source": [
    "6. Create a Python program that uses `filter()` to select words longer than a certain length from a list of strings."
   ]
  },
  {
   "cell_type": "code",
   "execution_count": 74,
   "id": "8d0d79e8-0967-4034-a9aa-86f5c862be86",
   "metadata": {},
   "outputs": [
    {
     "name": "stdout",
     "output_type": "stream",
     "text": [
      "Words - ['ashish', 'shubham', 'aditya']\n"
     ]
    }
   ],
   "source": [
    "l = [\"amit\",\"rahul\",\"ashish\",\"shubham\",\"aditya\"]\n",
    "print(\"Words -\",list(filter(lambda a : len(a)>5, l)))"
   ]
  },
  {
   "cell_type": "markdown",
   "id": "a6f1c336-c44c-472a-b54f-bed5e1056991",
   "metadata": {},
   "source": [
    "7. Write a Python program that uses the `filter()` function to select elements greater than a specified threshold from a list of values."
   ]
  },
  {
   "cell_type": "code",
   "execution_count": 75,
   "id": "23017b79-0d05-45a5-94e7-ad485686e46d",
   "metadata": {},
   "outputs": [
    {
     "name": "stdin",
     "output_type": "stream",
     "text": [
      "Enter threshold values -  6\n"
     ]
    },
    {
     "name": "stdout",
     "output_type": "stream",
     "text": [
      "Threshold values greter than specified value - [7, 8, 9, 10]\n"
     ]
    }
   ],
   "source": [
    "val = [3,4,5,6,7,8,9,10]\n",
    "th = int(input(\"Enter threshold values - \"))\n",
    "print(\"Threshold values greter than specified value -\",list(filter(lambda a : a>th, val)))"
   ]
  },
  {
   "cell_type": "markdown",
   "id": "52aa03b9-52c4-4f90-9654-8dd726352a66",
   "metadata": {},
   "source": [
    "--------------------------------------------------------------------------------------------------------------"
   ]
  },
  {
   "cell_type": "markdown",
   "id": "adad17f6-1c74-4ddc-b938-2d727a6abcca",
   "metadata": {},
   "source": [
    "RECURSION"
   ]
  },
  {
   "cell_type": "markdown",
   "id": "9cb5f3ae-2785-4056-a227-eb155b4c4e8f",
   "metadata": {},
   "source": [
    "--------------------------------------------------------------------------------------------------------------"
   ]
  },
  {
   "cell_type": "markdown",
   "id": "76951c7c-d09a-42e1-a4c7-ef87962ae552",
   "metadata": {},
   "source": [
    "1. Explain the concept of recursion in Python. How does it differ from iteration?"
   ]
  },
  {
   "cell_type": "raw",
   "id": "89480d78-c3c5-44d4-b142-ef867171eb11",
   "metadata": {},
   "source": [
    "Recursion in Python refers to a programming technique where a function calls itself directly or indirectly. This creates a nested structure where the function keeps calling itself until it reaches a base case where the recursion stops.\n",
    "\n",
    "Key differences between recursion and iteration:\n",
    "\n",
    "(A) Recursion:\n",
    "-> A function calls itself directly or indirectly.\n",
    "-> The function breaks down the problem into smaller, similar subproblems.\n",
    "-> It involves a base case that defines the stopping condition for the recursion.\n",
    "-> It is often used for problems that can be naturally divided into smaller, self-similar subproblems.\n",
    "\n",
    "(B) Iteration:\n",
    "-> A loop (e.g., for, while) is used to repeatedly execute a block of code.\n",
    "-> The loop iterates over a sequence of elements, performing an operation on each element.\n",
    "-> It uses a loop counter or condition to control the number of iterations.\n",
    "-> It is often used for tasks that involve processing elements in a sequence or collection."
   ]
  },
  {
   "cell_type": "markdown",
   "id": "5dd522b5-ce6f-43ab-929d-38e3de3da2b8",
   "metadata": {},
   "source": [
    "2. Write a Python program to calculate the factorial of a number using recursion."
   ]
  },
  {
   "cell_type": "code",
   "execution_count": 76,
   "id": "01749a51-a577-4902-9c8d-37bf4e121cbc",
   "metadata": {},
   "outputs": [
    {
     "name": "stdin",
     "output_type": "stream",
     "text": [
      "Enter number -  9\n"
     ]
    },
    {
     "name": "stdout",
     "output_type": "stream",
     "text": [
      "Factorial of 9 is 362880\n"
     ]
    }
   ],
   "source": [
    "def factorial(n):\n",
    "    if n == 0:\n",
    "        return 1\n",
    "    else:\n",
    "        return n * factorial(n-1)\n",
    "\n",
    "num = int(input(\"Enter number - \"))\n",
    "print(\"Factorial of\", num, \"is\", factorial(num))"
   ]
  },
  {
   "cell_type": "markdown",
   "id": "d9682e4c-225d-42a8-a8ee-68d12d1d5090",
   "metadata": {},
   "source": [
    "3. Create a recursive Python function to find the nth Fibonacci number."
   ]
  },
  {
   "cell_type": "code",
   "execution_count": 77,
   "id": "735473ce-e577-4018-b8c5-b42ca4aa18e2",
   "metadata": {},
   "outputs": [
    {
     "name": "stdin",
     "output_type": "stream",
     "text": [
      "Enter number -  11\n"
     ]
    },
    {
     "name": "stdout",
     "output_type": "stream",
     "text": [
      "The 11th Fibonacci number is: 89\n"
     ]
    }
   ],
   "source": [
    "def fibonacci(n):\n",
    "    if n <= 1:\n",
    "        return n\n",
    "    else:\n",
    "        return fibonacci(n-1) + fibonacci(n-2)\n",
    "\n",
    "n = int(input(\"Enter number - \"))\n",
    "print(f\"The {n}th Fibonacci number is: {fibonacci(n)}\")"
   ]
  },
  {
   "cell_type": "markdown",
   "id": "84264826-bc56-483c-a96f-4a3af6447cfe",
   "metadata": {},
   "source": [
    "4. Write a recursive Python function to calculate the sum of all elements in a list."
   ]
  },
  {
   "cell_type": "code",
   "execution_count": 78,
   "id": "a1514c26-0958-47d9-8404-bc30da3693ce",
   "metadata": {},
   "outputs": [
    {
     "name": "stdout",
     "output_type": "stream",
     "text": [
      "Total sum  of all elements in a list -  15\n"
     ]
    }
   ],
   "source": [
    "def calculate_sum(lst):\n",
    "    if not lst :\n",
    "        return 0\n",
    "    return lst[0] + calculate_sum(lst[1:])\n",
    "\n",
    "l = [1, 2, 3, 4, 5]\n",
    "print(\"Total sum  of all elements in a list - \",calculate_sum(l))"
   ]
  },
  {
   "cell_type": "markdown",
   "id": "2555ed55-acec-4c25-9742-d0721aed2ceb",
   "metadata": {},
   "source": [
    "5. How can you prevent a recursive function from running indefinitely, causing a stack overflow error?"
   ]
  },
  {
   "cell_type": "raw",
   "id": "0f7b9d67-1256-4530-881f-85ddb4b964b9",
   "metadata": {},
   "source": [
    "To prevent a recursive function from running indefinitely and causing a stack overflow error, it's crucial to ensure that the recursion has a base case:\n",
    "\n",
    "Base Case:\n",
    "* The base case is a condition that stops the recursive calls and provides the final result.\n",
    "* It's typically a simple condition that can be evaluated directly without further recursion."
   ]
  },
  {
   "cell_type": "markdown",
   "id": "d7400011-c0e3-4be1-bcae-7b77859beed6",
   "metadata": {},
   "source": [
    "6. Create a recursive Python function to find the greatest common divisor (GCD) of two numbers using the Euclidean algorithm."
   ]
  },
  {
   "cell_type": "code",
   "execution_count": 79,
   "id": "b752ccb5-24d8-4660-b3a2-c5c718b9c350",
   "metadata": {},
   "outputs": [
    {
     "name": "stdin",
     "output_type": "stream",
     "text": [
      "Enter first number -  3\n",
      "Enter second number -  55\n"
     ]
    },
    {
     "name": "stdout",
     "output_type": "stream",
     "text": [
      "The GCD of 3 and 55 is: 1\n"
     ]
    }
   ],
   "source": [
    "def gcd(a, b):\n",
    "    if b == 0:\n",
    "        return a\n",
    "    else:\n",
    "        return gcd(b, a % b)\n",
    "\n",
    "num1 = int(input(\"Enter first number - \"))\n",
    "num2 = int(input(\"Enter second number - \"))\n",
    "result = gcd(num1, num2)\n",
    "print(f\"The GCD of {num1} and {num2} is: {result}\")"
   ]
  },
  {
   "cell_type": "markdown",
   "id": "2f832fc6-8fbd-4d72-8c91-b3f1ed488670",
   "metadata": {},
   "source": [
    "7. Write a recursive Python function to reverse a string."
   ]
  },
  {
   "cell_type": "code",
   "execution_count": 80,
   "id": "e51cf4dc-2d2b-4d45-93e6-c50eba0e40e8",
   "metadata": {},
   "outputs": [
    {
     "name": "stdin",
     "output_type": "stream",
     "text": [
      "Enter string -  luck\n"
     ]
    },
    {
     "name": "stdout",
     "output_type": "stream",
     "text": [
      "Reversed String: kcul\n"
     ]
    }
   ],
   "source": [
    "def reverse_string(input_string):\n",
    "    if len(input_string) == 0:\n",
    "        return input_string\n",
    "    else:\n",
    "        return reverse_string(input_string[1:]) + input_string[0]\n",
    "    \n",
    "# Test the function\n",
    "input_str = input(\"Enter string - \")\n",
    "print(\"Reversed String:\", reverse_string(input_str))"
   ]
  },
  {
   "cell_type": "markdown",
   "id": "36f96740-12a0-4489-ac68-ac855c0134cf",
   "metadata": {},
   "source": [
    "8. Create a recursive Python function to calculate the power of a number (x^n)."
   ]
  },
  {
   "cell_type": "code",
   "execution_count": 81,
   "id": "cc892b39-a611-4733-bd92-ff19b033979d",
   "metadata": {},
   "outputs": [
    {
     "name": "stdin",
     "output_type": "stream",
     "text": [
      "Enter number -  2\n",
      "Enter power -  5\n"
     ]
    },
    {
     "name": "stdout",
     "output_type": "stream",
     "text": [
      "Power of a number 2^5 -  32\n"
     ]
    }
   ],
   "source": [
    "def power(x, n):\n",
    "    if n == 0:\n",
    "        return 1\n",
    "    elif n % 2 == 0:\n",
    "        return power(x, n//2) * power(x, n//2)\n",
    "    else:\n",
    "        return x * power(x, n//2) * power(x, n//2)\n",
    "\n",
    "a = int(input(\"Enter number - \"))\n",
    "b = int(input(\"Enter power - \"))\n",
    "print(f\"Power of a number {a}^{b} - \",power(a,b))"
   ]
  },
  {
   "cell_type": "markdown",
   "id": "97430b83-631c-482c-ae08-dffef4d63dec",
   "metadata": {},
   "source": [
    "9. Write a recursive Python function to find all permutations of a given string."
   ]
  },
  {
   "cell_type": "code",
   "execution_count": 82,
   "id": "f4b0aafb-ab32-4dd5-a8eb-e218ed785665",
   "metadata": {},
   "outputs": [
    {
     "name": "stdin",
     "output_type": "stream",
     "text": [
      "Enter string -  air\n"
     ]
    },
    {
     "name": "stdout",
     "output_type": "stream",
     "text": [
      "air\n",
      "ari\n",
      "iar\n",
      "ira\n",
      "rai\n",
      "ria\n"
     ]
    }
   ],
   "source": [
    "def find_permutations(s, current=\"\"):\n",
    "    if len(s) == 0:\n",
    "        print(current)\n",
    "    else:\n",
    "        for i in range(len(s)):\n",
    "            find_permutations(s[:i] + s[i+1:], current + s[i])\n",
    "\n",
    "input_string = input(\"Enter string - \")\n",
    "find_permutations(input_string)"
   ]
  },
  {
   "cell_type": "markdown",
   "id": "e379cc7b-7156-4e26-bdbc-7d76f8201d1e",
   "metadata": {},
   "source": [
    "10. Write a recursive Python function to check if a string is a palindrome."
   ]
  },
  {
   "cell_type": "code",
   "execution_count": 83,
   "id": "2a82054f-57e7-4693-8e67-dee766c8f414",
   "metadata": {},
   "outputs": [
    {
     "name": "stdin",
     "output_type": "stream",
     "text": [
      "Enter string -  wow\n"
     ]
    },
    {
     "name": "stdout",
     "output_type": "stream",
     "text": [
      "wow is a palindrome\n"
     ]
    }
   ],
   "source": [
    "def is_palindrome(text):\n",
    "    if len(text) <= 1:\n",
    "        return True\n",
    "    else:\n",
    "        return text[0] == text[-1] and is_palindrome(text[1:-1])\n",
    "\n",
    "s = input(\"Enter string - \")\n",
    "if is_palindrome(s) :\n",
    "    print(f\"{s} is a palindrome\")\n",
    "else :\n",
    "    print(f\"{s} is not a palindrome\")"
   ]
  },
  {
   "cell_type": "markdown",
   "id": "5e1f2400-e0ee-4e93-b0f6-a61d51c8954d",
   "metadata": {},
   "source": [
    "11. Create a recursive Python function to generate all possible combinations of a list of elements."
   ]
  },
  {
   "cell_type": "code",
   "execution_count": 87,
   "id": "15ce510a-2d6c-43fb-a333-b1cb674b1c5e",
   "metadata": {},
   "outputs": [
    {
     "name": "stdout",
     "output_type": "stream",
     "text": [
      "Possible combinations of a list of elements -  [[1, 2, 3], [1, 2], [1, 3], [1], [2, 3], [2], [3], []]\n"
     ]
    }
   ],
   "source": [
    "def all_comb(lst):\n",
    "    if len(lst) == 0:\n",
    "        return [[]]\n",
    "    else:\n",
    "        first_element = lst[0]\n",
    "        remaining_elements = lst[1:]\n",
    "        comb_without_first = all_comb(remaining_elements)\n",
    "        comb_with_first = [[first_element] + c for c in comb_without_first]\n",
    "        return comb_with_first + comb_without_first\n",
    "\n",
    "\n",
    "l = [1, 2, 3]\n",
    "print(\"Possible combinations of a list of elements - \",all_comb(l))"
   ]
  },
  {
   "cell_type": "markdown",
   "id": "121a978d-68f7-42a4-aa63-2ef110f6c2bf",
   "metadata": {},
   "source": [
    "--------------------------------------------------------------------------------------------------------------"
   ]
  },
  {
   "cell_type": "markdown",
   "id": "bc25d6db-7e2b-4c12-94ed-e15422aa381f",
   "metadata": {},
   "source": [
    "BASICS OF FUNCTION"
   ]
  },
  {
   "cell_type": "markdown",
   "id": "1ea37c7b-7fe2-4e80-9b5c-ea6c27ee7c6c",
   "metadata": {},
   "source": [
    "--------------------------------------------------------------------------------------------------------------"
   ]
  },
  {
   "cell_type": "markdown",
   "id": "30854577-cac1-4f52-880b-e723b4f94fa0",
   "metadata": {},
   "source": [
    "1. What is a function in Python, and why is it used?"
   ]
  },
  {
   "cell_type": "raw",
   "id": "ff2753a0-4502-4007-95f3-f2aad826b43a",
   "metadata": {},
   "source": [
    "In Python, a function is a block of reusable code that performs a specific task. It is a fundamental building block for modular programming, allowing you to organize your code into smaller, well-defined units. Here are some key points about functions in Python:\n",
    "\n",
    "Structure:\n",
    "-> A function is defined using the def keyword followed by the function name and parentheses.\n",
    "-> The function can optionally take arguments (inputs) within the parentheses.\n",
    "-> The function body contains the code that performs the desired operations.\n",
    "-> The function can optionally return a value using the return statement.\n",
    "\n",
    "Purpose:\n",
    "-> Functions promote code reusability: You can write a function once and use it multiple times in your program or even in other programs.\n",
    "-> Functions improve code modularity: They break down complex tasks into smaller, manageable units, making the code easier to understand, maintain, and debug.\n",
    "-> Functions enhance code organization: By grouping related code into functions, you can structure your program more logically and efficiently."
   ]
  },
  {
   "cell_type": "markdown",
   "id": "f7009e91-0fc5-427b-8d15-09545cffb29f",
   "metadata": {},
   "source": [
    "2. How do you define a function in Python? Provide an example."
   ]
  },
  {
   "cell_type": "raw",
   "id": "396ed9ad-0e30-440f-ae76-5fb5e63a4141",
   "metadata": {},
   "source": [
    "Structure : \n",
    "(A) Use the def keyword followed by the function name\n",
    "example - def function_name():\n",
    "\n",
    "(B) Optionally, include parentheses after the function name to define arguments (inputs) that the function can take\n",
    "example - def function_name(argument1, argument2, ...):\n",
    "\n",
    "(C) Add a colon (:) after the parentheses.\n",
    "\n",
    "(D) The function body contains the code that the function will execute when called. This code can include various operations, calculations, or interactions with other parts of your program.\n",
    "\n",
    "(E) Optionally, use the return statement to return a value from the function\n",
    "example - return value"
   ]
  },
  {
   "cell_type": "code",
   "execution_count": 88,
   "id": "c0505562-09dd-40f4-9723-281ce0cbf794",
   "metadata": {},
   "outputs": [
    {
     "name": "stdout",
     "output_type": "stream",
     "text": [
      "Hello, Trishant!\n"
     ]
    }
   ],
   "source": [
    "def greet(name):\n",
    "    greeting = \"Hello, \" + name + \"!\"\n",
    "    return greeting\n",
    "\n",
    "person_name = \"Trishant\"\n",
    "message = greet(person_name)\n",
    "print(message) "
   ]
  },
  {
   "cell_type": "markdown",
   "id": "6615feb3-1b4a-4850-82a0-37177f367840",
   "metadata": {},
   "source": [
    "3. Explain the difference between a function definition and a function call."
   ]
  },
  {
   "cell_type": "raw",
   "id": "1728c52c-cec1-4241-9a6a-71572ddde4e8",
   "metadata": {},
   "source": [
    "Function Definition :\n",
    "\n",
    "1. Think of a function definition as a recipe. It outlines the instructions for completing a task.\n",
    "2. In the definition, you specify the function's name, what kind of data it can receive (parameters), and what kind of data it can output (return value).\n",
    "3. The definition also includes the code that needs to be executed to perform the task.\n",
    "\n",
    "\n",
    "Function Call :\n",
    "\n",
    "1. Once you've defined a function, you can use it (or call it) as many times as needed in your program.\n",
    "2. Calling a function is like following the recipe in the kitchen. You use the function name and provide any required data (arguments) as ingredients.\n",
    "3. When you call a function, the program's control jumps to the function definition, the code executes, and then the program control jumps back to where the function was called."
   ]
  },
  {
   "cell_type": "markdown",
   "id": "40d73908-bdd9-4938-9059-13d7a7ec9e74",
   "metadata": {},
   "source": [
    "4. Write a Python program that defines a function to calculate the sum of two numbers and then calls the function."
   ]
  },
  {
   "cell_type": "code",
   "execution_count": 89,
   "id": "6502e812-7c97-4c40-ac6a-af97b4103ac9",
   "metadata": {},
   "outputs": [
    {
     "name": "stdout",
     "output_type": "stream",
     "text": [
      "30\n"
     ]
    }
   ],
   "source": [
    "def sum_of_two_numbers(x, y):\n",
    "    return x + y\n",
    "\n",
    "result = sum_of_two_numbers(10, 20)\n",
    "print(result)"
   ]
  },
  {
   "cell_type": "markdown",
   "id": "66633f12-f8be-4701-9ded-38d128a98d85",
   "metadata": {},
   "source": [
    "5. What is a function signature, and what information does it typically include?"
   ]
  },
  {
   "cell_type": "raw",
   "id": "a90ef976-8ac7-4b8c-aba0-dcf20ce42685",
   "metadata": {},
   "source": [
    "A function signature acts like a business card for a function in your code. It concisely tells you what the function does without going into the nitty-gritty details. Here's what a function signature typically includes:\n",
    "\n",
    "(A) Function Name: This is the unique identifier you use to call the function throughout your code.\n",
    "\n",
    "(B) Parameters (Arguments): These are the inputs the function expects. The signature might specify the number of parameters and their data types (in some languages).\n",
    " \n",
    "(C) Return Type (Optional): This specifies the kind of data the function produces as output, if any. Not all functions return values."
   ]
  },
  {
   "cell_type": "markdown",
   "id": "9aba2c45-a607-4f35-83ac-b6e2e0da9048",
   "metadata": {},
   "source": [
    "6. Create a Python function that takes two arguments and returns their product."
   ]
  },
  {
   "cell_type": "code",
   "execution_count": 90,
   "id": "b84e4caf-b0bc-4779-953a-d7ca4e4cf484",
   "metadata": {},
   "outputs": [
    {
     "name": "stdin",
     "output_type": "stream",
     "text": [
      "Enter first number -  10\n",
      "Enter first number -  51\n"
     ]
    },
    {
     "name": "stdout",
     "output_type": "stream",
     "text": [
      "510\n"
     ]
    }
   ],
   "source": [
    "def multiply(x, y):\n",
    "    return x * y\n",
    "\n",
    "num1 , num2 = int(input(\"Enter first number - \")) , int(input(\"Enter first number - \"))\n",
    "product = multiply(num1, num2)\n",
    "print(product) "
   ]
  },
  {
   "cell_type": "markdown",
   "id": "953b67f5-a07c-43f2-8c45-42ef437c7b37",
   "metadata": {},
   "source": [
    "--------------------------------------------------------------------------------------------------------------"
   ]
  },
  {
   "cell_type": "markdown",
   "id": "e88bf6a9-7f08-408b-8129-7e92864a3a0a",
   "metadata": {},
   "source": [
    "FUNCTIONS, PARAMETERS AND ARGUEMENTS"
   ]
  },
  {
   "cell_type": "markdown",
   "id": "f570b69e-97c3-4475-a980-9e3b6d30a2d5",
   "metadata": {},
   "source": [
    "--------------------------------------------------------------------------------------------------------------"
   ]
  },
  {
   "cell_type": "markdown",
   "id": "eabf00ba-9b8f-4d3a-9dda-a7d18154b954",
   "metadata": {},
   "source": [
    "1. Explain the concepts of formal parameters and actual arguments in Python functions."
   ]
  },
  {
   "cell_type": "raw",
   "id": "18fb2d54-12a8-4474-b947-f22db4161097",
   "metadata": {},
   "source": [
    "Formal Parameters :\n",
    "\n",
    "(A) These are placeholders defined within the function's parentheses during the function definition.\n",
    "(B) They act like variables inside the function, but their values are not assigned until the function is called.\n",
    "(C) Formal parameters specify the type of data the function expects to receive.\n",
    "\n",
    "\n",
    "Actual Arguments :\n",
    "\n",
    "(A) These are the concrete values passed to the function when it's called.\n",
    "(B) They are provided within the parentheses during the function call and are matched with the formal parameters in the order they appear.\n",
    "(C) Actual arguments can be variables, numbers, strings, or even expressions."
   ]
  },
  {
   "cell_type": "markdown",
   "id": "a0d4bf0f-0852-449e-aca7-543f6e2b71ee",
   "metadata": {},
   "source": [
    "2. Write a Python program that defines a function with default argument values."
   ]
  },
  {
   "cell_type": "code",
   "execution_count": 91,
   "id": "12ca7176-fbaf-4f5f-9953-ef5d920e8b70",
   "metadata": {},
   "outputs": [
    {
     "name": "stdout",
     "output_type": "stream",
     "text": [
      "The area is 15 cm^2\n",
      "The area is 31.5 m^2\n"
     ]
    }
   ],
   "source": [
    "def calculate_area(length, width, unit=\"cm\"):\n",
    "    area = length * width\n",
    "    print(f\"The area is {area} {unit}^2\")\n",
    "\n",
    "calculate_area(5, 3)\n",
    "calculate_area(7.5, 4.2, \"m\")"
   ]
  },
  {
   "cell_type": "markdown",
   "id": "957ba68a-5368-414f-985c-221d6b856aa4",
   "metadata": {},
   "source": [
    "3. How do you use keyword arguments in Python function calls? Provide an example."
   ]
  },
  {
   "cell_type": "raw",
   "id": "10e25ecb-91da-4b7f-8601-c4733f0ad777",
   "metadata": {},
   "source": [
    "Keyword arguments in Python function calls allow you to pass arguments to a function by explicitly associating them with their corresponding parameter names. This provides more readability and flexibility in how you call functions, especially when dealing with optional arguments or a large number of arguments.\n",
    "\n",
    "Here's how to use keyword arguments:\n",
    "\n",
    "(A) Function Definition : Define the function with parameters as usual.\n",
    "\n",
    "(B) Function Call:\n",
    "* When calling the function, use the parameter name followed by an equal sign (=) and then the argument value.\n",
    "* You can provide arguments in any order as long as you use the parameter names correctly."
   ]
  },
  {
   "cell_type": "code",
   "execution_count": 92,
   "id": "e0674bd3-956e-4db5-85a9-9551ab257e7e",
   "metadata": {},
   "outputs": [
    {
     "name": "stdout",
     "output_type": "stream",
     "text": [
      "Hi!, Preet!\n",
      "How are you?, Akki!\n"
     ]
    }
   ],
   "source": [
    "def greet(name, message=\"Hello\"):\n",
    "    print(f\"{message}, {name}!\")\n",
    "\n",
    "greet(message=\"Hi!\", name=\"Preet\")\n",
    "greet(name=\"Akki\", message=\"How are you?\")"
   ]
  },
  {
   "cell_type": "markdown",
   "id": "5b7ef7b4-2678-4788-896f-d4226bc5c578",
   "metadata": {},
   "source": [
    "4. Create a Python function that accepts a variable number of arguments and calculates their sum."
   ]
  },
  {
   "cell_type": "code",
   "execution_count": 93,
   "id": "fdedd6b4-b45d-4f7d-a858-9564c798e719",
   "metadata": {},
   "outputs": [
    {
     "name": "stdout",
     "output_type": "stream",
     "text": [
      "15\n"
     ]
    }
   ],
   "source": [
    "def calculate_sum(*args):\n",
    "    total = sum(args)\n",
    "    return total\n",
    "\n",
    "result = calculate_sum(1, 2, 3, 4, 5)\n",
    "print(result)"
   ]
  },
  {
   "cell_type": "markdown",
   "id": "451756da-44e7-4642-8824-e4702648b1f9",
   "metadata": {},
   "source": [
    "5. What is the purpose of the `*args` and `**kwargs` syntax in function parameter lists?"
   ]
  },
  {
   "cell_type": "raw",
   "id": "4be7f7ca-7ce9-4bae-bc17-b90c8e849ef6",
   "metadata": {},
   "source": [
    "The *args and **kwargs syntax in Python function parameter lists allow you to write flexible functions that can handle a varying number of arguments.\n",
    "\n",
    "(A) *args captures an arbitrary number of positional arguments into a tuple.\n",
    "(B) **kwargs captures an arbitrary number of keyword arguments into a dictionary.\n",
    "\n",
    "Purpose and usage:\n",
    "\n",
    "(A) *args (capturing positional arguments):\n",
    "\n",
    "-> Use *args as a parameter name within the function definition.\n",
    "-> When the function is called, any number of positional arguments provided after the defined parameters will be captured in the args tuple.\n",
    "\n",
    "(B) **kwargs (capturing keyword arguments):\n",
    "\n",
    "-> Use **kwargs as a parameter name within the function definition.\n",
    "-> When the function is called, any keyword arguments (arguments provided with a name-value pair) will be captured in the kwargs dictionary."
   ]
  },
  {
   "cell_type": "code",
   "execution_count": null,
   "id": "b0c1eb76-76eb-4b30-8445-55eaec82a53e",
   "metadata": {},
   "outputs": [],
   "source": [
    "# *args\n",
    "\n",
    "def print_all(*args):\n",
    "    for arg in args:\n",
    "        print(arg)\n",
    "\n",
    "print_all(1, 2, 3)  \n",
    "print_all(\"Hello\", \"world\") "
   ]
  },
  {
   "cell_type": "code",
   "execution_count": null,
   "id": "f31c6687-2c23-43fd-8b8c-3e1413f168aa",
   "metadata": {},
   "outputs": [],
   "source": [
    "# **kwargs\n",
    "\n",
    "def print_info(name, age, **kwargs):\n",
    "    print(f\"Name: {name}\")\n",
    "    print(f\"Age: {age}\")\n",
    "    for key, value in kwargs.items():\n",
    "        print(f\"{key}: {value}\")\n",
    "\n",
    "print_info(name=\"Alice\", age=30, city=\"New York\")"
   ]
  },
  {
   "cell_type": "markdown",
   "id": "7a63beaf-95df-43be-befe-49d9bd7ed83a",
   "metadata": {},
   "source": [
    "--------------------------------------------------------------------------------------------------------------"
   ]
  },
  {
   "cell_type": "markdown",
   "id": "b533f802-76a2-425d-a864-9b4c5a6388cb",
   "metadata": {},
   "source": [
    "RETURN VALUES AND SCOPING"
   ]
  },
  {
   "cell_type": "markdown",
   "id": "5b070132-1e0f-4e9a-beaa-a5a3e8cb02ee",
   "metadata": {},
   "source": [
    "--------------------------------------------------------------------------------------------------------------"
   ]
  },
  {
   "cell_type": "markdown",
   "id": "87e1baac-dc97-4d3d-baff-9b06d12dd67b",
   "metadata": {},
   "source": [
    "1. Describe the role of the `return` statement in Python functions and provide examples."
   ]
  },
  {
   "cell_type": "raw",
   "id": "22ae2844-7c46-44bd-b697-612539f74e6e",
   "metadata": {},
   "source": [
    "The return statement in Python functions plays a crucial role in:\n",
    "\n",
    "(A) Terminating the function: Once the return statement is executed, the function stops running and control is transferred back to the part of the code that called the function.\n",
    "\n",
    "(B) Returning a value (optional): The return statement can optionally be followed by an expression that is evaluated and sent back as the function's result. This allows functions to provide data or calculations to the code that called them.\n",
    "\n",
    "\n",
    "Here's a breakdown of how the return statement works:\n",
    "-> without a return value : If the return statement is used alone (without any expression following it), the function returns a special value called None. This indicates that the function doesn't explicitly return any data.\n",
    "\n",
    "-> With a return value : The return statement can be followed by any valid Python expression. This expression is evaluated, and the resulting value becomes the function's output. The caller can then access this returned value."
   ]
  },
  {
   "cell_type": "code",
   "execution_count": null,
   "id": "8ab3b1dc-4fb6-4104-b616-13bf4d606e02",
   "metadata": {},
   "outputs": [],
   "source": [
    "# Example_1\n",
    "\n",
    "def greet():\n",
    "    print(\"hello!\")\n",
    "    return\n",
    "\n",
    "greet()"
   ]
  },
  {
   "cell_type": "code",
   "execution_count": null,
   "id": "013b381d-91e5-4f73-81e5-ba2e04495ee0",
   "metadata": {},
   "outputs": [],
   "source": [
    "# Example_2\n",
    "\n",
    "def calculate_area(length, width):\n",
    "    area = length * width\n",
    "    return area\n",
    "\n",
    "rectangle_area = calculate_area(5, 3)\n",
    "print(f\"The area of the rectangle is: {rectangle_area}\") "
   ]
  },
  {
   "cell_type": "markdown",
   "id": "4c0dcc37-0794-4b30-85d1-944ac8c1a548",
   "metadata": {},
   "source": [
    "2. Explain the concept of variable scope in Python, including local and global variables."
   ]
  },
  {
   "cell_type": "raw",
   "id": "fedbb01a-5ce2-440c-bf61-06a8225a04f4",
   "metadata": {},
   "source": [
    "Variable scope in Python refers to the accessibility of variables within different parts of your code. It determines where a variable can be referenced and modified. Here's a breakdown of the two main types of scopes:\n",
    "\n",
    "1. Local Scope (Function Scope):\n",
    "\n",
    "* Local variables are created inside functions (using the = assignment operator) and are only accessible within that function's body.\n",
    "\n",
    "* They are invisible to other parts of your code, including other functions.\n",
    "\n",
    "* This helps prevent accidental modification of variables with the same name used in different parts of the program.\n",
    "\n",
    "2. Global Scope:\n",
    "\n",
    "* Global variables are defined outside of any function, typically at the beginning of your program or within a module.\n",
    "\n",
    "* They are accessible from anywhere within the program, including inside functions."
   ]
  },
  {
   "cell_type": "code",
   "execution_count": null,
   "id": "dbfc599e-aa15-4e2c-8c07-e14492da924f",
   "metadata": {},
   "outputs": [],
   "source": [
    "# local_scope\n",
    "\n",
    "def calculate_area(length, width):\n",
    "    area = length * width\n",
    "    print(f\"Area inside the function: {area}\")\n",
    "    return area\n",
    "\n",
    "rectangle_area = calculate_area(5, 3)\n",
    "print(f\"Area outside the function: {rectangle_area}\") "
   ]
  },
  {
   "cell_type": "code",
   "execution_count": null,
   "id": "ca4a3218-ae37-4e41-a707-4b1401a9787a",
   "metadata": {},
   "outputs": [],
   "source": [
    "#global_scope\n",
    "\n",
    "message = \"Hello\" \n",
    "def greet():\n",
    "    print(f\"{message}, world!\")\n",
    "\n",
    "greet()"
   ]
  },
  {
   "cell_type": "markdown",
   "id": "a15a69f6-84a9-466f-85f9-ff0ef03249e8",
   "metadata": {},
   "source": [
    "3. Write a Python program that demonstrates the use of global variables within functions."
   ]
  },
  {
   "cell_type": "code",
   "execution_count": null,
   "id": "d3fb31f3-58de-4814-8a0c-77a896991e7d",
   "metadata": {},
   "outputs": [],
   "source": [
    "# Global variable (usually discouraged practice)\n",
    "counter = 0\n",
    "\n",
    "def increment_counter():\n",
    "    global counter  # Declares using the global keyword\n",
    "    counter += 1\n",
    "    print(f\"Counter inside the function: {counter}\")\n",
    "\n",
    "def decrement_counter():\n",
    "    global counter\n",
    "    counter -= 1\n",
    "    print(f\"Counter inside the function: {counter}\")\n",
    "\n",
    "increment_counter()\n",
    "increment_counter()\n",
    "decrement_counter()\n",
    "\n",
    "print(f\"Counter outside the functions: {counter}\")"
   ]
  },
  {
   "cell_type": "raw",
   "id": "128b2024-f6e8-4162-b25f-8719d0ce165f",
   "metadata": {},
   "source": [
    "Explanation :\n",
    "\n",
    "1. We define a global variable counter outside any function.\n",
    "2. The increment_counter function uses the global keyword before counter to declare that it's modifying the global variable.\n",
    "3. Similarly, the decrement_counter function also uses global counter.\n",
    "4. Both functions modify the same global counter variable.\n",
    "5. We call the functions to demonstrate the modifications."
   ]
  },
  {
   "cell_type": "markdown",
   "id": "e77c61ec-bc2c-4de5-965f-40fbb9422c77",
   "metadata": {},
   "source": [
    "4. Create a Python function that calculates the factorial of a number and returns it."
   ]
  },
  {
   "cell_type": "code",
   "execution_count": null,
   "id": "e959f105-2a50-456a-87f0-7a140cbd8a1f",
   "metadata": {},
   "outputs": [],
   "source": [
    "def factorial(n):\n",
    "    if n < 0:\n",
    "        raise ValueError(\"Factorial is not defined for negative numbers\")\n",
    "    elif n == 0:\n",
    "        return 1\n",
    "    else:\n",
    "        return n * factorial(n - 1)\n",
    "\n",
    "x = int(input(\"Enter a number - \"))\n",
    "try:\n",
    "    result = factorial(x)\n",
    "    print(f\"Factorial of {x} - \",result)\n",
    "except ValueError as e:\n",
    "    print(e)"
   ]
  },
  {
   "cell_type": "markdown",
   "id": "4b15fad0-1409-4498-9ab2-67af81db9590",
   "metadata": {},
   "source": [
    "5. How can you access variables defined outside a function from within the function?"
   ]
  },
  {
   "cell_type": "raw",
   "id": "ba3832e5-6387-4d4b-aeec-14206a3eb389",
   "metadata": {},
   "source": [
    "In Python, there are two main ways to access variables defined outside a function from within the function:\n",
    "\n",
    "(A) Using Function Arguments: This is the recommended approach for most cases. Pass the variable you need as an argument to the function. This promotes better encapsulation and makes the function's behavior more explicit.\n",
    "\n",
    "(B) Using Global Variables (Discouraged): You can access global variables from within functions using the global keyword before the variable name. However, this approach is generally discouraged as it can lead to less maintainable and less predictable code."
   ]
  },
  {
   "cell_type": "code",
   "execution_count": null,
   "id": "36f61e8a-7b6b-4041-96c2-4790406f1ce7",
   "metadata": {},
   "outputs": [],
   "source": [
    "# (A) Using function arguements\n",
    "\n",
    "def greet(name):\n",
    "    print(f\"Hello, {name}!\")\n",
    "\n",
    "person = \"Alice\"\n",
    "greet(person)"
   ]
  },
  {
   "cell_type": "code",
   "execution_count": null,
   "id": "476d6dac-9998-42a3-ab26-4c5b3ddbc24d",
   "metadata": {},
   "outputs": [],
   "source": [
    "# (B) Using global variable\n",
    "\n",
    "message = \"Global message\"\n",
    "\n",
    "def display_message():\n",
    "    global message\n",
    "    print(message)\n",
    "    \n",
    "display_message()"
   ]
  },
  {
   "cell_type": "markdown",
   "id": "138c31f7-c84e-403a-b702-7f031ab2c31f",
   "metadata": {},
   "source": [
    "--------------------------------------------------------------------------------------------------------------"
   ]
  },
  {
   "cell_type": "markdown",
   "id": "c0f99d94-5a24-4c95-b89d-5633f8f8919c",
   "metadata": {},
   "source": [
    "Lambda Functions and Higher-Order Functions"
   ]
  },
  {
   "cell_type": "markdown",
   "id": "58e30477-109d-43c6-b4f6-fd4ed9decfde",
   "metadata": {},
   "source": [
    "--------------------------------------------------------------------------------------------------------------"
   ]
  },
  {
   "cell_type": "markdown",
   "id": "923660fc-bda8-4b70-bf4a-13ecc3d70bff",
   "metadata": {},
   "source": [
    "1. What are lambda functions in Python, and when are they typically used?"
   ]
  },
  {
   "cell_type": "raw",
   "id": "7433bcd3-b5fc-4082-9dc7-07d5f4868076",
   "metadata": {},
   "source": [
    "Lambda functions in Python are a concise way to define small, anonymous functions. They are limited to a single expression and are defined using the lambda keyword. \n",
    "\n",
    "Here's the syntax - lambda arguments: expression\n",
    "\n",
    "When to use lambda functions:\n",
    "\n",
    "(A) Short, throwaway functions: When you need a small function for a specific task within your code, lambda functions provide a clean way to define them without cluttering your code with named functions.\n",
    "\n",
    "(B) Higher-order functions: Lambda functions are frequently used with higher-order functions like map(), filter(), and sorted() in Python. These functions take another function as an argument, and lambda functions provide a concise way to define the function object to be passed."
   ]
  },
  {
   "cell_type": "markdown",
   "id": "5c1d22dc-6529-4de9-a1f5-8f1d0c4cb710",
   "metadata": {},
   "source": [
    "2. Write a Python program that uses lambda functions to sort a list of tuples based on the second element."
   ]
  },
  {
   "cell_type": "code",
   "execution_count": null,
   "id": "df419457-3404-4777-b11e-8ba6cc733ac2",
   "metadata": {},
   "outputs": [],
   "source": [
    "data = [(\"Alice\", 85), (\"Bob\", 90), (\"Charlie\", 78)]\n",
    "print(\"Sorted data - \",sorted(data, key=lambda x: x[1]))"
   ]
  },
  {
   "cell_type": "markdown",
   "id": "ccfef62f-7d9b-4402-9af8-f868ddb867d9",
   "metadata": {},
   "source": [
    "3. Explain the concept of higher-order functions in Python, and provide an example."
   ]
  },
  {
   "cell_type": "raw",
   "id": "279c205a-c0db-4de6-82b5-f648633a73ad",
   "metadata": {},
   "source": [
    "In Python, higher-order functions are functions that deal with other functions in a special way. There are two main aspects to this:\n",
    "\n",
    "(A) Taking functions as arguments: Higher-order functions can accept other functions as arguments. This allows you to pass functionality around as easily as you would pass data.\n",
    "\n",
    "(B) Returning functions as outputs: Higher-order functions can also return functions as their output. This lets you create new functions based on existing ones or dynamically define behavior at runtime."
   ]
  },
  {
   "cell_type": "code",
   "execution_count": null,
   "id": "dda95849-23a0-4696-bfa0-a0635a552e7c",
   "metadata": {},
   "outputs": [],
   "source": [
    "numbers = [1, 2, 3, 4]\n",
    "\n",
    "def square(x):\n",
    "    return x * x\n",
    "\n",
    "squared_numbers = map(square, numbers)\n",
    "print(list(squared_numbers))"
   ]
  },
  {
   "cell_type": "markdown",
   "id": "b7a5cf34-f89d-45de-baf6-99299ae7b3e3",
   "metadata": {},
   "source": [
    "4. Create a Python function that takes a list of numbers and a function as arguments, applying the function to each element in the list."
   ]
  },
  {
   "cell_type": "code",
   "execution_count": null,
   "id": "15791075-ac4c-471b-8a0e-d34b85937684",
   "metadata": {},
   "outputs": [],
   "source": [
    "def apply_function_to_list(numbers, func):\n",
    "    result = [func(num) for num in numbers]\n",
    "    return result\n",
    "\n",
    "def double(x):\n",
    "    return x * 2\n",
    "\n",
    "numbers = [1, 2, 3, 4, 5]\n",
    "\n",
    "result = apply_function_to_list(numbers, double)\n",
    "print(result)"
   ]
  },
  {
   "cell_type": "markdown",
   "id": "73a1d341-c52b-46e8-9bc7-fdf7738d40bb",
   "metadata": {},
   "source": [
    "--------------------------------------------------------------------------------------------------------------"
   ]
  },
  {
   "cell_type": "markdown",
   "id": "0c73e969-a1e9-4070-88bc-170968ab394d",
   "metadata": {},
   "source": [
    "Built-in Functions"
   ]
  },
  {
   "cell_type": "markdown",
   "id": "41c26412-b6a6-4124-9e84-1b37ce75d2d3",
   "metadata": {},
   "source": [
    "--------------------------------------------------------------------------------------------------------------"
   ]
  },
  {
   "cell_type": "markdown",
   "id": "2b9b01bd-d258-4198-b488-6d6e0fcf12c9",
   "metadata": {},
   "source": [
    "1. Describe the role of built-in functions like `len()`, `max()`, and `min()` in Python."
   ]
  },
  {
   "cell_type": "raw",
   "id": "e502c0da-777e-48ce-a9ef-d41b22cc270b",
   "metadata": {},
   "source": [
    "len()\n",
    "\n",
    "Purpose: Returns the length (number of items) of an iterable object.\n",
    "Arguments: Takes a single argument, which can be a list, tuple, string, or any other sequence data type."
   ]
  },
  {
   "cell_type": "code",
   "execution_count": null,
   "id": "55041011-818f-4811-95be-042337c2d99b",
   "metadata": {},
   "outputs": [],
   "source": [
    "numbers = [1, 2, 3, 4, 5]\n",
    "list_length = len(numbers)\n",
    "print(list_length) "
   ]
  },
  {
   "cell_type": "raw",
   "id": "f6af4771-ca91-44f4-89c8-d0758e38e637",
   "metadata": {},
   "source": [
    "max()\n",
    "\n",
    "Purpose: Returns the largest element from an iterable.\n",
    "Arguments: Takes an iterable (like a list or tuple) as the first argument. Optionally, you can provide a second argument to specify a key function, which allows you to compare elements based on a specific criteria."
   ]
  },
  {
   "cell_type": "code",
   "execution_count": null,
   "id": "6a8a2f6c-5038-4627-a74b-4830ff8092d8",
   "metadata": {},
   "outputs": [],
   "source": [
    "numbers = [1, 5, 2, 8, 3]\n",
    "largest_number = max(numbers)\n",
    "print(largest_number)\n",
    "\n",
    "products = [{'name': 'Apple', 'price': 1.50}, {'name': 'Banana', 'price': 0.75}, {'name': 'Orange', 'price': 2.00}]\n",
    "max_price_product = max(products, key=lambda product: product['price'])\n",
    "print(max_price_product) "
   ]
  },
  {
   "cell_type": "raw",
   "id": "f775b2ae-2f32-4779-9e3b-3b94d690499a",
   "metadata": {},
   "source": [
    "min()\n",
    "\n",
    "Purpose: Returns the smallest element from an iterable.\n",
    "Arguments: Similar to max(), it takes an iterable as the first argument and an optional key function as the second argument."
   ]
  },
  {
   "cell_type": "code",
   "execution_count": null,
   "id": "e931053f-b408-404c-b733-a384072214b3",
   "metadata": {},
   "outputs": [],
   "source": [
    "numbers = [1, 5, 2, 8, 3]\n",
    "smallest_number = min(numbers)\n",
    "print(smallest_number)\n",
    "min_price_product = min(products, key=lambda product: product['price'])\n",
    "print(min_price_product) "
   ]
  },
  {
   "cell_type": "markdown",
   "id": "56f79c32-efa2-4b82-8dd9-2ab5464c822b",
   "metadata": {},
   "source": [
    "2. Write a Python program that uses the `map()` function to apply a function to each element of a list."
   ]
  },
  {
   "cell_type": "code",
   "execution_count": null,
   "id": "d4bb5931-2b71-4336-b6cc-161e193c61c9",
   "metadata": {},
   "outputs": [],
   "source": [
    "def square(x):\n",
    "    return x * x\n",
    "\n",
    "numbers = [1, 2, 3, 4]\n",
    "squared_numbers = list(map(square, numbers))\n",
    "print(\"Original numbers:\", numbers)\n",
    "print(\"Squared numbers:\", squared_numbers)"
   ]
  },
  {
   "cell_type": "markdown",
   "id": "0f9afb3a-4b6e-4b4f-a90e-0a2262caf208",
   "metadata": {},
   "source": [
    "3. How does the `filter()` function work in Python, and when would you use it?"
   ]
  },
  {
   "cell_type": "raw",
   "id": "4087db9a-e8ea-4a57-a1f4-b1f5f04773b0",
   "metadata": {},
   "source": [
    "The filter() function in Python is used to create a new iterator containing elements from an iterable that pass a certain test. In simpler terms, it filters out elements from a list, tuple, or other iterable based on a condition you specify.\n",
    "\n",
    "Here's how it works:\n",
    "\n",
    "-> Takes two arguments:\n",
    "\n",
    "* The first argument is a function that defines the test condition. This function should take an element from the iterable as input and return True if the element passes the test, False otherwise.\n",
    "* The second argument is the iterable itself, which can be a list, tuple, string, dictionary, or any other sequence.\n",
    "\n",
    "-> Applies the test function : filter() iterates through the iterable and applies the test function to each element.\n",
    "\n",
    "-> Yields elements : If the test function returns True for an element, that element is included in the new iterator created by filter(). Elements that evaluate to False are discarded.\n",
    "\n",
    "\n",
    "When to use filter() :\n",
    "\n",
    "* Extracting elements based on a condition: This is the most common use case. You can filter elements based on their value, type, or any other custom logic defined in your test function.\n",
    "\n",
    "* Working with iterables: filter() works with iterables, which makes it efficient for processing large datasets without creating entire new lists in memory.\n",
    "\n",
    "* Functional programming style: filter() is a core concept in functional programming, which emphasizes using functions to manipulate data. It can be used with other functional tools like map() and reduce() for more complex data processing tasks."
   ]
  },
  {
   "cell_type": "markdown",
   "id": "9924a87c-b958-46a5-908d-284c41d6242e",
   "metadata": {},
   "source": [
    "4. Create a Python program that uses the `reduce()` function to find the product of all elements in a list."
   ]
  },
  {
   "cell_type": "code",
   "execution_count": null,
   "id": "84f83bd3-01e9-4458-8526-5c5eeb13e6fd",
   "metadata": {},
   "outputs": [],
   "source": [
    "from functools import reduce\n",
    "l = [1, 2, 3, 4, 5]\n",
    "print(\"Product of all elements in the list - \", reduce((lambda x, y: x * y), l))"
   ]
  },
  {
   "cell_type": "markdown",
   "id": "a0f304f5-d964-4f53-ae13-0e5f5f3c0622",
   "metadata": {},
   "source": [
    "--------------------------------------------------------------------------------------------------------------"
   ]
  },
  {
   "cell_type": "markdown",
   "id": "1ebae1b6-53ae-496b-a53e-035ca91e6fbb",
   "metadata": {},
   "source": [
    "FUNCTION DOCUMENTATION AND BEST PRACTICES"
   ]
  },
  {
   "cell_type": "markdown",
   "id": "b5a41b7e-5cd1-412e-885f-c778760a7708",
   "metadata": {},
   "source": [
    "--------------------------------------------------------------------------------------------------------------"
   ]
  },
  {
   "cell_type": "markdown",
   "id": "4f4c9f67-0fe1-48b9-88e9-1d82741e36e2",
   "metadata": {},
   "source": [
    "1. Explain the purpose of docstrings in Python functions and how to write them."
   ]
  },
  {
   "cell_type": "raw",
   "id": "f5924cd8-577f-4f33-91e4-f158f8f5935c",
   "metadata": {},
   "source": [
    "Docstrings in Python functions are like technical instructions or user manuals for your code. They are special string literals that appear right after the function definition and provide essential information about the function's purpose, usage, and behavior.\n",
    "\n",
    "-> Purpose :\n",
    "\n",
    "(A) Clarity and Maintainability: Docstrings make your code more understandable, both for yourself and for others who might use your code in the future. They explain what the function does in plain English, reducing the need to decipher complex code logic.\n",
    "\n",
    "(B) Improved Collaboration: With clear docstrings, teammates or fellow programmers can easily grasp the functionality of your functions without having to delve into the code itself. This fosters better collaboration and knowledge sharing within a project.\n",
    "\n",
    "(C) Automatic Documentation Generation: Tools like Sphinx can leverage docstrings to generate automatic API documentation, making it easier to explore and understand the different parts of your codebase.\n",
    "\n",
    "\n",
    "-> How to Write Docstrings:\n",
    "\n",
    "(A) Formatting: Docstrings are enclosed within triple single quotes (''') or triple double quotes (\"\"\").\n",
    "\n",
    "(B) Content: The docstring should typically include the following elements:\n",
    "    * Short Description: A concise summary of what the function does.\n",
    "    * Parameters: A detailed explanation of the function's arguments, including their names, data types, and descriptions of what they represent.\n",
    "    * Return Value (Optional): If the function returns a value, describe the data type and what the return value represents.\n",
    "    * Exceptions (Optional): If the function raises any exceptions, list them here and explain under what conditions they might occur.\n",
    "    * Examples (Optional): You can add code examples to illustrate how to use the function with different inputs."
   ]
  },
  {
   "cell_type": "markdown",
   "id": "fc6331c6-9b5a-40e5-8c61-02e5b15e4163",
   "metadata": {},
   "source": [
    "2. Describe some best practices for naming functions and variables in Python, including naming conventions and guidelines."
   ]
  },
  {
   "cell_type": "raw",
   "id": "589b9c6d-916d-4418-8472-a3299df670ba",
   "metadata": {},
   "source": [
    "Naming Conventions:\n",
    "\n",
    "(A) Snake_case: This is the most common convention in Python. It uses lowercase letters separated by underscores for both functions and variables. This improves readability by making clear word boundaries.\n",
    "\n",
    "Examples: calculate_average, customer_name, is_valid_input\n",
    "\n",
    "(B) Descriptive: Choose names that clearly reflect the purpose of the function or the content of the variable. Avoid abbreviations unless they are widely understood (e.g., HTTP).\n",
    "\n",
    "* Bad: temp, calc, data\n",
    "* Good: calculate_area, temporary_file, customer_data\n",
    "\n",
    "(C) Consistent: Maintain consistency throughout your codebase. If you use snake_case for functions, use it for variables as well.\n",
    "\n",
    "\n",
    "\n",
    "Guidelines:\n",
    "\n",
    "(A) Readability: The primary goal is for your code to be easily understood by yourself and others. Choose names that are clear and unambiguous.\n",
    "\n",
    "(B) Avoid single letters: Single letters (like i, x, y) are less informative and can be confusing, especially when used in loops or calculations.\n",
    "\n",
    "(C) No special characters: While Python allows special characters, it's best to stick to letters, numbers, and underscores for better portability and readability.\n",
    "\n",
    "(D) Class Names: Use CapWords (e.g., MyClass) for class names.\n",
    "Module Names: Use lowercase letters separated by underscores (e.g., data_processing.py) for module names."
   ]
  }
 ],
 "metadata": {
  "kernelspec": {
   "display_name": "Python 3 (ipykernel)",
   "language": "python",
   "name": "python3"
  },
  "language_info": {
   "codemirror_mode": {
    "name": "ipython",
    "version": 3
   },
   "file_extension": ".py",
   "mimetype": "text/x-python",
   "name": "python",
   "nbconvert_exporter": "python",
   "pygments_lexer": "ipython3",
   "version": "3.10.8"
  }
 },
 "nbformat": 4,
 "nbformat_minor": 5
}
